{
 "cells": [
  {
   "cell_type": "code",
   "execution_count": 44,
   "id": "1d4bfa33",
   "metadata": {},
   "outputs": [
    {
     "name": "stdout",
     "output_type": "stream",
     "text": [
      "              precision    recall  f1-score   support\n",
      "\n",
      "           0       0.92      0.96      0.94        47\n",
      "           1       0.81      0.82      0.81        61\n",
      "           2       0.83      0.86      0.85        51\n",
      "           3       0.83      0.83      0.83        48\n",
      "           4       0.88      0.84      0.86        55\n",
      "           5       0.88      0.90      0.89        59\n",
      "           6       0.90      0.89      0.90        53\n",
      "           7       0.80      0.88      0.83        49\n",
      "           8       0.69      0.71      0.70        51\n",
      "           9       0.83      0.73      0.77        66\n",
      "\n",
      "    accuracy                           0.84       540\n",
      "   macro avg       0.84      0.84      0.84       540\n",
      "weighted avg       0.84      0.84      0.84       540\n",
      "\n"
     ]
    }
   ],
   "source": [
    "# Exp_1 Q14. digits_data와 new_label로 Decision Tree 모델을 학습시키고, 정확도를 확인해 보세요.\n",
    "\n",
    "from sklearn.datasets import load_digits\n",
    "\n",
    "from sklearn.model_selection import train_test_split as tts\n",
    "from sklearn.tree import DecisionTreeClassifier as dtc\n",
    "from sklearn.metrics import classification_report as cfr\n",
    "\n",
    "\n",
    "digits = load_digits()\n",
    "digits_data = digits.data\n",
    "digits_label = digits.target\n",
    "\n",
    "new_label = [3 if i == 3 else 0 for i in digits_label]\n",
    "new_label[:20]\n",
    "\n",
    "x_train, x_test, y_train, y_test = tts(digits_data, digits_label, test_size=0.3, random_state=23)\n",
    "\n",
    "decision_tree = dtc(random_state=17)\n",
    "decision_tree.fit(x_train, y_train)\n",
    "\n",
    "y_pred = decision_tree.predict(x_test)\n",
    "\n",
    "print(cfr(y_test, y_pred))\n"
   ]
  }
 ],
 "metadata": {
  "kernelspec": {
   "display_name": "Python 3 (ipykernel)",
   "language": "python",
   "name": "python3"
  },
  "language_info": {
   "codemirror_mode": {
    "name": "ipython",
    "version": 3
   },
   "file_extension": ".py",
   "mimetype": "text/x-python",
   "name": "python",
   "nbconvert_exporter": "python",
   "pygments_lexer": "ipython3",
   "version": "3.9.7"
  }
 },
 "nbformat": 4,
 "nbformat_minor": 5
}

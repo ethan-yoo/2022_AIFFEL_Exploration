{
 "cells": [
  {
   "cell_type": "code",
   "execution_count": 30,
   "id": "fb8b9d80",
   "metadata": {
    "scrolled": false
   },
   "outputs": [],
   "source": [
    "## EX_01 proj.01 손글씨 분류하기 ##\n",
    "\n",
    "## 모듈 import\n",
    "# import sklearn\n",
    "# print(sklearn.__version__) #1.0\n",
    "\n",
    "from sklearn.datasets import load_digits\n",
    "from sklearn.model_selection import train_test_split as tts\n",
    "from sklearn.metrics import classification_report as cls_rpt"
   ]
  },
  {
   "cell_type": "code",
   "execution_count": 22,
   "id": "8afd3677",
   "metadata": {},
   "outputs": [
    {
     "name": "stdout",
     "output_type": "stream",
     "text": [
      "(1797, 64)\n",
      "(1797,)\n",
      "[0 1 2 3 4 5 6 7 8 9]\n",
      "['pixel_0_0', 'pixel_0_1', 'pixel_0_2', 'pixel_0_3', 'pixel_0_4', 'pixel_0_5', 'pixel_0_6', 'pixel_0_7', 'pixel_1_0', 'pixel_1_1', 'pixel_1_2', 'pixel_1_3', 'pixel_1_4', 'pixel_1_5', 'pixel_1_6', 'pixel_1_7', 'pixel_2_0', 'pixel_2_1', 'pixel_2_2', 'pixel_2_3', 'pixel_2_4', 'pixel_2_5', 'pixel_2_6', 'pixel_2_7', 'pixel_3_0', 'pixel_3_1', 'pixel_3_2', 'pixel_3_3', 'pixel_3_4', 'pixel_3_5', 'pixel_3_6', 'pixel_3_7', 'pixel_4_0', 'pixel_4_1', 'pixel_4_2', 'pixel_4_3', 'pixel_4_4', 'pixel_4_5', 'pixel_4_6', 'pixel_4_7', 'pixel_5_0', 'pixel_5_1', 'pixel_5_2', 'pixel_5_3', 'pixel_5_4', 'pixel_5_5', 'pixel_5_6', 'pixel_5_7', 'pixel_6_0', 'pixel_6_1', 'pixel_6_2', 'pixel_6_3', 'pixel_6_4', 'pixel_6_5', 'pixel_6_6', 'pixel_6_7', 'pixel_7_0', 'pixel_7_1', 'pixel_7_2', 'pixel_7_3', 'pixel_7_4', 'pixel_7_5', 'pixel_7_6', 'pixel_7_7']\n",
      "      pixel_0_0  pixel_0_1  pixel_0_2  pixel_0_3  pixel_0_4  pixel_0_5  \\\n",
      "0           0.0        0.0        5.0       13.0        9.0        1.0   \n",
      "1           0.0        0.0        0.0       12.0       13.0        5.0   \n",
      "2           0.0        0.0        0.0        4.0       15.0       12.0   \n",
      "3           0.0        0.0        7.0       15.0       13.0        1.0   \n",
      "4           0.0        0.0        0.0        1.0       11.0        0.0   \n",
      "...         ...        ...        ...        ...        ...        ...   \n",
      "1792        0.0        0.0        4.0       10.0       13.0        6.0   \n",
      "1793        0.0        0.0        6.0       16.0       13.0       11.0   \n",
      "1794        0.0        0.0        1.0       11.0       15.0        1.0   \n",
      "1795        0.0        0.0        2.0       10.0        7.0        0.0   \n",
      "1796        0.0        0.0       10.0       14.0        8.0        1.0   \n",
      "\n",
      "      pixel_0_6  pixel_0_7  pixel_1_0  pixel_1_1  ...  pixel_6_7  pixel_7_0  \\\n",
      "0           0.0        0.0        0.0        0.0  ...        0.0        0.0   \n",
      "1           0.0        0.0        0.0        0.0  ...        0.0        0.0   \n",
      "2           0.0        0.0        0.0        0.0  ...        0.0        0.0   \n",
      "3           0.0        0.0        0.0        8.0  ...        0.0        0.0   \n",
      "4           0.0        0.0        0.0        0.0  ...        0.0        0.0   \n",
      "...         ...        ...        ...        ...  ...        ...        ...   \n",
      "1792        0.0        0.0        0.0        1.0  ...        0.0        0.0   \n",
      "1793        1.0        0.0        0.0        0.0  ...        0.0        0.0   \n",
      "1794        0.0        0.0        0.0        0.0  ...        0.0        0.0   \n",
      "1795        0.0        0.0        0.0        0.0  ...        0.0        0.0   \n",
      "1796        0.0        0.0        0.0        2.0  ...        0.0        0.0   \n",
      "\n",
      "      pixel_7_1  pixel_7_2  pixel_7_3  pixel_7_4  pixel_7_5  pixel_7_6  \\\n",
      "0           0.0        6.0       13.0       10.0        0.0        0.0   \n",
      "1           0.0        0.0       11.0       16.0       10.0        0.0   \n",
      "2           0.0        0.0        3.0       11.0       16.0        9.0   \n",
      "3           0.0        7.0       13.0       13.0        9.0        0.0   \n",
      "4           0.0        0.0        2.0       16.0        4.0        0.0   \n",
      "...         ...        ...        ...        ...        ...        ...   \n",
      "1792        0.0        2.0       14.0       15.0        9.0        0.0   \n",
      "1793        0.0        6.0       16.0       14.0        6.0        0.0   \n",
      "1794        0.0        2.0        9.0       13.0        6.0        0.0   \n",
      "1795        0.0        5.0       12.0       16.0       12.0        0.0   \n",
      "1796        1.0        8.0       12.0       14.0       12.0        1.0   \n",
      "\n",
      "      pixel_7_7  target  \n",
      "0           0.0       0  \n",
      "1           0.0       1  \n",
      "2           0.0       2  \n",
      "3           0.0       3  \n",
      "4           0.0       4  \n",
      "...         ...     ...  \n",
      "1792        0.0       9  \n",
      "1793        0.0       0  \n",
      "1794        0.0       8  \n",
      "1795        0.0       9  \n",
      "1796        0.0       8  \n",
      "\n",
      "[1797 rows x 65 columns]\n",
      ".. _digits_dataset:\n",
      "\n",
      "Optical recognition of handwritten digits dataset\n",
      "--------------------------------------------------\n",
      "\n",
      "**Data Set Characteristics:**\n",
      "\n",
      "    :Number of Instances: 1797\n",
      "    :Number of Attributes: 64\n",
      "    :Attribute Information: 8x8 image of integer pixels in the range 0..16.\n",
      "    :Missing Attribute Values: None\n",
      "    :Creator: E. Alpaydin (alpaydin '@' boun.edu.tr)\n",
      "    :Date: July; 1998\n",
      "\n",
      "This is a copy of the test set of the UCI ML hand-written digits datasets\n",
      "https://archive.ics.uci.edu/ml/datasets/Optical+Recognition+of+Handwritten+Digits\n",
      "\n",
      "The data set contains images of hand-written digits: 10 classes where\n",
      "each class refers to a digit.\n",
      "\n",
      "Preprocessing programs made available by NIST were used to extract\n",
      "normalized bitmaps of handwritten digits from a preprinted form. From a\n",
      "total of 43 people, 30 contributed to the training set and different 13\n",
      "to the test set. 32x32 bitmaps are divided into nonoverlapping blocks of\n",
      "4x4 and the number of on pixels are counted in each block. This generates\n",
      "an input matrix of 8x8 where each element is an integer in the range\n",
      "0..16. This reduces dimensionality and gives invariance to small\n",
      "distortions.\n",
      "\n",
      "For info on NIST preprocessing routines, see M. D. Garris, J. L. Blue, G.\n",
      "T. Candela, D. L. Dimmick, J. Geist, P. J. Grother, S. A. Janet, and C.\n",
      "L. Wilson, NIST Form-Based Handprint Recognition System, NISTIR 5469,\n",
      "1994.\n",
      "\n",
      ".. topic:: References\n",
      "\n",
      "  - C. Kaynak (1995) Methods of Combining Multiple Classifiers and Their\n",
      "    Applications to Handwritten Digit Recognition, MSc Thesis, Institute of\n",
      "    Graduate Studies in Science and Engineering, Bogazici University.\n",
      "  - E. Alpaydin, C. Kaynak (1998) Cascading Classifiers, Kybernetika.\n",
      "  - Ken Tang and Ponnuthurai N. Suganthan and Xi Yao and A. Kai Qin.\n",
      "    Linear dimensionalityreduction using relevance weighted LDA. School of\n",
      "    Electrical and Electronic Engineering Nanyang Technological University.\n",
      "    2005.\n",
      "  - Claudio Gentile. A New Approximate Maximal Margin Classification\n",
      "    Algorithm. NIPS. 2000.\n",
      "\n"
     ]
    }
   ],
   "source": [
    "## 데이터 준비 & 살펴보기\n",
    "digit = load_digits(as_frame=True) #frame 확인: True\n",
    "digit_data = digit.data            #feature 데이터 지정\n",
    "digit_label = digit.target         #label 데이터 지정\n",
    "\n",
    "print(digit_data.shape)          #(1797, 64) / 64개 항목으로 이뤄진 1797개의 데이터\n",
    "print(digit_label.shape)         #(1797,)\n",
    "\n",
    "print(digit.target_names)        #target class 개수: [0 1 2 3 4 5 6 7 8 9] 총 10개\n",
    "print(digit.feature_names)       #feature columns가 그냥 pixel로 되어 있음\n",
    "print(digit.frame)               #frame 으로 구조 확인\n",
    "print(digit.DESCR)               #8x8 정수 이미지 픽셀 17개"
   ]
  },
  {
   "cell_type": "code",
   "execution_count": 23,
   "id": "1d16c2c3",
   "metadata": {},
   "outputs": [
    {
     "name": "stdout",
     "output_type": "stream",
     "text": [
      "(1257, 64) (540, 64) (1257,) (540,)\n"
     ]
    }
   ],
   "source": [
    "## 데이터 분리\n",
    "x_train, x_test, y_train, y_test = tts(digit_data, digit_label, test_size=0.3, random_state=17)    #random_state 17 고정\n",
    "\n",
    "print(x_train.shape, x_test.shape, y_train.shape, y_test.shape) #(1257, 64), (540, 64), (1257,), (540,)"
   ]
  },
  {
   "cell_type": "code",
   "execution_count": 24,
   "id": "c49118cd",
   "metadata": {},
   "outputs": [
    {
     "name": "stdout",
     "output_type": "stream",
     "text": [
      "              precision    recall  f1-score   support\n",
      "\n",
      "           0       0.96      0.94      0.95        51\n",
      "           1       0.78      0.78      0.78        59\n",
      "           2       0.82      0.82      0.82        49\n",
      "           3       0.86      0.75      0.80        57\n",
      "           4       0.80      0.88      0.84        56\n",
      "           5       0.83      0.92      0.87        59\n",
      "           6       0.93      0.91      0.92        47\n",
      "           7       0.93      0.91      0.92        56\n",
      "           8       0.79      0.79      0.79        48\n",
      "           9       0.86      0.84      0.85        58\n",
      "\n",
      "    accuracy                           0.85       540\n",
      "   macro avg       0.86      0.85      0.85       540\n",
      "weighted avg       0.86      0.85      0.85       540\n",
      "\n"
     ]
    }
   ],
   "source": [
    "## decision tree test\n",
    "\n",
    "from sklearn.tree import DecisionTreeClassifier as dtc\n",
    "\n",
    "model_tree = dtc(random_state=25)         \n",
    "model_tree.fit(x_train, y_train)\n",
    "tree_pred = model_tree.predict(x_test)\n",
    "\n",
    "print(cls_rpt(y_test, tree_pred))              #precision 0.86, recall 0.85, f1 score 0.85"
   ]
  },
  {
   "cell_type": "code",
   "execution_count": 25,
   "id": "f6766908",
   "metadata": {},
   "outputs": [
    {
     "name": "stdout",
     "output_type": "stream",
     "text": [
      "              precision    recall  f1-score   support\n",
      "\n",
      "           0       1.00      1.00      1.00        51\n",
      "           1       0.98      1.00      0.99        59\n",
      "           2       0.96      1.00      0.98        49\n",
      "           3       0.98      0.88      0.93        57\n",
      "           4       0.98      1.00      0.99        56\n",
      "           5       0.95      0.97      0.96        59\n",
      "           6       1.00      0.98      0.99        47\n",
      "           7       0.93      1.00      0.97        56\n",
      "           8       0.94      0.96      0.95        48\n",
      "           9       0.96      0.91      0.94        58\n",
      "\n",
      "    accuracy                           0.97       540\n",
      "   macro avg       0.97      0.97      0.97       540\n",
      "weighted avg       0.97      0.97      0.97       540\n",
      "\n"
     ]
    }
   ],
   "source": [
    "## random forest test\n",
    "\n",
    "from sklearn.ensemble import RandomForestClassifier as rfc\n",
    "\n",
    "model_randf = rfc(random_state=25)\n",
    "model_randf.fit(x_train, y_train)\n",
    "randf_pred = model_randf.predict(x_test)\n",
    "\n",
    "print(cls_rpt(y_test, randf_pred))             #precision 0.97, recall 0.97, f1 score 0.97"
   ]
  },
  {
   "cell_type": "code",
   "execution_count": 33,
   "id": "d5649c95",
   "metadata": {},
   "outputs": [
    {
     "name": "stdout",
     "output_type": "stream",
     "text": [
      "              precision    recall  f1-score   support\n",
      "\n",
      "           0       0.98      0.98      0.98        51\n",
      "           1       0.89      0.93      0.91        59\n",
      "           2       0.94      1.00      0.97        49\n",
      "           3       0.96      0.84      0.90        57\n",
      "           4       1.00      0.95      0.97        56\n",
      "           5       0.90      0.95      0.93        59\n",
      "           6       0.98      0.98      0.98        47\n",
      "           7       0.96      0.98      0.97        56\n",
      "           8       0.86      0.92      0.89        48\n",
      "           9       0.89      0.84      0.87        58\n",
      "\n",
      "    accuracy                           0.94       540\n",
      "   macro avg       0.94      0.94      0.94       540\n",
      "weighted avg       0.94      0.94      0.93       540\n",
      "\n"
     ]
    }
   ],
   "source": [
    "## SVM test\n",
    "\n",
    "from sklearn.svm import LinearSVC as l_svc\n",
    "\n",
    "# model_svm = l_svc(random_state=25, C=5, max_iter = 100000)   # ConvergenceWarning 발생해서 iter 횟수 올려줌, but 10만에서도 오류 발생\n",
    "\n",
    "model_svm = l_svc(random_state=25, max_iter = 1000000)    # C=5일때는 횟수 백만에서도 warning 뜸 -> 횟수 냅두고 C값 디폴트로\n",
    "\n",
    "model_svm.fit(x_train, y_train)\n",
    "svm_pred = model_svm.predict(x_test)\n",
    "\n",
    "print(cls_rpt(y_test, svm_pred))              # precision 0.94, recall 0.94, f1-score 0.93\n"
   ]
  },
  {
   "cell_type": "code",
   "execution_count": 27,
   "id": "221f90ab",
   "metadata": {},
   "outputs": [
    {
     "name": "stdout",
     "output_type": "stream",
     "text": [
      "              precision    recall  f1-score   support\n",
      "\n",
      "           0       1.00      0.98      0.99        51\n",
      "           1       0.97      0.66      0.79        59\n",
      "           2       1.00      1.00      1.00        49\n",
      "           3       0.98      0.86      0.92        57\n",
      "           4       1.00      0.95      0.97        56\n",
      "           5       0.95      0.95      0.95        59\n",
      "           6       0.94      0.98      0.96        47\n",
      "           7       0.86      1.00      0.93        56\n",
      "           8       0.62      0.98      0.76        48\n",
      "           9       0.96      0.81      0.88        58\n",
      "\n",
      "    accuracy                           0.91       540\n",
      "   macro avg       0.93      0.92      0.91       540\n",
      "weighted avg       0.93      0.91      0.91       540\n",
      "\n"
     ]
    }
   ],
   "source": [
    "## SGD test\n",
    "\n",
    "from sklearn.linear_model import SGDClassifier as sgd\n",
    "\n",
    "model_sgd = sgd(random_state=25)\n",
    "model_sgd.fit(x_train, y_train)\n",
    "sgd_pred = model_sgd.predict(x_test)\n",
    "\n",
    "print(cls_rpt(y_test, sgd_pred))                # precision 0.93, recall 0.91, f1-score 0.91"
   ]
  },
  {
   "cell_type": "code",
   "execution_count": 32,
   "id": "1e9586ef",
   "metadata": {},
   "outputs": [
    {
     "name": "stdout",
     "output_type": "stream",
     "text": [
      "              precision    recall  f1-score   support\n",
      "\n",
      "           0       1.00      1.00      1.00        51\n",
      "           1       0.96      0.93      0.95        59\n",
      "           2       0.98      1.00      0.99        49\n",
      "           3       0.98      0.93      0.95        57\n",
      "           4       1.00      0.98      0.99        56\n",
      "           5       0.97      0.95      0.96        59\n",
      "           6       0.98      0.98      0.98        47\n",
      "           7       0.98      1.00      0.99        56\n",
      "           8       0.88      0.96      0.92        48\n",
      "           9       0.95      0.97      0.96        58\n",
      "\n",
      "    accuracy                           0.97       540\n",
      "   macro avg       0.97      0.97      0.97       540\n",
      "weighted avg       0.97      0.97      0.97       540\n",
      "\n"
     ]
    }
   ],
   "source": [
    "## Logistics Regression test\n",
    "\n",
    "from sklearn.linear_model import LogisticRegression as lgr\n",
    "\n",
    "# model_lgr = lgr(random_state=25)                  # iteration 오류 발생... 횟수를 늘려보자\n",
    "\n",
    "model_lgr = lgr(random_state=25, max_iter=100000)   # ok 해결\n",
    "model_lgr.fit(x_train, y_train)\n",
    "lgr_pred = model_lgr.predict(x_test)\n",
    "\n",
    "print(cls_rpt(y_test, lgr_pred))                  # precision 0.97, recall 0.97, f1-score 0.97"
   ]
  },
  {
   "cell_type": "code",
   "execution_count": 31,
   "id": "9964eade",
   "metadata": {},
   "outputs": [
    {
     "data": {
      "image/png": "[encoded data removed]",
      "text/plain": [
       "<Figure size 576x360 with 4 Axes>"
      ]
     },
     "metadata": {
      "needs_background": "light"
     },
     "output_type": "display_data"
    }
   ],
   "source": [
    "## 결과 모아서 보기\n",
    "\n",
    "import matplotlib.pyplot as plt\n",
    "from sklearn.metrics import accuracy_score  # 다른거 확인하면서 적어놨으니까 여기선 acc만 임포트\n",
    "%matplotlib inline\n",
    "\n",
    "fig = plt.figure(figsize=(8,5))\n",
    "ax1 = fig.add_subplot(2,2,1)       # precision\n",
    "ax2 = fig.add_subplot(2,2,2)       # recall\n",
    "ax3 = fig.add_subplot(2,2,3)       # f1 score\n",
    "ax4 = fig.add_subplot(2,2,4)       # accuracy\n",
    "\n",
    "acc1 = accuracy_score(y_test, tree_pred)\n",
    "acc2 = accuracy_score(y_test, randf_pred)\n",
    "acc3 = accuracy_score(y_test, svm_pred)\n",
    "acc4 = accuracy_score(y_test, sgd_pred)\n",
    "acc5 = accuracy_score(y_test, lgr_pred)\n",
    "\n",
    "subject = ['Tree', 'Rand_F', 'SVM', 'SGD', \"Logistic\"]\n",
    "\n",
    "points1 = [86, 97, 94, 93, 97]             # precision\n",
    "points2 = [85, 97, 94, 91, 97]             # recall\n",
    "points3 = [85, 97, 93, 91, 97]             # f1 score\n",
    "points4 = [acc1, acc2, acc3, acc4, acc5]   # accuracy\n",
    "\n",
    "ax1.bar(subject, points1)\n",
    "ax2.bar(subject, points2)\n",
    "ax3.bar(subject, points3)\n",
    "ax4.bar(subject, points4)\n",
    "\n",
    "fig.show()"
   ]
  },
  {
   "cell_type": "code",
   "execution_count": null,
   "id": "81f588ec",
   "metadata": {},
   "outputs": [],
   "source": [
    "## 결과\n",
    "\n",
    "# 손글씨 구분 문제는 원본을 얼마나 정확하게 판별하냐가 중요하므로\n",
    "# TP를 TP라고 맞춘 비율 = recall rate를 기준으로 판별\n",
    "\n",
    "# 결론: logistic, randomforest 분석이 적합\n",
    "\n",
    "\n",
    "## 후기(?)\n",
    "\n",
    "# 사실 4개 그래프 모두 위의 두 방법이 적합하다고 나오긴 하는데, 둘 중 뭐가 나을지는 아직 잘 모르겠다\n",
    "# SVM이 C값 잘 조절하면 두 방법보다 더 좋게 나올 수도 있을 거 같긴 한데 그 부분도 잘 모르겠다"
   ]
  }
 ],
 "metadata": {
  "kernelspec": {
   "display_name": "Python 3 (ipykernel)",
   "language": "python",
   "name": "python3"
  },
  "language_info": {
   "codemirror_mode": {
    "name": "ipython",
    "version": 3
   },
   "file_extension": ".py",
   "mimetype": "text/x-python",
   "name": "python",
   "nbconvert_exporter": "python",
   "pygments_lexer": "ipython3",
   "version": "3.9.7"
  }
 },
 "nbformat": 4,
 "nbformat_minor": 5
}

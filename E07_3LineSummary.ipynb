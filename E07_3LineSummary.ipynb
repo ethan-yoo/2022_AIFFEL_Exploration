{
  "nbformat": 4,
  "nbformat_minor": 0,
  "metadata": {
    "colab": {
      "name": "E07_3LineSummary.ipynb",
      "provenance": [],
      "collapsed_sections": [],
      "authorship_tag": "ABX9TyOKfLu5KZB0bGVG/Gu1DwLf",
      "include_colab_link": true
    },
    "kernelspec": {
      "name": "python3",
      "display_name": "Python 3"
    },
    "language_info": {
      "name": "python"
    },
    "accelerator": "GPU"
  },
  "cells": [
    {
      "cell_type": "markdown",
      "metadata": {
        "id": "view-in-github",
        "colab_type": "text"
      },
      "source": [
        "<a href=\"https://colab.research.google.com/github/ethan-yoo/2022_aiffel_exp/blob/main/E07_3LineSummary.ipynb\" target=\"_parent\"><img src=\"https://colab.research.google.com/assets/colab-badge.svg\" alt=\"Open In Colab\"/></a>"
      ]
    },
    {
      "cell_type": "markdown",
      "source": [
        "# **E07. 뉴스기사 요약봇 만들기**\n",
        "> 뉴스기사는 아래의 것을 사용합니다.\n",
        ">\n",
        ">https://github.com/sunnysai12345/News_Summary"
      ],
      "metadata": {
        "id": "EupnqjhGyQYd"
      }
    },
    {
      "cell_type": "markdown",
      "source": [
        "## **Index 😉**\n",
        "\n",
        "01. 데이터 가져오기\n",
        "02. 데이터 전처리\n",
        "- "
      ],
      "metadata": {
        "id": "qyDQp3oGCaHw"
      }
    },
    {
      "cell_type": "markdown",
      "source": [
        "---"
      ],
      "metadata": {
        "id": "doiFT-wCBtoV"
      }
    },
    {
      "cell_type": "markdown",
      "source": [
        "## **01. 데이터 가져오기**"
      ],
      "metadata": {
        "id": "F-xf6hUxBvV7"
      }
    },
    {
      "cell_type": "code",
      "source": [
        "# 필요한 함수 가져오기\n",
        "\n",
        "import nltk\n",
        "nltk.download('stopwords')\n",
        "\n",
        "import numpy as np\n",
        "import pandas as pd\n",
        "import os\n",
        "import re\n",
        "import matplotlib.pyplot as plt\n",
        "from nltk.corpus import stopwords\n",
        "from bs4 import BeautifulSoup \n",
        "from tensorflow.keras.preprocessing.text import Tokenizer \n",
        "from tensorflow.keras.preprocessing.sequence import pad_sequences\n",
        "import urllib.request\n",
        "\n",
        "print('Done!')"
      ],
      "metadata": {
        "colab": {
          "base_uri": "https://localhost:8080/"
        },
        "id": "pRdB_YbNAxD_",
        "outputId": "3aac6a5c-9a41-40eb-ad25-a8ee9c64a620"
      },
      "execution_count": 1,
      "outputs": [
        {
          "output_type": "stream",
          "name": "stdout",
          "text": [
            "[nltk_data] Downloading package stopwords to /root/nltk_data...\n",
            "[nltk_data]   Unzipping corpora/stopwords.zip.\n",
            "Done!\n"
          ]
        }
      ]
    },
    {
      "cell_type": "code",
      "source": [
        "# 데이터 가져오기\n",
        "\n",
        "import urllib.request\n",
        "urllib.request.urlretrieve(\"https://raw.githubusercontent.com/sunnysai12345/News_Summary/master/news_summary_more.csv\", filename=\"news_summary_more.csv\")\n",
        "data = pd.read_csv('news_summary_more.csv', encoding='iso-8859-1')"
      ],
      "metadata": {
        "id": "bsUZloUQAUrO"
      },
      "execution_count": 2,
      "outputs": []
    },
    {
      "cell_type": "code",
      "source": [
        "data.shape"
      ],
      "metadata": {
        "colab": {
          "base_uri": "https://localhost:8080/"
        },
        "id": "EkarAAuMC7BL",
        "outputId": "dd7e10c6-bc30-4bde-a20c-3e972d3e47e6"
      },
      "execution_count": 3,
      "outputs": [
        {
          "output_type": "execute_result",
          "data": {
            "text/plain": [
              "(98401, 2)"
            ]
          },
          "metadata": {},
          "execution_count": 3
        }
      ]
    },
    {
      "cell_type": "markdown",
      "source": [
        "📰 총 98401개의 열, 2개의 컬럼을 가진 데이터입니다.\n",
        "\n",
        "10개 라인을 뽑아서 샘플로 살펴보겠습니다."
      ],
      "metadata": {
        "id": "_5TI6QV3C90A"
      }
    },
    {
      "cell_type": "code",
      "source": [
        "data.sample(10)"
      ],
      "metadata": {
        "colab": {
          "base_uri": "https://localhost:8080/",
          "height": 363
        },
        "id": "yMd29wcSBq9x",
        "outputId": "76fc9fb9-3f83-46fa-9718-0623ddfcf2df"
      },
      "execution_count": 4,
      "outputs": [
        {
          "output_type": "execute_result",
          "data": {
            "text/plain": [
              "                                               headlines  \\\n",
              "71919  Printing retail chain Printo acquires rival Pr...   \n",
              "50909       Delhi-based brand accuses Dior of plagiarism   \n",
              "83888  Uber hires law firm to probe Indian rape victi...   \n",
              "82187  Music fest's next edition cancelled over repor...   \n",
              "27339  Sindhu wins match on b'day, enters quarters of...   \n",
              "61082  Rajput group vandalise mall over Padmavati tra...   \n",
              "29227  Ziva doesn't care about trophy, wants to run o...   \n",
              "90117  Chennai road caves in, second such instance in...   \n",
              "66987    RBI to allow fund transfer among mobile wallets   \n",
              "76792  Putin uses good sunblock, tweets user on his s...   \n",
              "\n",
              "                                                    text  \n",
              "71919  Bengaluru-based printing retail chain Printo h...  \n",
              "50909  Delhi-based garment retailer People Tree has a...  \n",
              "83888  Uber has hired law firm O'Melveny & Myers to i...  \n",
              "82187  The upcoming edition of BrÃÂ¥valla, Sweden's ...  \n",
              "27339  World number three shuttler PV Sindhu, who is ...  \n",
              "61082  Members of the Rajput organisation Karni Sena ...  \n",
              "29227  In an Instagram post after winning the IPL tit...  \n",
              "90117  A portion of road near Taylor's road-EVR junct...  \n",
              "66987  The Reserve Bank of India has said that intero...  \n",
              "76792  Reacting to Russian President Vladimir Putin's...  "
            ],
            "text/html": [
              "\n",
              "  <div id=\"df-38fd55fa-ec51-47d3-9d9a-855dd8765d2a\">\n",
              "    <div class=\"colab-df-container\">\n",
              "      <div>\n",
              "<style scoped>\n",
              "    .dataframe tbody tr th:only-of-type {\n",
              "        vertical-align: middle;\n",
              "    }\n",
              "\n",
              "    .dataframe tbody tr th {\n",
              "        vertical-align: top;\n",
              "    }\n",
              "\n",
              "    .dataframe thead th {\n",
              "        text-align: right;\n",
              "    }\n",
              "</style>\n",
              "<table border=\"1\" class=\"dataframe\">\n",
              "  <thead>\n",
              "    <tr style=\"text-align: right;\">\n",
              "      <th></th>\n",
              "      <th>headlines</th>\n",
              "      <th>text</th>\n",
              "    </tr>\n",
              "  </thead>\n",
              "  <tbody>\n",
              "    <tr>\n",
              "      <th>71919</th>\n",
              "      <td>Printing retail chain Printo acquires rival Pr...</td>\n",
              "      <td>Bengaluru-based printing retail chain Printo h...</td>\n",
              "    </tr>\n",
              "    <tr>\n",
              "      <th>50909</th>\n",
              "      <td>Delhi-based brand accuses Dior of plagiarism</td>\n",
              "      <td>Delhi-based garment retailer People Tree has a...</td>\n",
              "    </tr>\n",
              "    <tr>\n",
              "      <th>83888</th>\n",
              "      <td>Uber hires law firm to probe Indian rape victi...</td>\n",
              "      <td>Uber has hired law firm O'Melveny &amp; Myers to i...</td>\n",
              "    </tr>\n",
              "    <tr>\n",
              "      <th>82187</th>\n",
              "      <td>Music fest's next edition cancelled over repor...</td>\n",
              "      <td>The upcoming edition of BrÃÂ¥valla, Sweden's ...</td>\n",
              "    </tr>\n",
              "    <tr>\n",
              "      <th>27339</th>\n",
              "      <td>Sindhu wins match on b'day, enters quarters of...</td>\n",
              "      <td>World number three shuttler PV Sindhu, who is ...</td>\n",
              "    </tr>\n",
              "    <tr>\n",
              "      <th>61082</th>\n",
              "      <td>Rajput group vandalise mall over Padmavati tra...</td>\n",
              "      <td>Members of the Rajput organisation Karni Sena ...</td>\n",
              "    </tr>\n",
              "    <tr>\n",
              "      <th>29227</th>\n",
              "      <td>Ziva doesn't care about trophy, wants to run o...</td>\n",
              "      <td>In an Instagram post after winning the IPL tit...</td>\n",
              "    </tr>\n",
              "    <tr>\n",
              "      <th>90117</th>\n",
              "      <td>Chennai road caves in, second such instance in...</td>\n",
              "      <td>A portion of road near Taylor's road-EVR junct...</td>\n",
              "    </tr>\n",
              "    <tr>\n",
              "      <th>66987</th>\n",
              "      <td>RBI to allow fund transfer among mobile wallets</td>\n",
              "      <td>The Reserve Bank of India has said that intero...</td>\n",
              "    </tr>\n",
              "    <tr>\n",
              "      <th>76792</th>\n",
              "      <td>Putin uses good sunblock, tweets user on his s...</td>\n",
              "      <td>Reacting to Russian President Vladimir Putin's...</td>\n",
              "    </tr>\n",
              "  </tbody>\n",
              "</table>\n",
              "</div>\n",
              "      <button class=\"colab-df-convert\" onclick=\"convertToInteractive('df-38fd55fa-ec51-47d3-9d9a-855dd8765d2a')\"\n",
              "              title=\"Convert this dataframe to an interactive table.\"\n",
              "              style=\"display:none;\">\n",
              "        \n",
              "  <svg xmlns=\"http://www.w3.org/2000/svg\" height=\"24px\"viewBox=\"0 0 24 24\"\n",
              "       width=\"24px\">\n",
              "    <path d=\"M0 0h24v24H0V0z\" fill=\"none\"/>\n",
              "    <path d=\"M18.56 5.44l.94 2.06.94-2.06 2.06-.94-2.06-.94-.94-2.06-.94 2.06-2.06.94zm-11 1L8.5 8.5l.94-2.06 2.06-.94-2.06-.94L8.5 2.5l-.94 2.06-2.06.94zm10 10l.94 2.06.94-2.06 2.06-.94-2.06-.94-.94-2.06-.94 2.06-2.06.94z\"/><path d=\"M17.41 7.96l-1.37-1.37c-.4-.4-.92-.59-1.43-.59-.52 0-1.04.2-1.43.59L10.3 9.45l-7.72 7.72c-.78.78-.78 2.05 0 2.83L4 21.41c.39.39.9.59 1.41.59.51 0 1.02-.2 1.41-.59l7.78-7.78 2.81-2.81c.8-.78.8-2.07 0-2.86zM5.41 20L4 18.59l7.72-7.72 1.47 1.35L5.41 20z\"/>\n",
              "  </svg>\n",
              "      </button>\n",
              "      \n",
              "  <style>\n",
              "    .colab-df-container {\n",
              "      display:flex;\n",
              "      flex-wrap:wrap;\n",
              "      gap: 12px;\n",
              "    }\n",
              "\n",
              "    .colab-df-convert {\n",
              "      background-color: #E8F0FE;\n",
              "      border: none;\n",
              "      border-radius: 50%;\n",
              "      cursor: pointer;\n",
              "      display: none;\n",
              "      fill: #1967D2;\n",
              "      height: 32px;\n",
              "      padding: 0 0 0 0;\n",
              "      width: 32px;\n",
              "    }\n",
              "\n",
              "    .colab-df-convert:hover {\n",
              "      background-color: #E2EBFA;\n",
              "      box-shadow: 0px 1px 2px rgba(60, 64, 67, 0.3), 0px 1px 3px 1px rgba(60, 64, 67, 0.15);\n",
              "      fill: #174EA6;\n",
              "    }\n",
              "\n",
              "    [theme=dark] .colab-df-convert {\n",
              "      background-color: #3B4455;\n",
              "      fill: #D2E3FC;\n",
              "    }\n",
              "\n",
              "    [theme=dark] .colab-df-convert:hover {\n",
              "      background-color: #434B5C;\n",
              "      box-shadow: 0px 1px 3px 1px rgba(0, 0, 0, 0.15);\n",
              "      filter: drop-shadow(0px 1px 2px rgba(0, 0, 0, 0.3));\n",
              "      fill: #FFFFFF;\n",
              "    }\n",
              "  </style>\n",
              "\n",
              "      <script>\n",
              "        const buttonEl =\n",
              "          document.querySelector('#df-38fd55fa-ec51-47d3-9d9a-855dd8765d2a button.colab-df-convert');\n",
              "        buttonEl.style.display =\n",
              "          google.colab.kernel.accessAllowed ? 'block' : 'none';\n",
              "\n",
              "        async function convertToInteractive(key) {\n",
              "          const element = document.querySelector('#df-38fd55fa-ec51-47d3-9d9a-855dd8765d2a');\n",
              "          const dataTable =\n",
              "            await google.colab.kernel.invokeFunction('convertToInteractive',\n",
              "                                                     [key], {});\n",
              "          if (!dataTable) return;\n",
              "\n",
              "          const docLinkHtml = 'Like what you see? Visit the ' +\n",
              "            '<a target=\"_blank\" href=https://colab.research.google.com/notebooks/data_table.ipynb>data table notebook</a>'\n",
              "            + ' to learn more about interactive tables.';\n",
              "          element.innerHTML = '';\n",
              "          dataTable['output_type'] = 'display_data';\n",
              "          await google.colab.output.renderOutput(dataTable, element);\n",
              "          const docLink = document.createElement('div');\n",
              "          docLink.innerHTML = docLinkHtml;\n",
              "          element.appendChild(docLink);\n",
              "        }\n",
              "      </script>\n",
              "    </div>\n",
              "  </div>\n",
              "  "
            ]
          },
          "metadata": {},
          "execution_count": 4
        }
      ]
    },
    {
      "cell_type": "markdown",
      "source": [
        "📰 헤드라인과 본문으로 나뉘어 있습니다.\n",
        "\n",
        "추상적 요약을 하려면 본문을 보면서 헤드라인을 참고하고,\n",
        "\n",
        "추출적 요약을 하려면 본문만 보면 되겠네요."
      ],
      "metadata": {
        "id": "rD8VlQN3BrUb"
      }
    },
    {
      "cell_type": "markdown",
      "source": [
        "---"
      ],
      "metadata": {
        "id": "u_LBjZd5CD53"
      }
    },
    {
      "cell_type": "markdown",
      "source": [
        "## **02-1. 중복 데이터 제거 & 텍스트 정규화**"
      ],
      "metadata": {
        "id": "Z3FEtp7qCOgK"
      }
    },
    {
      "cell_type": "code",
      "source": [
        "print('text 열에서 중복 없는 유일한 샘플의 수 :', data['text'].nunique())\n",
        "print('healines 열에서 중복 없는 유일한 샘플의 수 :', data['headlines'].nunique())"
      ],
      "metadata": {
        "colab": {
          "base_uri": "https://localhost:8080/"
        },
        "id": "YIEoMMpfCYKV",
        "outputId": "3250c168-20c1-4adf-dd14-5d27e03e6f05"
      },
      "execution_count": 5,
      "outputs": [
        {
          "output_type": "stream",
          "name": "stdout",
          "text": [
            "text 열에서 중복 없는 유일한 샘플의 수 : 98360\n",
            "healines 열에서 중복 없는 유일한 샘플의 수 : 98280\n"
          ]
        }
      ]
    },
    {
      "cell_type": "markdown",
      "source": [
        "📰 헤드라인과 본문 양쪽 모두 중복 데이터가 존재합니다.\n",
        "\n",
        "헤드라인은 중복될 수 있을 것 같지만, 본문에 중복된 내용은 필요 없으니 지워주도록 하겠습니다."
      ],
      "metadata": {
        "id": "TqMJDA3nC1WA"
      }
    },
    {
      "cell_type": "code",
      "source": [
        "# inplace=True 면 DataFrame 타입 값을 return 하지 않고 data 내부를 직접 변환\n",
        "data.drop_duplicates(subset = ['text'], inplace=True)\n",
        "print('전체 샘플수 :', (len(data)))"
      ],
      "metadata": {
        "colab": {
          "base_uri": "https://localhost:8080/"
        },
        "id": "_U__L5QVDqlx",
        "outputId": "f35a0b7a-896d-45d0-8078-ca75366d220a"
      },
      "execution_count": 6,
      "outputs": [
        {
          "output_type": "stream",
          "name": "stdout",
          "text": [
            "전체 샘플수 : 98360\n"
          ]
        }
      ]
    },
    {
      "cell_type": "markdown",
      "source": [
        "📰 전체 샘플 수가 본문의 unique 데이터 개수에 맞춰졌네요.\n",
        "\n",
        "혹시 중복 데이터 중에 null 값이 있었는지 확인해 보겠습니다."
      ],
      "metadata": {
        "id": "66JZIAv1DzHl"
      }
    },
    {
      "cell_type": "code",
      "source": [
        "print(data.isnull().sum())"
      ],
      "metadata": {
        "colab": {
          "base_uri": "https://localhost:8080/"
        },
        "id": "3rrqWWupD9Ez",
        "outputId": "b150d63c-a294-4f6d-da97-4b3ffe52ca0e"
      },
      "execution_count": 7,
      "outputs": [
        {
          "output_type": "stream",
          "name": "stdout",
          "text": [
            "headlines    0\n",
            "text         0\n",
            "dtype: int64\n"
          ]
        }
      ]
    },
    {
      "cell_type": "markdown",
      "source": [
        "📰 다행히 null값은 없었나 봅니다. 전처리를 계속 진행합니다."
      ],
      "metadata": {
        "id": "Xo3qoKtLEFrK"
      }
    },
    {
      "cell_type": "code",
      "source": [
        "# 효율적인 데이터 처리를 위한 텍스트 정규화\n",
        "\n",
        "contractions = {\"ain't\": \"is not\", \"aren't\": \"are not\",\"can't\": \"cannot\", \"'cause\": \"because\", \"could've\": \"could have\", \"couldn't\": \"could not\",\n",
        "                           \"didn't\": \"did not\",  \"doesn't\": \"does not\", \"don't\": \"do not\", \"hadn't\": \"had not\", \"hasn't\": \"has not\", \"haven't\": \"have not\",\n",
        "                           \"he'd\": \"he would\",\"he'll\": \"he will\", \"he's\": \"he is\", \"how'd\": \"how did\", \"how'd'y\": \"how do you\", \"how'll\": \"how will\", \"how's\": \"how is\",\n",
        "                           \"I'd\": \"I would\", \"I'd've\": \"I would have\", \"I'll\": \"I will\", \"I'll've\": \"I will have\",\"I'm\": \"I am\", \"I've\": \"I have\", \"i'd\": \"i would\",\n",
        "                           \"i'd've\": \"i would have\", \"i'll\": \"i will\",  \"i'll've\": \"i will have\",\"i'm\": \"i am\", \"i've\": \"i have\", \"isn't\": \"is not\", \"it'd\": \"it would\",\n",
        "                           \"it'd've\": \"it would have\", \"it'll\": \"it will\", \"it'll've\": \"it will have\",\"it's\": \"it is\", \"let's\": \"let us\", \"ma'am\": \"madam\",\n",
        "                           \"mayn't\": \"may not\", \"might've\": \"might have\",\"mightn't\": \"might not\",\"mightn't've\": \"might not have\", \"must've\": \"must have\",\n",
        "                           \"mustn't\": \"must not\", \"mustn't've\": \"must not have\", \"needn't\": \"need not\", \"needn't've\": \"need not have\",\"o'clock\": \"of the clock\",\n",
        "                           \"oughtn't\": \"ought not\", \"oughtn't've\": \"ought not have\", \"shan't\": \"shall not\", \"sha'n't\": \"shall not\", \"shan't've\": \"shall not have\",\n",
        "                           \"she'd\": \"she would\", \"she'd've\": \"she would have\", \"she'll\": \"she will\", \"she'll've\": \"she will have\", \"she's\": \"she is\",\n",
        "                           \"should've\": \"should have\", \"shouldn't\": \"should not\", \"shouldn't've\": \"should not have\", \"so've\": \"so have\",\"so's\": \"so as\",\n",
        "                           \"this's\": \"this is\",\"that'd\": \"that would\", \"that'd've\": \"that would have\", \"that's\": \"that is\", \"there'd\": \"there would\",\n",
        "                           \"there'd've\": \"there would have\", \"there's\": \"there is\", \"here's\": \"here is\",\"they'd\": \"they would\", \"they'd've\": \"they would have\",\n",
        "                           \"they'll\": \"they will\", \"they'll've\": \"they will have\", \"they're\": \"they are\", \"they've\": \"they have\", \"to've\": \"to have\",\n",
        "                           \"wasn't\": \"was not\", \"we'd\": \"we would\", \"we'd've\": \"we would have\", \"we'll\": \"we will\", \"we'll've\": \"we will have\", \"we're\": \"we are\",\n",
        "                           \"we've\": \"we have\", \"weren't\": \"were not\", \"what'll\": \"what will\", \"what'll've\": \"what will have\", \"what're\": \"what are\",\n",
        "                           \"what's\": \"what is\", \"what've\": \"what have\", \"when's\": \"when is\", \"when've\": \"when have\", \"where'd\": \"where did\", \"where's\": \"where is\",\n",
        "                           \"where've\": \"where have\", \"who'll\": \"who will\", \"who'll've\": \"who will have\", \"who's\": \"who is\", \"who've\": \"who have\",\n",
        "                           \"why's\": \"why is\", \"why've\": \"why have\", \"will've\": \"will have\", \"won't\": \"will not\", \"won't've\": \"will not have\",\n",
        "                           \"would've\": \"would have\", \"wouldn't\": \"would not\", \"wouldn't've\": \"would not have\", \"y'all\": \"you all\",\n",
        "                           \"y'all'd\": \"you all would\",\"y'all'd've\": \"you all would have\",\"y'all're\": \"you all are\",\"y'all've\": \"you all have\",\n",
        "                           \"you'd\": \"you would\", \"you'd've\": \"you would have\", \"you'll\": \"you will\", \"you'll've\": \"you will have\",\n",
        "                           \"you're\": \"you are\", \"you've\": \"you have\"}\n",
        "\n",
        "print(\"정규화 사전의 수: \", len(contractions))"
      ],
      "metadata": {
        "colab": {
          "base_uri": "https://localhost:8080/"
        },
        "id": "9rG71RS8EJl-",
        "outputId": "76efb371-683e-4d3b-ea15-d2136cbe884b"
      },
      "execution_count": 8,
      "outputs": [
        {
          "output_type": "stream",
          "name": "stdout",
          "text": [
            "정규화 사전의 수:  120\n"
          ]
        }
      ]
    },
    {
      "cell_type": "markdown",
      "source": [
        "📰 텍스트 정규화 참고 링크: https://stackoverflow.com/questions/19790188/expanding-english-language-contractions-in-python\n",
        "\n",
        "앞에서 다운로드 받았던 불용어 리스트를 이용해서 불용어 처리까지 진행합니다."
      ],
      "metadata": {
        "id": "v88pjyuIY79Q"
      }
    },
    {
      "cell_type": "code",
      "source": [
        "print('불용어 개수 :', len(stopwords.words('english') ))\n",
        "print(stopwords.words('english'))"
      ],
      "metadata": {
        "colab": {
          "base_uri": "https://localhost:8080/"
        },
        "id": "-IX2mW4IZLAl",
        "outputId": "53bb06e4-24bf-4f17-e8e2-cf8115844628"
      },
      "execution_count": 9,
      "outputs": [
        {
          "output_type": "stream",
          "name": "stdout",
          "text": [
            "불용어 개수 : 179\n",
            "['i', 'me', 'my', 'myself', 'we', 'our', 'ours', 'ourselves', 'you', \"you're\", \"you've\", \"you'll\", \"you'd\", 'your', 'yours', 'yourself', 'yourselves', 'he', 'him', 'his', 'himself', 'she', \"she's\", 'her', 'hers', 'herself', 'it', \"it's\", 'its', 'itself', 'they', 'them', 'their', 'theirs', 'themselves', 'what', 'which', 'who', 'whom', 'this', 'that', \"that'll\", 'these', 'those', 'am', 'is', 'are', 'was', 'were', 'be', 'been', 'being', 'have', 'has', 'had', 'having', 'do', 'does', 'did', 'doing', 'a', 'an', 'the', 'and', 'but', 'if', 'or', 'because', 'as', 'until', 'while', 'of', 'at', 'by', 'for', 'with', 'about', 'against', 'between', 'into', 'through', 'during', 'before', 'after', 'above', 'below', 'to', 'from', 'up', 'down', 'in', 'out', 'on', 'off', 'over', 'under', 'again', 'further', 'then', 'once', 'here', 'there', 'when', 'where', 'why', 'how', 'all', 'any', 'both', 'each', 'few', 'more', 'most', 'other', 'some', 'such', 'no', 'nor', 'not', 'only', 'own', 'same', 'so', 'than', 'too', 'very', 's', 't', 'can', 'will', 'just', 'don', \"don't\", 'should', \"should've\", 'now', 'd', 'll', 'm', 'o', 're', 've', 'y', 'ain', 'aren', \"aren't\", 'couldn', \"couldn't\", 'didn', \"didn't\", 'doesn', \"doesn't\", 'hadn', \"hadn't\", 'hasn', \"hasn't\", 'haven', \"haven't\", 'isn', \"isn't\", 'ma', 'mightn', \"mightn't\", 'mustn', \"mustn't\", 'needn', \"needn't\", 'shan', \"shan't\", 'shouldn', \"shouldn't\", 'wasn', \"wasn't\", 'weren', \"weren't\", 'won', \"won't\", 'wouldn', \"wouldn't\"]\n"
          ]
        }
      ]
    },
    {
      "cell_type": "code",
      "source": [
        "# 불용어 처리 함수 생성\n",
        "\n",
        "def preprocess_sentence(sentence, remove_stopwords=True):\n",
        "    sentence = sentence.lower() # 텍스트 소문자화\n",
        "    sentence = BeautifulSoup(sentence, \"lxml\").text # <br />, <a href = ...> 등의 html 태그 제거\n",
        "    sentence = re.sub(r'\\([^)]*\\)', '', sentence) # 괄호로 닫힌 문자열 (...) 제거 Ex) my husband (and myself!) for => my husband for\n",
        "    sentence = re.sub('\"','', sentence) # 쌍따옴표 \" 제거\n",
        "    sentence = ' '.join([contractions[t] if t in contractions else t for t in sentence.split(\" \")]) # 약어 정규화\n",
        "    sentence = re.sub(r\"'s\\b\",\"\", sentence) # 소유격 제거. Ex) roland's -> roland\n",
        "    sentence = re.sub(\"[^a-zA-Z]\", \" \", sentence) # 영어 외 문자(숫자, 특수문자 등) 공백으로 변환\n",
        "    sentence = re.sub('[m]{2,}', 'mm', sentence) # m이 3개 이상이면 2개로 변경. Ex) ummmmmmm yeah -> umm yeah\n",
        "    \n",
        "    # 불용어 제거 (text)\n",
        "    if remove_stopwords:\n",
        "        tokens = ' '.join(word for word in sentence.split() if not word in stopwords.words('english') if len(word) > 1)\n",
        "\n",
        "    # 불용어 미제거 (headlines)\n",
        "    else:\n",
        "        tokens = ' '.join(word for word in sentence.split() if len(word) > 1)\n",
        "    return tokens\n",
        "\n",
        "print('Done!')"
      ],
      "metadata": {
        "colab": {
          "base_uri": "https://localhost:8080/"
        },
        "id": "u-sXy8OmZiJJ",
        "outputId": "d9821356-36f6-4d7a-9b8e-1a0f4cfd2801"
      },
      "execution_count": 10,
      "outputs": [
        {
          "output_type": "stream",
          "name": "stdout",
          "text": [
            "Done!\n"
          ]
        }
      ]
    },
    {
      "cell_type": "markdown",
      "source": [
        "📰 헤드라인에서는 따로 불용어 제거 처리를 해주지 않습니다.\n",
        "\n",
        "요약 문장이니 굳이 할 필요가 없습니다."
      ],
      "metadata": {
        "id": "3665f1yZZtQT"
      }
    },
    {
      "cell_type": "code",
      "source": [
        "clean_text = []\n",
        "\n",
        "# 전체 Text 데이터에 대한 전처리 (오래 걸림)\n",
        "for s in data['text']:\n",
        "    clean_text.append(preprocess_sentence(s))\n",
        "\n",
        "# 전처리 후 출력\n",
        "print(\"text 전처리 후 결과: \", clean_text[:5])"
      ],
      "metadata": {
        "colab": {
          "base_uri": "https://localhost:8080/"
        },
        "id": "mj9POArLaHJ6",
        "outputId": "281b73af-2307-4c89-acbd-663240c31ffe"
      },
      "execution_count": 11,
      "outputs": [
        {
          "output_type": "stream",
          "name": "stdout",
          "text": [
            "text 전처리 후 결과:  ['saurav kant alumnus upgrad iiit pg program machine learning artificial intelligence sr systems engineer infosys almost years work experience program upgrad degree career support helped transition data scientist tech mahindra salary hike upgrad online power learning powered lakh careers', 'kunal shah credit card bill payment platform cred gave users chance win free food swiggy one year pranav kaushik delhi techie bagged reward spending cred coins users get one cred coin per rupee bill paid used avail rewards brands like ixigo bookmyshow ubereats cult fit', 'new zealand defeated india wickets fourth odi hamilton thursday win first match five match odi series india lost international match rohit sharma captaincy consecutive victories dating back march match witnessed india getting seventh lowest total odi cricket history', 'aegon life iterm insurance plan customers enjoy tax benefits premiums paid save taxes plan provides life cover age years also customers options insure critical illnesses disability accidental death benefit rider life cover age years', 'speaking sexual harassment allegations rajkumar hirani sonam kapoor said known hirani many years true metoo movement get derailed metoo movement always believe woman case need reserve judgment added hirani accused assistant worked sanju']\n"
          ]
        }
      ]
    },
    {
      "cell_type": "code",
      "source": [
        "clean_headlines = []\n",
        "\n",
        "# 전체 headlines 데이터에 대한 전처리(오래 걸림)\n",
        "for s in data['headlines']:\n",
        "    clean_headlines.append(preprocess_sentence(s, False))\n",
        "\n",
        "print(\"healines 전처리 후 결과: \", clean_headlines[:5])"
      ],
      "metadata": {
        "colab": {
          "base_uri": "https://localhost:8080/"
        },
        "id": "BaXEA5-iaQez",
        "outputId": "fff669c1-6873-4c81-e4b8-d9b7b13cc13e"
      },
      "execution_count": 12,
      "outputs": [
        {
          "output_type": "stream",
          "name": "stdout",
          "text": [
            "healines 전처리 후 결과:  ['upgrad learner switches to career in ml al with salary hike', 'delhi techie wins free food from swiggy for one year on cred', 'new zealand end rohit sharma led india match winning streak', 'aegon life iterm insurance plan helps customers save tax', 'have known hirani for yrs what if metoo claims are not true sonam']\n"
          ]
        }
      ]
    },
    {
      "cell_type": "markdown",
      "source": [
        "📰 전처리 후 혹시 빈 문장은 없는지 확인합니다."
      ],
      "metadata": {
        "id": "qmzDOWq_dCgu"
      }
    },
    {
      "cell_type": "code",
      "source": [
        "data['text'] = clean_text\n",
        "data['headlines'] = clean_headlines\n",
        "\n",
        "# 빈 값을 Null 값으로 변환\n",
        "data.replace('', np.nan, inplace=True)\n",
        "\n",
        "# 확인\n",
        "data.isnull().sum()"
      ],
      "metadata": {
        "colab": {
          "base_uri": "https://localhost:8080/"
        },
        "id": "UcT0g7P7d2bP",
        "outputId": "79558c53-9c1a-48d8-d134-93fce1763c0b"
      },
      "execution_count": 13,
      "outputs": [
        {
          "output_type": "execute_result",
          "data": {
            "text/plain": [
              "headlines    0\n",
              "text         0\n",
              "dtype: int64"
            ]
          },
          "metadata": {},
          "execution_count": 13
        }
      ]
    },
    {
      "cell_type": "markdown",
      "source": [
        "📰 따로 빈 문장은 없는 것 같군요."
      ],
      "metadata": {
        "id": "vDUNR5mEd-gu"
      }
    },
    {
      "cell_type": "markdown",
      "source": [
        "---"
      ],
      "metadata": {
        "id": "OlzW7xGzeW39"
      }
    },
    {
      "cell_type": "markdown",
      "source": [
        "### **02-2. 데이터 길이 정하기**\n",
        "\n",
        "- 훈련용 데이터와 테스트용 데이터를 나누기 전에 사용할 문장 길이를 정해야 합니다."
      ],
      "metadata": {
        "id": "mfdm9lK5eXf_"
      }
    },
    {
      "cell_type": "code",
      "source": [
        "# 길이 분포 출력하기\n",
        "import matplotlib.pyplot as plt\n",
        "\n",
        "text_len = [len(s.split()) for s in data['text']]\n",
        "headlines_len = [len(s.split()) for s in data['headlines']]\n",
        "\n",
        "print('텍스트의 최소 길이 : {}'.format(np.min(text_len)))\n",
        "print('텍스트의 최대 길이 : {}'.format(np.max(text_len)))\n",
        "print('텍스트의 평균 길이 : {}'.format(np.mean(text_len)))\n",
        "print('요약의 최소 길이 : {}'.format(np.min(headlines_len)))\n",
        "print('요약의 최대 길이 : {}'.format(np.max(headlines_len)))\n",
        "print('요약의 평균 길이 : {}'.format(np.mean(headlines_len)))\n",
        "\n",
        "plt.subplot(1,2,1)\n",
        "plt.boxplot(text_len)\n",
        "plt.title('text')\n",
        "plt.subplot(1,2,2)\n",
        "plt.boxplot(headlines_len)\n",
        "plt.title('headlines')\n",
        "plt.tight_layout()\n",
        "plt.show()\n",
        "\n",
        "plt.title('text')\n",
        "plt.hist(text_len, bins = 40)\n",
        "plt.xlabel('length of samples')\n",
        "plt.ylabel('number of samples')\n",
        "plt.show()\n",
        "\n",
        "plt.title('headlines')\n",
        "plt.hist(headlines_len, bins = 40)\n",
        "plt.xlabel('length of samples')\n",
        "plt.ylabel('number of samples')\n",
        "plt.show()"
      ],
      "metadata": {
        "colab": {
          "base_uri": "https://localhost:8080/",
          "height": 960
        },
        "id": "Ouw9TFa6eaRY",
        "outputId": "26c9f4d2-e55b-4ba3-f2e0-9378ec30f1dc"
      },
      "execution_count": 14,
      "outputs": [
        {
          "output_type": "stream",
          "name": "stdout",
          "text": [
            "텍스트의 최소 길이 : 1\n",
            "텍스트의 최대 길이 : 60\n",
            "텍스트의 평균 길이 : 35.09968483123221\n",
            "요약의 최소 길이 : 1\n",
            "요약의 최대 길이 : 16\n",
            "요약의 평균 길이 : 9.299532330215534\n"
          ]
        },
        {
          "output_type": "display_data",
          "data": {
            "text/plain": [
              "<Figure size 432x288 with 2 Axes>"
            ],
            "image/png": "[encoded data removed]"
          },
          "metadata": {
            "needs_background": "light"
          }
        },
        {
          "output_type": "display_data",
          "data": {
            "text/plain": [
              "<Figure size 432x288 with 1 Axes>"
            ],
            "image/png": "[encoded data removed]"
          },
          "metadata": {
            "needs_background": "light"
          }
        },
        {
          "output_type": "display_data",
          "data": {
            "text/plain": [
              "<Figure size 432x288 with 1 Axes>"
            ],
            "image/png": "[encoded data removed]"
          },
          "metadata": {
            "needs_background": "light"
          }
        }
      ]
    },
    {
      "cell_type": "markdown",
      "source": [
        "📰 텍스트는 평균 36, 헤드라인은 평균 10 정도의 길이를 갖습니다.\n",
        "\n",
        "따라서 텍스트 50, 헤드라인 15 정도로 문장 길이를 설정해 주겠습니다."
      ],
      "metadata": {
        "id": "L3nS0fxWeuIK"
      }
    },
    {
      "cell_type": "code",
      "source": [
        "text_max_len = 50\n",
        "headlines_max_len = 15\n",
        "\n",
        "print('Done!')"
      ],
      "metadata": {
        "colab": {
          "base_uri": "https://localhost:8080/"
        },
        "id": "zKgWOOTRfL-7",
        "outputId": "eaeae48e-7b6c-47ed-fe83-69b0c0a0e514"
      },
      "execution_count": 15,
      "outputs": [
        {
          "output_type": "stream",
          "name": "stdout",
          "text": [
            "Done!\n"
          ]
        }
      ]
    },
    {
      "cell_type": "markdown",
      "source": [
        "📰 설정한 문장 길이에 맞춰 데이터를 처리하면 얼마나 데이터 손실이 발생하는지 확인해 보겠습니다."
      ],
      "metadata": {
        "id": "8rUghyZEfWxG"
      }
    },
    {
      "cell_type": "code",
      "source": [
        "# 데이터 처리 함수 생성\n",
        "\n",
        "def below_threshold_len(max_len, nested_list):\n",
        "  cnt = 0\n",
        "  for s in nested_list:\n",
        "    if(len(s.split()) <= max_len):\n",
        "        cnt = cnt + 1\n",
        "  print('전체 샘플 중 길이가 %s 이하인 샘플의 비율: %s'%(max_len, (cnt / len(nested_list))))\n",
        "\n",
        "print('Done!')"
      ],
      "metadata": {
        "colab": {
          "base_uri": "https://localhost:8080/"
        },
        "id": "Ol1G9rX1fOr9",
        "outputId": "9112d22b-f319-46f7-b34b-fff4cf1b39f6"
      },
      "execution_count": 16,
      "outputs": [
        {
          "output_type": "stream",
          "name": "stdout",
          "text": [
            "Done!\n"
          ]
        }
      ]
    },
    {
      "cell_type": "code",
      "source": [
        "below_threshold_len(text_max_len, data['text'])\n",
        "below_threshold_len(headlines_max_len,  data['headlines'])"
      ],
      "metadata": {
        "colab": {
          "base_uri": "https://localhost:8080/"
        },
        "id": "nJnpDcOqfdha",
        "outputId": "b836c5b8-d8c1-42ca-d5ff-4fd5fc35e9a3"
      },
      "execution_count": 17,
      "outputs": [
        {
          "output_type": "stream",
          "name": "stdout",
          "text": [
            "전체 샘플 중 길이가 50 이하인 샘플의 비율: 0.9998576657177715\n",
            "전체 샘플 중 길이가 15 이하인 샘플의 비율: 0.9999694997966653\n"
          ]
        }
      ]
    },
    {
      "cell_type": "markdown",
      "source": [
        "📰 99.9% 가까이 처리 가능하군요.\n"
      ],
      "metadata": {
        "id": "n9uRLUFxfmcI"
      }
    },
    {
      "cell_type": "code",
      "source": [
        "# 0.1%의 나머지 문장 빼고 처리\n",
        "\n",
        "data = data[data['text'].apply(lambda x: len(x.split()) <= text_max_len)]\n",
        "data = data[data['headlines'].apply(lambda x: len(x.split()) <= headlines_max_len)]\n",
        "print('전체 샘플수 :', (len(data)))"
      ],
      "metadata": {
        "colab": {
          "base_uri": "https://localhost:8080/"
        },
        "id": "q6mHJ8g7f1s1",
        "outputId": "634afc10-eec0-4b75-9506-f84cf175d2e8"
      },
      "execution_count": 18,
      "outputs": [
        {
          "output_type": "stream",
          "name": "stdout",
          "text": [
            "전체 샘플수 : 98343\n"
          ]
        }
      ]
    },
    {
      "cell_type": "markdown",
      "source": [
        "📰 전체 98360개의 데이터 중 98343개가 남았습니다. 17개 데이터가 0.1%에 해당했군요."
      ],
      "metadata": {
        "id": "jCTfHusHf7_n"
      }
    },
    {
      "cell_type": "markdown",
      "source": [
        "---"
      ],
      "metadata": {
        "id": "PEN8-GzPgR7n"
      }
    },
    {
      "cell_type": "markdown",
      "source": [
        "### **02-3. 토큰 처리 & ndarray 변환**\n",
        "\n",
        "- 문장 처리에 필요한 start, end 토큰 처리를 해 줍니다."
      ],
      "metadata": {
        "id": "DarjW4nfgS6S"
      }
    },
    {
      "cell_type": "code",
      "source": [
        "# 추상적 요약에 필요한 학습 데이터는 헤드라인이기 때문에\n",
        "# 헤드라인 데이터에 시작/종료 토큰 추가\n",
        "\n",
        "data['decoder_input'] = data['headlines'].apply(lambda x : 'sostoken '+ x)\n",
        "data['decoder_target'] = data['headlines'].apply(lambda x : x + ' eostoken')\n",
        "\n",
        "data.head()"
      ],
      "metadata": {
        "colab": {
          "base_uri": "https://localhost:8080/",
          "height": 337
        },
        "id": "8_DrwY52gIeG",
        "outputId": "15a415f5-42e8-465c-cebd-ba1624ab27f7"
      },
      "execution_count": 19,
      "outputs": [
        {
          "output_type": "execute_result",
          "data": {
            "text/plain": [
              "                                           headlines  \\\n",
              "0  upgrad learner switches to career in ml al wit...   \n",
              "1  delhi techie wins free food from swiggy for on...   \n",
              "2  new zealand end rohit sharma led india match w...   \n",
              "3  aegon life iterm insurance plan helps customer...   \n",
              "4  have known hirani for yrs what if metoo claims...   \n",
              "\n",
              "                                                text  \\\n",
              "0  saurav kant alumnus upgrad iiit pg program mac...   \n",
              "1  kunal shah credit card bill payment platform c...   \n",
              "2  new zealand defeated india wickets fourth odi ...   \n",
              "3  aegon life iterm insurance plan customers enjo...   \n",
              "4  speaking sexual harassment allegations rajkuma...   \n",
              "\n",
              "                                       decoder_input  \\\n",
              "0  sostoken upgrad learner switches to career in ...   \n",
              "1  sostoken delhi techie wins free food from swig...   \n",
              "2  sostoken new zealand end rohit sharma led indi...   \n",
              "3  sostoken aegon life iterm insurance plan helps...   \n",
              "4  sostoken have known hirani for yrs what if met...   \n",
              "\n",
              "                                      decoder_target  \n",
              "0  upgrad learner switches to career in ml al wit...  \n",
              "1  delhi techie wins free food from swiggy for on...  \n",
              "2  new zealand end rohit sharma led india match w...  \n",
              "3  aegon life iterm insurance plan helps customer...  \n",
              "4  have known hirani for yrs what if metoo claims...  "
            ],
            "text/html": [
              "\n",
              "  <div id=\"df-cf4b790d-2e7c-40d7-8f5f-8208c6b6c9c4\">\n",
              "    <div class=\"colab-df-container\">\n",
              "      <div>\n",
              "<style scoped>\n",
              "    .dataframe tbody tr th:only-of-type {\n",
              "        vertical-align: middle;\n",
              "    }\n",
              "\n",
              "    .dataframe tbody tr th {\n",
              "        vertical-align: top;\n",
              "    }\n",
              "\n",
              "    .dataframe thead th {\n",
              "        text-align: right;\n",
              "    }\n",
              "</style>\n",
              "<table border=\"1\" class=\"dataframe\">\n",
              "  <thead>\n",
              "    <tr style=\"text-align: right;\">\n",
              "      <th></th>\n",
              "      <th>headlines</th>\n",
              "      <th>text</th>\n",
              "      <th>decoder_input</th>\n",
              "      <th>decoder_target</th>\n",
              "    </tr>\n",
              "  </thead>\n",
              "  <tbody>\n",
              "    <tr>\n",
              "      <th>0</th>\n",
              "      <td>upgrad learner switches to career in ml al wit...</td>\n",
              "      <td>saurav kant alumnus upgrad iiit pg program mac...</td>\n",
              "      <td>sostoken upgrad learner switches to career in ...</td>\n",
              "      <td>upgrad learner switches to career in ml al wit...</td>\n",
              "    </tr>\n",
              "    <tr>\n",
              "      <th>1</th>\n",
              "      <td>delhi techie wins free food from swiggy for on...</td>\n",
              "      <td>kunal shah credit card bill payment platform c...</td>\n",
              "      <td>sostoken delhi techie wins free food from swig...</td>\n",
              "      <td>delhi techie wins free food from swiggy for on...</td>\n",
              "    </tr>\n",
              "    <tr>\n",
              "      <th>2</th>\n",
              "      <td>new zealand end rohit sharma led india match w...</td>\n",
              "      <td>new zealand defeated india wickets fourth odi ...</td>\n",
              "      <td>sostoken new zealand end rohit sharma led indi...</td>\n",
              "      <td>new zealand end rohit sharma led india match w...</td>\n",
              "    </tr>\n",
              "    <tr>\n",
              "      <th>3</th>\n",
              "      <td>aegon life iterm insurance plan helps customer...</td>\n",
              "      <td>aegon life iterm insurance plan customers enjo...</td>\n",
              "      <td>sostoken aegon life iterm insurance plan helps...</td>\n",
              "      <td>aegon life iterm insurance plan helps customer...</td>\n",
              "    </tr>\n",
              "    <tr>\n",
              "      <th>4</th>\n",
              "      <td>have known hirani for yrs what if metoo claims...</td>\n",
              "      <td>speaking sexual harassment allegations rajkuma...</td>\n",
              "      <td>sostoken have known hirani for yrs what if met...</td>\n",
              "      <td>have known hirani for yrs what if metoo claims...</td>\n",
              "    </tr>\n",
              "  </tbody>\n",
              "</table>\n",
              "</div>\n",
              "      <button class=\"colab-df-convert\" onclick=\"convertToInteractive('df-cf4b790d-2e7c-40d7-8f5f-8208c6b6c9c4')\"\n",
              "              title=\"Convert this dataframe to an interactive table.\"\n",
              "              style=\"display:none;\">\n",
              "        \n",
              "  <svg xmlns=\"http://www.w3.org/2000/svg\" height=\"24px\"viewBox=\"0 0 24 24\"\n",
              "       width=\"24px\">\n",
              "    <path d=\"M0 0h24v24H0V0z\" fill=\"none\"/>\n",
              "    <path d=\"M18.56 5.44l.94 2.06.94-2.06 2.06-.94-2.06-.94-.94-2.06-.94 2.06-2.06.94zm-11 1L8.5 8.5l.94-2.06 2.06-.94-2.06-.94L8.5 2.5l-.94 2.06-2.06.94zm10 10l.94 2.06.94-2.06 2.06-.94-2.06-.94-.94-2.06-.94 2.06-2.06.94z\"/><path d=\"M17.41 7.96l-1.37-1.37c-.4-.4-.92-.59-1.43-.59-.52 0-1.04.2-1.43.59L10.3 9.45l-7.72 7.72c-.78.78-.78 2.05 0 2.83L4 21.41c.39.39.9.59 1.41.59.51 0 1.02-.2 1.41-.59l7.78-7.78 2.81-2.81c.8-.78.8-2.07 0-2.86zM5.41 20L4 18.59l7.72-7.72 1.47 1.35L5.41 20z\"/>\n",
              "  </svg>\n",
              "      </button>\n",
              "      \n",
              "  <style>\n",
              "    .colab-df-container {\n",
              "      display:flex;\n",
              "      flex-wrap:wrap;\n",
              "      gap: 12px;\n",
              "    }\n",
              "\n",
              "    .colab-df-convert {\n",
              "      background-color: #E8F0FE;\n",
              "      border: none;\n",
              "      border-radius: 50%;\n",
              "      cursor: pointer;\n",
              "      display: none;\n",
              "      fill: #1967D2;\n",
              "      height: 32px;\n",
              "      padding: 0 0 0 0;\n",
              "      width: 32px;\n",
              "    }\n",
              "\n",
              "    .colab-df-convert:hover {\n",
              "      background-color: #E2EBFA;\n",
              "      box-shadow: 0px 1px 2px rgba(60, 64, 67, 0.3), 0px 1px 3px 1px rgba(60, 64, 67, 0.15);\n",
              "      fill: #174EA6;\n",
              "    }\n",
              "\n",
              "    [theme=dark] .colab-df-convert {\n",
              "      background-color: #3B4455;\n",
              "      fill: #D2E3FC;\n",
              "    }\n",
              "\n",
              "    [theme=dark] .colab-df-convert:hover {\n",
              "      background-color: #434B5C;\n",
              "      box-shadow: 0px 1px 3px 1px rgba(0, 0, 0, 0.15);\n",
              "      filter: drop-shadow(0px 1px 2px rgba(0, 0, 0, 0.3));\n",
              "      fill: #FFFFFF;\n",
              "    }\n",
              "  </style>\n",
              "\n",
              "      <script>\n",
              "        const buttonEl =\n",
              "          document.querySelector('#df-cf4b790d-2e7c-40d7-8f5f-8208c6b6c9c4 button.colab-df-convert');\n",
              "        buttonEl.style.display =\n",
              "          google.colab.kernel.accessAllowed ? 'block' : 'none';\n",
              "\n",
              "        async function convertToInteractive(key) {\n",
              "          const element = document.querySelector('#df-cf4b790d-2e7c-40d7-8f5f-8208c6b6c9c4');\n",
              "          const dataTable =\n",
              "            await google.colab.kernel.invokeFunction('convertToInteractive',\n",
              "                                                     [key], {});\n",
              "          if (!dataTable) return;\n",
              "\n",
              "          const docLinkHtml = 'Like what you see? Visit the ' +\n",
              "            '<a target=\"_blank\" href=https://colab.research.google.com/notebooks/data_table.ipynb>data table notebook</a>'\n",
              "            + ' to learn more about interactive tables.';\n",
              "          element.innerHTML = '';\n",
              "          dataTable['output_type'] = 'display_data';\n",
              "          await google.colab.output.renderOutput(dataTable, element);\n",
              "          const docLink = document.createElement('div');\n",
              "          docLink.innerHTML = docLinkHtml;\n",
              "          element.appendChild(docLink);\n",
              "        }\n",
              "      </script>\n",
              "    </div>\n",
              "  </div>\n",
              "  "
            ]
          },
          "metadata": {},
          "execution_count": 19
        }
      ]
    },
    {
      "cell_type": "markdown",
      "source": [
        "📰 DataFrame 구조의 데이터를 ndarray로 변환해줍니다."
      ],
      "metadata": {
        "id": "i9g9iq81hBV3"
      }
    },
    {
      "cell_type": "code",
      "source": [
        "# 인코더 인풋\n",
        "encoder_input = np.array(data['text'])\n",
        "\n",
        "# 디코더 인풋\n",
        "decoder_input = np.array(data['decoder_input'])\n",
        "\n",
        "# 디코더 레이블\n",
        "decoder_target = np.array(data['decoder_target'])\n",
        "\n",
        "print('Done!')"
      ],
      "metadata": {
        "colab": {
          "base_uri": "https://localhost:8080/"
        },
        "id": "m8Wp0Wdagia7",
        "outputId": "6913e46b-a54c-4bb9-a05c-7070f76fa9e4"
      },
      "execution_count": 20,
      "outputs": [
        {
          "output_type": "stream",
          "name": "stdout",
          "text": [
            "Done!\n"
          ]
        }
      ]
    },
    {
      "cell_type": "markdown",
      "source": [
        "---"
      ],
      "metadata": {
        "id": "WtOmCXhKhTS7"
      }
    },
    {
      "cell_type": "markdown",
      "source": [
        "### **02-4. 데이터 분리하기**\n",
        "\n",
        "- 훈련 데이터와 학습 데이터를 분리합니다."
      ],
      "metadata": {
        "id": "nN2vN3b2hZTU"
      }
    },
    {
      "cell_type": "code",
      "source": [
        "# train_test_split을 사용하는 대신 직접 잘라봅니다.\n",
        "\n",
        "indices = np.arange(encoder_input.shape[0])\n",
        "np.random.shuffle(indices)\n",
        "\n",
        "print(indices)"
      ],
      "metadata": {
        "colab": {
          "base_uri": "https://localhost:8080/"
        },
        "id": "qKwqQQbOhbNm",
        "outputId": "50b7390b-84ea-4b6e-f5e3-8269a16e1d49"
      },
      "execution_count": 21,
      "outputs": [
        {
          "output_type": "stream",
          "name": "stdout",
          "text": [
            "[90945 87923  6399 ... 20293 17071 63694]\n"
          ]
        }
      ]
    },
    {
      "cell_type": "code",
      "source": [
        "# 각 데이터의 샘플 순서를 정의해 줍니다.\n",
        "\n",
        "encoder_input = encoder_input[indices]\n",
        "decoder_input = decoder_input[indices]\n",
        "decoder_target = decoder_target[indices]\n",
        "\n",
        "print('Done!')"
      ],
      "metadata": {
        "colab": {
          "base_uri": "https://localhost:8080/"
        },
        "id": "Zn95NQNDhuGD",
        "outputId": "2f1c5c40-824e-41f7-e665-5821cd5115c8"
      },
      "execution_count": 22,
      "outputs": [
        {
          "output_type": "stream",
          "name": "stdout",
          "text": [
            "Done!\n"
          ]
        }
      ]
    },
    {
      "cell_type": "code",
      "source": [
        "# 8:2 비율로 분리\n",
        "\n",
        "n_of_val = int(len(encoder_input)*0.2)\n",
        "print('테스트 데이터의 수 :', n_of_val)"
      ],
      "metadata": {
        "colab": {
          "base_uri": "https://localhost:8080/"
        },
        "id": "vrpXcZQXh5Fs",
        "outputId": "9e5598c6-49e5-4ffb-a15e-148d3b49eaf3"
      },
      "execution_count": 23,
      "outputs": [
        {
          "output_type": "stream",
          "name": "stdout",
          "text": [
            "테스트 데이터의 수 : 19668\n"
          ]
        }
      ]
    },
    {
      "cell_type": "markdown",
      "source": [
        "📰 전체 데이터 수가 98343개였으니, 8:2로 잘 나눠진 것을 확인할 수 있습니다.\n",
        "\n",
        "이제 데이터를 넣어주기만 하면 되겠죠."
      ],
      "metadata": {
        "id": "slbyaHMfiDSW"
      }
    },
    {
      "cell_type": "code",
      "source": [
        "# 데이터 입력\n",
        "\n",
        "encoder_input_train = encoder_input[:-n_of_val]\n",
        "decoder_input_train = decoder_input[:-n_of_val]\n",
        "decoder_target_train = decoder_target[:-n_of_val]\n",
        "\n",
        "encoder_input_test = encoder_input[-n_of_val:]\n",
        "decoder_input_test = decoder_input[-n_of_val:]\n",
        "decoder_target_test = decoder_target[-n_of_val:]\n",
        "\n",
        "print('훈련 데이터의 개수 :', len(encoder_input_train))\n",
        "print('훈련 레이블의 개수 :', len(decoder_input_train))\n",
        "print('테스트 데이터의 개수 :', len(encoder_input_test))\n",
        "print('테스트 레이블의 개수 :', len(decoder_input_test))"
      ],
      "metadata": {
        "colab": {
          "base_uri": "https://localhost:8080/"
        },
        "id": "-ekieFxxiSqm",
        "outputId": "cd0f418d-837c-4e8d-9673-f2cb64baf230"
      },
      "execution_count": 24,
      "outputs": [
        {
          "output_type": "stream",
          "name": "stdout",
          "text": [
            "훈련 데이터의 개수 : 78675\n",
            "훈련 레이블의 개수 : 78675\n",
            "테스트 데이터의 개수 : 19668\n",
            "테스트 레이블의 개수 : 19668\n"
          ]
        }
      ]
    },
    {
      "cell_type": "markdown",
      "source": [
        "📰 잘 들어간 것 같습니다. 이제 각 데이터를 벡터 변환만 해주면 전처리가 끝나겠죠?"
      ],
      "metadata": {
        "id": "DN4biJi4iuop"
      }
    },
    {
      "cell_type": "markdown",
      "source": [
        "---"
      ],
      "metadata": {
        "id": "bJthWwE-iZ6k"
      }
    },
    {
      "cell_type": "markdown",
      "source": [
        "### **02-5. 토큰화하기**\n",
        "\n",
        "- Keras의 tokenizer를 사용합니다."
      ],
      "metadata": {
        "id": "NYyCHb8Ci47D"
      }
    },
    {
      "cell_type": "code",
      "source": [
        "src_tokenizer = Tokenizer()\n",
        "\n",
        "# 데이터에서 단어 집합 생성\n",
        "src_tokenizer.fit_on_texts(encoder_input_train)\n",
        "\n",
        "print('Done!')"
      ],
      "metadata": {
        "colab": {
          "base_uri": "https://localhost:8080/"
        },
        "id": "xBW7qGMajAL0",
        "outputId": "86d5a971-9b2c-4f52-d836-41a6ebc8ce86"
      },
      "execution_count": 25,
      "outputs": [
        {
          "output_type": "stream",
          "name": "stdout",
          "text": [
            "Done!\n"
          ]
        }
      ]
    },
    {
      "cell_type": "markdown",
      "source": [
        "📰 빈도 수가 낮은 데이터를 없애면 정확도가 오를까요?"
      ],
      "metadata": {
        "id": "KtG2z25zjML_"
      }
    },
    {
      "cell_type": "code",
      "source": [
        "# 7회 미만 데이터 제거\n",
        "threshold = 7\n",
        "\n",
        "# 단어 수\n",
        "total_cnt = len(src_tokenizer.word_index)\n",
        "\n",
        "# 등장 빈도수가 threshold보다 작은 단어의 개수\n",
        "rare_cnt = 0\n",
        "\n",
        "# 훈련 데이터의 전체 단어 빈도수 총합\n",
        "total_freq = 0\n",
        "\n",
        "# 등장 빈도수가 threshold보다 작은 단어의 등장 빈도수의 총합\n",
        "rare_freq = 0\n",
        "\n",
        "# 단어와 빈도수의 쌍(pair)을 key와 value로 받음\n",
        "for key, value in src_tokenizer.word_counts.items():\n",
        "    total_freq = total_freq + value\n",
        "\n",
        "    # 단어의 등장 빈도수가 threshold보다 작으면\n",
        "    if(value < threshold):\n",
        "        rare_cnt = rare_cnt + 1\n",
        "        rare_freq = rare_freq + value\n",
        "\n",
        "print('단어 집합(vocabulary)의 크기 :', total_cnt)\n",
        "print('등장 빈도가 %s번 이하인 희귀 단어의 수: %s'%(threshold - 1, rare_cnt))\n",
        "print('단어 집합에서 희귀 단어를 제외시킬 경우의 단어 집합의 크기 %s'%(total_cnt - rare_cnt))\n",
        "print(\"단어 집합에서 희귀 단어의 비율:\", (rare_cnt / total_cnt)*100)\n",
        "print(\"전체 등장 빈도에서 희귀 단어 등장 빈도 비율:\", (rare_freq / total_freq)*100)"
      ],
      "metadata": {
        "colab": {
          "base_uri": "https://localhost:8080/"
        },
        "id": "1F1bzuuMjQ-F",
        "outputId": "8ae422bb-293f-4590-8588-415d4be9d6db"
      },
      "execution_count": 26,
      "outputs": [
        {
          "output_type": "stream",
          "name": "stdout",
          "text": [
            "단어 집합(vocabulary)의 크기 : 69529\n",
            "등장 빈도가 6번 이하인 희귀 단어의 수: 47388\n",
            "단어 집합에서 희귀 단어를 제외시킬 경우의 단어 집합의 크기 22141\n",
            "단어 집합에서 희귀 단어의 비율: 68.15573357879447\n",
            "전체 등장 빈도에서 희귀 단어 등장 빈도 비율: 3.478572391079762\n"
          ]
        }
      ]
    },
    {
      "cell_type": "markdown",
      "source": [
        "📰 흠, 생성한 단어 사전에서 68%의 단어들을 날려버려야 하지만, 전체 등장 빈도 중에서는 3.5%밖에 되지 않습니다.\n",
        "\n",
        "굳이 남겨두지 않아도 될 것 같으니 제거해 줍니다."
      ],
      "metadata": {
        "id": "QmS3H0GSjnHM"
      }
    },
    {
      "cell_type": "code",
      "source": [
        "# 6회 이하 단어 제거한 사전 크기\n",
        "src_vocab = 22000\n",
        "src_tokenizer = Tokenizer(num_words=src_vocab)\n",
        "\n",
        "# 단어 집합 재생성\n",
        "src_tokenizer.fit_on_texts(encoder_input_train)\n",
        "\n",
        "print('Done!')"
      ],
      "metadata": {
        "colab": {
          "base_uri": "https://localhost:8080/"
        },
        "id": "sGObH6oij7In",
        "outputId": "6075055a-bbb3-4550-a810-148574aad5ac"
      },
      "execution_count": 27,
      "outputs": [
        {
          "output_type": "stream",
          "name": "stdout",
          "text": [
            "Done!\n"
          ]
        }
      ]
    },
    {
      "cell_type": "code",
      "source": [
        "# 텍스트 시퀀스를 정수 시퀀스로 변환\n",
        "encoder_input_train = src_tokenizer.texts_to_sequences(encoder_input_train) \n",
        "encoder_input_test = src_tokenizer.texts_to_sequences(encoder_input_test)\n",
        "\n",
        "# 잘 진행되었는지 샘플 출력\n",
        "print(encoder_input_train[:3])"
      ],
      "metadata": {
        "colab": {
          "base_uri": "https://localhost:8080/"
        },
        "id": "ykhLGLQCkLgP",
        "outputId": "c0bbc2ee-69c6-474c-96d7-3f49ca8457be"
      },
      "execution_count": 28,
      "outputs": [
        {
          "output_type": "stream",
          "name": "stdout",
          "text": [
            "[[15, 21, 1093, 12601, 11292, 87, 6573, 1284, 7, 9848, 1444, 18359, 243, 1888, 1079, 645, 2448, 3792, 5328, 18359, 18359, 5328, 9848, 1444, 23, 15974, 1079, 10, 1, 15, 11292, 974, 10, 106, 1429, 560, 1251], [415, 270, 8530, 3538, 766, 1089, 8115, 8984, 6904, 2547, 117, 793, 943, 31, 3, 13, 407, 666, 180, 17, 178, 1502, 415, 68, 1200, 2610, 2547, 17466, 727, 123], [324, 36, 138, 8531, 335, 3601, 102, 59, 95, 299, 18, 1337, 144, 152, 1126, 1413, 343, 3558, 324, 102, 1, 233, 992, 3083, 1421, 88, 25, 1430, 173, 197, 526, 767, 8985, 15975]]\n"
          ]
        }
      ]
    },
    {
      "cell_type": "markdown",
      "source": [
        "📰 잘 처리된 것 같습니다. text 말고 headlines 데이터에 대해서도 동일한 작업을 수행합니다."
      ],
      "metadata": {
        "id": "Ctts4823kQBm"
      }
    },
    {
      "cell_type": "code",
      "source": [
        "# headlines\n",
        "\n",
        "tar_tokenizer = Tokenizer()\n",
        "tar_tokenizer.fit_on_texts(decoder_input_train)\n",
        "\n",
        "print('Done!')"
      ],
      "metadata": {
        "colab": {
          "base_uri": "https://localhost:8080/"
        },
        "id": "SDo1ObPJkhr4",
        "outputId": "07e902bb-0037-407c-9dec-2086fcf0a594"
      },
      "execution_count": 29,
      "outputs": [
        {
          "output_type": "stream",
          "name": "stdout",
          "text": [
            "Done!\n"
          ]
        }
      ]
    },
    {
      "cell_type": "code",
      "source": [
        "threshold = 5\n",
        "total_cnt = len(tar_tokenizer.word_index) # 단어의 수\n",
        "rare_cnt = 0 # 등장 빈도수가 threshold보다 작은 단어의 개수를 카운트\n",
        "total_freq = 0 # 훈련 데이터의 전체 단어 빈도수 총 합\n",
        "rare_freq = 0 # 등장 빈도수가 threshold보다 작은 단어의 등장 빈도수의 총 합\n",
        "\n",
        "# 단어와 빈도수의 쌍(pair)을 key와 value로 받는다.\n",
        "for key, value in tar_tokenizer.word_counts.items():\n",
        "    total_freq = total_freq + value\n",
        "\n",
        "    # 단어의 등장 빈도수가 threshold보다 작으면\n",
        "    if(value < threshold):\n",
        "        rare_cnt = rare_cnt + 1\n",
        "        rare_freq = rare_freq + value\n",
        "\n",
        "print('단어 집합(vocabulary)의 크기 :', total_cnt)\n",
        "print('등장 빈도가 %s번 이하인 희귀 단어의 수: %s'%(threshold - 1, rare_cnt))\n",
        "print('단어 집합에서 희귀 단어를 제외시킬 경우의 단어 집합의 크기 %s'%(total_cnt - rare_cnt))\n",
        "print(\"단어 집합에서 희귀 단어의 비율:\", (rare_cnt / total_cnt)*100)\n",
        "print(\"전체 등장 빈도에서 희귀 단어 등장 빈도 비율:\", (rare_freq / total_freq)*100)"
      ],
      "metadata": {
        "colab": {
          "base_uri": "https://localhost:8080/"
        },
        "id": "Ims1__GQkl5P",
        "outputId": "7c1b4b15-6c82-44c9-80a1-eb476029e531"
      },
      "execution_count": 30,
      "outputs": [
        {
          "output_type": "stream",
          "name": "stdout",
          "text": [
            "단어 집합(vocabulary)의 크기 : 30086\n",
            "등장 빈도가 4번 이하인 희귀 단어의 수: 18522\n",
            "단어 집합에서 희귀 단어를 제외시킬 경우의 단어 집합의 크기 11564\n",
            "단어 집합에서 희귀 단어의 비율: 61.563517915309454\n",
            "전체 등장 빈도에서 희귀 단어 등장 빈도 비율: 3.9389074467809424\n"
          ]
        }
      ]
    },
    {
      "cell_type": "markdown",
      "source": [
        "📰 마찬가지로 처리해줍니다."
      ],
      "metadata": {
        "id": "JXVo1zJmkpQ0"
      }
    },
    {
      "cell_type": "code",
      "source": [
        "tar_vocab = 11000\n",
        "tar_tokenizer = Tokenizer(num_words=tar_vocab) \n",
        "tar_tokenizer.fit_on_texts(decoder_input_train)\n",
        "tar_tokenizer.fit_on_texts(decoder_target_train)\n",
        "\n",
        "# 텍스트 시퀀스를 정수 시퀀스로 변환\n",
        "decoder_input_train = tar_tokenizer.texts_to_sequences(decoder_input_train) \n",
        "decoder_target_train = tar_tokenizer.texts_to_sequences(decoder_target_train)\n",
        "decoder_input_test = tar_tokenizer.texts_to_sequences(decoder_input_test)\n",
        "decoder_target_test = tar_tokenizer.texts_to_sequences(decoder_target_test)\n",
        "\n",
        "# 잘 변환되었는지 확인\n",
        "print('input')\n",
        "print('input ',decoder_input_train[:5])\n",
        "print('target')\n",
        "print('decoder ',decoder_target_train[:5])"
      ],
      "metadata": {
        "colab": {
          "base_uri": "https://localhost:8080/"
        },
        "id": "XoCzCXh4kxCO",
        "outputId": "4bd7921f-0cbb-4e9a-9f6b-198bb73eeae2"
      },
      "execution_count": 31,
      "outputs": [
        {
          "output_type": "stream",
          "name": "stdout",
          "text": [
            "input\n",
            "input  [[1, 609, 73, 80, 43, 10404, 1664], [1, 217, 1030, 292, 3919, 16, 4519, 73, 3242], [1, 175, 6816, 353, 6146, 76, 156, 52], [1, 88, 22, 89, 9527, 29, 15, 1678, 7, 561, 483, 135], [1, 1100, 3495, 12, 1717, 3496, 792, 7, 114, 2162, 644]]\n",
            "target\n",
            "decoder  [[609, 73, 80, 43, 10404, 1664, 2], [217, 1030, 292, 3919, 16, 4519, 73, 3242, 2], [175, 6816, 353, 6146, 76, 156, 52, 2], [88, 22, 89, 9527, 29, 15, 1678, 7, 561, 483, 135, 2], [1100, 3495, 12, 1717, 3496, 792, 7, 114, 2162, 644, 2]]\n"
          ]
        }
      ]
    },
    {
      "cell_type": "markdown",
      "source": [
        "📰 좋습니다. 그럼 이제 패딩처리를 해줘야 할까요?\n",
        "\n",
        "아닙니다. 빈도수가 낮은 데이터를 제거했으니 빈 곳이 생겼는지 확인해야겠죠."
      ],
      "metadata": {
        "id": "mYDD9Rgjk6Sc"
      }
    },
    {
      "cell_type": "code",
      "source": [
        "drop_train = [index for index, sentence in enumerate(decoder_input_train) if len(sentence) == 1]\n",
        "drop_test = [index for index, sentence in enumerate(decoder_input_test) if len(sentence) == 1]\n",
        "\n",
        "print('삭제할 훈련 데이터의 개수 :', len(drop_train))\n",
        "print('삭제할 테스트 데이터의 개수 :', len(drop_test))\n",
        "\n",
        "encoder_input_train = [sentence for index, sentence in enumerate(encoder_input_train) if index not in drop_train]\n",
        "decoder_input_train = [sentence for index, sentence in enumerate(decoder_input_train) if index not in drop_train]\n",
        "decoder_target_train = [sentence for index, sentence in enumerate(decoder_target_train) if index not in drop_train]\n",
        "\n",
        "encoder_input_test = [sentence for index, sentence in enumerate(encoder_input_test) if index not in drop_test]\n",
        "decoder_input_test = [sentence for index, sentence in enumerate(decoder_input_test) if index not in drop_test]\n",
        "decoder_target_test = [sentence for index, sentence in enumerate(decoder_target_test) if index not in drop_test]\n",
        "\n",
        "print('훈련 데이터의 개수 :', len(encoder_input_train))\n",
        "print('훈련 레이블의 개수 :', len(decoder_input_train))\n",
        "print('테스트 데이터의 개수 :', len(encoder_input_test))\n",
        "print('테스트 레이블의 개수 :', len(decoder_input_test))"
      ],
      "metadata": {
        "colab": {
          "base_uri": "https://localhost:8080/"
        },
        "id": "zX3qSULKk9zl",
        "outputId": "cfc2505c-504e-4386-f65b-94df6cb34ac5"
      },
      "execution_count": 32,
      "outputs": [
        {
          "output_type": "stream",
          "name": "stdout",
          "text": [
            "삭제할 훈련 데이터의 개수 : 0\n",
            "삭제할 테스트 데이터의 개수 : 0\n",
            "훈련 데이터의 개수 : 78675\n",
            "훈련 레이블의 개수 : 78675\n",
            "테스트 데이터의 개수 : 19668\n",
            "테스트 레이블의 개수 : 19668\n"
          ]
        }
      ]
    },
    {
      "cell_type": "markdown",
      "source": [
        "📰 다행히 아예 빈 곳이 된 데이터는 없는 것 같습니다.\n",
        "\n",
        "이제 진짜로 패딩처리를 할 수 있겠군요."
      ],
      "metadata": {
        "id": "RDvkNe8llGE7"
      }
    },
    {
      "cell_type": "markdown",
      "source": [
        "---"
      ],
      "metadata": {
        "id": "1gqs0JjWlRiE"
      }
    },
    {
      "cell_type": "markdown",
      "source": [
        "### **02-6. 패딩 처리하기**"
      ],
      "metadata": {
        "id": "fg_6GxpjlSR3"
      }
    },
    {
      "cell_type": "code",
      "source": [
        "encoder_input_train = pad_sequences(encoder_input_train, maxlen=text_max_len, padding='post')\n",
        "encoder_input_test = pad_sequences(encoder_input_test, maxlen=text_max_len, padding='post')\n",
        "decoder_input_train = pad_sequences(decoder_input_train, maxlen=headlines_max_len, padding='post')\n",
        "decoder_target_train = pad_sequences(decoder_target_train, maxlen=headlines_max_len, padding='post')\n",
        "decoder_input_test = pad_sequences(decoder_input_test, maxlen=headlines_max_len, padding='post')\n",
        "decoder_target_test = pad_sequences(decoder_target_test, maxlen=headlines_max_len, padding='post')\n",
        "\n",
        "print('Done!')"
      ],
      "metadata": {
        "colab": {
          "base_uri": "https://localhost:8080/"
        },
        "id": "_qCpDfSslUHG",
        "outputId": "ce860218-6f7b-4eb4-81fa-826543a78592"
      },
      "execution_count": 33,
      "outputs": [
        {
          "output_type": "stream",
          "name": "stdout",
          "text": [
            "Done!\n"
          ]
        }
      ]
    },
    {
      "cell_type": "markdown",
      "source": [
        "📰 이걸로 전처리가 모두 끝났습니다!"
      ],
      "metadata": {
        "id": "LDaIprP7ld75"
      }
    },
    {
      "cell_type": "markdown",
      "source": [
        "---"
      ],
      "metadata": {
        "id": "wLyxoj2cljd2"
      }
    },
    {
      "cell_type": "markdown",
      "source": [
        "### **03-1. 모델 설계하기**\n",
        "\n",
        "- 어텐션 개념을 활용한 모델을 설계합니다."
      ],
      "metadata": {
        "id": "KLBVYSTVlkNl"
      }
    },
    {
      "cell_type": "code",
      "source": [
        "# 필요한 함수 불러오기\n",
        "\n",
        "from tensorflow.keras.layers import Input, LSTM, Embedding, Dense, Concatenate, TimeDistributed\n",
        "from tensorflow.keras.models import Model\n",
        "from tensorflow.keras.callbacks import EarlyStopping, ModelCheckpoint\n",
        "from tensorflow.keras.layers import AdditiveAttention\n",
        "\n",
        "print('Done!')"
      ],
      "metadata": {
        "colab": {
          "base_uri": "https://localhost:8080/"
        },
        "id": "SKOzsh4vlmio",
        "outputId": "0309ca3b-a6e7-4e0d-9e9a-4d108bbe97f0"
      },
      "execution_count": 36,
      "outputs": [
        {
          "output_type": "stream",
          "name": "stdout",
          "text": [
            "Done!\n"
          ]
        }
      ]
    },
    {
      "cell_type": "code",
      "source": [
        "# 인코더 설계 시작\n",
        "embedding_dim = 128\n",
        "hidden_size = 256\n",
        "\n",
        "# 인코더\n",
        "encoder_inputs = Input(shape=(text_max_len,))\n",
        "\n",
        "# 인코더의 임베딩 층\n",
        "enc_emb = Embedding(src_vocab, embedding_dim)(encoder_inputs)\n",
        "\n",
        "# 인코더의 LSTM 1\n",
        "encoder_lstm1 = LSTM(hidden_size, return_sequences=True, return_state=True ,dropout = 0.4)\n",
        "encoder_output1, state_h1, state_c1 = encoder_lstm1(enc_emb)\n",
        "\n",
        "# 인코더의 LSTM 2\n",
        "encoder_lstm2 = LSTM(hidden_size, return_sequences=True, return_state=True, dropout=0.4)\n",
        "encoder_output2, state_h2, state_c2 = encoder_lstm2(encoder_output1)\n",
        "\n",
        "# 인코더의 LSTM 3\n",
        "encoder_lstm3 = LSTM(hidden_size, return_state=True, return_sequences=True, dropout=0.4)\n",
        "encoder_outputs, state_h, state_c= encoder_lstm3(encoder_output2)\n",
        "\n",
        "print('Done!')"
      ],
      "metadata": {
        "colab": {
          "base_uri": "https://localhost:8080/"
        },
        "id": "JLw4q1roowZl",
        "outputId": "6ca7531d-912a-4310-d8a1-ad8d231f89ce"
      },
      "execution_count": 42,
      "outputs": [
        {
          "output_type": "stream",
          "name": "stdout",
          "text": [
            "Done!\n"
          ]
        }
      ]
    },
    {
      "cell_type": "code",
      "source": [
        "# 디코더 설계\n",
        "decoder_inputs = Input(shape=(None,))\n",
        "\n",
        "# 디코더의 임베딩 층\n",
        "dec_emb_layer = Embedding(tar_vocab, embedding_dim)\n",
        "dec_emb = dec_emb_layer(decoder_inputs)\n",
        "\n",
        "# 디코더의 LSTM\n",
        "decoder_lstm = LSTM(hidden_size, return_sequences=True, return_state=True, dropout=0.4, recurrent_dropout=0.2)\n",
        "decoder_outputs, _, _ = decoder_lstm(dec_emb, initial_state=[state_h, state_c])\n",
        "\n",
        "# 어텐션 층(어텐션 함수)\n",
        "attn_layer = AdditiveAttention(name='attention_layer')\n",
        "\n",
        "# 인코더와 디코더의 모든 time step의 hidden state를 어텐션 층에 전달하고 결과를 리턴\n",
        "attn_out = attn_layer([decoder_outputs, encoder_outputs])\n",
        "\n",
        "# 어텐션의 결과와 디코더의 hidden state들을 연결\n",
        "decoder_concat_input = Concatenate(axis=-1, name='concat_layer')([decoder_outputs, attn_out])\n",
        "\n",
        "# 디코더의 출력층\n",
        "decoder_softmax_layer = Dense(tar_vocab, activation='softmax')\n",
        "decoder_softmax_outputs = decoder_softmax_layer(decoder_concat_input)\n",
        "\n",
        "# 모델 정의\n",
        "model = Model([encoder_inputs, decoder_inputs], decoder_softmax_outputs)\n",
        "model.summary()"
      ],
      "metadata": {
        "colab": {
          "base_uri": "https://localhost:8080/"
        },
        "id": "YFwBTTpNosjO",
        "outputId": "64262dd5-6e3e-48ff-ce06-14b440b94d32"
      },
      "execution_count": 45,
      "outputs": [
        {
          "output_type": "stream",
          "name": "stdout",
          "text": [
            "WARNING:tensorflow:Layer lstm_13 will not use cuDNN kernels since it doesn't meet the criteria. It will use a generic GPU kernel as fallback when running on GPU.\n",
            "Model: \"model_4\"\n",
            "__________________________________________________________________________________________________\n",
            " Layer (type)                   Output Shape         Param #     Connected to                     \n",
            "==================================================================================================\n",
            " input_6 (InputLayer)           [(None, 50)]         0           []                               \n",
            "                                                                                                  \n",
            " embedding_5 (Embedding)        (None, 50, 128)      2816000     ['input_6[0][0]']                \n",
            "                                                                                                  \n",
            " lstm_9 (LSTM)                  [(None, 50, 256),    394240      ['embedding_5[0][0]']            \n",
            "                                 (None, 256),                                                     \n",
            "                                 (None, 256)]                                                     \n",
            "                                                                                                  \n",
            " input_8 (InputLayer)           [(None, None)]       0           []                               \n",
            "                                                                                                  \n",
            " lstm_10 (LSTM)                 [(None, 50, 256),    525312      ['lstm_9[0][0]']                 \n",
            "                                 (None, 256),                                                     \n",
            "                                 (None, 256)]                                                     \n",
            "                                                                                                  \n",
            " embedding_7 (Embedding)        (None, None, 128)    1408000     ['input_8[0][0]']                \n",
            "                                                                                                  \n",
            " lstm_11 (LSTM)                 [(None, 50, 256),    525312      ['lstm_10[0][0]']                \n",
            "                                 (None, 256),                                                     \n",
            "                                 (None, 256)]                                                     \n",
            "                                                                                                  \n",
            " lstm_13 (LSTM)                 [(None, None, 256),  394240      ['embedding_7[0][0]',            \n",
            "                                 (None, 256),                     'lstm_11[0][1]',                \n",
            "                                 (None, 256)]                     'lstm_11[0][2]']                \n",
            "                                                                                                  \n",
            " attention_layer (AdditiveAtten  (None, None, 256)   256         ['lstm_13[0][0]',                \n",
            " tion)                                                            'lstm_11[0][0]']                \n",
            "                                                                                                  \n",
            " concat_layer (Concatenate)     (None, None, 512)    0           ['lstm_13[0][0]',                \n",
            "                                                                  'attention_layer[0][0]']        \n",
            "                                                                                                  \n",
            " dense_4 (Dense)                (None, None, 11000)  5643000     ['concat_layer[0][0]']           \n",
            "                                                                                                  \n",
            "==================================================================================================\n",
            "Total params: 11,706,360\n",
            "Trainable params: 11,706,360\n",
            "Non-trainable params: 0\n",
            "__________________________________________________________________________________________________\n"
          ]
        }
      ]
    },
    {
      "cell_type": "markdown",
      "source": [
        "📰 좋습니다. 이제 설계한 모델을 가지고 훈련을 시켜보겠습니다."
      ],
      "metadata": {
        "id": "AqYBh41KmLPM"
      }
    },
    {
      "cell_type": "markdown",
      "source": [
        "### **03-2. 모델 훈련하기**"
      ],
      "metadata": {
        "id": "S7YM8VYWmctc"
      }
    },
    {
      "cell_type": "code",
      "source": [
        "# optimizer는 adam을 사용\n",
        "model.compile(optimizer='adam', loss='sparse_categorical_crossentropy')\n",
        "\n",
        "es = EarlyStopping(monitor='val_loss', patience=2, verbose=1)\n",
        "\n",
        "history = model.fit(x=[encoder_input_train, decoder_input_train], y=decoder_target_train, \\\n",
        "          validation_data=([encoder_input_test, decoder_input_test], decoder_target_test), \\\n",
        "          batch_size=256, callbacks=[es], epochs=50)"
      ],
      "metadata": {
        "colab": {
          "base_uri": "https://localhost:8080/"
        },
        "id": "AWvaptVpmV17",
        "outputId": "344769d0-980e-4d01-ae62-bc22a1a3657f"
      },
      "execution_count": 46,
      "outputs": [
        {
          "output_type": "stream",
          "name": "stdout",
          "text": [
            "Epoch 1/50\n",
            "308/308 [==============================] - 77s 144ms/step - loss: 4.8061 - val_loss: 4.4194\n",
            "Epoch 2/50\n",
            "308/308 [==============================] - 47s 154ms/step - loss: 4.3298 - val_loss: 4.1587\n",
            "Epoch 3/50\n",
            "308/308 [==============================] - 49s 158ms/step - loss: 4.0034 - val_loss: 3.8149\n",
            "Epoch 4/50\n",
            "308/308 [==============================] - 47s 154ms/step - loss: 3.6554 - val_loss: 3.5512\n",
            "Epoch 5/50\n",
            "308/308 [==============================] - 43s 141ms/step - loss: 3.3911 - val_loss: 3.3752\n",
            "Epoch 6/50\n",
            "308/308 [==============================] - 44s 143ms/step - loss: 3.1760 - val_loss: 3.2485\n",
            "Epoch 7/50\n",
            "308/308 [==============================] - 43s 141ms/step - loss: 2.9931 - val_loss: 3.1547\n",
            "Epoch 8/50\n",
            "308/308 [==============================] - 43s 140ms/step - loss: 2.8389 - val_loss: 3.0886\n",
            "Epoch 9/50\n",
            "308/308 [==============================] - 43s 140ms/step - loss: 2.7091 - val_loss: 3.0423\n",
            "Epoch 10/50\n",
            "308/308 [==============================] - 43s 141ms/step - loss: 2.5965 - val_loss: 3.0083\n",
            "Epoch 11/50\n",
            "308/308 [==============================] - 43s 140ms/step - loss: 2.4970 - val_loss: 2.9869\n",
            "Epoch 12/50\n",
            "308/308 [==============================] - 43s 140ms/step - loss: 2.4094 - val_loss: 2.9692\n",
            "Epoch 13/50\n",
            "308/308 [==============================] - 43s 139ms/step - loss: 2.3274 - val_loss: 2.9559\n",
            "Epoch 14/50\n",
            "308/308 [==============================] - 43s 141ms/step - loss: 2.2552 - val_loss: 2.9506\n",
            "Epoch 15/50\n",
            "308/308 [==============================] - 43s 140ms/step - loss: 2.1878 - val_loss: 2.9455\n",
            "Epoch 16/50\n",
            "308/308 [==============================] - 43s 140ms/step - loss: 2.1262 - val_loss: 2.9461\n",
            "Epoch 17/50\n",
            "308/308 [==============================] - 43s 139ms/step - loss: 2.0688 - val_loss: 2.9440\n",
            "Epoch 18/50\n",
            "308/308 [==============================] - 43s 139ms/step - loss: 2.0162 - val_loss: 2.9517\n",
            "Epoch 19/50\n",
            "308/308 [==============================] - 43s 140ms/step - loss: 1.9672 - val_loss: 2.9536\n",
            "Epoch 19: early stopping\n"
          ]
        }
      ]
    },
    {
      "cell_type": "code",
      "source": [
        "# 시각화\n",
        "\n",
        "plt.plot(history.history['loss'], label='train')\n",
        "plt.plot(history.history['val_loss'], label='test')\n",
        "plt.legend()\n",
        "plt.show()"
      ],
      "metadata": {
        "colab": {
          "base_uri": "https://localhost:8080/",
          "height": 265
        },
        "id": "ewtn8nifmYMb",
        "outputId": "22601081-7f77-4021-8e55-4479ae8d9041"
      },
      "execution_count": 47,
      "outputs": [
        {
          "output_type": "display_data",
          "data": {
            "text/plain": [
              "<Figure size 432x288 with 1 Axes>"
            ],
            "image/png": "[encoded data removed]"
          },
          "metadata": {
            "needs_background": "light"
          }
        }
      ]
    },
    {
      "cell_type": "markdown",
      "source": [
        "📰 수렴되는 모양을 보니 잘 학습된 것 같습니다."
      ],
      "metadata": {
        "id": "XkIzpPufZxCx"
      }
    },
    {
      "cell_type": "markdown",
      "source": [
        "---"
      ],
      "metadata": {
        "id": "UmJUsQiGt-8X"
      }
    },
    {
      "cell_type": "markdown",
      "source": [
        "## **04. 인퍼런스 모델 설계**"
      ],
      "metadata": {
        "id": "o-4bxlgEzK0y"
      }
    },
    {
      "cell_type": "code",
      "source": [
        "# 본문 변환\n",
        "src_index_to_word = src_tokenizer.index_word\n",
        "\n",
        "# 헤드라인 변환\n",
        "tar_word_to_index = tar_tokenizer.word_index\n",
        "tar_index_to_word = tar_tokenizer.index_word\n",
        "\n",
        "print('Done!')"
      ],
      "metadata": {
        "colab": {
          "base_uri": "https://localhost:8080/"
        },
        "id": "YNUMnXENzP8w",
        "outputId": "bbfc18e1-e3cd-4912-cf58-8ceef892bd3a"
      },
      "execution_count": 48,
      "outputs": [
        {
          "output_type": "stream",
          "name": "stdout",
          "text": [
            "Done!\n"
          ]
        }
      ]
    },
    {
      "cell_type": "code",
      "source": [
        "# 인코더 설계\n",
        "encoder_model = Model(inputs=encoder_inputs, outputs=[encoder_outputs, state_h, state_c])\n",
        "\n",
        "# 이전 시점의 상태들을 저장하는 텐서\n",
        "decoder_state_input_h = Input(shape=(hidden_size,))\n",
        "decoder_state_input_c = Input(shape=(hidden_size,))\n",
        "\n",
        "dec_emb2 = dec_emb_layer(decoder_inputs)\n",
        "\n",
        "# 문장의 다음 단어를 예측하기 위해서 초기 상태(initial_state)를 이전 시점의 상태로 사용. 이는 뒤의 함수 decode_sequence()에 구현\n",
        "# 훈련 과정에서와 달리 LSTM의 리턴하는 은닉 상태와 셀 상태인 state_h와 state_c를 버리지 않음.\n",
        "decoder_outputs2, state_h2, state_c2 = decoder_lstm(dec_emb2, initial_state=[decoder_state_input_h, decoder_state_input_c])\n",
        "\n",
        "print('Done!')"
      ],
      "metadata": {
        "colab": {
          "base_uri": "https://localhost:8080/"
        },
        "id": "LVl5n0eQzfyz",
        "outputId": "7cbf4a66-8d9a-4f83-b93f-4ced1f6b5c54"
      },
      "execution_count": 49,
      "outputs": [
        {
          "output_type": "stream",
          "name": "stdout",
          "text": [
            "Done!\n"
          ]
        }
      ]
    },
    {
      "cell_type": "code",
      "source": [
        "# 어텐션 함수\n",
        "decoder_hidden_state_input = Input(shape=(text_max_len, hidden_size))\n",
        "attn_out_inf = attn_layer([decoder_outputs2, decoder_hidden_state_input])\n",
        "decoder_inf_concat = Concatenate(axis=-1, name='concat')([decoder_outputs2, attn_out_inf])\n",
        "\n",
        "# 디코더의 출력층\n",
        "decoder_outputs2 = decoder_softmax_layer(decoder_inf_concat) \n",
        "\n",
        "# 최종 디코더 모델\n",
        "decoder_model = Model(\n",
        "    [decoder_inputs] + [decoder_hidden_state_input,decoder_state_input_h, decoder_state_input_c],\n",
        "    [decoder_outputs2] + [state_h2, state_c2])\n",
        "\n",
        "print('Done!')"
      ],
      "metadata": {
        "colab": {
          "base_uri": "https://localhost:8080/"
        },
        "id": "d7lp3uGB4aVD",
        "outputId": "a6372527-181a-45c9-e2c1-fcdc76339a5a"
      },
      "execution_count": 50,
      "outputs": [
        {
          "output_type": "stream",
          "name": "stdout",
          "text": [
            "Done!\n"
          ]
        }
      ]
    },
    {
      "cell_type": "code",
      "source": [
        "def decode_sequence(input_seq):\n",
        "    # 입력으로부터 인코더의 상태를 얻음\n",
        "    e_out, e_h, e_c = encoder_model.predict(input_seq)\n",
        "\n",
        "     # <SOS>에 해당하는 토큰 생성\n",
        "    target_seq = np.zeros((1,1))\n",
        "    target_seq[0, 0] = tar_word_to_index['sostoken']\n",
        "\n",
        "    stop_condition = False\n",
        "    decoded_sentence = ''\n",
        "    while not stop_condition: # stop_condition이 True가 될 때까지 루프 반복\n",
        "\n",
        "        output_tokens, h, c = decoder_model.predict([target_seq] + [e_out, e_h, e_c])\n",
        "        sampled_token_index = np.argmax(output_tokens[0, -1, :])\n",
        "        sampled_token = tar_index_to_word[sampled_token_index]\n",
        "\n",
        "        if (sampled_token!='eostoken'):\n",
        "            decoded_sentence += ' '+sampled_token\n",
        "\n",
        "        #  <eos>에 도달하거나 최대 길이를 넘으면 중단.\n",
        "        if (sampled_token == 'eostoken'  or len(decoded_sentence.split()) >= (headlines_max_len-1)):\n",
        "            stop_condition = True\n",
        "\n",
        "        # 길이가 1인 타겟 시퀀스를 업데이트\n",
        "        target_seq = np.zeros((1,1))\n",
        "        target_seq[0, 0] = sampled_token_index\n",
        "\n",
        "        # 상태를 업데이트 합니다.\n",
        "        e_h, e_c = h, c\n",
        "\n",
        "    return decoded_sentence\n",
        "\n",
        "print('Done!')"
      ],
      "metadata": {
        "colab": {
          "base_uri": "https://localhost:8080/"
        },
        "id": "B6km88cB4ewW",
        "outputId": "ebc598c5-3b68-4b72-9871-5254267a0804"
      },
      "execution_count": 51,
      "outputs": [
        {
          "output_type": "stream",
          "name": "stdout",
          "text": [
            "Done!\n"
          ]
        }
      ]
    },
    {
      "cell_type": "markdown",
      "source": [
        "📰 좋습니다. 이제 모델을 테스트해볼까요?"
      ],
      "metadata": {
        "id": "Ajhk_W3C4ozQ"
      }
    },
    {
      "cell_type": "markdown",
      "source": [
        "---"
      ],
      "metadata": {
        "id": "mAVDPMCa4zBT"
      }
    },
    {
      "cell_type": "markdown",
      "source": [
        "## **05. 모델 테스트**"
      ],
      "metadata": {
        "id": "4P5y__8e42ck"
      }
    },
    {
      "cell_type": "code",
      "source": [
        "# 원문의 정수 시퀀스를 텍스트 시퀀스로 변환\n",
        "def seq2text(input_seq):\n",
        "    temp=''\n",
        "    for i in input_seq:\n",
        "        if (i!=0):\n",
        "            temp = temp + src_index_to_word[i]+' '\n",
        "    return temp\n",
        "\n",
        "# 요약문의 정수 시퀀스를 텍스트 시퀀스로 변환\n",
        "def seq2summary(input_seq):\n",
        "    temp=''\n",
        "    for i in input_seq:\n",
        "        if ((i!=0 and i!=tar_word_to_index['sostoken']) and i!=tar_word_to_index['eostoken']):\n",
        "            temp = temp + tar_index_to_word[i] + ' '\n",
        "    return temp\n",
        "\n",
        "print('Done!')"
      ],
      "metadata": {
        "colab": {
          "base_uri": "https://localhost:8080/"
        },
        "id": "meeyGahb4z5X",
        "outputId": "8af1c3c9-7927-464a-dd12-b9eaeb3a76bf"
      },
      "execution_count": 52,
      "outputs": [
        {
          "output_type": "stream",
          "name": "stdout",
          "text": [
            "Done!\n"
          ]
        }
      ]
    },
    {
      "cell_type": "markdown",
      "source": [
        "📰 20개만 출력해보겠습니다."
      ],
      "metadata": {
        "id": "GfYqJ2dF47cN"
      }
    },
    {
      "cell_type": "code",
      "source": [
        "for i in range(19):\n",
        "    print(\"원문 :\", seq2text(encoder_input_test[i]))\n",
        "    print(\"실제 요약 :\", seq2summary(decoder_input_test[i]))\n",
        "    print(\"예측 요약 :\", decode_sequence(encoder_input_test[i].reshape(1, text_max_len)))\n",
        "    print(\"\\n\")"
      ],
      "metadata": {
        "colab": {
          "base_uri": "https://localhost:8080/"
        },
        "id": "6mayzf0G5AKU",
        "outputId": "18945d36-dc2c-4ce1-8bc3-dda3da9fb989"
      },
      "execution_count": 126,
      "outputs": [
        {
          "output_type": "stream",
          "name": "stdout",
          "text": [
            "원문 : parliamentary standing committee transport tourism culture slammed private airlines passengers committee advised training given airline staff extending behaviour panel also noted airlines create long queues check counters passengers miss flights buy tickets next flight high prices \n",
            "실제 요약 : parliamentary committee slams airlines for rude behaviour \n",
            "예측 요약 :  airlines asked to remove parliamentary panel uniforms\n",
            "\n",
            "\n",
            "원문 : dismissing rumours loans written finance minister arun jaitley said government waived loans big bad loan defaulters said cases instituted time bound recovery largest defaulters added government recognised previously concealed bad loans worth lakh crore scrutiny \n",
            "실제 요약 : loan waiver to is rumour fm arun jaitley \n",
            "예측 요약 :  banks cannot disclose banking sector banks jaitley\n",
            "\n",
            "\n",
            "원문 : government planning link promotions ips officers physical fitness proposal regard circulated states union territories comments currently ips officers promoted based completion required years service proposed system promotions already followed central para military forces \n",
            "실제 요약 : ips officers promotions to be linked to physical fitness \n",
            "예측 요약 :  govt asks govt to educate social media\n",
            "\n",
            "\n",
            "원문 : five militants killed security forces overnight operation shopian district jammu kashmir security forces launched search operation receiving intelligence inputs presence militants area however turned encounter militants fired upon security forces per official \n",
            "실제 요약 : militants killed in in overnight encounter \n",
            "예측 요약 :  terrorists killed in encounter in jammu kashmir\n",
            "\n",
            "\n",
            "원문 : dating app tinder testing feature uses artificial intelligence recommend people date users united states called super feature appear users randomly present four people options users super like one four people tinder presented \n",
            "실제 요약 : tinder tests feature that uses ai to recommend people \n",
            "예측 요약 :  tinder tests feature to let users see their own app\n",
            "\n",
            "\n",
            "원문 : speaking waivers granted india seven countries iranian oil sanctions us president donald trump said looking great hero waivers provided keep global oil prices avoid causing shock market trump added toughest ever us sanctions target iran banking energy sectors \n",
            "실제 요약 : not looking to be hero trump on waivers to india others \n",
            "예측 요약 :  india will not be import of indian oil oil minister\n",
            "\n",
            "\n",
            "원문 : filmmaker karan johar said women wear salwar kameez men wear loose clothes hide extra weight talking time used overweight added used camouflage extra black clothes johar said used feel terrible people told put weight \n",
            "실제 요약 : women wear to hide extra weight karan johar \n",
            "예측 요약 :  am wearing clothes and clothes karan on paparazzi\n",
            "\n",
            "\n",
            "원문 : pm narendra modi met google ceo sundar pichai apple ceo tim cook amazon ceo jeff bezos leaders top american companies us sunday growth india presents win win partnership india us said modi ceos added believes gst could subject studies us business schools \n",
            "실제 요약 : pm modi meets google apple and amazon ceos in the us \n",
            "예측 요약 :  pm modi sundar pichai to visit india in world\n",
            "\n",
            "\n",
            "원문 : japanese company created gadget called body checks users body odour test smells near head behind ears around feet rate three levels severity example detecting high readings smells gadget connected smartphone app would display immediately care needed \n",
            "실제 요약 : company makes gadget to tell users if they smell bad \n",
            "예측 요약 :  new york firm makes people that can detect heart heart\n",
            "\n",
            "\n",
            "원문 : swiss tennis star roger federer appear episode british survival expert bear survival show created man vs wild survival show shot episode time grand slam champion swiss alps trailer episode featuring federer shows eating dead fish \n",
            "실제 요약 : federer to appear on survival show alongside man vs wild host \n",
            "예측 요약 :  roger federer takes dig at night\n",
            "\n",
            "\n",
            "원문 : former cricketer ravi shastri reportedly said apply post indian cricket team head coach guaranteed selection comes shastri underwent selection process last year get job bcci invited applications coach post anil kumble refused extend tenure \n",
            "실제 요약 : shastri to apply for coach only if post reports \n",
            "예측 요약 :  ganguly not to play india coach if he is not fit ganguly\n",
            "\n",
            "\n",
            "원문 : india cricket world cup winning captain kapil dev selected national golf team take part asia pacific senior amateur championship held october japan year old qualified finishing third india seniors golf championship held noida earlier july \n",
            "실제 요약 : kapil dev selected in indian golf team for tournament in japan \n",
            "예측 요약 :  kapil dev to be india st indian in dubai\n",
            "\n",
            "\n",
            "원문 : talking character upcoming film student year tiger shroff said trying something else getting bullied beaten tiger called complete contrast upcoming action film baaghi added choose break action hero \n",
            "실제 요약 : my character in student of the year gets bullied tiger \n",
            "예측 요약 :  tiger is silly tiger on tiger shroff baaghi\n",
            "\n",
            "\n",
            "원문 : delhi police said aap applied permission protest march prime minister residence adding trying hold march detained meanwhile aap leaders said people stopped participating march seeking directive ias officers alleged strike approval doorstep ration delivery scheme \n",
            "실제 요약 : aap did not ask for permission to march to pm house police \n",
            "예측 요약 :  aap mlas protest against aap over farmers protest\n",
            "\n",
            "\n",
            "원문 : actor akshay kumar revealed changed name rajiv bhatia first film aaj lead actor kumar gaurav character named akshay would observe gaurav acting know happened one day went court got name changed said akshay \n",
            "실제 요약 : akshay reveals why he gave up his original name rajiv \n",
            "예측 요약 :  akshay kumar to star in housefull in housefull report\n",
            "\n",
            "\n",
            "원문 : fire broke monday camp akhada kumbh mela uttar pradesh reportedly gas cylinder exploded casualties injuries reported however several tents gutted fire crore people expected attend kumbh mela prayagraj begins january \n",
            "실제 요약 : fire breaks out at camp day before kumbh mela in up \n",
            "예측 요약 :  fire breaks out in up in bihar\n",
            "\n",
            "\n",
            "원문 : ex india captain kapil dev said first saw india fast bowler jasprit bumrah thought would last long international cricket kind action bumrah proved wrong hats really compliment show australia mindset must strong added \n",
            "실제 요약 : thought bumrah would not last for long he proved me wrong kapil \n",
            "예측 요약 :  have not going to be bit of the middle finger kapil\n",
            "\n",
            "\n",
            "원문 : three jawans india border security force captured bangladesh army inadvertently entered territory adding border india bangladesh clear reports said soldiers crossed border due thick fog area jawans handed back india flag meeting \n",
            "실제 요약 : indian jawans captured by bangladesh after crossing border \n",
            "예측 요약 :  army personnel martyred in ceasefire violation by\n",
            "\n",
            "\n",
            "원문 : american pastor andrew brunson arrived country following release captivity turkey us president donald trump said looks forward improved us turkish relations us august imposed fresh sanctions turkey brunson imprisonment brunson accused part failed coup attempt president recep erdo two years ago \n",
            "실제 요약 : expect improved turkey relations after pastor release trump \n",
            "예측 요약 :  us prez trump calls for trump decision\n",
            "\n",
            "\n"
          ]
        }
      ]
    },
    {
      "cell_type": "markdown",
      "source": [
        "📰 나름 괜찮게 요약된 것도 있고... 아닌 것도 꽤 보입니다.\n",
        "\n",
        "아무래도 추상적 요약은 아직 조금 성능이 부족한 것 같습니다.\n",
        "\n",
        "개선 방법은 여러 가지가 있겠지만, 일단 이번엔 다른 방식을 써보도록 하겠습니다."
      ],
      "metadata": {
        "id": "Xf7xr0vL5D9i"
      }
    },
    {
      "cell_type": "markdown",
      "source": [
        "---"
      ],
      "metadata": {
        "id": "okCs0ZAI5sdf"
      }
    },
    {
      "cell_type": "markdown",
      "source": [
        "## **06. 추출적 요약하기**"
      ],
      "metadata": {
        "id": "p7Q0bb356GTD"
      }
    },
    {
      "cell_type": "code",
      "source": [
        "import requests\n",
        "from summa.summarizer import summarize as sm\n",
        "\n",
        "print('Done!')"
      ],
      "metadata": {
        "colab": {
          "base_uri": "https://localhost:8080/"
        },
        "id": "UfLwvKnw6I2K",
        "outputId": "1d4df5ce-223e-4890-ffa8-3b6323b44c62"
      },
      "execution_count": 70,
      "outputs": [
        {
          "output_type": "stream",
          "name": "stdout",
          "text": [
            "Done!\n"
          ]
        }
      ]
    },
    {
      "cell_type": "code",
      "source": [
        "# summa는 알아서 토크나이징을 합니다.\n",
        "# 그러니까 본문만 넣어주면 되겠죠.\n",
        "# 샘플 20개를 뽑아서 해봅시다.\n",
        "\n",
        "data2 = pd.read_csv('news_summary_more.csv', encoding='iso-8859-1')\n",
        "samples = data2.sample(20, ignore_index=True)\n",
        "\n",
        "print(samples.shape)\n",
        "samples.head()"
      ],
      "metadata": {
        "colab": {
          "base_uri": "https://localhost:8080/",
          "height": 224
        },
        "id": "2ewOaL0J6k6u",
        "outputId": "214d0fa1-ba95-41ef-b2a2-aa67d2db13a2"
      },
      "execution_count": 128,
      "outputs": [
        {
          "output_type": "stream",
          "name": "stdout",
          "text": [
            "(20, 2)\n"
          ]
        },
        {
          "output_type": "execute_result",
          "data": {
            "text/plain": [
              "                                           headlines  \\\n",
              "0  'Iceball' planet discovered using host star's ...   \n",
              "1  Video: SUV tossed in air after pipeline bursts...   \n",
              "2  Congress objection to Protem Speaker is hoax: ...   \n",
              "3  Railways earned Ã¢ÂÂ¹540 crore through flexi ...   \n",
              "4  Osama bin Laden's son marries daughter of lead...   \n",
              "\n",
              "                                                text  \n",
              "0  Scientists have discovered an 'iceball' planet...  \n",
              "1  A video showing an SUV being tossed in the air...  \n",
              "2  After the Congress questioned the appointment ...  \n",
              "3  Indian Railways has earned an additional reven...  \n",
              "4  The son of Osama bin Laden, Hamza, has married...  "
            ],
            "text/html": [
              "\n",
              "  <div id=\"df-2688b281-a90b-4317-9048-b54af0ad342a\">\n",
              "    <div class=\"colab-df-container\">\n",
              "      <div>\n",
              "<style scoped>\n",
              "    .dataframe tbody tr th:only-of-type {\n",
              "        vertical-align: middle;\n",
              "    }\n",
              "\n",
              "    .dataframe tbody tr th {\n",
              "        vertical-align: top;\n",
              "    }\n",
              "\n",
              "    .dataframe thead th {\n",
              "        text-align: right;\n",
              "    }\n",
              "</style>\n",
              "<table border=\"1\" class=\"dataframe\">\n",
              "  <thead>\n",
              "    <tr style=\"text-align: right;\">\n",
              "      <th></th>\n",
              "      <th>headlines</th>\n",
              "      <th>text</th>\n",
              "    </tr>\n",
              "  </thead>\n",
              "  <tbody>\n",
              "    <tr>\n",
              "      <th>0</th>\n",
              "      <td>'Iceball' planet discovered using host star's ...</td>\n",
              "      <td>Scientists have discovered an 'iceball' planet...</td>\n",
              "    </tr>\n",
              "    <tr>\n",
              "      <th>1</th>\n",
              "      <td>Video: SUV tossed in air after pipeline bursts...</td>\n",
              "      <td>A video showing an SUV being tossed in the air...</td>\n",
              "    </tr>\n",
              "    <tr>\n",
              "      <th>2</th>\n",
              "      <td>Congress objection to Protem Speaker is hoax: ...</td>\n",
              "      <td>After the Congress questioned the appointment ...</td>\n",
              "    </tr>\n",
              "    <tr>\n",
              "      <th>3</th>\n",
              "      <td>Railways earned Ã¢ÂÂ¹540 crore through flexi ...</td>\n",
              "      <td>Indian Railways has earned an additional reven...</td>\n",
              "    </tr>\n",
              "    <tr>\n",
              "      <th>4</th>\n",
              "      <td>Osama bin Laden's son marries daughter of lead...</td>\n",
              "      <td>The son of Osama bin Laden, Hamza, has married...</td>\n",
              "    </tr>\n",
              "  </tbody>\n",
              "</table>\n",
              "</div>\n",
              "      <button class=\"colab-df-convert\" onclick=\"convertToInteractive('df-2688b281-a90b-4317-9048-b54af0ad342a')\"\n",
              "              title=\"Convert this dataframe to an interactive table.\"\n",
              "              style=\"display:none;\">\n",
              "        \n",
              "  <svg xmlns=\"http://www.w3.org/2000/svg\" height=\"24px\"viewBox=\"0 0 24 24\"\n",
              "       width=\"24px\">\n",
              "    <path d=\"M0 0h24v24H0V0z\" fill=\"none\"/>\n",
              "    <path d=\"M18.56 5.44l.94 2.06.94-2.06 2.06-.94-2.06-.94-.94-2.06-.94 2.06-2.06.94zm-11 1L8.5 8.5l.94-2.06 2.06-.94-2.06-.94L8.5 2.5l-.94 2.06-2.06.94zm10 10l.94 2.06.94-2.06 2.06-.94-2.06-.94-.94-2.06-.94 2.06-2.06.94z\"/><path d=\"M17.41 7.96l-1.37-1.37c-.4-.4-.92-.59-1.43-.59-.52 0-1.04.2-1.43.59L10.3 9.45l-7.72 7.72c-.78.78-.78 2.05 0 2.83L4 21.41c.39.39.9.59 1.41.59.51 0 1.02-.2 1.41-.59l7.78-7.78 2.81-2.81c.8-.78.8-2.07 0-2.86zM5.41 20L4 18.59l7.72-7.72 1.47 1.35L5.41 20z\"/>\n",
              "  </svg>\n",
              "      </button>\n",
              "      \n",
              "  <style>\n",
              "    .colab-df-container {\n",
              "      display:flex;\n",
              "      flex-wrap:wrap;\n",
              "      gap: 12px;\n",
              "    }\n",
              "\n",
              "    .colab-df-convert {\n",
              "      background-color: #E8F0FE;\n",
              "      border: none;\n",
              "      border-radius: 50%;\n",
              "      cursor: pointer;\n",
              "      display: none;\n",
              "      fill: #1967D2;\n",
              "      height: 32px;\n",
              "      padding: 0 0 0 0;\n",
              "      width: 32px;\n",
              "    }\n",
              "\n",
              "    .colab-df-convert:hover {\n",
              "      background-color: #E2EBFA;\n",
              "      box-shadow: 0px 1px 2px rgba(60, 64, 67, 0.3), 0px 1px 3px 1px rgba(60, 64, 67, 0.15);\n",
              "      fill: #174EA6;\n",
              "    }\n",
              "\n",
              "    [theme=dark] .colab-df-convert {\n",
              "      background-color: #3B4455;\n",
              "      fill: #D2E3FC;\n",
              "    }\n",
              "\n",
              "    [theme=dark] .colab-df-convert:hover {\n",
              "      background-color: #434B5C;\n",
              "      box-shadow: 0px 1px 3px 1px rgba(0, 0, 0, 0.15);\n",
              "      filter: drop-shadow(0px 1px 2px rgba(0, 0, 0, 0.3));\n",
              "      fill: #FFFFFF;\n",
              "    }\n",
              "  </style>\n",
              "\n",
              "      <script>\n",
              "        const buttonEl =\n",
              "          document.querySelector('#df-2688b281-a90b-4317-9048-b54af0ad342a button.colab-df-convert');\n",
              "        buttonEl.style.display =\n",
              "          google.colab.kernel.accessAllowed ? 'block' : 'none';\n",
              "\n",
              "        async function convertToInteractive(key) {\n",
              "          const element = document.querySelector('#df-2688b281-a90b-4317-9048-b54af0ad342a');\n",
              "          const dataTable =\n",
              "            await google.colab.kernel.invokeFunction('convertToInteractive',\n",
              "                                                     [key], {});\n",
              "          if (!dataTable) return;\n",
              "\n",
              "          const docLinkHtml = 'Like what you see? Visit the ' +\n",
              "            '<a target=\"_blank\" href=https://colab.research.google.com/notebooks/data_table.ipynb>data table notebook</a>'\n",
              "            + ' to learn more about interactive tables.';\n",
              "          element.innerHTML = '';\n",
              "          dataTable['output_type'] = 'display_data';\n",
              "          await google.colab.output.renderOutput(dataTable, element);\n",
              "          const docLink = document.createElement('div');\n",
              "          docLink.innerHTML = docLinkHtml;\n",
              "          element.appendChild(docLink);\n",
              "        }\n",
              "      </script>\n",
              "    </div>\n",
              "  </div>\n",
              "  "
            ]
          },
          "metadata": {},
          "execution_count": 128
        }
      ]
    },
    {
      "cell_type": "code",
      "source": [
        "# 요약해봅시다.\n",
        "\n",
        "for i in range(19):\n",
        "    print('원문: ', samples['text'][i])\n",
        "    print('헤드라인: ', samples['headlines'][i])\n",
        "    print('요약 결과: ', sm(samples['text'][i], ratio=0.2))\n",
        "    print('')"
      ],
      "metadata": {
        "colab": {
          "base_uri": "https://localhost:8080/"
        },
        "id": "GBlNECvwBPI8",
        "outputId": "bae44411-66d3-4c76-d116-91f008c0d10c"
      },
      "execution_count": 130,
      "outputs": [
        {
          "output_type": "stream",
          "name": "stdout",
          "text": [
            "원문:  Scientists have discovered an 'iceball' planet, called so because of its star faintness, making it cold and uninhabitable. NASA's Spitzer Space Telescope made the discovery by planet transit method and microlensing. Microlensing uses the host star's gravity to focus background star's light and make it look brighter. A planet is then detected by measuring blips in the background star's brightness.\n",
            "헤드라인:  'Iceball' planet discovered using host star's gravity\n",
            "요약 결과:  \n",
            "\n",
            "원문:  A video showing an SUV being tossed in the air after a pipeline burst in Mumbai's Borivali has surfaced online. Three other vehicles were damaged and over 35,000 litres of water was wasted after the 72-inch pipeline burst on Tuesday night, according to reports. The Brihanmumbai Municipal Corporation has begun repair work on the pipeline.\n",
            "헤드라인:  Video: SUV tossed in air after pipeline bursts in Mumbai\n",
            "요약 결과:  \n",
            "\n",
            "원문:  After the Congress questioned the appointment of BJP MLA KG Bopaiah as the Protem Speaker in Karnataka Assembly by Governor Vajubhai Vala, Union Minister Prakash Javadekar said, \"Congress is raising hoax objection.\" \"Bopaiah was appointed as Protem Speaker even in 2008 by the then Governor. That time Bopaiah was 10 years younger than what he is today,\" he added.\n",
            "헤드라인:  Congress objection to Protem Speaker is hoax: Union Minister\n",
            "요약 결과:  \n",
            "\n",
            "원문:  Indian Railways has earned an additional revenue of Ã¢ÂÂ¹540 crore in less than a year through the flexi fare scheme. The scheme, applicable in Rajdhani, Shatabdi, and Duronto, was launched in September 2016, in which fare increases by 10% for every 10% seats sold. An official said that 85,000 additional passengers were added and there is no plan to discontinue.\n",
            "헤드라인:  Railways earned Ã¢ÂÂ¹540 crore through flexi fare scheme\n",
            "요약 결과:  \n",
            "\n",
            "원문:  The son of Osama bin Laden, Hamza, has married the daughter of Mohammed Atta, the lead hijacker in the 9/11 terror attacks, according to the bin Laden family. Hamza was reportedly groomed by the late al-Qaeda leader to replace him. He is seen as a deputy to the terrorist group's current leader, Ayman al-Zawahiri.\n",
            "헤드라인:  Osama bin Laden's son marries daughter of lead 9/11 hijacker\n",
            "요약 결과:  \n",
            "\n",
            "원문:  Madhya Pradesh BJP chief Nandkumar Singh Chauhan has claimed Pakistan-backed militants raped the 8-year-old victim in J&K's Kathua. \"They have a motive to instigate communal sentiments and provoke Hindus and Muslims against each other,\" Chauhan added. He said, \"If 'Jai Shri Ram' slogans are raised in Kashmir after the rape of...daughter of Hindustan, then it must be Pakistani agents\".\n",
            "헤드라인:  Pak-backed militants raped 8-yr-old in Kathua: MP BJP chief\n",
            "요약 결과:  \n",
            "\n",
            "원문:  The twin nephews of Bajaj Auto's Chairman Rahul Bajaj, Anurang Jain and Tarang Jain, have both become billionaires with a net worth of $1.1 billion each. Anurang Jain's fortune soared 74% since his company Endurance Technologies' October IPO, while Tarang's fortune is based on the valuation of closely held Varroc Group. Both companies count Bajaj Auto as their biggest customer.\n",
            "헤드라인:  Bajaj Auto Chairman's twin nephews become billionaires\n",
            "요약 결과:  \n",
            "\n",
            "원문:  Former captain Mahendra Singh Dhoni, who led India to 27 victories in 60 Test matches, is the most successful Indian Test captain. Dhoni is followed by former captain Sourav Ganguly, who led India to 21 Test wins in 49 matches. The 36-year-old, who retired from Tests on December 30, 2014, played 90 Tests, scoring 4,876 runs and effecting 294 dismissals.\n",
            "헤드라인:  No captain has led India to more Test wins than MS Dhoni\n",
            "요약 결과:  \n",
            "\n",
            "원문:  Real Madrid extended their winless run to five matches with their 1-2 defeat to Levante in the La Liga on Saturday. Real Madrid, who scored a goal for the first time after four matches across all competitions, remain fifth in La Liga, three points behind leaders AlavÃÂ©s and a point behind Barcelona, who are yet to play their ninth match.\n",
            "헤드라인:  Real Madrid end goalless run, extend winless run to 5 games\n",
            "요약 결과:  \n",
            "\n",
            "원문:  Over the issue of dealing with 'Fake News', US President Donald Trump on Saturday said, \"Censorship is a very dangerous thing and absolutely impossible to police.\" He further accused social media platforms of discriminating against users with right-wing views. \"Let everybody participate, good and bad, and we will all just have to figure it out,\" he wrote on Twitter.\n",
            "헤드라인:  Censorship is dangerous: Trump on dealing with 'Fake News'\n",
            "요약 결과:  \n",
            "\n",
            "원문:  South Korean cryptocurrency exchange Youbit has announced that it is shutting down and is filing for bankruptcy after it was hacked for the second time this year. The exchange announced that it had been hacked on Tuesday, causing a loss worth 17% of its total assets.nIt was hacked once before in April when reportedly around 4,000 Bitcoins were stolen. \n",
            "헤드라인:  Korean cryptocurrency exchange to close after second hack\n",
            "요약 결과:  \n",
            "\n",
            "원문:  Supreme Court judge Kurian Joseph said no government ever sent back a Collegium recommendation before and called for a detailed discussion on the Centre returning Uttarakhand Chief Justice KM Joseph's name. \"Things that shouldn't have happened had happened...that is the general feeling,\" he added. He was among the four judges who held a press conference against Chief Justice Dipak Misra.\n",
            "헤드라인:  No govt ever sent back a Collegium recommendation: SC judge\n",
            "요약 결과:  \n",
            "\n",
            "원문:  Former editor MJ Akbar has resigned from his post of Minister of State for External Affairs amid sexual harassment allegations against him by over sixteen female journalists. Calling the allegations false, Akbar in a statement said, \"Since I have decided to seek justice in a court of law in my personal capacity, I deem it appropriate to step down.\"\n",
            "헤드라인:  Union Minister MJ Akbar resigns amid sexual harassment allegations\n",
            "요약 결과:  \n",
            "\n",
            "원문:  The eighth season of the HBO series 'Game of Thrones', which will be the final season for the fantasy show, will air in 2019. As per HBO's official announcement, the eighth season will consist of six episodes, which will be directed by David Nutter, Miguel Sapochnik, David Benioff and DB Weiss. \n",
            "헤드라인:  Final season of 'Game of Thrones' to air in 2019\n",
            "요약 결과:  \n",
            "\n",
            "원문:  Air India Chairman Ashwani Lohani in a letter to employees, said the corporate culture that comes with a new owner will help Air India compete globally. \"The wonderful team of Air Indians, especially the licensed personnel should therefore have nothing to be sceptical about,\" he added. Notably, an employees' union staged a protest at Delhi Airport on the same day.\n",
            "헤드라인:  New corporate culture will be good for Air India: Chairman\n",
            "요약 결과:  \n",
            "\n",
            "원문:  Actor Shah Rukh Khan, during his first TED Talk at Vancouver, revealed he thought that gay was a sophisticated English word for happy, and lesbian was Portugal's capital. Shah Rukh said this while speaking about his life in his twenties. \"I thought...you married the first girl you dated. Science was simple...Apple was still just a fruit,\" added Shah Rukh. \n",
            "헤드라인:  Thought gay meant happy, lesbian was Portugal's capital: SRK\n",
            "요약 결과:  \n",
            "\n",
            "원문:  Elephants broke into a shop in Sonitpur, Assam and consumed nearly Ã¢ÂÂ¹26,000 in Ã¢ÂÂ¹2,000 and Ã¢ÂÂ¹500 denominations on Monday, shopowner Rajendra Duggal claimed. There was Ã¢ÂÂ¹40,000 in the cash box but the elephants did not consume the Ã¢ÂÂ¹50 and Ã¢ÂÂ¹10 notes, Duggal added. \"Besides damaging two houses and the shop, the elephants ingested some cash,\" a forest officer said. \n",
            "헤드라인:  Elephants break into Assam shop, consume notes worth Ã¢ÂÂ¹26,000\n",
            "요약 결과:  \n",
            "\n",
            "원문:  FIFA President Gianni Infantino said, \"India is a football country now\", after arriving in Kolkata to chair the FIFA Council meeting and attend the Under-17 World Cup final. On being asked about the successful organisation of the FIFA U-17 World Cup, Infantino said, \"Thank you very much all the Indians. That's most important. It's a great pleasure to be here.\"\n",
            "헤드라인:  India is a football country now: FIFA President\n",
            "요약 결과:  \n",
            "\n",
            "원문:  Actress Katrina Kaif took to social media to share a picture with Tibetan spiritual leader, the 14th Dalai Lama, on the occasion of his 82nd birthday on Thursday. She also shared a quote by him alongside the picture. \"Only love and immense respect for His Holiness on his birthday,\" read a part of Katrina's caption.\n",
            "헤드라인:  Katrina shares pic with Dalai Lama on his 82nd birthday\n",
            "요약 결과:  \n",
            "\n"
          ]
        }
      ]
    },
    {
      "cell_type": "markdown",
      "source": [
        "📰 음? 빈 문장이 나오는군요.\n",
        "\n",
        "ratio 설정의 문제일까요?"
      ],
      "metadata": {
        "id": "zmqkBu5u7xFg"
      }
    },
    {
      "cell_type": "code",
      "source": [
        "for i in range(19):\n",
        "    print('원문: ', samples['text'][i])\n",
        "    print('헤드라인: ', samples['headlines'][i])\n",
        "    print('요약 결과: ', sm(samples['text'][i], ratio=0.4))\n",
        "    print('')"
      ],
      "metadata": {
        "colab": {
          "base_uri": "https://localhost:8080/"
        },
        "id": "eE9G65i18ZyE",
        "outputId": "3f321070-d6ec-4c84-c041-2d8ce6e1863d"
      },
      "execution_count": 131,
      "outputs": [
        {
          "output_type": "stream",
          "name": "stdout",
          "text": [
            "원문:  Scientists have discovered an 'iceball' planet, called so because of its star faintness, making it cold and uninhabitable. NASA's Spitzer Space Telescope made the discovery by planet transit method and microlensing. Microlensing uses the host star's gravity to focus background star's light and make it look brighter. A planet is then detected by measuring blips in the background star's brightness.\n",
            "헤드라인:  'Iceball' planet discovered using host star's gravity\n",
            "요약 결과:  A planet is then detected by measuring blips in the background star's brightness.\n",
            "\n",
            "원문:  A video showing an SUV being tossed in the air after a pipeline burst in Mumbai's Borivali has surfaced online. Three other vehicles were damaged and over 35,000 litres of water was wasted after the 72-inch pipeline burst on Tuesday night, according to reports. The Brihanmumbai Municipal Corporation has begun repair work on the pipeline.\n",
            "헤드라인:  Video: SUV tossed in air after pipeline bursts in Mumbai\n",
            "요약 결과:  A video showing an SUV being tossed in the air after a pipeline burst in Mumbai's Borivali has surfaced online.\n",
            "\n",
            "원문:  After the Congress questioned the appointment of BJP MLA KG Bopaiah as the Protem Speaker in Karnataka Assembly by Governor Vajubhai Vala, Union Minister Prakash Javadekar said, \"Congress is raising hoax objection.\" \"Bopaiah was appointed as Protem Speaker even in 2008 by the then Governor. That time Bopaiah was 10 years younger than what he is today,\" he added.\n",
            "헤드라인:  Congress objection to Protem Speaker is hoax: Union Minister\n",
            "요약 결과:  \n",
            "\n",
            "원문:  Indian Railways has earned an additional revenue of Ã¢ÂÂ¹540 crore in less than a year through the flexi fare scheme. The scheme, applicable in Rajdhani, Shatabdi, and Duronto, was launched in September 2016, in which fare increases by 10% for every 10% seats sold. An official said that 85,000 additional passengers were added and there is no plan to discontinue.\n",
            "헤드라인:  Railways earned Ã¢ÂÂ¹540 crore through flexi fare scheme\n",
            "요약 결과:  Indian Railways has earned an additional revenue of Ã¢ÂÂ¹540 crore in less than a year through the flexi fare scheme.\n",
            "\n",
            "원문:  The son of Osama bin Laden, Hamza, has married the daughter of Mohammed Atta, the lead hijacker in the 9/11 terror attacks, according to the bin Laden family. Hamza was reportedly groomed by the late al-Qaeda leader to replace him. He is seen as a deputy to the terrorist group's current leader, Ayman al-Zawahiri.\n",
            "헤드라인:  Osama bin Laden's son marries daughter of lead 9/11 hijacker\n",
            "요약 결과:  Hamza was reportedly groomed by the late al-Qaeda leader to replace him.\n",
            "\n",
            "원문:  Madhya Pradesh BJP chief Nandkumar Singh Chauhan has claimed Pakistan-backed militants raped the 8-year-old victim in J&K's Kathua. \"They have a motive to instigate communal sentiments and provoke Hindus and Muslims against each other,\" Chauhan added. He said, \"If 'Jai Shri Ram' slogans are raised in Kashmir after the rape of...daughter of Hindustan, then it must be Pakistani agents\".\n",
            "헤드라인:  Pak-backed militants raped 8-yr-old in Kathua: MP BJP chief\n",
            "요약 결과:  Madhya Pradesh BJP chief Nandkumar Singh Chauhan has claimed Pakistan-backed militants raped the 8-year-old victim in J&K's Kathua.\n",
            "\n",
            "원문:  The twin nephews of Bajaj Auto's Chairman Rahul Bajaj, Anurang Jain and Tarang Jain, have both become billionaires with a net worth of $1.1 billion each. Anurang Jain's fortune soared 74% since his company Endurance Technologies' October IPO, while Tarang's fortune is based on the valuation of closely held Varroc Group. Both companies count Bajaj Auto as their biggest customer.\n",
            "헤드라인:  Bajaj Auto Chairman's twin nephews become billionaires\n",
            "요약 결과:  The twin nephews of Bajaj Auto's Chairman Rahul Bajaj, Anurang Jain and Tarang Jain, have both become billionaires with a net worth of $1.1 billion each.\n",
            "\n",
            "원문:  Former captain Mahendra Singh Dhoni, who led India to 27 victories in 60 Test matches, is the most successful Indian Test captain. Dhoni is followed by former captain Sourav Ganguly, who led India to 21 Test wins in 49 matches. The 36-year-old, who retired from Tests on December 30, 2014, played 90 Tests, scoring 4,876 runs and effecting 294 dismissals.\n",
            "헤드라인:  No captain has led India to more Test wins than MS Dhoni\n",
            "요약 결과:  Dhoni is followed by former captain Sourav Ganguly, who led India to 21 Test wins in 49 matches.\n",
            "\n",
            "원문:  Real Madrid extended their winless run to five matches with their 1-2 defeat to Levante in the La Liga on Saturday. Real Madrid, who scored a goal for the first time after four matches across all competitions, remain fifth in La Liga, three points behind leaders AlavÃÂ©s and a point behind Barcelona, who are yet to play their ninth match.\n",
            "헤드라인:  Real Madrid end goalless run, extend winless run to 5 games\n",
            "요약 결과:  \n",
            "\n",
            "원문:  Over the issue of dealing with 'Fake News', US President Donald Trump on Saturday said, \"Censorship is a very dangerous thing and absolutely impossible to police.\" He further accused social media platforms of discriminating against users with right-wing views. \"Let everybody participate, good and bad, and we will all just have to figure it out,\" he wrote on Twitter.\n",
            "헤드라인:  Censorship is dangerous: Trump on dealing with 'Fake News'\n",
            "요약 결과:  \n",
            "\n",
            "원문:  South Korean cryptocurrency exchange Youbit has announced that it is shutting down and is filing for bankruptcy after it was hacked for the second time this year. The exchange announced that it had been hacked on Tuesday, causing a loss worth 17% of its total assets.nIt was hacked once before in April when reportedly around 4,000 Bitcoins were stolen. \n",
            "헤드라인:  Korean cryptocurrency exchange to close after second hack\n",
            "요약 결과:  \n",
            "\n",
            "원문:  Supreme Court judge Kurian Joseph said no government ever sent back a Collegium recommendation before and called for a detailed discussion on the Centre returning Uttarakhand Chief Justice KM Joseph's name. \"Things that shouldn't have happened had happened...that is the general feeling,\" he added. He was among the four judges who held a press conference against Chief Justice Dipak Misra.\n",
            "헤드라인:  No govt ever sent back a Collegium recommendation: SC judge\n",
            "요약 결과:  Supreme Court judge Kurian Joseph said no government ever sent back a Collegium recommendation before and called for a detailed discussion on the Centre returning Uttarakhand Chief Justice KM Joseph's name.\n",
            "\n",
            "원문:  Former editor MJ Akbar has resigned from his post of Minister of State for External Affairs amid sexual harassment allegations against him by over sixteen female journalists. Calling the allegations false, Akbar in a statement said, \"Since I have decided to seek justice in a court of law in my personal capacity, I deem it appropriate to step down.\"\n",
            "헤드라인:  Union Minister MJ Akbar resigns amid sexual harassment allegations\n",
            "요약 결과:  \n",
            "\n",
            "원문:  The eighth season of the HBO series 'Game of Thrones', which will be the final season for the fantasy show, will air in 2019. As per HBO's official announcement, the eighth season will consist of six episodes, which will be directed by David Nutter, Miguel Sapochnik, David Benioff and DB Weiss. \n",
            "헤드라인:  Final season of 'Game of Thrones' to air in 2019\n",
            "요약 결과:  \n",
            "\n",
            "원문:  Air India Chairman Ashwani Lohani in a letter to employees, said the corporate culture that comes with a new owner will help Air India compete globally. \"The wonderful team of Air Indians, especially the licensed personnel should therefore have nothing to be sceptical about,\" he added. Notably, an employees' union staged a protest at Delhi Airport on the same day.\n",
            "헤드라인:  New corporate culture will be good for Air India: Chairman\n",
            "요약 결과:  Air India Chairman Ashwani Lohani in a letter to employees, said the corporate culture that comes with a new owner will help Air India compete globally.\n",
            "\n",
            "원문:  Actor Shah Rukh Khan, during his first TED Talk at Vancouver, revealed he thought that gay was a sophisticated English word for happy, and lesbian was Portugal's capital. Shah Rukh said this while speaking about his life in his twenties. \"I thought...you married the first girl you dated. Science was simple...Apple was still just a fruit,\" added Shah Rukh. \n",
            "헤드라인:  Thought gay meant happy, lesbian was Portugal's capital: SRK\n",
            "요약 결과:  Actor Shah Rukh Khan, during his first TED Talk at Vancouver, revealed he thought that gay was a sophisticated English word for happy, and lesbian was Portugal's capital.\n",
            "\n",
            "원문:  Elephants broke into a shop in Sonitpur, Assam and consumed nearly Ã¢ÂÂ¹26,000 in Ã¢ÂÂ¹2,000 and Ã¢ÂÂ¹500 denominations on Monday, shopowner Rajendra Duggal claimed. There was Ã¢ÂÂ¹40,000 in the cash box but the elephants did not consume the Ã¢ÂÂ¹50 and Ã¢ÂÂ¹10 notes, Duggal added. \"Besides damaging two houses and the shop, the elephants ingested some cash,\" a forest officer said. \n",
            "헤드라인:  Elephants break into Assam shop, consume notes worth Ã¢ÂÂ¹26,000\n",
            "요약 결과:  There was Ã¢ÂÂ¹40,000 in the cash box but the elephants did not consume the Ã¢ÂÂ¹50 and Ã¢ÂÂ¹10 notes, Duggal added.\n",
            "\n",
            "원문:  FIFA President Gianni Infantino said, \"India is a football country now\", after arriving in Kolkata to chair the FIFA Council meeting and attend the Under-17 World Cup final. On being asked about the successful organisation of the FIFA U-17 World Cup, Infantino said, \"Thank you very much all the Indians. That's most important. It's a great pleasure to be here.\"\n",
            "헤드라인:  India is a football country now: FIFA President\n",
            "요약 결과:  FIFA President Gianni Infantino said, \"India is a football country now\", after arriving in Kolkata to chair the FIFA Council meeting and attend the Under-17 World Cup final.\n",
            "\n",
            "원문:  Actress Katrina Kaif took to social media to share a picture with Tibetan spiritual leader, the 14th Dalai Lama, on the occasion of his 82nd birthday on Thursday. She also shared a quote by him alongside the picture. \"Only love and immense respect for His Holiness on his birthday,\" read a part of Katrina's caption.\n",
            "헤드라인:  Katrina shares pic with Dalai Lama on his 82nd birthday\n",
            "요약 결과:  Actress Katrina Kaif took to social media to share a picture with Tibetan spiritual leader, the 14th Dalai Lama, on the occasion of his 82nd birthday on Thursday.\n",
            "\n"
          ]
        }
      ]
    },
    {
      "cell_type": "markdown",
      "source": [
        "📰 흠, 여전히 빈칸이 있기는 하지만 일부 데이터들은 정상적으로 추출됩니다.\n",
        "\n",
        "하지만 결과는 그리 좋지 않네요."
      ],
      "metadata": {
        "id": "39CAdGKA9Kmy"
      }
    },
    {
      "cell_type": "markdown",
      "source": [
        "---"
      ],
      "metadata": {
        "id": "3YkUBQQ0-6H_"
      }
    },
    {
      "cell_type": "markdown",
      "source": [
        "# **회고**\n",
        "\n",
        "- **추상적 요약 결과**\n",
        "---\n",
        "    원문 : japanese company created gadget called body checks users body odour test smells near head \n",
        "    behind ears around feet rate three levels severity example detecting high readings smells gadget\n",
        "    connected smartphone app would display immediately care needed \n",
        " \n",
        "    실제 요약 : company makes gadget to tell users if they smell bad \n",
        "    \n",
        "    예측 요약 :  new york firm makes people that can detect heart heart\n",
        "---\n",
        "    원문 : fire broke monday camp akhada kumbh mela uttar pradesh reportedly gas cylinder\n",
        "    exploded casualties injuries reported however several tents gutted fire crore people\n",
        "    expected attend kumbh mela prayagraj begins january \n",
        "    \n",
        "    실제 요약 : fire breaks out at camp day before kumbh mela in up \n",
        "    \n",
        "    예측 요약 :  fire breaks out in up in bihar\n",
        "\n",
        "- **추출적 요약 결과**\n",
        "---\n",
        "    원문:  Air India Chairman Ashwani Lohani in a letter to employees,\n",
        "    said the corporate culture that comes with a new owner will help Air India compete globally.\n",
        "    \"The wonderful team of Air Indians, especially the licensed personnel should therefore have nothing to be sceptical about,\"\n",
        "    he added. Notably, an employees' union staged a protest at Delhi Airport on the same day.\n",
        "\n",
        "    헤드라인:  New corporate culture will be good for Air India: Chairman\n",
        "\n",
        "    요약 결과:  Air India Chairman Ashwani Lohani in a letter to employees,\n",
        "    said the corporate culture that comes with a new owner will help Air India compete globally.\n",
        "\n",
        "---\n",
        "    원문:  South Korean cryptocurrency exchange Youbit has announced that it is shutting down\n",
        "    and is filing for bankruptcy after it was hacked for the second time this year.\n",
        "    The exchange announced that it had been hacked on Tuesday, causing a loss worth 17% of its total assets.\n",
        "    nIt was hacked once before in April when reportedly around 4,000 Bitcoins were stolen. \n",
        "    \n",
        "    헤드라인:  Korean cryptocurrency exchange to close after second hack\n",
        "    \n",
        "    요약 결과: (요약하지 못함)\n",
        "---\n",
        "\n",
        "- 추상적 요약은 동어반복을 하는 경우가 꽤 보입니다. 아마 인퍼런스 모델은 답을 모르고 가능성만 가지고 예측하니 그런 일이 벌어지는 것 같은데, 위에서 설계한 모델이 LSTM이니 밑시딥 풀잎스쿨에서 언급했던 PPMI 개념을 쓰면 해결할 수 있을 것 같습니다.\n",
        "\n",
        "- 또, 생각보다 추출적 요약의 성능이 좋지 않습니다. 자체적인 tokenizer의 성능 문제인지는 몰라도 ratio 설정값에 따라 결과가 달라지는데, 긴 글이면 몰라도 뉴스 기사처럼 비교적 짧은 글에는 사용하기가 어려울 것으로 생각됩니다. 특히 추출된 결과를 보면 주로 첫 문장을 요약본으로 삼는 경향이 있는데, 물론 첫 문장이 중요하긴 하지만 항상 대표성을 지닌다고는 할 수 없습니다.\n",
        "\n",
        "- 그래서 차라리 성능을 최대한 개선시킨 추상적 요약이 보편적으로 사용하기 편할 거라 생각됩니다. 일반적으로 인간이 생각하는 요약은 단순히 본문에서 '단어'만 추출하는 것이 아니라 새로운 문장을 써서라도 본문의 중심 '내용'을 작성하는 것이기 때문에, 추상적 요약의 메커니즘과도 잘 맞을 것 같습니다."
      ],
      "metadata": {
        "id": "Xu3_an5HEYKB"
      }
    },
    {
      "cell_type": "markdown",
      "source": [
        "## **끝!**"
      ],
      "metadata": {
        "id": "gwAFht6NEcmE"
      }
    }
  ]
}
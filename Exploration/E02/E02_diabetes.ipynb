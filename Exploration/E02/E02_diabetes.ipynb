{
 "cells": [
  {
   "cell_type": "markdown",
   "id": "e9ce7418",
   "metadata": {},
   "source": [
    "# E02_proj 01.  <span style=\"color:orange\">당뇨 수치 예측하기</span>\n"
   ]
  },
  {
   "cell_type": "markdown",
   "id": "4c94ceb3",
   "metadata": {},
   "source": [
    "### 01. 데이터 & 필요한 함수 가져오기\n",
    "\n",
    "load_diabetes의 as_frame 옵션을 true로 설정하면 메소드의 리턴값을 pandas DataFrame으로 받아올 수 있다.\n",
    "\n",
    "<span style=\"color:indian red\">**diabetes 객체 타입이 bunch에서 df로 바뀌는 게 아님!**</span>"
   ]
  },
  {
   "cell_type": "code",
   "execution_count": 4,
   "id": "f5bd3e3c",
   "metadata": {},
   "outputs": [
    {
     "name": "stdout",
     "output_type": "stream",
     "text": [
      "<class 'sklearn.utils.Bunch'>\n",
      "<class 'pandas.core.frame.DataFrame'>\n",
      "<class 'pandas.core.series.Series'>\n"
     ]
    }
   ],
   "source": [
    "from sklearn.datasets import load_diabetes\n",
    "import pandas as pd\n",
    "import numpy as np\n",
    "import matplotlib.pyplot as plt\n",
    "from sklearn.model_selection import train_test_split as tts\n",
    "\n",
    "diabetes = load_diabetes(as_frame=True)\n",
    "\n",
    "pd_df_X = diabetes.data\n",
    "pd_df_y = diabetes.target\n",
    "\n",
    "print(type(diabetes))\n",
    "print(type(pd_df_X))\n",
    "print(type(pd_df_y))\n"
   ]
  },
  {
   "cell_type": "markdown",
   "id": "484dbad1",
   "metadata": {},
   "source": [
    "### 02-1. 데이터 구조 확인하기"
   ]
  },
  {
   "cell_type": "code",
   "execution_count": 5,
   "id": "1b08f57f",
   "metadata": {},
   "outputs": [
    {
     "name": "stdout",
     "output_type": "stream",
     "text": [
      "['age', 'sex', 'bmi', 'bp', 's1', 's2', 's3', 's4', 's5', 's6']\n",
      ".. _diabetes_dataset:\n",
      "\n",
      "Diabetes dataset\n",
      "----------------\n",
      "\n",
      "Ten baseline variables, age, sex, body mass index, average blood\n",
      "pressure, and six blood serum measurements were obtained for each of n =\n",
      "442 diabetes patients, as well as the response of interest, a\n",
      "quantitative measure of disease progression one year after baseline.\n",
      "\n",
      "**Data Set Characteristics:**\n",
      "\n",
      "  :Number of Instances: 442\n",
      "\n",
      "  :Number of Attributes: First 10 columns are numeric predictive values\n",
      "\n",
      "  :Target: Column 11 is a quantitative measure of disease progression one year after baseline\n",
      "\n",
      "  :Attribute Information:\n",
      "      - age     age in years\n",
      "      - sex\n",
      "      - bmi     body mass index\n",
      "      - bp      average blood pressure\n",
      "      - s1      tc, total serum cholesterol\n",
      "      - s2      ldl, low-density lipoproteins\n",
      "      - s3      hdl, high-density lipoproteins\n",
      "      - s4      tch, total cholesterol / HDL\n",
      "      - s5      ltg, possibly log of serum triglycerides level\n",
      "      - s6      glu, blood sugar level\n",
      "\n",
      "Note: Each of these 10 feature variables have been mean centered and scaled by the standard deviation times `n_samples` (i.e. the sum of squares of each column totals 1).\n",
      "\n",
      "Source URL:\n",
      "https://www4.stat.ncsu.edu/~boos/var.select/diabetes.html\n",
      "\n",
      "For more information see:\n",
      "Bradley Efron, Trevor Hastie, Iain Johnstone and Robert Tibshirani (2004) \"Least Angle Regression,\" Annals of Statistics (with discussion), 407-499.\n",
      "(https://web.stanford.edu/~hastie/Papers/LARS/LeastAngle_2002.pdf)\n"
     ]
    }
   ],
   "source": [
    "print(diabetes.feature_names)\n",
    "\n",
    "print(diabetes.DESCR)"
   ]
  },
  {
   "cell_type": "markdown",
   "id": "e0a6c7c8",
   "metadata": {},
   "source": [
    ">#### 다음 10개 feature로 이루어진 442개의 데이터 (target 열 제외)\n",
    ">- age: 나이\n",
    ">- sex: 성별\n",
    ">- bmi: 체질량지수\n",
    ">- bp: 평균 혈압\n",
    ">- s1: 총 콜레스테롤 수치\n",
    ">- s2: 저밀도 콜레스테롤(LDL)\n",
    ">- s3: 고밀도 콜레스테롤(HDL)\n",
    ">- s4: (total/HDL)값\n",
    ">- s5: 고지혈증 수치 (possiblity)\n",
    ">- s6: 혈당 수치\n"
   ]
  },
  {
   "cell_type": "markdown",
   "id": "99c6abd9",
   "metadata": {},
   "source": [
    "▶︎ 문자열 데이터가 없다곤 하지만... 연습할 겸, 진짜 그런지 확인할 겸 코드를 돌려보자."
   ]
  },
  {
   "cell_type": "code",
   "execution_count": 6,
   "id": "707430f2",
   "metadata": {},
   "outputs": [
    {
     "data": {
      "text/html": [
       "<div>\n",
       "<style scoped>\n",
       "    .dataframe tbody tr th:only-of-type {\n",
       "        vertical-align: middle;\n",
       "    }\n",
       "\n",
       "    .dataframe tbody tr th {\n",
       "        vertical-align: top;\n",
       "    }\n",
       "\n",
       "    .dataframe thead th {\n",
       "        text-align: right;\n",
       "    }\n",
       "</style>\n",
       "<table border=\"1\" class=\"dataframe\">\n",
       "  <thead>\n",
       "    <tr style=\"text-align: right;\">\n",
       "      <th></th>\n",
       "      <th>age</th>\n",
       "      <th>sex</th>\n",
       "      <th>bmi</th>\n",
       "      <th>bp</th>\n",
       "      <th>s1</th>\n",
       "      <th>s2</th>\n",
       "      <th>s3</th>\n",
       "      <th>s4</th>\n",
       "      <th>s5</th>\n",
       "      <th>s6</th>\n",
       "    </tr>\n",
       "  </thead>\n",
       "  <tbody>\n",
       "    <tr>\n",
       "      <th>0</th>\n",
       "      <td>0.038076</td>\n",
       "      <td>0.050680</td>\n",
       "      <td>0.061696</td>\n",
       "      <td>0.021872</td>\n",
       "      <td>-0.044223</td>\n",
       "      <td>-0.034821</td>\n",
       "      <td>-0.043401</td>\n",
       "      <td>-0.002592</td>\n",
       "      <td>0.019908</td>\n",
       "      <td>-0.017646</td>\n",
       "    </tr>\n",
       "    <tr>\n",
       "      <th>1</th>\n",
       "      <td>-0.001882</td>\n",
       "      <td>-0.044642</td>\n",
       "      <td>-0.051474</td>\n",
       "      <td>-0.026328</td>\n",
       "      <td>-0.008449</td>\n",
       "      <td>-0.019163</td>\n",
       "      <td>0.074412</td>\n",
       "      <td>-0.039493</td>\n",
       "      <td>-0.068330</td>\n",
       "      <td>-0.092204</td>\n",
       "    </tr>\n",
       "    <tr>\n",
       "      <th>2</th>\n",
       "      <td>0.085299</td>\n",
       "      <td>0.050680</td>\n",
       "      <td>0.044451</td>\n",
       "      <td>-0.005671</td>\n",
       "      <td>-0.045599</td>\n",
       "      <td>-0.034194</td>\n",
       "      <td>-0.032356</td>\n",
       "      <td>-0.002592</td>\n",
       "      <td>0.002864</td>\n",
       "      <td>-0.025930</td>\n",
       "    </tr>\n",
       "    <tr>\n",
       "      <th>3</th>\n",
       "      <td>-0.089063</td>\n",
       "      <td>-0.044642</td>\n",
       "      <td>-0.011595</td>\n",
       "      <td>-0.036656</td>\n",
       "      <td>0.012191</td>\n",
       "      <td>0.024991</td>\n",
       "      <td>-0.036038</td>\n",
       "      <td>0.034309</td>\n",
       "      <td>0.022692</td>\n",
       "      <td>-0.009362</td>\n",
       "    </tr>\n",
       "    <tr>\n",
       "      <th>4</th>\n",
       "      <td>0.005383</td>\n",
       "      <td>-0.044642</td>\n",
       "      <td>-0.036385</td>\n",
       "      <td>0.021872</td>\n",
       "      <td>0.003935</td>\n",
       "      <td>0.015596</td>\n",
       "      <td>0.008142</td>\n",
       "      <td>-0.002592</td>\n",
       "      <td>-0.031991</td>\n",
       "      <td>-0.046641</td>\n",
       "    </tr>\n",
       "    <tr>\n",
       "      <th>...</th>\n",
       "      <td>...</td>\n",
       "      <td>...</td>\n",
       "      <td>...</td>\n",
       "      <td>...</td>\n",
       "      <td>...</td>\n",
       "      <td>...</td>\n",
       "      <td>...</td>\n",
       "      <td>...</td>\n",
       "      <td>...</td>\n",
       "      <td>...</td>\n",
       "    </tr>\n",
       "    <tr>\n",
       "      <th>437</th>\n",
       "      <td>0.041708</td>\n",
       "      <td>0.050680</td>\n",
       "      <td>0.019662</td>\n",
       "      <td>0.059744</td>\n",
       "      <td>-0.005697</td>\n",
       "      <td>-0.002566</td>\n",
       "      <td>-0.028674</td>\n",
       "      <td>-0.002592</td>\n",
       "      <td>0.031193</td>\n",
       "      <td>0.007207</td>\n",
       "    </tr>\n",
       "    <tr>\n",
       "      <th>438</th>\n",
       "      <td>-0.005515</td>\n",
       "      <td>0.050680</td>\n",
       "      <td>-0.015906</td>\n",
       "      <td>-0.067642</td>\n",
       "      <td>0.049341</td>\n",
       "      <td>0.079165</td>\n",
       "      <td>-0.028674</td>\n",
       "      <td>0.034309</td>\n",
       "      <td>-0.018118</td>\n",
       "      <td>0.044485</td>\n",
       "    </tr>\n",
       "    <tr>\n",
       "      <th>439</th>\n",
       "      <td>0.041708</td>\n",
       "      <td>0.050680</td>\n",
       "      <td>-0.015906</td>\n",
       "      <td>0.017282</td>\n",
       "      <td>-0.037344</td>\n",
       "      <td>-0.013840</td>\n",
       "      <td>-0.024993</td>\n",
       "      <td>-0.011080</td>\n",
       "      <td>-0.046879</td>\n",
       "      <td>0.015491</td>\n",
       "    </tr>\n",
       "    <tr>\n",
       "      <th>440</th>\n",
       "      <td>-0.045472</td>\n",
       "      <td>-0.044642</td>\n",
       "      <td>0.039062</td>\n",
       "      <td>0.001215</td>\n",
       "      <td>0.016318</td>\n",
       "      <td>0.015283</td>\n",
       "      <td>-0.028674</td>\n",
       "      <td>0.026560</td>\n",
       "      <td>0.044528</td>\n",
       "      <td>-0.025930</td>\n",
       "    </tr>\n",
       "    <tr>\n",
       "      <th>441</th>\n",
       "      <td>-0.045472</td>\n",
       "      <td>-0.044642</td>\n",
       "      <td>-0.073030</td>\n",
       "      <td>-0.081414</td>\n",
       "      <td>0.083740</td>\n",
       "      <td>0.027809</td>\n",
       "      <td>0.173816</td>\n",
       "      <td>-0.039493</td>\n",
       "      <td>-0.004220</td>\n",
       "      <td>0.003064</td>\n",
       "    </tr>\n",
       "  </tbody>\n",
       "</table>\n",
       "<p>442 rows × 10 columns</p>\n",
       "</div>"
      ],
      "text/plain": [
       "          age       sex       bmi        bp        s1        s2        s3  \\\n",
       "0    0.038076  0.050680  0.061696  0.021872 -0.044223 -0.034821 -0.043401   \n",
       "1   -0.001882 -0.044642 -0.051474 -0.026328 -0.008449 -0.019163  0.074412   \n",
       "2    0.085299  0.050680  0.044451 -0.005671 -0.045599 -0.034194 -0.032356   \n",
       "3   -0.089063 -0.044642 -0.011595 -0.036656  0.012191  0.024991 -0.036038   \n",
       "4    0.005383 -0.044642 -0.036385  0.021872  0.003935  0.015596  0.008142   \n",
       "..        ...       ...       ...       ...       ...       ...       ...   \n",
       "437  0.041708  0.050680  0.019662  0.059744 -0.005697 -0.002566 -0.028674   \n",
       "438 -0.005515  0.050680 -0.015906 -0.067642  0.049341  0.079165 -0.028674   \n",
       "439  0.041708  0.050680 -0.015906  0.017282 -0.037344 -0.013840 -0.024993   \n",
       "440 -0.045472 -0.044642  0.039062  0.001215  0.016318  0.015283 -0.028674   \n",
       "441 -0.045472 -0.044642 -0.073030 -0.081414  0.083740  0.027809  0.173816   \n",
       "\n",
       "           s4        s5        s6  \n",
       "0   -0.002592  0.019908 -0.017646  \n",
       "1   -0.039493 -0.068330 -0.092204  \n",
       "2   -0.002592  0.002864 -0.025930  \n",
       "3    0.034309  0.022692 -0.009362  \n",
       "4   -0.002592 -0.031991 -0.046641  \n",
       "..        ...       ...       ...  \n",
       "437 -0.002592  0.031193  0.007207  \n",
       "438  0.034309 -0.018118  0.044485  \n",
       "439 -0.011080 -0.046879  0.015491  \n",
       "440  0.026560  0.044528 -0.025930  \n",
       "441 -0.039493 -0.004220  0.003064  \n",
       "\n",
       "[442 rows x 10 columns]"
      ]
     },
     "execution_count": 6,
     "metadata": {},
     "output_type": "execute_result"
    }
   ],
   "source": [
    "pd_df_X"
   ]
  },
  {
   "cell_type": "markdown",
   "id": "52c1722c",
   "metadata": {},
   "source": [
    "▶︎ 진짜 없네?"
   ]
  },
  {
   "cell_type": "markdown",
   "id": "3e3d7c63",
   "metadata": {},
   "source": [
    "### 03. 모델에 입력할 데이터 x, y 준비하기"
   ]
  },
  {
   "cell_type": "markdown",
   "id": "10bcd94d",
   "metadata": {},
   "source": [
    "데이터 구조를 확인했으니 다시 ndarray로 바꿔준다.\n",
    "\n",
    "DataFrame.to_numpy()를 사용하자. 공식 Docs에서 권장하는 데는 다 이유가 있다.\n",
    "\n",
    "https://pandas.pydata.org/pandas-docs/stable/reference/api/pandas.DataFrame.to_numpy.html#pandas.DataFrame.to_numpy\n"
   ]
  },
  {
   "cell_type": "code",
   "execution_count": 7,
   "id": "02047636",
   "metadata": {},
   "outputs": [
    {
     "name": "stdout",
     "output_type": "stream",
     "text": [
      "[[ 0.03807591  0.05068012  0.06169621 ... -0.00259226  0.01990842\n",
      "  -0.01764613]\n",
      " [-0.00188202 -0.04464164 -0.05147406 ... -0.03949338 -0.06832974\n",
      "  -0.09220405]\n",
      " [ 0.08529891  0.05068012  0.04445121 ... -0.00259226  0.00286377\n",
      "  -0.02593034]\n",
      " ...\n",
      " [ 0.04170844  0.05068012 -0.01590626 ... -0.01107952 -0.04687948\n",
      "   0.01549073]\n",
      " [-0.04547248 -0.04464164  0.03906215 ...  0.02655962  0.04452837\n",
      "  -0.02593034]\n",
      " [-0.04547248 -0.04464164 -0.0730303  ... -0.03949338 -0.00421986\n",
      "   0.00306441]]\n",
      "[151.  75. 141. 206. 135.  97. 138.  63. 110. 310. 101.  69. 179. 185.\n",
      " 118. 171. 166. 144.  97. 168.  68.  49.  68. 245. 184. 202. 137.  85.\n",
      " 131. 283. 129.  59. 341.  87.  65. 102. 265. 276. 252.  90. 100.  55.\n",
      "  61.  92. 259.  53. 190. 142.  75. 142. 155. 225.  59. 104. 182. 128.\n",
      "  52.  37. 170. 170.  61. 144.  52. 128.  71. 163. 150.  97. 160. 178.\n",
      "  48. 270. 202. 111.  85.  42. 170. 200. 252. 113. 143.  51.  52. 210.\n",
      "  65. 141.  55. 134.  42. 111.  98. 164.  48.  96.  90. 162. 150. 279.\n",
      "  92.  83. 128. 102. 302. 198.  95.  53. 134. 144. 232.  81. 104.  59.\n",
      " 246. 297. 258. 229. 275. 281. 179. 200. 200. 173. 180.  84. 121. 161.\n",
      "  99. 109. 115. 268. 274. 158. 107.  83. 103. 272.  85. 280. 336. 281.\n",
      " 118. 317. 235.  60. 174. 259. 178. 128.  96. 126. 288.  88. 292.  71.\n",
      " 197. 186.  25.  84.  96. 195.  53. 217. 172. 131. 214.  59.  70. 220.\n",
      " 268. 152.  47.  74. 295. 101. 151. 127. 237. 225.  81. 151. 107.  64.\n",
      " 138. 185. 265. 101. 137. 143. 141.  79. 292. 178.  91. 116.  86. 122.\n",
      "  72. 129. 142.  90. 158.  39. 196. 222. 277.  99. 196. 202. 155.  77.\n",
      " 191.  70.  73.  49.  65. 263. 248. 296. 214. 185.  78.  93. 252. 150.\n",
      "  77. 208.  77. 108. 160.  53. 220. 154. 259.  90. 246. 124.  67.  72.\n",
      " 257. 262. 275. 177.  71.  47. 187. 125.  78.  51. 258. 215. 303. 243.\n",
      "  91. 150. 310. 153. 346.  63.  89.  50.  39. 103. 308. 116. 145.  74.\n",
      "  45. 115. 264.  87. 202. 127. 182. 241.  66.  94. 283.  64. 102. 200.\n",
      " 265.  94. 230. 181. 156. 233.  60. 219.  80.  68. 332. 248.  84. 200.\n",
      "  55.  85.  89.  31. 129.  83. 275.  65. 198. 236. 253. 124.  44. 172.\n",
      " 114. 142. 109. 180. 144. 163. 147.  97. 220. 190. 109. 191. 122. 230.\n",
      " 242. 248. 249. 192. 131. 237.  78. 135. 244. 199. 270. 164.  72.  96.\n",
      " 306.  91. 214.  95. 216. 263. 178. 113. 200. 139. 139.  88. 148.  88.\n",
      " 243.  71.  77. 109. 272.  60.  54. 221.  90. 311. 281. 182. 321.  58.\n",
      " 262. 206. 233. 242. 123. 167.  63. 197.  71. 168. 140. 217. 121. 235.\n",
      " 245.  40.  52. 104. 132.  88.  69. 219.  72. 201. 110.  51. 277.  63.\n",
      " 118.  69. 273. 258.  43. 198. 242. 232. 175.  93. 168. 275. 293. 281.\n",
      "  72. 140. 189. 181. 209. 136. 261. 113. 131. 174. 257.  55.  84.  42.\n",
      " 146. 212. 233.  91. 111. 152. 120.  67. 310.  94. 183.  66. 173.  72.\n",
      "  49.  64.  48. 178. 104. 132. 220.  57.]\n"
     ]
    }
   ],
   "source": [
    "df_X = pd_df_X.to_numpy()\n",
    "df_y = pd_df_y.to_numpy()\n",
    "\n",
    "print(df_X)\n",
    "print(df_y)\n"
   ]
  },
  {
   "cell_type": "code",
   "execution_count": 8,
   "id": "a3eb9d9b",
   "metadata": {},
   "outputs": [
    {
     "name": "stdout",
     "output_type": "stream",
     "text": [
      "<class 'numpy.ndarray'>\n",
      "<class 'numpy.ndarray'>\n"
     ]
    }
   ],
   "source": [
    "print(type(df_X))\n",
    "print(type(df_y))"
   ]
  },
  {
   "cell_type": "markdown",
   "id": "89077c5d",
   "metadata": {},
   "source": [
    "▶︎ 잘 변환되었다."
   ]
  },
  {
   "cell_type": "markdown",
   "id": "50d22b4b",
   "metadata": {},
   "source": [
    "### 04. train / test 데이터 분리하기"
   ]
  },
  {
   "cell_type": "code",
   "execution_count": 9,
   "id": "9e0fbf9f",
   "metadata": {},
   "outputs": [
    {
     "name": "stdout",
     "output_type": "stream",
     "text": [
      "Done!\n"
     ]
    }
   ],
   "source": [
    "X_train, x_test, y_train, y_test = tts(df_X, df_y, test_size=0.2, random_state=7)\n",
    "\n",
    "print('Done!')"
   ]
  },
  {
   "cell_type": "markdown",
   "id": "611a1050",
   "metadata": {},
   "source": [
    "### 05. 모델 준비하기"
   ]
  },
  {
   "cell_type": "code",
   "execution_count": 10,
   "id": "3efcda98",
   "metadata": {},
   "outputs": [
    {
     "name": "stdout",
     "output_type": "stream",
     "text": [
      "Done!\n"
     ]
    }
   ],
   "source": [
    "X_train.shape # (353, 10)\n",
    "diabetes.feature_names # ['age', 'sex', 'bmi', 'bp', 's1', 's2', 's3', 's4', 's5', 's6']\n",
    "\n",
    "# feature가 총 10개이고 b는 상수이므로 w = 10, b = 1\n",
    "W = np.random.rand(10)\n",
    "b = np.random.rand()\n",
    "\n",
    "def model(X, W, b):\n",
    "    predictions = 0\n",
    "    for i in range(10):\n",
    "        predictions += X[:, i] * W[i]\n",
    "    predictions += b\n",
    "    return predictions\n",
    "\n",
    "print('Done!')"
   ]
  },
  {
   "cell_type": "markdown",
   "id": "09ee26e7",
   "metadata": {},
   "source": [
    "### 06. 손실함수 정의하기"
   ]
  },
  {
   "cell_type": "code",
   "execution_count": 11,
   "id": "86332bf1",
   "metadata": {},
   "outputs": [
    {
     "name": "stdout",
     "output_type": "stream",
     "text": [
      "Done!\n"
     ]
    }
   ],
   "source": [
    "def MSE(a, b):\n",
    "    mse = ((a - b) ** 2).mean()  # 두 값의 차이의 제곱의 평균\n",
    "    return mse\n",
    "\n",
    "def loss(X, W, b, y):\n",
    "    predictions = model(X, W, b)\n",
    "    L = MSE(predictions, y)\n",
    "    return L\n",
    "\n",
    "print('Done!')"
   ]
  },
  {
   "cell_type": "markdown",
   "id": "a1a722a2",
   "metadata": {},
   "source": [
    "### 07. gradient 구현하기"
   ]
  },
  {
   "attachments": {
    "image.png": {
     "image/png": "[encoded data removed]"
    }
   },
   "cell_type": "markdown",
   "id": "c2107c3b",
   "metadata": {},
   "source": [
    "![image.png](attachment:image.png)"
   ]
  },
  {
   "cell_type": "code",
   "execution_count": 12,
   "id": "64b143c1",
   "metadata": {},
   "outputs": [
    {
     "name": "stdout",
     "output_type": "stream",
     "text": [
      "Done!\n"
     ]
    }
   ],
   "source": [
    "def gradient(X, W, b, y):\n",
    "    \n",
    "    # N = 가중치 받을 데이터 수\n",
    "    N = len(W)\n",
    "    \n",
    "    # y_pred\n",
    "    y_pred = model(X, W, b)\n",
    "    \n",
    "    # gradient 계산\n",
    "    dW = 1/N * 2 * X.T.dot(y_pred - y)\n",
    "        \n",
    "    # b의 gradient 계산\n",
    "    db = 2 * (y_pred - y).mean()\n",
    "    return dW, db\n",
    "\n",
    "print('Done!')"
   ]
  },
  {
   "cell_type": "code",
   "execution_count": 13,
   "id": "4e922788",
   "metadata": {},
   "outputs": [
    {
     "name": "stdout",
     "output_type": "stream",
     "text": [
      "dW:  [ -60.6455887   -13.77478923 -189.59635994 -142.65369555  -68.2419201\n",
      "  -55.98986234  127.71987687 -139.05463396 -182.87652537 -123.53857985]\n",
      "db:  -303.9506356771619\n"
     ]
    }
   ],
   "source": [
    "dW, db = gradient(df_X, W, b, df_y)\n",
    "print('dW: ', dW)\n",
    "print('db: ', db)"
   ]
  },
  {
   "cell_type": "markdown",
   "id": "be7937a9",
   "metadata": {},
   "source": [
    "### 08. learning rate (하이퍼 파라미터) 설정하기"
   ]
  },
  {
   "cell_type": "code",
   "execution_count": 14,
   "id": "fec4b2f8",
   "metadata": {},
   "outputs": [],
   "source": [
    "# 임의 지정 후 조정\n",
    "learning_rate = 0.005"
   ]
  },
  {
   "cell_type": "markdown",
   "id": "2b71027c",
   "metadata": {},
   "source": [
    "### 09. 모델 학습하기"
   ]
  },
  {
   "cell_type": "code",
   "execution_count": 15,
   "id": "33724f3c",
   "metadata": {},
   "outputs": [
    {
     "name": "stdout",
     "output_type": "stream",
     "text": [
      "Iteration 10 : Loss 25373.5701\n",
      "Iteration 20 : Loss 21703.4925\n",
      "Iteration 30 : Loss 18685.0291\n",
      "Iteration 40 : Loss 16200.4233\n",
      "Iteration 50 : Loss 14153.3076\n",
      "Iteration 60 : Loss 12464.8116\n",
      "Iteration 70 : Loss 11070.3790\n",
      "Iteration 80 : Loss 9917.1640\n",
      "Iteration 90 : Loss 8961.9017\n",
      "Iteration 100 : Loss 8169.1660\n",
      "Iteration 110 : Loss 7509.9445\n",
      "Iteration 120 : Loss 6960.4731\n",
      "Iteration 130 : Loss 6501.2823\n",
      "Iteration 140 : Loss 6116.4173\n",
      "Iteration 150 : Loss 5792.8000\n",
      "Iteration 160 : Loss 5519.7066\n",
      "Iteration 170 : Loss 5288.3409\n",
      "Iteration 180 : Loss 5091.4848\n",
      "Iteration 190 : Loss 4923.2122\n",
      "Iteration 200 : Loss 4778.6554\n",
      "Iteration 210 : Loss 4653.8136\n",
      "Iteration 220 : Loss 4545.3961\n",
      "Iteration 230 : Loss 4450.6942\n",
      "Iteration 240 : Loss 4367.4765\n",
      "Iteration 250 : Loss 4293.9027\n",
      "Iteration 260 : Loss 4228.4534\n",
      "Iteration 270 : Loss 4169.8726\n",
      "Iteration 280 : Loss 4117.1206\n",
      "Iteration 290 : Loss 4069.3352\n",
      "Iteration 300 : Loss 4025.8003\n",
      "Iteration 310 : Loss 3985.9199\n",
      "Iteration 320 : Loss 3949.1968\n",
      "Iteration 330 : Loss 3915.2152\n",
      "Iteration 340 : Loss 3883.6266\n",
      "Iteration 350 : Loss 3854.1379\n",
      "Iteration 360 : Loss 3826.5018\n",
      "Iteration 370 : Loss 3800.5091\n",
      "Iteration 380 : Loss 3775.9819\n",
      "Iteration 390 : Loss 3752.7685\n",
      "Iteration 400 : Loss 3730.7389\n",
      "Iteration 410 : Loss 3709.7815\n",
      "Iteration 420 : Loss 3689.7996\n",
      "Iteration 430 : Loss 3670.7093\n",
      "Iteration 440 : Loss 3652.4374\n",
      "Iteration 450 : Loss 3634.9197\n",
      "Iteration 460 : Loss 3618.0996\n",
      "Iteration 470 : Loss 3601.9271\n",
      "Iteration 480 : Loss 3586.3576\n",
      "Iteration 490 : Loss 3571.3512\n",
      "Iteration 500 : Loss 3556.8722\n",
      "Iteration 510 : Loss 3542.8882\n",
      "Iteration 520 : Loss 3529.3700\n",
      "Iteration 530 : Loss 3516.2911\n",
      "Iteration 540 : Loss 3503.6272\n",
      "Iteration 550 : Loss 3491.3559\n",
      "Iteration 560 : Loss 3479.4570\n",
      "Iteration 570 : Loss 3467.9114\n",
      "Iteration 580 : Loss 3456.7018\n",
      "Iteration 590 : Loss 3445.8121\n",
      "Iteration 600 : Loss 3435.2272\n",
      "Iteration 610 : Loss 3424.9332\n",
      "Iteration 620 : Loss 3414.9170\n",
      "Iteration 630 : Loss 3405.1665\n",
      "Iteration 640 : Loss 3395.6702\n",
      "Iteration 650 : Loss 3386.4174\n",
      "Iteration 660 : Loss 3377.3982\n",
      "Iteration 670 : Loss 3368.6030\n",
      "Iteration 680 : Loss 3360.0231\n",
      "Iteration 690 : Loss 3351.6499\n",
      "Iteration 700 : Loss 3343.4756\n",
      "Iteration 710 : Loss 3335.4928\n",
      "Iteration 720 : Loss 3327.6944\n",
      "Iteration 730 : Loss 3320.0737\n",
      "Iteration 740 : Loss 3312.6243\n",
      "Iteration 750 : Loss 3305.3404\n",
      "Iteration 760 : Loss 3298.2163\n",
      "Iteration 770 : Loss 3291.2465\n",
      "Iteration 780 : Loss 3284.4259\n",
      "Iteration 790 : Loss 3277.7496\n",
      "Iteration 800 : Loss 3271.2131\n",
      "Iteration 810 : Loss 3264.8120\n",
      "Iteration 820 : Loss 3258.5420\n",
      "Iteration 830 : Loss 3252.3991\n",
      "Iteration 840 : Loss 3246.3795\n",
      "Iteration 850 : Loss 3240.4797\n",
      "Iteration 860 : Loss 3234.6960\n",
      "Iteration 870 : Loss 3229.0253\n",
      "Iteration 880 : Loss 3223.4643\n",
      "Iteration 890 : Loss 3218.0099\n",
      "Iteration 900 : Loss 3212.6594\n",
      "Iteration 910 : Loss 3207.4098\n",
      "Iteration 920 : Loss 3202.2585\n",
      "Iteration 930 : Loss 3197.2030\n",
      "Iteration 940 : Loss 3192.2408\n",
      "Iteration 950 : Loss 3187.3695\n",
      "Iteration 960 : Loss 3182.5869\n",
      "Iteration 970 : Loss 3177.8908\n",
      "Iteration 980 : Loss 3173.2791\n",
      "Iteration 990 : Loss 3168.7497\n",
      "Iteration 1000 : Loss 3164.3008\n"
     ]
    }
   ],
   "source": [
    "losses = []\n",
    "\n",
    "for i in range(1, 1001):\n",
    "    dW, db = gradient(X_train, W, b, y_train)\n",
    "    W -= learning_rate * dW\n",
    "    b -= learning_rate * db\n",
    "    L = loss(X_train, W, b, y_train)\n",
    "    losses.append(L)\n",
    "    if i % 10 == 0:\n",
    "        print('Iteration %d : Loss %0.4f' % (i, L))\n",
    "        \n"
   ]
  },
  {
   "cell_type": "code",
   "execution_count": 16,
   "id": "208209f3",
   "metadata": {},
   "outputs": [
    {
     "data": {
      "image/png": "[encoded data removed]",
      "text/plain": [
       "<Figure size 432x288 with 1 Axes>"
      ]
     },
     "metadata": {
      "needs_background": "light"
     },
     "output_type": "display_data"
    },
    {
     "name": "stdout",
     "output_type": "stream",
     "text": [
      "[  26.26374224  -90.03551633  353.9295439   234.55134163   11.10107342\n",
      "  -28.94438433 -189.07664836  149.43345345  312.06744886  148.59526712] 153.88513755144092\n"
     ]
    }
   ],
   "source": [
    "plt.plot(losses)\n",
    "plt.show()\n",
    "\n",
    "print(W, b)"
   ]
  },
  {
   "cell_type": "markdown",
   "id": "4b356815",
   "metadata": {},
   "source": [
    "### 10. test 데이터에 대해 성능 확인하기"
   ]
  },
  {
   "cell_type": "code",
   "execution_count": 17,
   "id": "95ede0c4",
   "metadata": {},
   "outputs": [
    {
     "data": {
      "text/plain": [
       "2862.9851035762413"
      ]
     },
     "execution_count": 17,
     "metadata": {},
     "output_type": "execute_result"
    }
   ],
   "source": [
    "prediction = model(x_test, W, b)\n",
    "mse = loss(x_test, W, b, y_test)\n",
    "mse"
   ]
  },
  {
   "cell_type": "markdown",
   "id": "4a6fc141",
   "metadata": {},
   "source": [
    "### 11. 결과 시각화하기"
   ]
  },
  {
   "cell_type": "code",
   "execution_count": 18,
   "id": "0333d151",
   "metadata": {},
   "outputs": [
    {
     "data": {
      "image/png": "[encoded data removed]",
      "text/plain": [
       "<Figure size 432x288 with 1 Axes>"
      ]
     },
     "metadata": {
      "needs_background": "light"
     },
     "output_type": "display_data"
    }
   ],
   "source": [
    "plt.scatter(x_test[:, 0], y_test)\n",
    "plt.scatter(x_test[:, 0], prediction)\n",
    "plt.show()"
   ]
  },
  {
   "cell_type": "markdown",
   "id": "22045511",
   "metadata": {},
   "source": [
    "▶︎ 생각만큼 효율적이진 않지만, 그럭저럭 예측이 들어 맞는다."
   ]
  },
  {
   "cell_type": "markdown",
   "id": "1de143ab",
   "metadata": {},
   "source": [
    "---"
   ]
  },
  {
   "cell_type": "markdown",
   "id": "cf3cfb34",
   "metadata": {},
   "source": [
    "# E02_proj 02. <span style=\"color:slateblue\">자전거 타는 사람 몇 명인지 맞추기</span>"
   ]
  },
  {
   "cell_type": "markdown",
   "id": "aa41527c",
   "metadata": {},
   "source": [
    "### 01. 데이터 & 필요한 함수 가져오기"
   ]
  },
  {
   "cell_type": "code",
   "execution_count": 97,
   "id": "c66e3664",
   "metadata": {},
   "outputs": [],
   "source": [
    "import pandas as pd\n",
    "import numpy as np\n",
    "import matplotlib.pyplot as plt\n",
    "import seaborn as sns\n",
    "from sklearn.model_selection import train_test_split as tts\n",
    "from sklearn.linear_model import LinearRegression\n",
    "from sklearn.metrics import mean_squared_error"
   ]
  },
  {
   "cell_type": "code",
   "execution_count": 80,
   "id": "b29629c7",
   "metadata": {},
   "outputs": [
    {
     "name": "stdout",
     "output_type": "stream",
     "text": [
      "(10886, 12)\n"
     ]
    },
    {
     "data": {
      "text/html": [
       "<div>\n",
       "<style scoped>\n",
       "    .dataframe tbody tr th:only-of-type {\n",
       "        vertical-align: middle;\n",
       "    }\n",
       "\n",
       "    .dataframe tbody tr th {\n",
       "        vertical-align: top;\n",
       "    }\n",
       "\n",
       "    .dataframe thead th {\n",
       "        text-align: right;\n",
       "    }\n",
       "</style>\n",
       "<table border=\"1\" class=\"dataframe\">\n",
       "  <thead>\n",
       "    <tr style=\"text-align: right;\">\n",
       "      <th></th>\n",
       "      <th>datetime</th>\n",
       "      <th>season</th>\n",
       "      <th>holiday</th>\n",
       "      <th>workingday</th>\n",
       "      <th>weather</th>\n",
       "      <th>temp</th>\n",
       "      <th>atemp</th>\n",
       "      <th>humidity</th>\n",
       "      <th>windspeed</th>\n",
       "      <th>casual</th>\n",
       "      <th>registered</th>\n",
       "      <th>count</th>\n",
       "    </tr>\n",
       "  </thead>\n",
       "  <tbody>\n",
       "    <tr>\n",
       "      <th>0</th>\n",
       "      <td>2011-01-01 00:00:00</td>\n",
       "      <td>1</td>\n",
       "      <td>0</td>\n",
       "      <td>0</td>\n",
       "      <td>1</td>\n",
       "      <td>9.84</td>\n",
       "      <td>14.395</td>\n",
       "      <td>81</td>\n",
       "      <td>0.0</td>\n",
       "      <td>3</td>\n",
       "      <td>13</td>\n",
       "      <td>16</td>\n",
       "    </tr>\n",
       "    <tr>\n",
       "      <th>1</th>\n",
       "      <td>2011-01-01 01:00:00</td>\n",
       "      <td>1</td>\n",
       "      <td>0</td>\n",
       "      <td>0</td>\n",
       "      <td>1</td>\n",
       "      <td>9.02</td>\n",
       "      <td>13.635</td>\n",
       "      <td>80</td>\n",
       "      <td>0.0</td>\n",
       "      <td>8</td>\n",
       "      <td>32</td>\n",
       "      <td>40</td>\n",
       "    </tr>\n",
       "    <tr>\n",
       "      <th>2</th>\n",
       "      <td>2011-01-01 02:00:00</td>\n",
       "      <td>1</td>\n",
       "      <td>0</td>\n",
       "      <td>0</td>\n",
       "      <td>1</td>\n",
       "      <td>9.02</td>\n",
       "      <td>13.635</td>\n",
       "      <td>80</td>\n",
       "      <td>0.0</td>\n",
       "      <td>5</td>\n",
       "      <td>27</td>\n",
       "      <td>32</td>\n",
       "    </tr>\n",
       "    <tr>\n",
       "      <th>3</th>\n",
       "      <td>2011-01-01 03:00:00</td>\n",
       "      <td>1</td>\n",
       "      <td>0</td>\n",
       "      <td>0</td>\n",
       "      <td>1</td>\n",
       "      <td>9.84</td>\n",
       "      <td>14.395</td>\n",
       "      <td>75</td>\n",
       "      <td>0.0</td>\n",
       "      <td>3</td>\n",
       "      <td>10</td>\n",
       "      <td>13</td>\n",
       "    </tr>\n",
       "    <tr>\n",
       "      <th>4</th>\n",
       "      <td>2011-01-01 04:00:00</td>\n",
       "      <td>1</td>\n",
       "      <td>0</td>\n",
       "      <td>0</td>\n",
       "      <td>1</td>\n",
       "      <td>9.84</td>\n",
       "      <td>14.395</td>\n",
       "      <td>75</td>\n",
       "      <td>0.0</td>\n",
       "      <td>0</td>\n",
       "      <td>1</td>\n",
       "      <td>1</td>\n",
       "    </tr>\n",
       "  </tbody>\n",
       "</table>\n",
       "</div>"
      ],
      "text/plain": [
       "              datetime  season  holiday  workingday  weather  temp   atemp  \\\n",
       "0  2011-01-01 00:00:00       1        0           0        1  9.84  14.395   \n",
       "1  2011-01-01 01:00:00       1        0           0        1  9.02  13.635   \n",
       "2  2011-01-01 02:00:00       1        0           0        1  9.02  13.635   \n",
       "3  2011-01-01 03:00:00       1        0           0        1  9.84  14.395   \n",
       "4  2011-01-01 04:00:00       1        0           0        1  9.84  14.395   \n",
       "\n",
       "   humidity  windspeed  casual  registered  count  \n",
       "0        81        0.0       3          13     16  \n",
       "1        80        0.0       8          32     40  \n",
       "2        80        0.0       5          27     32  \n",
       "3        75        0.0       3          10     13  \n",
       "4        75        0.0       0           1      1  "
      ]
     },
     "execution_count": 80,
     "metadata": {},
     "output_type": "execute_result"
    }
   ],
   "source": [
    "train = pd.read_csv('~/data/data/bike-sharing-demand/train.csv')\n",
    "print(train.shape)\n",
    "train.head()"
   ]
  },
  {
   "cell_type": "markdown",
   "id": "408ac054",
   "metadata": {},
   "source": [
    "> #### 12개의 feature를 가진 10886개의 데이터셋\n",
    "> - datetime, season, holiday, workingday, weather, temp, atemp, humidity, windspeed, casual, registered, count\n",
    ">\n",
    "> 보아하니 target column은 count겠지?"
   ]
  },
  {
   "cell_type": "markdown",
   "id": "27aa2885",
   "metadata": {},
   "source": [
    "### 02. datetime 컬럼을 datetime 자료형으로 변환하고 연, 월, 일, 시, 분, 초까지 6가지 컬럼 생성하기\n",
    "> ##### pandas.to_datetime 함수 참고\n",
    "> - https://pandas.pydata.org/pandas-docs/stable/reference/api/pandas.to_datetime.html#pandas.to_datetime"
   ]
  },
  {
   "cell_type": "markdown",
   "id": "aaa86f37",
   "metadata": {},
   "source": [
    "▶︎ datetime 컬럼을 지정해서 dtype을 변환한다. \n",
    "\n",
    "연, 월, 일, 시, 분, 초 순으로 배열돼 있으니 format 인자를 변경할 필요는 없다."
   ]
  },
  {
   "cell_type": "markdown",
   "id": "a90bbaf6",
   "metadata": {},
   "source": [
    "▶︎ datetime 컬럼을 편의상 오른쪽으로 밀어준다."
   ]
  },
  {
   "cell_type": "code",
   "execution_count": 81,
   "id": "b47b7483",
   "metadata": {},
   "outputs": [
    {
     "data": {
      "text/html": [
       "<div>\n",
       "<style scoped>\n",
       "    .dataframe tbody tr th:only-of-type {\n",
       "        vertical-align: middle;\n",
       "    }\n",
       "\n",
       "    .dataframe tbody tr th {\n",
       "        vertical-align: top;\n",
       "    }\n",
       "\n",
       "    .dataframe thead th {\n",
       "        text-align: right;\n",
       "    }\n",
       "</style>\n",
       "<table border=\"1\" class=\"dataframe\">\n",
       "  <thead>\n",
       "    <tr style=\"text-align: right;\">\n",
       "      <th></th>\n",
       "      <th>season</th>\n",
       "      <th>holiday</th>\n",
       "      <th>workingday</th>\n",
       "      <th>weather</th>\n",
       "      <th>temp</th>\n",
       "      <th>atemp</th>\n",
       "      <th>humidity</th>\n",
       "      <th>windspeed</th>\n",
       "      <th>casual</th>\n",
       "      <th>registered</th>\n",
       "      <th>count</th>\n",
       "      <th>datetime</th>\n",
       "    </tr>\n",
       "  </thead>\n",
       "  <tbody>\n",
       "    <tr>\n",
       "      <th>0</th>\n",
       "      <td>1</td>\n",
       "      <td>0</td>\n",
       "      <td>0</td>\n",
       "      <td>1</td>\n",
       "      <td>9.84</td>\n",
       "      <td>14.395</td>\n",
       "      <td>81</td>\n",
       "      <td>0.0</td>\n",
       "      <td>3</td>\n",
       "      <td>13</td>\n",
       "      <td>16</td>\n",
       "      <td>2011-01-01 00:00:00</td>\n",
       "    </tr>\n",
       "    <tr>\n",
       "      <th>1</th>\n",
       "      <td>1</td>\n",
       "      <td>0</td>\n",
       "      <td>0</td>\n",
       "      <td>1</td>\n",
       "      <td>9.02</td>\n",
       "      <td>13.635</td>\n",
       "      <td>80</td>\n",
       "      <td>0.0</td>\n",
       "      <td>8</td>\n",
       "      <td>32</td>\n",
       "      <td>40</td>\n",
       "      <td>2011-01-01 01:00:00</td>\n",
       "    </tr>\n",
       "    <tr>\n",
       "      <th>2</th>\n",
       "      <td>1</td>\n",
       "      <td>0</td>\n",
       "      <td>0</td>\n",
       "      <td>1</td>\n",
       "      <td>9.02</td>\n",
       "      <td>13.635</td>\n",
       "      <td>80</td>\n",
       "      <td>0.0</td>\n",
       "      <td>5</td>\n",
       "      <td>27</td>\n",
       "      <td>32</td>\n",
       "      <td>2011-01-01 02:00:00</td>\n",
       "    </tr>\n",
       "    <tr>\n",
       "      <th>3</th>\n",
       "      <td>1</td>\n",
       "      <td>0</td>\n",
       "      <td>0</td>\n",
       "      <td>1</td>\n",
       "      <td>9.84</td>\n",
       "      <td>14.395</td>\n",
       "      <td>75</td>\n",
       "      <td>0.0</td>\n",
       "      <td>3</td>\n",
       "      <td>10</td>\n",
       "      <td>13</td>\n",
       "      <td>2011-01-01 03:00:00</td>\n",
       "    </tr>\n",
       "    <tr>\n",
       "      <th>4</th>\n",
       "      <td>1</td>\n",
       "      <td>0</td>\n",
       "      <td>0</td>\n",
       "      <td>1</td>\n",
       "      <td>9.84</td>\n",
       "      <td>14.395</td>\n",
       "      <td>75</td>\n",
       "      <td>0.0</td>\n",
       "      <td>0</td>\n",
       "      <td>1</td>\n",
       "      <td>1</td>\n",
       "      <td>2011-01-01 04:00:00</td>\n",
       "    </tr>\n",
       "  </tbody>\n",
       "</table>\n",
       "</div>"
      ],
      "text/plain": [
       "   season  holiday  workingday  weather  temp   atemp  humidity  windspeed  \\\n",
       "0       1        0           0        1  9.84  14.395        81        0.0   \n",
       "1       1        0           0        1  9.02  13.635        80        0.0   \n",
       "2       1        0           0        1  9.02  13.635        80        0.0   \n",
       "3       1        0           0        1  9.84  14.395        75        0.0   \n",
       "4       1        0           0        1  9.84  14.395        75        0.0   \n",
       "\n",
       "   casual  registered  count             datetime  \n",
       "0       3          13     16  2011-01-01 00:00:00  \n",
       "1       8          32     40  2011-01-01 01:00:00  \n",
       "2       5          27     32  2011-01-01 02:00:00  \n",
       "3       3          10     13  2011-01-01 03:00:00  \n",
       "4       0           1      1  2011-01-01 04:00:00  "
      ]
     },
     "execution_count": 81,
     "metadata": {},
     "output_type": "execute_result"
    }
   ],
   "source": [
    "train = train[['season', 'holiday', 'workingday', 'weather', 'temp', 'atemp',\n",
    "             'humidity', 'windspeed', 'casual', 'registered', 'count', 'datetime']]\n",
    "\n",
    "train.head()"
   ]
  },
  {
   "cell_type": "code",
   "execution_count": 82,
   "id": "90603fa3",
   "metadata": {},
   "outputs": [
    {
     "name": "stdout",
     "output_type": "stream",
     "text": [
      "Done!\n"
     ]
    }
   ],
   "source": [
    "train['datetime'] = pd.to_datetime(train['datetime'])\n",
    "\n",
    "print('Done!')"
   ]
  },
  {
   "cell_type": "markdown",
   "id": "49a22829",
   "metadata": {},
   "source": [
    "▶︎ year, month, day, hour, minute, second 컬럼을 추가한다."
   ]
  },
  {
   "cell_type": "code",
   "execution_count": 83,
   "id": "bab509e1",
   "metadata": {},
   "outputs": [
    {
     "name": "stdout",
     "output_type": "stream",
     "text": [
      "Done!\n"
     ]
    }
   ],
   "source": [
    "train['year'] = train['datetime'].dt.year\n",
    "train['month'] = train['datetime'].dt.month\n",
    "train['day'] = train['datetime'].dt.day\n",
    "train['hour'] = train['datetime'].dt.hour\n",
    "train['minute'] = train['datetime'].dt.minute\n",
    "train['second'] = train['datetime'].dt.second\n",
    "\n",
    "print('Done!')"
   ]
  },
  {
   "cell_type": "markdown",
   "id": "86a60a9b",
   "metadata": {},
   "source": [
    "▶︎ 잘 들어갔는지 확인해 보자."
   ]
  },
  {
   "cell_type": "code",
   "execution_count": 84,
   "id": "069dc650",
   "metadata": {},
   "outputs": [
    {
     "data": {
      "text/html": [
       "<div>\n",
       "<style scoped>\n",
       "    .dataframe tbody tr th:only-of-type {\n",
       "        vertical-align: middle;\n",
       "    }\n",
       "\n",
       "    .dataframe tbody tr th {\n",
       "        vertical-align: top;\n",
       "    }\n",
       "\n",
       "    .dataframe thead th {\n",
       "        text-align: right;\n",
       "    }\n",
       "</style>\n",
       "<table border=\"1\" class=\"dataframe\">\n",
       "  <thead>\n",
       "    <tr style=\"text-align: right;\">\n",
       "      <th></th>\n",
       "      <th>season</th>\n",
       "      <th>holiday</th>\n",
       "      <th>workingday</th>\n",
       "      <th>weather</th>\n",
       "      <th>temp</th>\n",
       "      <th>atemp</th>\n",
       "      <th>humidity</th>\n",
       "      <th>windspeed</th>\n",
       "      <th>casual</th>\n",
       "      <th>registered</th>\n",
       "      <th>count</th>\n",
       "      <th>datetime</th>\n",
       "      <th>year</th>\n",
       "      <th>month</th>\n",
       "      <th>day</th>\n",
       "      <th>hour</th>\n",
       "      <th>minute</th>\n",
       "      <th>second</th>\n",
       "    </tr>\n",
       "  </thead>\n",
       "  <tbody>\n",
       "    <tr>\n",
       "      <th>0</th>\n",
       "      <td>1</td>\n",
       "      <td>0</td>\n",
       "      <td>0</td>\n",
       "      <td>1</td>\n",
       "      <td>9.84</td>\n",
       "      <td>14.395</td>\n",
       "      <td>81</td>\n",
       "      <td>0.0</td>\n",
       "      <td>3</td>\n",
       "      <td>13</td>\n",
       "      <td>16</td>\n",
       "      <td>2011-01-01 00:00:00</td>\n",
       "      <td>2011</td>\n",
       "      <td>1</td>\n",
       "      <td>1</td>\n",
       "      <td>0</td>\n",
       "      <td>0</td>\n",
       "      <td>0</td>\n",
       "    </tr>\n",
       "    <tr>\n",
       "      <th>1</th>\n",
       "      <td>1</td>\n",
       "      <td>0</td>\n",
       "      <td>0</td>\n",
       "      <td>1</td>\n",
       "      <td>9.02</td>\n",
       "      <td>13.635</td>\n",
       "      <td>80</td>\n",
       "      <td>0.0</td>\n",
       "      <td>8</td>\n",
       "      <td>32</td>\n",
       "      <td>40</td>\n",
       "      <td>2011-01-01 01:00:00</td>\n",
       "      <td>2011</td>\n",
       "      <td>1</td>\n",
       "      <td>1</td>\n",
       "      <td>1</td>\n",
       "      <td>0</td>\n",
       "      <td>0</td>\n",
       "    </tr>\n",
       "    <tr>\n",
       "      <th>2</th>\n",
       "      <td>1</td>\n",
       "      <td>0</td>\n",
       "      <td>0</td>\n",
       "      <td>1</td>\n",
       "      <td>9.02</td>\n",
       "      <td>13.635</td>\n",
       "      <td>80</td>\n",
       "      <td>0.0</td>\n",
       "      <td>5</td>\n",
       "      <td>27</td>\n",
       "      <td>32</td>\n",
       "      <td>2011-01-01 02:00:00</td>\n",
       "      <td>2011</td>\n",
       "      <td>1</td>\n",
       "      <td>1</td>\n",
       "      <td>2</td>\n",
       "      <td>0</td>\n",
       "      <td>0</td>\n",
       "    </tr>\n",
       "    <tr>\n",
       "      <th>3</th>\n",
       "      <td>1</td>\n",
       "      <td>0</td>\n",
       "      <td>0</td>\n",
       "      <td>1</td>\n",
       "      <td>9.84</td>\n",
       "      <td>14.395</td>\n",
       "      <td>75</td>\n",
       "      <td>0.0</td>\n",
       "      <td>3</td>\n",
       "      <td>10</td>\n",
       "      <td>13</td>\n",
       "      <td>2011-01-01 03:00:00</td>\n",
       "      <td>2011</td>\n",
       "      <td>1</td>\n",
       "      <td>1</td>\n",
       "      <td>3</td>\n",
       "      <td>0</td>\n",
       "      <td>0</td>\n",
       "    </tr>\n",
       "    <tr>\n",
       "      <th>4</th>\n",
       "      <td>1</td>\n",
       "      <td>0</td>\n",
       "      <td>0</td>\n",
       "      <td>1</td>\n",
       "      <td>9.84</td>\n",
       "      <td>14.395</td>\n",
       "      <td>75</td>\n",
       "      <td>0.0</td>\n",
       "      <td>0</td>\n",
       "      <td>1</td>\n",
       "      <td>1</td>\n",
       "      <td>2011-01-01 04:00:00</td>\n",
       "      <td>2011</td>\n",
       "      <td>1</td>\n",
       "      <td>1</td>\n",
       "      <td>4</td>\n",
       "      <td>0</td>\n",
       "      <td>0</td>\n",
       "    </tr>\n",
       "  </tbody>\n",
       "</table>\n",
       "</div>"
      ],
      "text/plain": [
       "   season  holiday  workingday  weather  temp   atemp  humidity  windspeed  \\\n",
       "0       1        0           0        1  9.84  14.395        81        0.0   \n",
       "1       1        0           0        1  9.02  13.635        80        0.0   \n",
       "2       1        0           0        1  9.02  13.635        80        0.0   \n",
       "3       1        0           0        1  9.84  14.395        75        0.0   \n",
       "4       1        0           0        1  9.84  14.395        75        0.0   \n",
       "\n",
       "   casual  registered  count            datetime  year  month  day  hour  \\\n",
       "0       3          13     16 2011-01-01 00:00:00  2011      1    1     0   \n",
       "1       8          32     40 2011-01-01 01:00:00  2011      1    1     1   \n",
       "2       5          27     32 2011-01-01 02:00:00  2011      1    1     2   \n",
       "3       3          10     13 2011-01-01 03:00:00  2011      1    1     3   \n",
       "4       0           1      1 2011-01-01 04:00:00  2011      1    1     4   \n",
       "\n",
       "   minute  second  \n",
       "0       0       0  \n",
       "1       0       0  \n",
       "2       0       0  \n",
       "3       0       0  \n",
       "4       0       0  "
      ]
     },
     "execution_count": 84,
     "metadata": {},
     "output_type": "execute_result"
    }
   ],
   "source": [
    "train.head()"
   ]
  },
  {
   "cell_type": "markdown",
   "id": "d1c74c96",
   "metadata": {},
   "source": [
    "▶︎ 오른쪽에 가서 찰떡같이 잘 붙었다."
   ]
  },
  {
   "cell_type": "markdown",
   "id": "06f3fcf5",
   "metadata": {},
   "source": [
    "### (3) year, month, day, hour, minute, second 데이터 개수 시각화하기"
   ]
  },
  {
   "cell_type": "markdown",
   "id": "c384eadc",
   "metadata": {},
   "source": [
    "- sns.countplot 활용 \n",
    "- subplot을 활용해서 한 번에 6개의 그래프를 한번에 시각화"
   ]
  },
  {
   "cell_type": "code",
   "execution_count": 85,
   "id": "e6648d2a",
   "metadata": {},
   "outputs": [
    {
     "data": {
      "image/png": "[encoded data removed]",
      "text/plain": [
       "<Figure size 1728x864 with 6 Axes>"
      ]
     },
     "metadata": {},
     "output_type": "display_data"
    }
   ],
   "source": [
    "# keys = ['year', 'month', 'day', 'hour', 'minute', 'second']\n",
    "\n",
    "# 2x3 subplot 생성\n",
    "figure, ((ax1, ax2, ax3), (ax4, ax5, ax6)) = plt.subplots(2, 3)\n",
    "\n",
    "# 차트 크기 조절\n",
    "figure.set_size_inches(24,12)\n",
    "\n",
    "# 개수 카운트\n",
    "year = sns.countplot(x='year', data=train, ax=ax1)\n",
    "month = sns.countplot(x='month', data=train, ax=ax2)\n",
    "day = sns.countplot(x='day', data=train, ax=ax3)\n",
    "hour = sns.countplot(x='hour', data=train, ax=ax4)\n",
    "minute = sns.countplot(x='minute', data=train, ax=ax5)\n",
    "second = sns.countplot(x='second', data=train, ax=ax6)\n"
   ]
  },
  {
   "cell_type": "markdown",
   "id": "1a484600",
   "metadata": {},
   "source": [
    "### (4) X, y 컬럼 선택 및 train/test 데이터 분리\n",
    "\n",
    "- X에는 문자열 데이터, 쓸모없는 데이터를 제외한 컬럼의 데이터 넣기\n",
    "- count 값을 맞추고자 하므로, y 변수에 count 컬럼의 데이터 넣기"
   ]
  },
  {
   "cell_type": "code",
   "execution_count": 137,
   "id": "2f57c48f",
   "metadata": {},
   "outputs": [],
   "source": [
    "# 문자열 데이터 (datetime) 및 무의미 데이터(casual, registered) 제거\n",
    "X = train[['holiday', 'workingday', 'weather', 'temp', 'atemp', 'humidity',\n",
    "           'windspeed', 'year', 'month', 'day', 'hour', 'minute', 'second']].values\n",
    "\n",
    "# target column\n",
    "y = train['count'].values\n"
   ]
  },
  {
   "cell_type": "code",
   "execution_count": 138,
   "id": "df719ea3",
   "metadata": {},
   "outputs": [],
   "source": [
    "# train / test 데이터 나누기\n",
    "X_train, x_test, y_train, y_test = tts(X, y, test_size=0.2, random_state=17)\n"
   ]
  },
  {
   "cell_type": "markdown",
   "id": "7978b9c3",
   "metadata": {},
   "source": [
    "### (5) LinearRegression 모델 학습"
   ]
  },
  {
   "cell_type": "code",
   "execution_count": 139,
   "id": "d4e2481e",
   "metadata": {},
   "outputs": [
    {
     "data": {
      "text/plain": [
       "LinearRegression()"
      ]
     },
     "execution_count": 139,
     "metadata": {},
     "output_type": "execute_result"
    }
   ],
   "source": [
    "# 모델 학습\n",
    "\n",
    "model = LinearRegression()\n",
    "model.fit(X_train, y_train)"
   ]
  },
  {
   "cell_type": "markdown",
   "id": "060912cc",
   "metadata": {},
   "source": [
    "### (6) 학습된 모델로 X_test에 대한 예측값 출력 및 손실함수값 계산"
   ]
  },
  {
   "cell_type": "code",
   "execution_count": 140,
   "id": "44460c7c",
   "metadata": {},
   "outputs": [
    {
     "data": {
      "text/plain": [
       "array([257.67626405, 224.05963303, 234.4945635 , ..., 183.23654675,\n",
       "       262.1506117 ,  10.54562078])"
      ]
     },
     "execution_count": 140,
     "metadata": {},
     "output_type": "execute_result"
    }
   ],
   "source": [
    "# 예측값 계산\n",
    "prediction = model.predict(x_test)\n",
    "prediction\n"
   ]
  },
  {
   "cell_type": "code",
   "execution_count": 141,
   "id": "4fabfacd",
   "metadata": {},
   "outputs": [
    {
     "name": "stdout",
     "output_type": "stream",
     "text": [
      "20410.62813329893\n",
      "142.8657696346432\n"
     ]
    }
   ],
   "source": [
    "# 손실함수값 계산\n",
    "mse = mean_squared_error(y_test, prediction)\n",
    "\n",
    "# 출력\n",
    "print(mse)\n",
    "print(mse**0.5) # rmse\n"
   ]
  },
  {
   "cell_type": "markdown",
   "id": "d2265a30",
   "metadata": {},
   "source": [
    "### x축은 temp 또는 humidity로, y축은 count로 예측 결과 시각화하기\n",
    "- temp는 4번째, humidity는 6번째 칼럼\n"
   ]
  },
  {
   "cell_type": "code",
   "execution_count": 142,
   "id": "87177f88",
   "metadata": {},
   "outputs": [
    {
     "data": {
      "image/png": "[encoded data removed]",
      "text/plain": [
       "<Figure size 432x288 with 1 Axes>"
      ]
     },
     "metadata": {},
     "output_type": "display_data"
    }
   ],
   "source": [
    "# temp\n",
    "\n",
    "plt.scatter(x_test[:, 4], y_test, label=\"true\")\n",
    "plt.scatter(x_test[:, 4], prediction, label=\"pred\")\n",
    "plt.legend()\n",
    "plt.show()"
   ]
  },
  {
   "cell_type": "code",
   "execution_count": 143,
   "id": "a9203ae0",
   "metadata": {},
   "outputs": [
    {
     "data": {
      "image/png": "[encoded data removed]",
      "text/plain": [
       "<Figure size 432x288 with 1 Axes>"
      ]
     },
     "metadata": {},
     "output_type": "display_data"
    }
   ],
   "source": [
    "# humidity\n",
    "\n",
    "plt.scatter(x_test[:, 6], y_test, label=\"true\")\n",
    "plt.scatter(x_test[:, 6], prediction, label=\"pred\")\n",
    "plt.legend()\n",
    "plt.show()"
   ]
  },
  {
   "cell_type": "markdown",
   "id": "8979ff10",
   "metadata": {},
   "source": [
    "▶︎ 중간으로 수렴하는 걸로 봐서 예측 모델이 그럭저럭 잘 굴러가고 있다."
   ]
  },
  {
   "cell_type": "markdown",
   "id": "a2f9ed92",
   "metadata": {},
   "source": [
    "---"
   ]
  },
  {
   "cell_type": "markdown",
   "id": "89db3aee",
   "metadata": {},
   "source": [
    "## Q. 그렇다면... <span style=\"color:indianred\">\"날씨 좋은 날 월요일 오후 3시\"</span>에 자전거 타는 사람은 몇 명일까?"
   ]
  },
  {
   "cell_type": "markdown",
   "id": "700e579f",
   "metadata": {},
   "source": [
    "> **날씨 좋은 날** = weather 값이 1, **오후 3시** = hour 값이 15\n",
    ">\n",
    "> _그런데... 월요일인지는 **어떻게** 알지?_"
   ]
  },
  {
   "cell_type": "markdown",
   "id": "f752d326",
   "metadata": {},
   "source": [
    "### Thinking...\n",
    "\n",
    "🤔 요일을 알려주는 함수를 써서 컬럼을 가공하면 되겠지?\n",
    "> **[dt.dayofweek]** | https://bit.ly/3ya9Jvi"
   ]
  },
  {
   "cell_type": "code",
   "execution_count": 144,
   "id": "d04e91d9",
   "metadata": {},
   "outputs": [
    {
     "data": {
      "text/html": [
       "<div>\n",
       "<style scoped>\n",
       "    .dataframe tbody tr th:only-of-type {\n",
       "        vertical-align: middle;\n",
       "    }\n",
       "\n",
       "    .dataframe tbody tr th {\n",
       "        vertical-align: top;\n",
       "    }\n",
       "\n",
       "    .dataframe thead th {\n",
       "        text-align: right;\n",
       "    }\n",
       "</style>\n",
       "<table border=\"1\" class=\"dataframe\">\n",
       "  <thead>\n",
       "    <tr style=\"text-align: right;\">\n",
       "      <th></th>\n",
       "      <th>season</th>\n",
       "      <th>holiday</th>\n",
       "      <th>workingday</th>\n",
       "      <th>weather</th>\n",
       "      <th>temp</th>\n",
       "      <th>atemp</th>\n",
       "      <th>humidity</th>\n",
       "      <th>windspeed</th>\n",
       "      <th>casual</th>\n",
       "      <th>registered</th>\n",
       "      <th>count</th>\n",
       "      <th>datetime</th>\n",
       "      <th>year</th>\n",
       "      <th>month</th>\n",
       "      <th>day</th>\n",
       "      <th>hour</th>\n",
       "      <th>minute</th>\n",
       "      <th>second</th>\n",
       "      <th>dayofweek</th>\n",
       "    </tr>\n",
       "  </thead>\n",
       "  <tbody>\n",
       "    <tr>\n",
       "      <th>0</th>\n",
       "      <td>1</td>\n",
       "      <td>0</td>\n",
       "      <td>0</td>\n",
       "      <td>1</td>\n",
       "      <td>9.84</td>\n",
       "      <td>14.395</td>\n",
       "      <td>81</td>\n",
       "      <td>0.0</td>\n",
       "      <td>3</td>\n",
       "      <td>13</td>\n",
       "      <td>16</td>\n",
       "      <td>2011-01-01 00:00:00</td>\n",
       "      <td>2011</td>\n",
       "      <td>1</td>\n",
       "      <td>1</td>\n",
       "      <td>0</td>\n",
       "      <td>0</td>\n",
       "      <td>0</td>\n",
       "      <td>5</td>\n",
       "    </tr>\n",
       "    <tr>\n",
       "      <th>1</th>\n",
       "      <td>1</td>\n",
       "      <td>0</td>\n",
       "      <td>0</td>\n",
       "      <td>1</td>\n",
       "      <td>9.02</td>\n",
       "      <td>13.635</td>\n",
       "      <td>80</td>\n",
       "      <td>0.0</td>\n",
       "      <td>8</td>\n",
       "      <td>32</td>\n",
       "      <td>40</td>\n",
       "      <td>2011-01-01 01:00:00</td>\n",
       "      <td>2011</td>\n",
       "      <td>1</td>\n",
       "      <td>1</td>\n",
       "      <td>1</td>\n",
       "      <td>0</td>\n",
       "      <td>0</td>\n",
       "      <td>5</td>\n",
       "    </tr>\n",
       "    <tr>\n",
       "      <th>2</th>\n",
       "      <td>1</td>\n",
       "      <td>0</td>\n",
       "      <td>0</td>\n",
       "      <td>1</td>\n",
       "      <td>9.02</td>\n",
       "      <td>13.635</td>\n",
       "      <td>80</td>\n",
       "      <td>0.0</td>\n",
       "      <td>5</td>\n",
       "      <td>27</td>\n",
       "      <td>32</td>\n",
       "      <td>2011-01-01 02:00:00</td>\n",
       "      <td>2011</td>\n",
       "      <td>1</td>\n",
       "      <td>1</td>\n",
       "      <td>2</td>\n",
       "      <td>0</td>\n",
       "      <td>0</td>\n",
       "      <td>5</td>\n",
       "    </tr>\n",
       "    <tr>\n",
       "      <th>3</th>\n",
       "      <td>1</td>\n",
       "      <td>0</td>\n",
       "      <td>0</td>\n",
       "      <td>1</td>\n",
       "      <td>9.84</td>\n",
       "      <td>14.395</td>\n",
       "      <td>75</td>\n",
       "      <td>0.0</td>\n",
       "      <td>3</td>\n",
       "      <td>10</td>\n",
       "      <td>13</td>\n",
       "      <td>2011-01-01 03:00:00</td>\n",
       "      <td>2011</td>\n",
       "      <td>1</td>\n",
       "      <td>1</td>\n",
       "      <td>3</td>\n",
       "      <td>0</td>\n",
       "      <td>0</td>\n",
       "      <td>5</td>\n",
       "    </tr>\n",
       "    <tr>\n",
       "      <th>4</th>\n",
       "      <td>1</td>\n",
       "      <td>0</td>\n",
       "      <td>0</td>\n",
       "      <td>1</td>\n",
       "      <td>9.84</td>\n",
       "      <td>14.395</td>\n",
       "      <td>75</td>\n",
       "      <td>0.0</td>\n",
       "      <td>0</td>\n",
       "      <td>1</td>\n",
       "      <td>1</td>\n",
       "      <td>2011-01-01 04:00:00</td>\n",
       "      <td>2011</td>\n",
       "      <td>1</td>\n",
       "      <td>1</td>\n",
       "      <td>4</td>\n",
       "      <td>0</td>\n",
       "      <td>0</td>\n",
       "      <td>5</td>\n",
       "    </tr>\n",
       "  </tbody>\n",
       "</table>\n",
       "</div>"
      ],
      "text/plain": [
       "   season  holiday  workingday  weather  temp   atemp  humidity  windspeed  \\\n",
       "0       1        0           0        1  9.84  14.395        81        0.0   \n",
       "1       1        0           0        1  9.02  13.635        80        0.0   \n",
       "2       1        0           0        1  9.02  13.635        80        0.0   \n",
       "3       1        0           0        1  9.84  14.395        75        0.0   \n",
       "4       1        0           0        1  9.84  14.395        75        0.0   \n",
       "\n",
       "   casual  registered  count            datetime  year  month  day  hour  \\\n",
       "0       3          13     16 2011-01-01 00:00:00  2011      1    1     0   \n",
       "1       8          32     40 2011-01-01 01:00:00  2011      1    1     1   \n",
       "2       5          27     32 2011-01-01 02:00:00  2011      1    1     2   \n",
       "3       3          10     13 2011-01-01 03:00:00  2011      1    1     3   \n",
       "4       0           1      1 2011-01-01 04:00:00  2011      1    1     4   \n",
       "\n",
       "   minute  second  dayofweek  \n",
       "0       0       0          5  \n",
       "1       0       0          5  \n",
       "2       0       0          5  \n",
       "3       0       0          5  \n",
       "4       0       0          5  "
      ]
     },
     "execution_count": 144,
     "metadata": {},
     "output_type": "execute_result"
    }
   ],
   "source": [
    "train['dayofweek'] = train['datetime'].dt.dayofweek\n",
    "train.head()"
   ]
  },
  {
   "cell_type": "markdown",
   "id": "412e65b5",
   "metadata": {},
   "source": [
    "> 위에서 데이터 잘 가공해 놨으니 조금만 손 봐서 쓰도록 하자.\n",
    ">\n",
    "> **월요일 == 0** 이다."
   ]
  },
  {
   "cell_type": "code",
   "execution_count": 150,
   "id": "74562c99",
   "metadata": {},
   "outputs": [
    {
     "name": "stdout",
     "output_type": "stream",
     "text": [
      "<class 'pandas.core.frame.DataFrame'>\n",
      "Int64Index: 43 entries, 60 to 10493\n",
      "Data columns (total 19 columns):\n",
      " #   Column      Non-Null Count  Dtype         \n",
      "---  ------      --------------  -----         \n",
      " 0   season      43 non-null     int64         \n",
      " 1   holiday     43 non-null     int64         \n",
      " 2   workingday  43 non-null     int64         \n",
      " 3   weather     43 non-null     int64         \n",
      " 4   temp        43 non-null     float64       \n",
      " 5   atemp       43 non-null     float64       \n",
      " 6   humidity    43 non-null     int64         \n",
      " 7   windspeed   43 non-null     float64       \n",
      " 8   casual      43 non-null     int64         \n",
      " 9   registered  43 non-null     int64         \n",
      " 10  count       43 non-null     int64         \n",
      " 11  datetime    43 non-null     datetime64[ns]\n",
      " 12  year        43 non-null     int64         \n",
      " 13  month       43 non-null     int64         \n",
      " 14  day         43 non-null     int64         \n",
      " 15  hour        43 non-null     int64         \n",
      " 16  minute      43 non-null     int64         \n",
      " 17  second      43 non-null     int64         \n",
      " 18  dayofweek   43 non-null     int64         \n",
      "dtypes: datetime64[ns](1), float64(3), int64(15)\n",
      "memory usage: 6.7 KB\n"
     ]
    }
   ],
   "source": [
    "# 날씨가 좋은 월요일 오후 3시\n",
    "\n",
    "monday = train[(train['weather'] == 1) & (train['dayofweek'] == 0) & (train['hour'] == 15)]\n",
    "monday.info()"
   ]
  },
  {
   "cell_type": "markdown",
   "id": "4866c8aa",
   "metadata": {},
   "source": [
    "### 어... 데이터가 너무 적네?\n",
    "- 컬럼이 19갠데... 데이터가 43개네...\n",
    "- 이러면 돌려봤자 성능이 그럭저럭일 것 같은데 그냥 평균 내는 게 낫지 않을까?"
   ]
  },
  {
   "cell_type": "code",
   "execution_count": 156,
   "id": "8825ca32",
   "metadata": {},
   "outputs": [
    {
     "name": "stdout",
     "output_type": "stream",
     "text": [
      "Done!\n"
     ]
    }
   ],
   "source": [
    "# 오버피팅 뜨더라도 돌려는 보자.. 평균값이랑 비교해보게\n",
    "\n",
    "X_m = monday[['holiday', 'workingday', 'weather', 'temp', 'atemp', 'humidity',\n",
    "           'windspeed', 'year', 'month', 'day', 'hour', 'minute', 'second', 'dayofweek']].values\n",
    "\n",
    "y_m = monday['count'].values\n",
    "\n",
    "print('Done!')"
   ]
  },
  {
   "cell_type": "code",
   "execution_count": 159,
   "id": "80481eaf",
   "metadata": {},
   "outputs": [
    {
     "name": "stdout",
     "output_type": "stream",
     "text": [
      "7859.912029121447\n",
      "88.65614490333677\n"
     ]
    }
   ],
   "source": [
    "# 모델링, 학습, 손실함수까지\n",
    "\n",
    "X_m_train, x_m_test, y_m_train, y_m_test = tts(X_m, y_m, test_size=0.1, random_state=17)\n",
    "\n",
    "model_m = LinearRegression()\n",
    "model_m.fit(X_m_train, y_m_train)\n",
    "\n",
    "pred_m = model_m.predict(x_m_test)\n",
    "pred_m\n",
    "\n",
    "mse = mean_squared_error(y_m_test, pred_m)\n",
    "print(mse)\n",
    "print(mse**0.5)"
   ]
  },
  {
   "cell_type": "code",
   "execution_count": 169,
   "id": "3d7e4316",
   "metadata": {},
   "outputs": [
    {
     "data": {
      "image/png": "[encoded data removed]",
      "text/plain": [
       "<Figure size 432x288 with 1 Axes>"
      ]
     },
     "metadata": {},
     "output_type": "display_data"
    }
   ],
   "source": [
    "# 시각화 해봅시다\n",
    "\n",
    "plt.scatter(x_m_test[:, 13], y_m_test, label=\"true\")\n",
    "plt.scatter(x_m_test[:, 13], pred_m, label=\"pred\")\n",
    "plt.legend()\n",
    "plt.show()"
   ]
  },
  {
   "cell_type": "markdown",
   "id": "a8681757",
   "metadata": {},
   "source": [
    "▶︎ 이제 평균값이랑 비교를 해보자."
   ]
  },
  {
   "cell_type": "code",
   "execution_count": 172,
   "id": "01384efc",
   "metadata": {},
   "outputs": [
    {
     "name": "stdout",
     "output_type": "stream",
     "text": [
      "215.13953488372093\n"
     ]
    }
   ],
   "source": [
    "# 평균값\n",
    "print(y_m.mean())"
   ]
  },
  {
   "cell_type": "markdown",
   "id": "48105b55",
   "metadata": {},
   "source": [
    "### 결론: 3배 가까이 차이난다 😢"
   ]
  },
  {
   "cell_type": "markdown",
   "id": "9ba5736b",
   "metadata": {},
   "source": [
    "# <span style=\"color:slateblue\">회고</span>"
   ]
  },
  {
   "cell_type": "markdown",
   "id": "392ce223",
   "metadata": {},
   "source": [
    "프로젝트 1에서 그래프 기울기가 낮아질수록 결과값이 좋게 나올 줄 알았는데 아니었다.\n",
    "\n",
    "수학 공부... 다시 해야 할 것 같다. 특히 미분 😨\n",
    "\n",
    "learning rate도 아직 잘 이해가 안 된다.\n",
    "\n",
    "밑시딥 책에 해당 파트에 대한 내용이 있던데, 다시 읽어보고 벨로그에 정리해야 할 것 같다.\n",
    "\n",
    "MSE, RMSE가 직관적으로는 이해가 되는데 수식이 잘 이해가 안되서...\n",
    "\n",
    "(또 수학...)\n",
    "\n",
    "\n",
    "더 공부하겠습니다... 수학 스터디라도 만들어야 하나... 에효...."
   ]
  },
  {
   "cell_type": "markdown",
   "id": "4af05180",
   "metadata": {},
   "source": [
    "> ### Ref.\n",
    ">\n",
    "> - [addison's velog]      | https://bit.ly/38OugLu\n",
    "> - [Seaborn countplot]    | https://blog.naver.com/ai05024/222314685144"
   ]
  }
 ],
 "metadata": {
  "kernelspec": {
   "display_name": "Python 3 (ipykernel)",
   "language": "python",
   "name": "python3"
  },
  "language_info": {
   "codemirror_mode": {
    "name": "ipython",
    "version": 3
   },
   "file_extension": ".py",
   "mimetype": "text/x-python",
   "name": "python",
   "nbconvert_exporter": "python",
   "pygments_lexer": "ipython3",
   "version": "3.9.7"
  }
 },
 "nbformat": 4,
 "nbformat_minor": 5
}

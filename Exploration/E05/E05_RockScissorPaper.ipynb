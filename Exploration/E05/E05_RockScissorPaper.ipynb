{
  "cells": [
    {
      "cell_type": "markdown",
      "metadata": {
        "id": "view-in-github",
        "colab_type": "text"
      },
      "source": [
        "<a href=\"https://colab.research.google.com/github/ethan-yoo/2022_aiffel_exp/blob/main/E05_RSP.ipynb\" target=\"_parent\"><img src=\"https://colab.research.google.com/assets/colab-badge.svg\" alt=\"Open In Colab\"/></a>"
      ]
    },
    {
      "cell_type": "markdown",
      "metadata": {
        "id": "6NQpwvxuU9lo"
      },
      "source": [
        "# <font color='slateblue'>**E05. 가위바위보 분류기 만들기 ✌️✊🖐</font>**"
      ]
    },
    {
      "cell_type": "markdown",
      "metadata": {
        "id": "1Z8enytcVECV"
      },
      "source": [
        "---"
      ]
    },
    {
      "cell_type": "markdown",
      "metadata": {
        "id": "-JyiGiOBVKg7"
      },
      "source": [
        "## **01. 데이터 가져오기**\n",
        "\n",
        "- 훈련과 테스트에 쓸 데이터를 가져옵니다."
      ]
    },
    {
      "cell_type": "code",
      "execution_count": null,
      "metadata": {
        "colab": {
          "base_uri": "https://localhost:8080/"
        },
        "id": "dX5Utj2U7dMl",
        "outputId": "6620c439-8c1f-40f2-ea72-8dfeb2dc44f2"
      },
      "outputs": [
        {
          "output_type": "stream",
          "name": "stdout",
          "text": [
            "Mounted at /content/drive\n"
          ]
        }
      ],
      "source": [
        "from google.colab import drive\n",
        "drive.mount('/content/drive')\n"
      ]
    },
    {
      "cell_type": "markdown",
      "metadata": {
        "id": "H2gEq9b68IJh"
      },
      "source": [
        "✌️ 사용할 이미지 규격은 28*28이니 리사이징을 해줍니다."
      ]
    },
    {
      "cell_type": "code",
      "execution_count": null,
      "metadata": {
        "colab": {
          "base_uri": "https://localhost:8080/"
        },
        "id": "3Jf1ULCL88QQ",
        "outputId": "107b91d8-5b93-4595-bb26-09166334f0ae"
      },
      "outputs": [
        {
          "output_type": "stream",
          "name": "stdout",
          "text": [
            "Done!\n"
          ]
        }
      ],
      "source": [
        "from PIL import Image\n",
        "import glob\n",
        "import os\n",
        "\n",
        "# 리사이징 함수 생성\n",
        "def resize_images(img_path):\n",
        "\timages=glob.glob(img_path + \"/*.jpg\")  \n",
        "    \n",
        "\tprint(len(images), \" images to be resized.\")\n",
        "\n",
        "    # 28x28 사이즈로 변환\n",
        "\ttarget_size=(28,28)\n",
        " \n",
        "\tfor img in images:\n",
        "\t\told_img=Image.open(img)\n",
        "\t\tnew_img=old_img.resize(target_size,Image.ANTIALIAS)\n",
        "\t\tnew_img.save(img, \"JPEG\")\n",
        "    \n",
        "\tprint(len(images), \" images resized.\")\n",
        "\n",
        "print('Done!')"
      ]
    },
    {
      "cell_type": "code",
      "execution_count": null,
      "metadata": {
        "colab": {
          "base_uri": "https://localhost:8080/"
        },
        "id": "w09Wd3hf9yqk",
        "outputId": "187cdb84-268d-4fef-df2a-b0cf57c2ea63"
      },
      "outputs": [
        {
          "output_type": "stream",
          "name": "stdout",
          "text": [
            "840  images to be resized.\n",
            "840  images resized.\n",
            "resize Done!\n"
          ]
        }
      ],
      "source": [
        "# 가위 리사이징\n",
        "image_dir_path = \"/content/drive/MyDrive/AIFFEL/E05/train_resized/scissor\"\n",
        "resize_images(image_dir_path)\n",
        "\n",
        "print(\"resize Done!\")"
      ]
    },
    {
      "cell_type": "code",
      "execution_count": null,
      "metadata": {
        "colab": {
          "base_uri": "https://localhost:8080/"
        },
        "id": "E1_ej3s294gs",
        "outputId": "9891886c-bdaf-41a7-c865-53b58d664581"
      },
      "outputs": [
        {
          "output_type": "stream",
          "name": "stdout",
          "text": [
            "840  images to be resized.\n",
            "840  images resized.\n",
            "resize Done!\n"
          ]
        }
      ],
      "source": [
        "# 바위 리사이징\n",
        "image_dir_path = \"/content/drive/MyDrive/AIFFEL/E05/train_resized/rock\"\n",
        "resize_images(image_dir_path)\n",
        "\n",
        "print(\"resize Done!\")"
      ]
    },
    {
      "cell_type": "code",
      "execution_count": null,
      "metadata": {
        "colab": {
          "base_uri": "https://localhost:8080/"
        },
        "id": "s_2P6A8t-KiZ",
        "outputId": "f2b4d529-ce5f-4e26-9c96-f81c29898a5a"
      },
      "outputs": [
        {
          "output_type": "stream",
          "name": "stdout",
          "text": [
            "840  images to be resized.\n",
            "840  images resized.\n",
            "resize Done!\n"
          ]
        }
      ],
      "source": [
        "# 보 리사이징\n",
        "image_dir_path = \"/content/drive/MyDrive/AIFFEL/E05/train_resized/paper\"\n",
        "resize_images(image_dir_path)\n",
        "\n",
        "print(\"resize Done!\")"
      ]
    },
    {
      "cell_type": "markdown",
      "metadata": {
        "id": "7y4NypUQ-N9o"
      },
      "source": [
        "✊ 잘 처리된 것 같습니다.\n",
        "\n",
        "가위, 바위, 보 각 840개씩 총 2520개의 데이터네요!"
      ]
    },
    {
      "cell_type": "markdown",
      "metadata": {
        "id": "z_iRadfo_ZUJ"
      },
      "source": [
        "---"
      ]
    },
    {
      "cell_type": "markdown",
      "metadata": {
        "id": "_B0x58Ny_bzZ"
      },
      "source": [
        "## **02. 데이터 읽기 & 라벨링**\n",
        "\n",
        "- 가위바위보는 총 3종류의 데이터를 가지고 있습니다.\n",
        "\n",
        "- 따라서 데이터를 읽을 때 어떤 카테고리에 속하는지에 대한 정보를 주어야 합니다. (라벨링)"
      ]
    },
    {
      "cell_type": "code",
      "execution_count": null,
      "metadata": {
        "colab": {
          "base_uri": "https://localhost:8080/"
        },
        "id": "YkncOSsl_d5D",
        "outputId": "086b2d1a-e1c1-48b0-c3ef-5fd548fe9d61"
      },
      "outputs": [
        {
          "output_type": "stream",
          "name": "stdout",
          "text": [
            "Done!\n"
          ]
        }
      ],
      "source": [
        "import numpy as np\n",
        "\n",
        "def load_data(img_path, number_of_data):  # 가위+바위+보\n",
        "\n",
        "    # 라벨링 (가위:0, 바위:1, 보:2)\n",
        "    img_size=28\n",
        "    color=3\n",
        "\n",
        "    # 이미지 데이터와 라벨(가위:0, 바위:1, 보:2) 데이터를 담을 행렬 영역을 생성\n",
        "    imgs = np.zeros(number_of_data*img_size*img_size*color,dtype=np.int32).reshape(number_of_data,img_size,img_size,color)\n",
        "    labels = np.zeros(number_of_data,dtype=np.int32)\n",
        "\n",
        "    idx=0\n",
        "\n",
        "    # 가위: 0\n",
        "    for file in glob.iglob(img_path+'/scissor/*.jpg'):\n",
        "        img = np.array(Image.open(file),dtype=np.int32)\n",
        "        imgs[idx,:,:,:]=img    # 데이터 영역에 이미지 행렬을 복사\n",
        "        labels[idx]=0\n",
        "        idx=idx+1\n",
        "\n",
        "    # 바위: 1\n",
        "    for file in glob.iglob(img_path+'/rock/*.jpg'):\n",
        "        img = np.array(Image.open(file),dtype=np.int32)\n",
        "        imgs[idx,:,:,:]=img    # 데이터 영역에 이미지 행렬을 복사\n",
        "        labels[idx]=1\n",
        "        idx=idx+1  \n",
        "    \n",
        "    # 보: 2\n",
        "    for file in glob.iglob(img_path+'/paper/*.jpg'):\n",
        "        img = np.array(Image.open(file),dtype=np.int32)\n",
        "        imgs[idx,:,:,:]=img    # 데이터 영역에 이미지 행렬을 복사\n",
        "        labels[idx]=2\n",
        "        idx=idx+1\n",
        "        \n",
        "    print(\"학습데이터의 이미지 개수는\", idx,\"입니다.\")\n",
        "    return imgs, labels\n",
        "\n",
        "print('Done!')"
      ]
    },
    {
      "cell_type": "code",
      "execution_count": null,
      "metadata": {
        "colab": {
          "base_uri": "https://localhost:8080/"
        },
        "id": "00rKZ4qPAng5",
        "outputId": "1a1d8599-8ab3-40cb-efac-ebd39e966838"
      },
      "outputs": [
        {
          "output_type": "stream",
          "name": "stdout",
          "text": [
            "학습데이터의 이미지 개수는 2520 입니다.\n",
            "x_train shape: (2520, 28, 28, 3)\n",
            "y_train shape: (2520,)\n"
          ]
        }
      ],
      "source": [
        "# 정규화를 해줍니다.\n",
        "\n",
        "image_dir_path = \"/content/drive/MyDrive/AIFFEL/E05/train_resized\"\n",
        "(x_train, y_train)=load_data(image_dir_path, 2520)\n",
        "x_train_norm = x_train/255.0   # 입력은 0~1 사이의 값으로 정규화\n",
        "\n",
        "print(\"x_train shape: {}\".format(x_train.shape))\n",
        "print(\"y_train shape: {}\".format(y_train.shape))\n"
      ]
    },
    {
      "cell_type": "code",
      "execution_count": null,
      "metadata": {
        "colab": {
          "base_uri": "https://localhost:8080/"
        },
        "id": "oFT5IGwz_IOS",
        "outputId": "ee54d970-b5ce-4090-b4d8-4194f54a3458"
      },
      "outputs": [
        {
          "output_type": "stream",
          "name": "stdout",
          "text": [
            "최소값: 0.0  최대값: 1.0\n"
          ]
        }
      ],
      "source": [
        "# 정규화 결과 확인\n",
        "print('최소값:',np.min(x_train_norm), ' 최대값:',np.max(x_train_norm))"
      ]
    },
    {
      "cell_type": "markdown",
      "metadata": {
        "id": "kfNyoirQA27s"
      },
      "source": [
        "🖐 잘 처리되었습니다. 한번 확인해볼까요?"
      ]
    },
    {
      "cell_type": "code",
      "execution_count": null,
      "metadata": {
        "colab": {
          "base_uri": "https://localhost:8080/",
          "height": 283
        },
        "id": "UA17CAD-BCAs",
        "outputId": "1a3c72be-e0c9-485e-a398-5683536ebc99"
      },
      "outputs": [
        {
          "output_type": "stream",
          "name": "stdout",
          "text": [
            "라벨:  0\n"
          ]
        },
        {
          "output_type": "display_data",
          "data": {
            "text/plain": [
              "<Figure size 432x288 with 1 Axes>"
            ],
            "image/png": "[encoded data removed]"
          },
          "metadata": {
            "needs_background": "light"
          }
        }
      ],
      "source": [
        "import matplotlib.pyplot as plt\n",
        "\n",
        "plt.imshow(x_train[0])\n",
        "print('라벨: ', y_train[0])"
      ]
    },
    {
      "cell_type": "markdown",
      "metadata": {
        "id": "-ZskzqanBKOX"
      },
      "source": [
        "✌️ 첫 테스트 데이터는 가위인 것 같네요.\n",
        "\n",
        "하지만 아직 학습을 하지 않았으니 모델은 이게 뭔지 모를 겁니다.\n",
        "\n",
        "이제 딥러닝을 통해 이게 뭔지 가르쳐줘야 한다는 거죠!"
      ]
    },
    {
      "cell_type": "markdown",
      "metadata": {
        "id": "OVP0vJ7LBY19"
      },
      "source": [
        "---"
      ]
    },
    {
      "cell_type": "markdown",
      "metadata": {
        "id": "HkgVx5JnCtQS"
      },
      "source": [
        "## **03. 딥러닝 네트워크 설계하기**\n",
        "\n",
        "- 일단 필요한 모듈부터 가져오겠습니다."
      ]
    },
    {
      "cell_type": "code",
      "execution_count": null,
      "metadata": {
        "colab": {
          "base_uri": "https://localhost:8080/"
        },
        "id": "UDE4fKBdC1da",
        "outputId": "f522b342-ce38-4c75-b788-133e0e33b2d9"
      },
      "outputs": [
        {
          "output_type": "stream",
          "name": "stdout",
          "text": [
            "Done!\n"
          ]
        }
      ],
      "source": [
        "import tensorflow as tf\n",
        "from tensorflow import keras\n",
        "import numpy as np\n",
        "\n",
        "print('Done!')"
      ]
    },
    {
      "cell_type": "markdown",
      "metadata": {
        "id": "8TKY0N0VDGSs"
      },
      "source": [
        "✊ 흠, 어떤 네트워크를 써야 할까요?\n",
        "\n",
        "일단 기본적인 LeNet을 사용해봅시다."
      ]
    },
    {
      "cell_type": "markdown",
      "metadata": {
        "id": "gZto3MhkC6WG"
      },
      "source": [
        "![F-1-5.max-800x600.png](data:image/png;base64,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)"
      ]
    },
    {
      "cell_type": "code",
      "execution_count": null,
      "metadata": {
        "id": "VbycBRLneO_i",
        "colab": {
          "base_uri": "https://localhost:8080/"
        },
        "outputId": "bac2b4fa-4d74-4211-c7db-932a903d3cec"
      },
      "outputs": [
        {
          "output_type": "stream",
          "name": "stdout",
          "text": [
            "Model: \"sequential_27\"\n",
            "_________________________________________________________________\n",
            " Layer (type)                Output Shape              Param #   \n",
            "=================================================================\n",
            " conv2d_52 (Conv2D)          (None, 26, 26, 64)        1792      \n",
            "                                                                 \n",
            " max_pooling2d_52 (MaxPoolin  (None, 13, 13, 64)       0         \n",
            " g2D)                                                            \n",
            "                                                                 \n",
            " conv2d_53 (Conv2D)          (None, 11, 11, 128)       73856     \n",
            "                                                                 \n",
            " max_pooling2d_53 (MaxPoolin  (None, 5, 5, 128)        0         \n",
            " g2D)                                                            \n",
            "                                                                 \n",
            " flatten_26 (Flatten)        (None, 3200)              0         \n",
            "                                                                 \n",
            " dense_52 (Dense)            (None, 32)                102432    \n",
            "                                                                 \n",
            " dense_53 (Dense)            (None, 3)                 99        \n",
            "                                                                 \n",
            "=================================================================\n",
            "Total params: 178,179\n",
            "Trainable params: 178,179\n",
            "Non-trainable params: 0\n",
            "_________________________________________________________________\n"
          ]
        }
      ],
      "source": [
        "# LeNet 네트워크 설계\n",
        "\n",
        "channel_1 = 64\n",
        "channel_2 = 128\n",
        "dense = 32\n",
        "\n",
        "model=keras.models.Sequential()\n",
        "model.add(keras.layers.Conv2D(channel_1, (3,3), activation='relu', input_shape=(28,28,3)))\n",
        "model.add(keras.layers.MaxPool2D(2,2))\n",
        "model.add(keras.layers.Conv2D(channel_2, (3,3), activation='relu'))\n",
        "model.add(keras.layers.MaxPooling2D((2,2)))\n",
        "model.add(keras.layers.Flatten())\n",
        "model.add(keras.layers.Dense(dense, activation='relu'))\n",
        "model.add(keras.layers.Dense(3, activation='softmax'))\n",
        "\n",
        "\n",
        "model.summary()"
      ]
    },
    {
      "cell_type": "markdown",
      "metadata": {
        "id": "h4Voy7K7h2Rp"
      },
      "source": [
        "🖐 네트워크 모델을 설계했으니 이제 학습을 시켜봐야겠죠?"
      ]
    },
    {
      "cell_type": "markdown",
      "metadata": {
        "id": "OtetCwkN90Lk"
      },
      "source": [
        "---"
      ]
    },
    {
      "cell_type": "markdown",
      "metadata": {
        "id": "8egX23Ph91YO"
      },
      "source": [
        "## **04. 모델 훈련 & 평가하기**"
      ]
    },
    {
      "cell_type": "markdown",
      "metadata": {
        "id": "R1COU-lx-zse"
      },
      "source": [
        "🖐 테스트용 데이터도 마찬가지로 리사이징과 정규화를 해줍니다."
      ]
    },
    {
      "cell_type": "code",
      "source": [
        "# 테스트 이미지 리사이징\n",
        "\n",
        "# 가위\n",
        "image_dir_path = \"/content/drive/MyDrive/AIFFEL/E05/test_sh/scissor\"\n",
        "resize_images(image_dir_path)\n",
        "\n",
        "# 바위\n",
        "image_dir_path = \"/content/drive/MyDrive/AIFFEL/E05/test_sh/rock\"\n",
        "resize_images(image_dir_path)\n",
        "\n",
        "# 보\n",
        "image_dir_path = \"/content/drive/MyDrive/AIFFEL/E05/test_sh/paper\"\n",
        "resize_images(image_dir_path)\n"
      ],
      "metadata": {
        "colab": {
          "base_uri": "https://localhost:8080/"
        },
        "id": "JW_yF74KZN5M",
        "outputId": "8c66eb7c-1ca8-4260-a1d5-3273e08e0e97"
      },
      "execution_count": null,
      "outputs": [
        {
          "output_type": "stream",
          "name": "stdout",
          "text": [
            "300  images to be resized.\n",
            "300  images resized.\n",
            "300  images to be resized.\n",
            "300  images resized.\n",
            "300  images to be resized.\n",
            "300  images resized.\n"
          ]
        }
      ]
    },
    {
      "cell_type": "code",
      "execution_count": null,
      "metadata": {
        "colab": {
          "base_uri": "https://localhost:8080/"
        },
        "id": "PFfDacKzir_o",
        "outputId": "3af7064d-613b-4080-fa27-5dd725adf13e"
      },
      "outputs": [
        {
          "output_type": "stream",
          "name": "stdout",
          "text": [
            "학습데이터의 이미지 개수는 900 입니다.\n"
          ]
        }
      ],
      "source": [
        "image_dir_path = \"/content/drive/MyDrive/AIFFEL/E05/test_sh\"\n",
        "(x_test, y_test)=load_data(image_dir_path, 900)\n",
        "x_test_norm = x_test/255.0"
      ]
    },
    {
      "cell_type": "code",
      "execution_count": null,
      "metadata": {
        "colab": {
          "base_uri": "https://localhost:8080/"
        },
        "id": "_tZLF3HjVZM_",
        "outputId": "89247704-3e5f-4039-a9e1-602aa71b02b7"
      },
      "outputs": [
        {
          "output_type": "stream",
          "name": "stdout",
          "text": [
            "최소값: 0.0  최대값: 1.0\n"
          ]
        }
      ],
      "source": [
        "# 정규화 결과 확인\n",
        "print('최소값:',np.min(x_test_norm), ' 최대값:',np.max(x_test_norm))"
      ]
    },
    {
      "cell_type": "code",
      "source": [
        "# 학습을 시켜봅시다.\n",
        "x_train_reshaped = x_train_norm.reshape(-1, 28, 28, 3)\n",
        "x_test_reshaped = x_test_norm.reshape(-1, 28, 28, 3)\n"
      ],
      "metadata": {
        "id": "7ASn1aXdzeKZ"
      },
      "execution_count": null,
      "outputs": []
    },
    {
      "cell_type": "code",
      "execution_count": null,
      "metadata": {
        "colab": {
          "base_uri": "https://localhost:8080/"
        },
        "id": "AOxVZhEVihNU",
        "outputId": "d73440ca-1ca1-47b0-c9ef-3de54b7f7d49"
      },
      "outputs": [
        {
          "output_type": "stream",
          "name": "stdout",
          "text": [
            "Epoch 1/30\n",
            "71/71 [==============================] - 6s 79ms/step - loss: 0.7634 - accuracy: 0.6733 - val_loss: 1.6249 - val_accuracy: 0.2817\n",
            "Epoch 2/30\n",
            "71/71 [==============================] - 5s 74ms/step - loss: 0.1576 - accuracy: 0.9696 - val_loss: 0.2746 - val_accuracy: 0.8770\n",
            "Epoch 3/30\n",
            "71/71 [==============================] - 5s 75ms/step - loss: 0.0420 - accuracy: 0.9938 - val_loss: 0.5499 - val_accuracy: 0.7540\n",
            "Epoch 4/30\n",
            "71/71 [==============================] - 5s 74ms/step - loss: 0.0202 - accuracy: 0.9974 - val_loss: 0.3842 - val_accuracy: 0.8413\n",
            "Epoch 5/30\n",
            "71/71 [==============================] - 5s 75ms/step - loss: 0.0095 - accuracy: 0.9978 - val_loss: 0.1390 - val_accuracy: 0.9246\n",
            "Epoch 6/30\n",
            "71/71 [==============================] - 5s 75ms/step - loss: 0.0046 - accuracy: 1.0000 - val_loss: 0.2907 - val_accuracy: 0.8770\n",
            "Epoch 7/30\n",
            "71/71 [==============================] - 5s 73ms/step - loss: 0.0034 - accuracy: 1.0000 - val_loss: 0.2969 - val_accuracy: 0.8770\n",
            "Epoch 8/30\n",
            "71/71 [==============================] - 5s 74ms/step - loss: 0.0021 - accuracy: 1.0000 - val_loss: 0.3978 - val_accuracy: 0.8571\n",
            "Epoch 9/30\n",
            "71/71 [==============================] - 5s 73ms/step - loss: 0.0015 - accuracy: 1.0000 - val_loss: 0.3451 - val_accuracy: 0.8690\n",
            "Epoch 10/30\n",
            "71/71 [==============================] - 5s 74ms/step - loss: 0.0011 - accuracy: 1.0000 - val_loss: 0.4131 - val_accuracy: 0.8492\n"
          ]
        }
      ],
      "source": [
        "# EarlyStopping 모듈을 사용합니다.\n",
        "from tensorflow.keras.callbacks import EarlyStopping as es\n",
        "\n",
        "model.compile(optimizer='adam',\n",
        "             loss='sparse_categorical_crossentropy',\n",
        "             metrics=['accuracy'])\n",
        "\n",
        "history = model.fit(x_train_reshaped, y_train, epochs=30,\n",
        "                    validation_split=0.1,\n",
        "                    callbacks = [es(patience=5, monitor='val_loss')])"
      ]
    },
    {
      "cell_type": "markdown",
      "metadata": {
        "id": "GRSIoN6w8_IF"
      },
      "source": [
        "✌️ 음... loss와 accuracy 값이 날뛰는 군요.\n",
        "\n",
        "한 번 어떻게 학습을 했는지 시각화를 해봅시다."
      ]
    },
    {
      "cell_type": "code",
      "execution_count": null,
      "metadata": {
        "id": "rHczZpOK8ZG9",
        "colab": {
          "base_uri": "https://localhost:8080/",
          "height": 279
        },
        "outputId": "a7b44475-eebb-4692-a7fb-4e806dcf56dd"
      },
      "outputs": [
        {
          "output_type": "display_data",
          "data": {
            "text/plain": [
              "<Figure size 432x288 with 1 Axes>"
            ],
            "image/png": "[encoded data removed]"
          },
          "metadata": {
            "needs_background": "light"
          }
        }
      ],
      "source": [
        "# 시각화\n",
        "plt.plot(history.history['loss'], '--o', color = 'red', label = 'train_loss')\n",
        "plt.plot(history.history['val_loss'], '--o', color = 'blue', label = 'val_loss')\n",
        "\n",
        "plt.xlabel('Epochs')\n",
        "plt.ylabel('Loss')\n",
        "plt.legend()\n",
        "plt.grid()"
      ]
    },
    {
      "cell_type": "markdown",
      "metadata": {
        "id": "_63NJ47p9aCA"
      },
      "source": [
        "✊ 그럭저럭 무난하게 학습이 된 것 같습니다.\n",
        "\n",
        "그래프를 보니 val_loss 값이 0.2~0.4 부근에서 왔다갔다 수렴하는 게 조금 아쉽습니다.\n",
        "\n",
        "아무래도 train 데이터 숫자가 부족한 것 같지만, 일단 지금은 먼저 평가를 해 보겠습니다."
      ]
    },
    {
      "cell_type": "code",
      "execution_count": null,
      "metadata": {
        "colab": {
          "base_uri": "https://localhost:8080/"
        },
        "id": "jMGilokEfdD-",
        "outputId": "4ddeb84e-a049-4eb6-b448-4e51ef9fc575"
      },
      "outputs": [
        {
          "output_type": "stream",
          "name": "stdout",
          "text": [
            "29/29 - 1s - loss: 2.4892 - accuracy: 0.4789 - 518ms/epoch - 18ms/step\n",
            "test_loss: 2.4891738891601562 \n",
            "test_accuracy: 0.4788888990879059\n"
          ]
        }
      ],
      "source": [
        "# 평가하기\n",
        "\n",
        "test_loss, test_accuracy = model.evaluate(x_test_reshaped, y_test, verbose=2)\n",
        "print(\"test_loss: {} \".format(test_loss))\n",
        "print(\"test_accuracy: {}\".format(test_accuracy))"
      ]
    },
    {
      "cell_type": "markdown",
      "source": [
        "🖐 정확도는 약 47.8%입니다.\n",
        "\n",
        "맞냐 틀리냐 반반 무많이에서 무를 빼 버린 것 같은 애매한 수치네요."
      ],
      "metadata": {
        "id": "6YPjPrgRjJAO"
      }
    },
    {
      "cell_type": "markdown",
      "source": [
        "---"
      ],
      "metadata": {
        "id": "QxTTgQHmftUp"
      }
    },
    {
      "cell_type": "markdown",
      "source": [
        "## **Let's think...🤔🤔🤔**\n",
        "- 원래 목표인 60%를 달성하려면 어떻게 해야 할까요?"
      ],
      "metadata": {
        "id": "CNOFtq8UfuOy"
      }
    },
    {
      "cell_type": "markdown",
      "source": [
        "> 1. train 데이터 추가\n",
        ">\n",
        "> 2. (추가적인) 데이터 전처리\n",
        ">\n",
        "> 3. 네트워크 파라미터 튜닝\n",
        ">\n",
        "> 4. 활성화 함수 변경\n",
        ">\n",
        "> 5. 다른 네트워크 모델 사용\n",
        "\n",
        "정도를 생각해 볼 수 있겠네요.\n",
        "\n",
        "하지만 그 전에 먼저 어디를 어떻게 틀리고 있는지 살펴봐야겠죠?"
      ],
      "metadata": {
        "id": "L_CgATQbf-ST"
      }
    },
    {
      "cell_type": "markdown",
      "source": [
        "---"
      ],
      "metadata": {
        "id": "4UxoDvu_HNgB"
      }
    },
    {
      "cell_type": "markdown",
      "source": [
        "## **05. 어디를 어떻게 틀렸을까?**"
      ],
      "metadata": {
        "id": "4stzTIqLHvxG"
      }
    },
    {
      "cell_type": "code",
      "source": [
        "predicted_result = model.predict(x_test_reshaped)  # model이 추론한 확률값. \n",
        "predicted_labels = np.argmax(predicted_result, axis=1)\n",
        "\n",
        "idx=4  # 4번째 x_test\n",
        "print('model.predict() 결과 : ', predicted_result[idx])\n",
        "print('model이 추론한 가장 가능성이 높은 결과 : ', predicted_labels[idx])\n",
        "print('실제 데이터의 라벨 : ', y_test[idx])"
      ],
      "metadata": {
        "id": "f7fLeqeaYYgY",
        "colab": {
          "base_uri": "https://localhost:8080/"
        },
        "outputId": "4645eac2-7799-4528-995e-64b26fa40af5"
      },
      "execution_count": null,
      "outputs": [
        {
          "output_type": "stream",
          "name": "stdout",
          "text": [
            "model.predict() 결과 :  [0.17402168 0.00225374 0.8237245 ]\n",
            "model이 추론한 가장 가능성이 높은 결과 :  2\n",
            "실제 데이터의 라벨 :  0\n"
          ]
        }
      ]
    },
    {
      "cell_type": "code",
      "source": [
        "plt.imshow(x_test[idx],cmap=plt.cm.binary)\n",
        "plt.show()"
      ],
      "metadata": {
        "colab": {
          "base_uri": "https://localhost:8080/",
          "height": 265
        },
        "id": "nFJntRALgFu5",
        "outputId": "058c13de-c171-423d-d303-def066a982bd"
      },
      "execution_count": null,
      "outputs": [
        {
          "output_type": "display_data",
          "data": {
            "text/plain": [
              "<Figure size 432x288 with 1 Axes>"
            ],
            "image/png": "[encoded data removed]"
          },
          "metadata": {
            "needs_background": "light"
          }
        }
      ]
    },
    {
      "cell_type": "markdown",
      "source": [
        "✌️ 음... 이미지 일부가 잘려서 잘 못 알아봤던 걸까요?\n",
        "\n",
        "다른 오답도 살펴봅시다."
      ],
      "metadata": {
        "id": "7WzFsd60gJnc"
      }
    },
    {
      "cell_type": "code",
      "source": [
        "predicted_result = model.predict(x_test_reshaped) \n",
        "predicted_labels = np.argmax(predicted_result, axis=1)\n",
        "\n",
        "idx=5\n",
        "print('model.predict() 결과 : ', predicted_result[idx])\n",
        "print('model이 추론한 가장 가능성이 높은 결과 : ', predicted_labels[idx])\n",
        "print('실제 데이터의 라벨 : ', y_test[idx])\n",
        "\n",
        "plt.imshow(x_test[idx],cmap=plt.cm.binary)\n",
        "plt.show()"
      ],
      "metadata": {
        "colab": {
          "base_uri": "https://localhost:8080/",
          "height": 318
        },
        "id": "WWdISnk2mdKA",
        "outputId": "7da7ea18-abd7-4e93-cca7-2ff1c676f0e8"
      },
      "execution_count": null,
      "outputs": [
        {
          "output_type": "stream",
          "name": "stdout",
          "text": [
            "model.predict() 결과 :  [0.16340332 0.00201874 0.8345779 ]\n",
            "model이 추론한 가장 가능성이 높은 결과 :  2\n",
            "실제 데이터의 라벨 :  0\n"
          ]
        },
        {
          "output_type": "display_data",
          "data": {
            "text/plain": [
              "<Figure size 432x288 with 1 Axes>"
            ],
            "image/png": "[encoded data removed]"
          },
          "metadata": {
            "needs_background": "light"
          }
        }
      ]
    },
    {
      "cell_type": "code",
      "source": [
        "predicted_result = model.predict(x_test_reshaped) \n",
        "predicted_labels = np.argmax(predicted_result, axis=1)\n",
        "\n",
        "idx=6\n",
        "print('model.predict() 결과 : ', predicted_result[idx])\n",
        "print('model이 추론한 가장 가능성이 높은 결과 : ', predicted_labels[idx])\n",
        "print('실제 데이터의 라벨 : ', y_test[idx])\n",
        "\n",
        "plt.imshow(x_test[idx],cmap=plt.cm.binary)\n",
        "plt.show()"
      ],
      "metadata": {
        "colab": {
          "base_uri": "https://localhost:8080/",
          "height": 318
        },
        "id": "SLRFBc_Tmg6j",
        "outputId": "5edce75b-73bd-44f2-8121-205181746ef9"
      },
      "execution_count": null,
      "outputs": [
        {
          "output_type": "stream",
          "name": "stdout",
          "text": [
            "model.predict() 결과 :  [0.04957283 0.05207722 0.8983499 ]\n",
            "model이 추론한 가장 가능성이 높은 결과 :  2\n",
            "실제 데이터의 라벨 :  0\n"
          ]
        },
        {
          "output_type": "display_data",
          "data": {
            "text/plain": [
              "<Figure size 432x288 with 1 Axes>"
            ],
            "image/png": "[encoded data removed]"
          },
          "metadata": {
            "needs_background": "light"
          }
        }
      ]
    },
    {
      "cell_type": "code",
      "source": [
        "predicted_result = model.predict(x_test_reshaped) \n",
        "predicted_labels = np.argmax(predicted_result, axis=1)\n",
        "\n",
        "idx=7\n",
        "print('model.predict() 결과 : ', predicted_result[idx])\n",
        "print('model이 추론한 가장 가능성이 높은 결과 : ', predicted_labels[idx])\n",
        "print('실제 데이터의 라벨 : ', y_test[idx])\n",
        "\n",
        "plt.imshow(x_test[idx],cmap=plt.cm.binary)\n",
        "plt.show()"
      ],
      "metadata": {
        "colab": {
          "base_uri": "https://localhost:8080/",
          "height": 318
        },
        "id": "cc24dkBsmlQi",
        "outputId": "5f6c1ec2-1fad-4bdc-9f13-554dc8be0f11"
      },
      "execution_count": null,
      "outputs": [
        {
          "output_type": "stream",
          "name": "stdout",
          "text": [
            "model.predict() 결과 :  [0.09884832 0.01639368 0.884758  ]\n",
            "model이 추론한 가장 가능성이 높은 결과 :  2\n",
            "실제 데이터의 라벨 :  0\n"
          ]
        },
        {
          "output_type": "display_data",
          "data": {
            "text/plain": [
              "<Figure size 432x288 with 1 Axes>"
            ],
            "image/png": "[encoded data removed]"
          },
          "metadata": {
            "needs_background": "light"
          }
        }
      ]
    },
    {
      "cell_type": "code",
      "source": [
        "predicted_result = model.predict(x_test_reshaped) \n",
        "predicted_labels = np.argmax(predicted_result, axis=1)\n",
        "\n",
        "idx=1\n",
        "print('model.predict() 결과 : ', predicted_result[idx])\n",
        "print('model이 추론한 가장 가능성이 높은 결과 : ', predicted_labels[idx])\n",
        "print('실제 데이터의 라벨 : ', y_test[idx])\n",
        "\n",
        "plt.imshow(x_test[idx],cmap=plt.cm.binary)\n",
        "plt.show()"
      ],
      "metadata": {
        "colab": {
          "base_uri": "https://localhost:8080/",
          "height": 318
        },
        "id": "nLo_MzkD0AA5",
        "outputId": "6335932c-b6fc-4041-8d6c-f829d5594336"
      },
      "execution_count": null,
      "outputs": [
        {
          "output_type": "stream",
          "name": "stdout",
          "text": [
            "model.predict() 결과 :  [0.79115885 0.0014741  0.20736706]\n",
            "model이 추론한 가장 가능성이 높은 결과 :  0\n",
            "실제 데이터의 라벨 :  0\n"
          ]
        },
        {
          "output_type": "display_data",
          "data": {
            "text/plain": [
              "<Figure size 432x288 with 1 Axes>"
            ],
            "image/png": "[encoded data removed]"
          },
          "metadata": {
            "needs_background": "light"
          }
        }
      ]
    },
    {
      "cell_type": "markdown",
      "source": [
        "✊ 이건 정답을 맞혔네요.\n",
        "\n",
        "오답들을 보니 아무래도 학습한 이미지에서 일부가 누락되면 (손목 부분이 없다거나) 잘 맞추지 못하는 것 같습니다.\n",
        "\n",
        "혹시 가위 == 주먹 + 손가락 2개 정도로 인식하는 걸까요?"
      ],
      "metadata": {
        "id": "0zjnhQ0FnAaY"
      }
    },
    {
      "cell_type": "markdown",
      "source": [
        "---"
      ],
      "metadata": {
        "id": "3bcVM9L7m513"
      }
    },
    {
      "cell_type": "markdown",
      "source": [
        "## **06. Data Augmentation**\n",
        "\n",
        "- 문제에 대한 가설을 세웠으니 해결해 보겠습니다.\n",
        "\n",
        "- 예상으로는 일부를 누락시킨 데이터를 추가로 생성해서 학습시키면 정확도가 오를 것 같네요.\n",
        "\n",
        "> Keras Docs: https://keras.io/api/preprocessing/image/\n",
        ">\n",
        "> 이미지 증강: https://keraskorea.github.io/posts/2018-10-24-little_data_powerful_model/"
      ],
      "metadata": {
        "id": "9FYOhI1knRF6"
      }
    },
    {
      "cell_type": "code",
      "source": [
        "# train_resized = train 데이터\n",
        "# test_sh = test 데이터\n",
        "\n",
        "# 모델 생성을 위한 모듈을 불러옵니다.\n",
        "from tensorflow.keras.models import Sequential\n",
        "from tensorflow.keras.layers import Dense, Activation, Dropout, Flatten, Dense, Conv2D, MaxPooling2D\n",
        "from tensorflow.keras.preprocessing.image import ImageDataGenerator\n",
        "from tensorflow.keras import optimizers, initializers, regularizers, metrics\n",
        "\n",
        "\n",
        "# train 데이터 처리\n",
        "train_datagen = ImageDataGenerator(\n",
        "\n",
        "                      rescale=1/255.,\n",
        "\n",
        "                      # True면 50% 확률로 수평 뒤집기\n",
        "                      horizontal_flip=True,\n",
        "\n",
        "                      # 전체 크기의 10% 범위에서 상하좌우로 이동\n",
        "                      width_shift_range=0.1,\n",
        "                      height_shift_range=0.1,\n",
        "\n",
        "                      fill_mode='nearest'\n",
        "                       )\n",
        "\n",
        "\n",
        "train_generator = train_datagen.flow_from_directory('/content/drive/MyDrive/AIFFEL/E05/train_resized',\n",
        "\n",
        "                      target_size=(28, 28),\n",
        "                      batch_size=5,\n",
        "                      class_mode='sparse')\n",
        "\n",
        "print('Done!')"
      ],
      "metadata": {
        "colab": {
          "base_uri": "https://localhost:8080/"
        },
        "id": "MOyVt5cm0VOK",
        "outputId": "184a2e93-db08-4fed-e68f-758a0d871dff"
      },
      "execution_count": null,
      "outputs": [
        {
          "output_type": "stream",
          "name": "stdout",
          "text": [
            "Found 2520 images belonging to 3 classes.\n",
            "Done!\n"
          ]
        }
      ]
    },
    {
      "cell_type": "code",
      "source": [
        "# 테스트 셋은 정규화만 진행\n",
        "\n",
        "test_datagen = ImageDataGenerator(rescale=1./255)\n",
        "test_generator = test_datagen.flow_from_directory('/content/drive/MyDrive/AIFFEL/E05/test_sh',\n",
        "                                                  \n",
        "                      target_size=(28, 28),\n",
        "                      batch_size=5,\n",
        "                      class_mode='sparse')\n",
        "\n",
        "print('Done!')"
      ],
      "metadata": {
        "colab": {
          "base_uri": "https://localhost:8080/"
        },
        "id": "A0jGr4Ta7Y7M",
        "outputId": "ab3cbada-be9f-4fb7-aa3e-1bf4ebe7fa75"
      },
      "execution_count": null,
      "outputs": [
        {
          "output_type": "stream",
          "name": "stdout",
          "text": [
            "Found 900 images belonging to 3 classes.\n",
            "Done!\n"
          ]
        }
      ]
    },
    {
      "cell_type": "code",
      "source": [
        "# 모델 생성\n",
        "# 네트워크 파라미터는 그대로 둡니다.\n",
        "\n",
        "re_channel_1 = 64\n",
        "re_channel_2 = 128\n",
        "re_dense = 32\n",
        "\n",
        "model=keras.models.Sequential()\n",
        "model.add(keras.layers.Conv2D(re_channel_1, (3,3), activation='relu', input_shape=(28,28,3)))\n",
        "model.add(keras.layers.MaxPool2D(2,2))\n",
        "model.add(keras.layers.Conv2D(re_channel_2, (3,3), activation='relu'))\n",
        "model.add(keras.layers.MaxPooling2D((2,2)))\n",
        "model.add(keras.layers.Flatten())\n",
        "model.add(keras.layers.Dense(re_dense, activation='relu'))\n",
        "model.add(keras.layers.Dense(3, activation='softmax'))\n",
        "\n",
        "\n",
        "model.compile(optimizer='adam',\n",
        "             loss='sparse_categorical_crossentropy',\n",
        "             metrics=['accuracy'])\n",
        "\n",
        "model.summary()\n"
      ],
      "metadata": {
        "colab": {
          "base_uri": "https://localhost:8080/"
        },
        "id": "-7lDJtN-7ieA",
        "outputId": "f2e6ff7c-7597-4808-f6cc-ca4bc24d213d"
      },
      "execution_count": null,
      "outputs": [
        {
          "output_type": "stream",
          "name": "stdout",
          "text": [
            "Model: \"sequential_36\"\n",
            "_________________________________________________________________\n",
            " Layer (type)                Output Shape              Param #   \n",
            "=================================================================\n",
            " conv2d_70 (Conv2D)          (None, 26, 26, 64)        1792      \n",
            "                                                                 \n",
            " max_pooling2d_70 (MaxPoolin  (None, 13, 13, 64)       0         \n",
            " g2D)                                                            \n",
            "                                                                 \n",
            " conv2d_71 (Conv2D)          (None, 11, 11, 128)       73856     \n",
            "                                                                 \n",
            " max_pooling2d_71 (MaxPoolin  (None, 5, 5, 128)        0         \n",
            " g2D)                                                            \n",
            "                                                                 \n",
            " flatten_35 (Flatten)        (None, 3200)              0         \n",
            "                                                                 \n",
            " dense_70 (Dense)            (None, 32)                102432    \n",
            "                                                                 \n",
            " dense_71 (Dense)            (None, 3)                 99        \n",
            "                                                                 \n",
            "=================================================================\n",
            "Total params: 178,179\n",
            "Trainable params: 178,179\n",
            "Non-trainable params: 0\n",
            "_________________________________________________________________\n"
          ]
        }
      ]
    },
    {
      "cell_type": "code",
      "source": [
        "# 학습시켜 보겠습니다.\n",
        "# EarlyStopping 모듈을 사용합니다.\n",
        "\n",
        "history = model.fit_generator(train_generator,\n",
        "                              \n",
        "                              # 샘플 몇 개 뽑을지 결정\n",
        "                              steps_per_epoch=100,\n",
        "                              epochs=30,\n",
        "                              validation_data=test_generator,\n",
        "                              validation_steps=10,\n",
        "                              callbacks = [es(patience=5, monitor='val_loss')])"
      ],
      "metadata": {
        "colab": {
          "base_uri": "https://localhost:8080/"
        },
        "id": "Cs2YwvYf7-rt",
        "outputId": "82d37e00-fdc1-4c7a-d25e-c61d184ac776"
      },
      "execution_count": null,
      "outputs": [
        {
          "output_type": "stream",
          "name": "stdout",
          "text": [
            "Epoch 1/30\n"
          ]
        },
        {
          "output_type": "stream",
          "name": "stderr",
          "text": [
            "/usr/local/lib/python3.7/dist-packages/ipykernel_launcher.py:11: UserWarning: `Model.fit_generator` is deprecated and will be removed in a future version. Please use `Model.fit`, which supports generators.\n",
            "  # This is added back by InteractiveShellApp.init_path()\n"
          ]
        },
        {
          "output_type": "stream",
          "name": "stdout",
          "text": [
            "100/100 [==============================] - 3s 29ms/step - loss: 1.1095 - accuracy: 0.3300 - val_loss: 1.0975 - val_accuracy: 0.3400\n",
            "Epoch 2/30\n",
            "100/100 [==============================] - 3s 28ms/step - loss: 0.9410 - accuracy: 0.5600 - val_loss: 1.0854 - val_accuracy: 0.3000\n",
            "Epoch 3/30\n",
            "100/100 [==============================] - 3s 28ms/step - loss: 0.6162 - accuracy: 0.7280 - val_loss: 0.9748 - val_accuracy: 0.4400\n",
            "Epoch 4/30\n",
            "100/100 [==============================] - 3s 27ms/step - loss: 0.4590 - accuracy: 0.8300 - val_loss: 0.9896 - val_accuracy: 0.5200\n",
            "Epoch 5/30\n",
            "100/100 [==============================] - 3s 30ms/step - loss: 0.3726 - accuracy: 0.8660 - val_loss: 1.1117 - val_accuracy: 0.5200\n",
            "Epoch 6/30\n",
            "100/100 [==============================] - 3s 32ms/step - loss: 0.2891 - accuracy: 0.8880 - val_loss: 1.0541 - val_accuracy: 0.4800\n",
            "Epoch 7/30\n",
            "100/100 [==============================] - 3s 28ms/step - loss: 0.2238 - accuracy: 0.9260 - val_loss: 0.8321 - val_accuracy: 0.6000\n",
            "Epoch 8/30\n",
            "100/100 [==============================] - 3s 30ms/step - loss: 0.2162 - accuracy: 0.9260 - val_loss: 1.1617 - val_accuracy: 0.4000\n",
            "Epoch 9/30\n",
            "100/100 [==============================] - 3s 28ms/step - loss: 0.1684 - accuracy: 0.9480 - val_loss: 0.9158 - val_accuracy: 0.5000\n",
            "Epoch 10/30\n",
            "100/100 [==============================] - 3s 29ms/step - loss: 0.1963 - accuracy: 0.9220 - val_loss: 0.9048 - val_accuracy: 0.5400\n",
            "Epoch 11/30\n",
            "100/100 [==============================] - 3s 28ms/step - loss: 0.1413 - accuracy: 0.9460 - val_loss: 0.7314 - val_accuracy: 0.6400\n",
            "Epoch 12/30\n",
            "100/100 [==============================] - 3s 28ms/step - loss: 0.1651 - accuracy: 0.9440 - val_loss: 1.0508 - val_accuracy: 0.4800\n",
            "Epoch 13/30\n",
            "100/100 [==============================] - 3s 29ms/step - loss: 0.1289 - accuracy: 0.9580 - val_loss: 0.9169 - val_accuracy: 0.6000\n",
            "Epoch 14/30\n",
            "100/100 [==============================] - 3s 28ms/step - loss: 0.1024 - accuracy: 0.9720 - val_loss: 0.9986 - val_accuracy: 0.5400\n",
            "Epoch 15/30\n",
            "100/100 [==============================] - 3s 29ms/step - loss: 0.0996 - accuracy: 0.9620 - val_loss: 0.8304 - val_accuracy: 0.5000\n",
            "Epoch 16/30\n",
            "100/100 [==============================] - 3s 29ms/step - loss: 0.1130 - accuracy: 0.9620 - val_loss: 0.7970 - val_accuracy: 0.6600\n"
          ]
        }
      ]
    },
    {
      "cell_type": "markdown",
      "source": [
        "🖐 음... 여전히 loss 값과 accuracy 값이 들쭉날쭉 하군요.\n",
        "\n",
        "일단 학습 과정을 살펴보겠습니다."
      ],
      "metadata": {
        "id": "8EKIqtHi9D1o"
      }
    },
    {
      "cell_type": "code",
      "source": [
        "# 시각화\n",
        "plt.plot(history.history['loss'], '--o', color = 'red', label = 'train_loss')\n",
        "plt.plot(history.history['val_loss'], '--o', color = 'blue', label = 'val_loss')\n",
        "\n",
        "plt.xlabel('Epochs')\n",
        "plt.ylabel('Loss')\n",
        "plt.legend()\n",
        "plt.grid()"
      ],
      "metadata": {
        "colab": {
          "base_uri": "https://localhost:8080/",
          "height": 281
        },
        "id": "lYF6Dw4h8pj7",
        "outputId": "54d8e59d-5c93-4945-b7e8-45fd6e059feb"
      },
      "execution_count": null,
      "outputs": [
        {
          "output_type": "display_data",
          "data": {
            "text/plain": [
              "<Figure size 432x288 with 1 Axes>"
            ],
            "image/png": "[encoded data removed]"
          },
          "metadata": {
            "needs_background": "light"
          }
        }
      ]
    },
    {
      "cell_type": "markdown",
      "source": [
        "✌️ loss 값이 수렴하는 범위가 기존의 0.2\\~0.4에서 0.8~1.0으로 더 높아졌네요.\n",
        "\n",
        "아무래도 여러 노이즈가 있는 이미지를 학습하다보니 (= 학습 난이도가 올라가서) 편차가 커진 것 같습니다.\n",
        "\n",
        "하지만 loss값과 prediction accuracy가 꼭 비례하는 것은 아니니 한 번 성능을 확인해 보겠습니다."
      ],
      "metadata": {
        "id": "cIjyh71RAJt0"
      }
    },
    {
      "cell_type": "code",
      "source": [
        "# 평가하기\n",
        "\n",
        "test_loss, test_accuracy = model.evaluate(x_test_reshaped, y_test, verbose=2)\n",
        "print(\"test_loss: {} \".format(test_loss))\n",
        "print(\"test_accuracy: {}\".format(test_accuracy))"
      ],
      "metadata": {
        "colab": {
          "base_uri": "https://localhost:8080/"
        },
        "id": "RYeIwRq59TEb",
        "outputId": "8e6cd1c1-4a52-4721-a950-ca64d61313de"
      },
      "execution_count": null,
      "outputs": [
        {
          "output_type": "stream",
          "name": "stdout",
          "text": [
            "29/29 - 1s - loss: 1.0069 - accuracy: 0.5633 - 1s/epoch - 40ms/step\n",
            "test_loss: 1.0068601369857788 \n",
            "test_accuracy: 0.5633333325386047\n"
          ]
        }
      ]
    },
    {
      "cell_type": "markdown",
      "source": [
        "✊ 오, 예측 정확도가 47.8%에서 56.3%로 약 8.5% 향상되었습니다!\n",
        "\n",
        "그럼 이번엔 어떤 이미지를 틀렸는지 살펴볼까요?"
      ],
      "metadata": {
        "id": "SBrftH96AE88"
      }
    },
    {
      "cell_type": "code",
      "source": [
        "predicted_result = model.predict(x_test_reshaped) \n",
        "predicted_labels = np.argmax(predicted_result, axis=1)\n",
        "\n",
        "# 아까 틀렸던 이미지부터 살펴봅시다.\n",
        "\n",
        "idx=4\n",
        "print('model.predict() 결과 : ', predicted_result[idx])\n",
        "print('model이 추론한 가장 가능성이 높은 결과 : ', predicted_labels[idx])\n",
        "print('실제 데이터의 라벨 : ', y_test[idx])\n",
        "\n",
        "plt.imshow(x_test[idx],cmap=plt.cm.binary)\n",
        "plt.show()"
      ],
      "metadata": {
        "colab": {
          "base_uri": "https://localhost:8080/",
          "height": 318
        },
        "id": "Rb8X_B5eBhgx",
        "outputId": "03ee7b57-48c0-4aaf-c614-8d17b2652ff1"
      },
      "execution_count": null,
      "outputs": [
        {
          "output_type": "stream",
          "name": "stdout",
          "text": [
            "model.predict() 결과 :  [0.7762985  0.04209093 0.18161052]\n",
            "model이 추론한 가장 가능성이 높은 결과 :  0\n",
            "실제 데이터의 라벨 :  0\n"
          ]
        },
        {
          "output_type": "display_data",
          "data": {
            "text/plain": [
              "<Figure size 432x288 with 1 Axes>"
            ],
            "image/png": "[encoded data removed]"
          },
          "metadata": {
            "needs_background": "light"
          }
        }
      ]
    },
    {
      "cell_type": "code",
      "source": [
        "predicted_result = model.predict(x_test_reshaped) \n",
        "predicted_labels = np.argmax(predicted_result, axis=1)\n",
        "\n",
        "idx=5\n",
        "print('model.predict() 결과 : ', predicted_result[idx])\n",
        "print('model이 추론한 가장 가능성이 높은 결과 : ', predicted_labels[idx])\n",
        "print('실제 데이터의 라벨 : ', y_test[idx])\n",
        "\n",
        "plt.imshow(x_test[idx],cmap=plt.cm.binary)\n",
        "plt.show()"
      ],
      "metadata": {
        "colab": {
          "base_uri": "https://localhost:8080/",
          "height": 318
        },
        "id": "jjCAG--HBitP",
        "outputId": "ff905f10-13cc-445a-97dc-271a78b63c24"
      },
      "execution_count": null,
      "outputs": [
        {
          "output_type": "stream",
          "name": "stdout",
          "text": [
            "model.predict() 결과 :  [0.8506766  0.03500588 0.11431744]\n",
            "model이 추론한 가장 가능성이 높은 결과 :  0\n",
            "실제 데이터의 라벨 :  0\n"
          ]
        },
        {
          "output_type": "display_data",
          "data": {
            "text/plain": [
              "<Figure size 432x288 with 1 Axes>"
            ],
            "image/png": "[encoded data removed]"
          },
          "metadata": {
            "needs_background": "light"
          }
        }
      ]
    },
    {
      "cell_type": "code",
      "source": [
        "predicted_result = model.predict(x_test_reshaped) \n",
        "predicted_labels = np.argmax(predicted_result, axis=1)\n",
        "\n",
        "idx=6\n",
        "print('model.predict() 결과 : ', predicted_result[idx])\n",
        "print('model이 추론한 가장 가능성이 높은 결과 : ', predicted_labels[idx])\n",
        "print('실제 데이터의 라벨 : ', y_test[idx])\n",
        "\n",
        "plt.imshow(x_test[idx],cmap=plt.cm.binary)\n",
        "plt.show()"
      ],
      "metadata": {
        "colab": {
          "base_uri": "https://localhost:8080/",
          "height": 318
        },
        "id": "T6KVk5AoBlNQ",
        "outputId": "31e8dd10-e192-4d35-e834-82b4c2c6abe2"
      },
      "execution_count": null,
      "outputs": [
        {
          "output_type": "stream",
          "name": "stdout",
          "text": [
            "model.predict() 결과 :  [0.70953166 0.14209743 0.14837083]\n",
            "model이 추론한 가장 가능성이 높은 결과 :  0\n",
            "실제 데이터의 라벨 :  0\n"
          ]
        },
        {
          "output_type": "display_data",
          "data": {
            "text/plain": [
              "<Figure size 432x288 with 1 Axes>"
            ],
            "image/png": "[encoded data removed]"
          },
          "metadata": {
            "needs_background": "light"
          }
        }
      ]
    },
    {
      "cell_type": "code",
      "source": [
        "predicted_result = model.predict(x_test_reshaped) \n",
        "predicted_labels = np.argmax(predicted_result, axis=1)\n",
        "\n",
        "idx=7\n",
        "print('model.predict() 결과 : ', predicted_result[idx])\n",
        "print('model이 추론한 가장 가능성이 높은 결과 : ', predicted_labels[idx])\n",
        "print('실제 데이터의 라벨 : ', y_test[idx])\n",
        "\n",
        "plt.imshow(x_test[idx],cmap=plt.cm.binary)\n",
        "plt.show()"
      ],
      "metadata": {
        "colab": {
          "base_uri": "https://localhost:8080/",
          "height": 318
        },
        "id": "SjuBSPKiBtrU",
        "outputId": "eb9d6c54-aede-460d-d4ea-a1cf7867eb2b"
      },
      "execution_count": null,
      "outputs": [
        {
          "output_type": "stream",
          "name": "stdout",
          "text": [
            "model.predict() 결과 :  [0.709505   0.06665687 0.2238381 ]\n",
            "model이 추론한 가장 가능성이 높은 결과 :  0\n",
            "실제 데이터의 라벨 :  0\n"
          ]
        },
        {
          "output_type": "display_data",
          "data": {
            "text/plain": [
              "<Figure size 432x288 with 1 Axes>"
            ],
            "image/png": "[encoded data removed]"
          },
          "metadata": {
            "needs_background": "light"
          }
        }
      ]
    },
    {
      "cell_type": "markdown",
      "source": [
        "🖐 아까 틀렸던 이미지를 이번엔 잘 맞추었습니다.\n",
        "\n",
        "아무래도 앞서 예상했던 \"이미지 일부(손목 등)가 없으면 잘 못 맞춘다\"는 가설이 맞았던 것 같죠?"
      ],
      "metadata": {
        "id": "IDdg_K-BBu9T"
      }
    },
    {
      "cell_type": "code",
      "source": [
        "predicted_result = model.predict(x_test_reshaped) \n",
        "predicted_labels = np.argmax(predicted_result, axis=1)\n",
        "\n",
        "# 이번엔 아까 맞췄던 이미지를 살펴봅시다.\n",
        "\n",
        "idx=1\n",
        "print('model.predict() 결과 : ', predicted_result[idx])\n",
        "print('model이 추론한 가장 가능성이 높은 결과 : ', predicted_labels[idx])\n",
        "print('실제 데이터의 라벨 : ', y_test[idx])\n",
        "\n",
        "plt.imshow(x_test[idx],cmap=plt.cm.binary)\n",
        "plt.show()"
      ],
      "metadata": {
        "colab": {
          "base_uri": "https://localhost:8080/",
          "height": 318
        },
        "id": "aaOMPoOdA-nP",
        "outputId": "1036bb4e-182a-46f2-ce75-52ca94dfa6be"
      },
      "execution_count": null,
      "outputs": [
        {
          "output_type": "stream",
          "name": "stdout",
          "text": [
            "model.predict() 결과 :  [0.31130746 0.08092412 0.6077685 ]\n",
            "model이 추론한 가장 가능성이 높은 결과 :  2\n",
            "실제 데이터의 라벨 :  0\n"
          ]
        },
        {
          "output_type": "display_data",
          "data": {
            "text/plain": [
              "<Figure size 432x288 with 1 Axes>"
            ],
            "image/png": "[encoded data removed]"
          },
          "metadata": {
            "needs_background": "light"
          }
        }
      ]
    },
    {
      "cell_type": "markdown",
      "source": [
        "✌️ 어라, 아까 맞춘 이미지는 다시 틀렸군요. 😢"
      ],
      "metadata": {
        "id": "CBY5DkQvBTGm"
      }
    },
    {
      "cell_type": "markdown",
      "source": [
        "---"
      ],
      "metadata": {
        "id": "kyuuRnlnCk7m"
      }
    },
    {
      "cell_type": "markdown",
      "source": [
        "## **Think again...🤔🤔🤔**\n",
        "\n",
        ">1) 이미지의 일부가 잘려 있으면 잘 인식하지 못하니, 학습할 때부터 그런 이미지들을 만들어서 학습시키면 성능이 올라간다는 것은 확인했습니다.\n",
        ">\n",
        ">2) 그런데 이번에는 잘 인식하던 이미지를 인식하지 못하는 문제가 발생했습니다.\n",
        ">\n",
        ">3) 이미지와 잘못 예측한 값(가위->보)을 보건대, 이미지 증강 과정에서 'nearest' 옵션이 무언가 문제를 일으켰을 가능성도 있을 것 같습니다.\n",
        ">\n",
        ">4) 결과적으로 피쳐를 추출할 때 분류에 필요없는 특징을 잡았을 수도 있겠죠?\n",
        "\n",
        "- **그렇다면 분류에 필요한 핵심 특징을 잡도록 해주면 될 것 같습니다.**"
      ],
      "metadata": {
        "id": "jYEkkD5xC39w"
      }
    },
    {
      "cell_type": "markdown",
      "source": [
        "---"
      ],
      "metadata": {
        "id": "8xP5Qx_3C9Dk"
      }
    },
    {
      "cell_type": "markdown",
      "source": [
        "## **07. 핵심 Feature 잡기**\n",
        "\n",
        "- 어떻게 하면 필요 없는 피쳐 대신 핵심적인 특징을 잡을 수 있을까요?\n",
        "\n",
        "- 아마 네트워크 레이어 수와 채널을 수정하거나, 드롭아웃과 L1 규제 등을 써보는 것도 한 방법일 것 같습니다. 한 번 해보죠!\n",
        "\n",
        "> **Ref.**\n",
        ">\n",
        "> 적은 데이터로 효율적인 학습하기 | https://keraskorea.github.io/posts/2018-10-24-little_data_powerful_model/"
      ],
      "metadata": {
        "id": "TqemJUw4GUro"
      }
    },
    {
      "cell_type": "markdown",
      "source": [
        "---"
      ],
      "metadata": {
        "id": "5UnMopfiGdEe"
      }
    },
    {
      "cell_type": "markdown",
      "source": [
        "### **07-1. 커널 크기 바꾸기**\n",
        "\n",
        "- 커널 사이즈를 키우면 더 넓은 범위를 보게 되니까, 상대적으로 더 중요한 특징을 잡을 수 있지 않을까요?"
      ],
      "metadata": {
        "id": "-_P_F-w4Ok0k"
      }
    },
    {
      "cell_type": "code",
      "source": [
        "# 모델 생성\n",
        "\n",
        "d_channel_1 = 64\n",
        "d_channel_2 = 128\n",
        "d_dense = 32\n",
        "kernel_size = 5\n",
        "\n",
        "model=Sequential()\n",
        "model.add(Conv2D(d_channel_1, (kernel_size, kernel_size), activation='relu', input_shape=(28,28,3)))\n",
        "model.add(MaxPooling2D(2,2))\n",
        "model.add(Conv2D(d_channel_2, (kernel_size, kernel_size), activation='relu'))\n",
        "model.add(MaxPooling2D((2,2)))\n",
        "model.add(Flatten())\n",
        "model.add(Dense(d_dense, activation='relu'))\n",
        "model.add(Dense(3, activation='softmax'))\n",
        "\n",
        "\n",
        "model.compile(optimizer='adam',\n",
        "             loss='sparse_categorical_crossentropy',\n",
        "             metrics=['accuracy'])\n",
        "\n",
        "model.summary()"
      ],
      "metadata": {
        "colab": {
          "base_uri": "https://localhost:8080/"
        },
        "id": "4Uq0_vVSPDBh",
        "outputId": "ac144cd1-e843-49f1-c818-7c826dff5812"
      },
      "execution_count": null,
      "outputs": [
        {
          "output_type": "stream",
          "name": "stdout",
          "text": [
            "Model: \"sequential_43\"\n",
            "_________________________________________________________________\n",
            " Layer (type)                Output Shape              Param #   \n",
            "=================================================================\n",
            " conv2d_84 (Conv2D)          (None, 24, 24, 64)        4864      \n",
            "                                                                 \n",
            " max_pooling2d_84 (MaxPoolin  (None, 12, 12, 64)       0         \n",
            " g2D)                                                            \n",
            "                                                                 \n",
            " conv2d_85 (Conv2D)          (None, 8, 8, 128)         204928    \n",
            "                                                                 \n",
            " max_pooling2d_85 (MaxPoolin  (None, 4, 4, 128)        0         \n",
            " g2D)                                                            \n",
            "                                                                 \n",
            " flatten_42 (Flatten)        (None, 2048)              0         \n",
            "                                                                 \n",
            " dense_84 (Dense)            (None, 32)                65568     \n",
            "                                                                 \n",
            " dense_85 (Dense)            (None, 3)                 99        \n",
            "                                                                 \n",
            "=================================================================\n",
            "Total params: 275,459\n",
            "Trainable params: 275,459\n",
            "Non-trainable params: 0\n",
            "_________________________________________________________________\n"
          ]
        }
      ]
    },
    {
      "cell_type": "code",
      "source": [
        "# 학습시켜 보겠습니다.\n",
        "history = model.fit_generator(train_generator,\n",
        "                              steps_per_epoch=100,\n",
        "                              epochs=30,\n",
        "                              validation_data=test_generator,\n",
        "                              validation_steps=10,\n",
        "                              callbacks = [es(patience=5, monitor='val_loss')])"
      ],
      "metadata": {
        "colab": {
          "base_uri": "https://localhost:8080/"
        },
        "id": "KzrcaM_KRoUW",
        "outputId": "4699657f-f820-43c5-8689-0066a6677985"
      },
      "execution_count": null,
      "outputs": [
        {
          "output_type": "stream",
          "name": "stdout",
          "text": [
            "Epoch 1/30\n"
          ]
        },
        {
          "output_type": "stream",
          "name": "stderr",
          "text": [
            "/usr/local/lib/python3.7/dist-packages/ipykernel_launcher.py:7: UserWarning: `Model.fit_generator` is deprecated and will be removed in a future version. Please use `Model.fit`, which supports generators.\n",
            "  import sys\n"
          ]
        },
        {
          "output_type": "stream",
          "name": "stdout",
          "text": [
            "100/100 [==============================] - 28s 34ms/step - loss: 1.0800 - accuracy: 0.4720 - val_loss: 1.1031 - val_accuracy: 0.4600\n",
            "Epoch 2/30\n",
            "100/100 [==============================] - 3s 32ms/step - loss: 0.7694 - accuracy: 0.6600 - val_loss: 1.1982 - val_accuracy: 0.3800\n",
            "Epoch 3/30\n",
            "100/100 [==============================] - 3s 31ms/step - loss: 0.4805 - accuracy: 0.8280 - val_loss: 0.8734 - val_accuracy: 0.5400\n",
            "Epoch 4/30\n",
            "100/100 [==============================] - 3s 32ms/step - loss: 0.3145 - accuracy: 0.8820 - val_loss: 0.9903 - val_accuracy: 0.4000\n",
            "Epoch 5/30\n",
            "100/100 [==============================] - 3s 32ms/step - loss: 0.2694 - accuracy: 0.9140 - val_loss: 1.0723 - val_accuracy: 0.5400\n",
            "Epoch 6/30\n",
            "100/100 [==============================] - 3s 31ms/step - loss: 0.1717 - accuracy: 0.9400 - val_loss: 0.9593 - val_accuracy: 0.5800\n",
            "Epoch 7/30\n",
            "100/100 [==============================] - 3s 32ms/step - loss: 0.1553 - accuracy: 0.9540 - val_loss: 0.7286 - val_accuracy: 0.6400\n",
            "Epoch 8/30\n",
            "100/100 [==============================] - 3s 33ms/step - loss: 0.1114 - accuracy: 0.9660 - val_loss: 1.1915 - val_accuracy: 0.4000\n",
            "Epoch 9/30\n",
            "100/100 [==============================] - 3s 31ms/step - loss: 0.1485 - accuracy: 0.9520 - val_loss: 1.0716 - val_accuracy: 0.5600\n",
            "Epoch 10/30\n",
            "100/100 [==============================] - 3s 32ms/step - loss: 0.1311 - accuracy: 0.9600 - val_loss: 1.0214 - val_accuracy: 0.5600\n",
            "Epoch 11/30\n",
            "100/100 [==============================] - 3s 32ms/step - loss: 0.0512 - accuracy: 0.9800 - val_loss: 1.2243 - val_accuracy: 0.4800\n",
            "Epoch 12/30\n",
            "100/100 [==============================] - 3s 32ms/step - loss: 0.1036 - accuracy: 0.9640 - val_loss: 1.1441 - val_accuracy: 0.5200\n"
          ]
        }
      ]
    },
    {
      "cell_type": "code",
      "source": [
        "# 시각화\n",
        "plt.plot(history.history['loss'], '--o', color = 'red', label = 'train_loss')\n",
        "plt.plot(history.history['val_loss'], '--o', color = 'blue', label = 'val_loss')\n",
        "\n",
        "plt.xlabel('Epochs')\n",
        "plt.ylabel('Loss')\n",
        "plt.legend()\n",
        "plt.grid()"
      ],
      "metadata": {
        "colab": {
          "base_uri": "https://localhost:8080/",
          "height": 279
        },
        "id": "bZ4Jn4JlRvXR",
        "outputId": "fde1b471-31c4-4787-f4c4-d613f6933df6"
      },
      "execution_count": null,
      "outputs": [
        {
          "output_type": "display_data",
          "data": {
            "text/plain": [
              "<Figure size 432x288 with 1 Axes>"
            ],
            "image/png": "[encoded data removed]"
          },
          "metadata": {
            "needs_background": "light"
          }
        }
      ]
    },
    {
      "cell_type": "markdown",
      "source": [
        "✊ 음, 커널 크기가 커지면 디테일하게 보기가 힘드니까 loss 값이 올라가는 것 같습니다.\n",
        "\n",
        "일단 성능은 어떤지 테스트해 보겠습니다."
      ],
      "metadata": {
        "id": "34jphrQER_K8"
      }
    },
    {
      "cell_type": "code",
      "source": [
        "# 평가하기\n",
        "\n",
        "test_loss, test_accuracy = model.evaluate(x_test_reshaped, y_test, verbose=2)\n",
        "print(\"test_loss: {} \".format(test_loss))\n",
        "print(\"test_accuracy: {}\".format(test_accuracy))"
      ],
      "metadata": {
        "colab": {
          "base_uri": "https://localhost:8080/"
        },
        "id": "f0SS3iD1SSOo",
        "outputId": "1d62e992-6d50-4a2e-8e3d-a52810d3fe48"
      },
      "execution_count": null,
      "outputs": [
        {
          "output_type": "stream",
          "name": "stdout",
          "text": [
            "29/29 - 1s - loss: 0.8910 - accuracy: 0.6256 - 774ms/epoch - 27ms/step\n",
            "test_loss: 0.8910432457923889 \n",
            "test_accuracy: 0.6255555748939514\n"
          ]
        }
      ]
    },
    {
      "cell_type": "markdown",
      "source": [
        "🖐 56.3%에서 62.5%로 6.2% 가량 성능이 상승했습니다.\n",
        "\n",
        "혹시 정확도 70%를 넘길 수도 있을까요?"
      ],
      "metadata": {
        "id": "PaIYSaFSU2aJ"
      }
    },
    {
      "cell_type": "markdown",
      "source": [
        "---"
      ],
      "metadata": {
        "id": "uai6IjZEWU5B"
      }
    },
    {
      "cell_type": "markdown",
      "source": [
        "### **07-2. Dropout 사용하기**\n",
        "\n",
        "- 이번엔 드롭아웃을 통해 모델의 자체적인 성능 개선을 시도해 보겠습니다.\n"
      ],
      "metadata": {
        "id": "PjtnC2hOY6Tc"
      }
    },
    {
      "cell_type": "code",
      "source": [
        "# 모델 생성\n",
        "\n",
        "d_channel_1 = 64\n",
        "d_channel_2 = 128\n",
        "d_dense = 32\n",
        "kernel_size = 5\n",
        "\n",
        "model=Sequential()\n",
        "model.add(Conv2D(d_channel_1, (kernel_size, kernel_size), activation='relu', input_shape=(28,28,3)))\n",
        "model.add(Dropout(0.2)) # 20% 드롭아웃 추가\n",
        "model.add(MaxPooling2D(2,2))\n",
        "model.add(Conv2D(d_channel_2, (kernel_size, kernel_size), activation='relu'))\n",
        "model.add(Dropout(0.2)) # 20% 드롭아웃 추가\n",
        "model.add(MaxPooling2D((2,2)))\n",
        "model.add(Flatten())\n",
        "model.add(Dense(d_dense, activation='relu'))\n",
        "model.add(Dense(3, activation='softmax'))\n",
        "\n",
        "\n",
        "model.compile(optimizer='adam',\n",
        "             loss='sparse_categorical_crossentropy',\n",
        "             metrics=['accuracy'])\n",
        "\n",
        "model.summary()"
      ],
      "metadata": {
        "colab": {
          "base_uri": "https://localhost:8080/"
        },
        "id": "89vCKVSjZoRl",
        "outputId": "23e77689-324b-452a-cfe1-608080be2811"
      },
      "execution_count": null,
      "outputs": [
        {
          "output_type": "stream",
          "name": "stdout",
          "text": [
            "Model: \"sequential_48\"\n",
            "_________________________________________________________________\n",
            " Layer (type)                Output Shape              Param #   \n",
            "=================================================================\n",
            " conv2d_94 (Conv2D)          (None, 24, 24, 64)        4864      \n",
            "                                                                 \n",
            " dropout_2 (Dropout)         (None, 24, 24, 64)        0         \n",
            "                                                                 \n",
            " max_pooling2d_94 (MaxPoolin  (None, 12, 12, 64)       0         \n",
            " g2D)                                                            \n",
            "                                                                 \n",
            " conv2d_95 (Conv2D)          (None, 8, 8, 128)         204928    \n",
            "                                                                 \n",
            " dropout_3 (Dropout)         (None, 8, 8, 128)         0         \n",
            "                                                                 \n",
            " max_pooling2d_95 (MaxPoolin  (None, 4, 4, 128)        0         \n",
            " g2D)                                                            \n",
            "                                                                 \n",
            " flatten_47 (Flatten)        (None, 2048)              0         \n",
            "                                                                 \n",
            " dense_94 (Dense)            (None, 32)                65568     \n",
            "                                                                 \n",
            " dense_95 (Dense)            (None, 3)                 99        \n",
            "                                                                 \n",
            "=================================================================\n",
            "Total params: 275,459\n",
            "Trainable params: 275,459\n",
            "Non-trainable params: 0\n",
            "_________________________________________________________________\n"
          ]
        }
      ]
    },
    {
      "cell_type": "code",
      "source": [
        "# 학습\n",
        "history = model.fit_generator(train_generator,\n",
        "                              steps_per_epoch=100,\n",
        "                              epochs=30,\n",
        "                              validation_data=test_generator,\n",
        "                              validation_steps=10,\n",
        "                              callbacks = [es(patience=5, monitor='val_loss')])"
      ],
      "metadata": {
        "colab": {
          "base_uri": "https://localhost:8080/"
        },
        "id": "F638l1dQars7",
        "outputId": "335ee697-280e-4ef1-d1da-4f12d4a48c02"
      },
      "execution_count": null,
      "outputs": [
        {
          "output_type": "stream",
          "name": "stdout",
          "text": [
            "Epoch 1/30\n"
          ]
        },
        {
          "output_type": "stream",
          "name": "stderr",
          "text": [
            "/usr/local/lib/python3.7/dist-packages/ipykernel_launcher.py:7: UserWarning: `Model.fit_generator` is deprecated and will be removed in a future version. Please use `Model.fit`, which supports generators.\n",
            "  import sys\n"
          ]
        },
        {
          "output_type": "stream",
          "name": "stdout",
          "text": [
            "100/100 [==============================] - 4s 37ms/step - loss: 1.1159 - accuracy: 0.3180 - val_loss: 1.0959 - val_accuracy: 0.4200\n",
            "Epoch 2/30\n",
            "100/100 [==============================] - 3s 34ms/step - loss: 1.0330 - accuracy: 0.4420 - val_loss: 1.1234 - val_accuracy: 0.4400\n",
            "Epoch 3/30\n",
            "100/100 [==============================] - 3s 33ms/step - loss: 0.7971 - accuracy: 0.6400 - val_loss: 1.2663 - val_accuracy: 0.3400\n",
            "Epoch 4/30\n",
            "100/100 [==============================] - 3s 33ms/step - loss: 0.4797 - accuracy: 0.8560 - val_loss: 0.9477 - val_accuracy: 0.5200\n",
            "Epoch 5/30\n",
            "100/100 [==============================] - 3s 33ms/step - loss: 0.3336 - accuracy: 0.8780 - val_loss: 1.1341 - val_accuracy: 0.3800\n",
            "Epoch 6/30\n",
            "100/100 [==============================] - 3s 35ms/step - loss: 0.2285 - accuracy: 0.9180 - val_loss: 0.9854 - val_accuracy: 0.5000\n",
            "Epoch 7/30\n",
            "100/100 [==============================] - 3s 33ms/step - loss: 0.1711 - accuracy: 0.9360 - val_loss: 0.8774 - val_accuracy: 0.6200\n",
            "Epoch 8/30\n",
            "100/100 [==============================] - 3s 33ms/step - loss: 0.1792 - accuracy: 0.9460 - val_loss: 0.9339 - val_accuracy: 0.5400\n",
            "Epoch 9/30\n",
            "100/100 [==============================] - 3s 33ms/step - loss: 0.1230 - accuracy: 0.9620 - val_loss: 0.8483 - val_accuracy: 0.6400\n",
            "Epoch 10/30\n",
            "100/100 [==============================] - 3s 33ms/step - loss: 0.1697 - accuracy: 0.9340 - val_loss: 0.8877 - val_accuracy: 0.5800\n",
            "Epoch 11/30\n",
            "100/100 [==============================] - 3s 33ms/step - loss: 0.1425 - accuracy: 0.9540 - val_loss: 0.8978 - val_accuracy: 0.6000\n",
            "Epoch 12/30\n",
            "100/100 [==============================] - 3s 33ms/step - loss: 0.1378 - accuracy: 0.9520 - val_loss: 0.8520 - val_accuracy: 0.4600\n",
            "Epoch 13/30\n",
            "100/100 [==============================] - 3s 34ms/step - loss: 0.1491 - accuracy: 0.9480 - val_loss: 1.0080 - val_accuracy: 0.5800\n",
            "Epoch 14/30\n",
            "100/100 [==============================] - 3s 33ms/step - loss: 0.0986 - accuracy: 0.9680 - val_loss: 1.1322 - val_accuracy: 0.5000\n"
          ]
        }
      ]
    },
    {
      "cell_type": "code",
      "source": [
        "# 시각화\n",
        "plt.plot(history.history['loss'], '--o', color = 'red', label = 'train_loss')\n",
        "plt.plot(history.history['val_loss'], '--o', color = 'blue', label = 'val_loss')\n",
        "\n",
        "plt.xlabel('Epochs')\n",
        "plt.ylabel('Loss')\n",
        "plt.legend()\n",
        "plt.grid()"
      ],
      "metadata": {
        "colab": {
          "base_uri": "https://localhost:8080/",
          "height": 279
        },
        "id": "fchnxTFeaw4x",
        "outputId": "d119bf19-db4c-443c-af25-a062e2db1c10"
      },
      "execution_count": null,
      "outputs": [
        {
          "output_type": "display_data",
          "data": {
            "text/plain": [
              "<Figure size 432x288 with 1 Axes>"
            ],
            "image/png": "[encoded data removed]"
          },
          "metadata": {
            "needs_background": "light"
          }
        }
      ]
    },
    {
      "cell_type": "markdown",
      "source": [
        "✌️ 오, loss 값이 줄어들었다는 건 난이도가 쉬워졌다(=모델의 성능이 좋아졌다)는 뜻으로 해석할 수도 있을 것 같습니다.\n",
        "\n",
        "결과가 기대되는데, 빨리 평가해보죠!"
      ],
      "metadata": {
        "id": "GrJy-M7DbnJ8"
      }
    },
    {
      "cell_type": "code",
      "source": [
        "# 평가\n",
        "test_loss, test_accuracy = model.evaluate(x_test_reshaped, y_test, verbose=2)\n",
        "print(\"test_loss: {} \".format(test_loss))\n",
        "print(\"test_accuracy: {}\".format(test_accuracy))"
      ],
      "metadata": {
        "colab": {
          "base_uri": "https://localhost:8080/"
        },
        "id": "-hbRdzakazU8",
        "outputId": "5191907a-69eb-4162-a8ae-4933dca565c9"
      },
      "execution_count": null,
      "outputs": [
        {
          "output_type": "stream",
          "name": "stdout",
          "text": [
            "29/29 - 1s - loss: 0.8468 - accuracy: 0.6600 - 776ms/epoch - 27ms/step\n",
            "test_loss: 0.8467657566070557 \n",
            "test_accuracy: 0.6600000262260437\n"
          ]
        }
      ]
    },
    {
      "cell_type": "markdown",
      "source": [
        "✊ 야호! 정확도가 62.5% -> 66%로 약 3.5% 상승했습니다!\n",
        "\n",
        "혹시 드롭아웃 비율을 더 높여주면 성능이 더 좋아질까요?"
      ],
      "metadata": {
        "id": "dPtRfrXQa7oH"
      }
    },
    {
      "cell_type": "code",
      "source": [
        "# 모델 생성\n",
        "\n",
        "d_channel_1 = 64\n",
        "d_channel_2 = 128\n",
        "d_dense = 32\n",
        "kernel_size = 5\n",
        "\n",
        "model=Sequential()\n",
        "model.add(Conv2D(d_channel_1, (kernel_size, kernel_size), activation='relu', input_shape=(28,28,3)))\n",
        "model.add(Dropout(0.4)) # 40% 드롭아웃 추가 / 비율을 2배로 늘려보겠습니다.\n",
        "model.add(MaxPooling2D(2,2))\n",
        "model.add(Conv2D(d_channel_2, (kernel_size, kernel_size), activation='relu'))\n",
        "model.add(Dropout(0.4)) # 40% 드롭아웃 추가\n",
        "model.add(MaxPooling2D((2,2)))\n",
        "model.add(Flatten())\n",
        "model.add(Dense(d_dense, activation='relu'))\n",
        "model.add(Dense(3, activation='softmax'))\n",
        "\n",
        "\n",
        "model.compile(optimizer='adam',\n",
        "             loss='sparse_categorical_crossentropy',\n",
        "             metrics=['accuracy'])\n",
        "\n",
        "# 학습\n",
        "history = model.fit_generator(train_generator,\n",
        "                              steps_per_epoch=100,\n",
        "                              epochs=30,\n",
        "                              validation_data=test_generator,\n",
        "                              validation_steps=10,\n",
        "                              callbacks = [es(patience=5, monitor='val_loss')])"
      ],
      "metadata": {
        "colab": {
          "base_uri": "https://localhost:8080/"
        },
        "id": "1v6lQNy3b_Gq",
        "outputId": "7be6ace9-6281-4b2d-b167-20b98f789d74"
      },
      "execution_count": null,
      "outputs": [
        {
          "output_type": "stream",
          "name": "stdout",
          "text": [
            "Epoch 1/30\n"
          ]
        },
        {
          "output_type": "stream",
          "name": "stderr",
          "text": [
            "/usr/local/lib/python3.7/dist-packages/ipykernel_launcher.py:30: UserWarning: `Model.fit_generator` is deprecated and will be removed in a future version. Please use `Model.fit`, which supports generators.\n"
          ]
        },
        {
          "output_type": "stream",
          "name": "stdout",
          "text": [
            "100/100 [==============================] - 4s 35ms/step - loss: 1.1112 - accuracy: 0.3380 - val_loss: 1.0967 - val_accuracy: 0.3400\n",
            "Epoch 2/30\n",
            "100/100 [==============================] - 4s 35ms/step - loss: 1.0925 - accuracy: 0.4120 - val_loss: 1.1008 - val_accuracy: 0.4400\n",
            "Epoch 3/30\n",
            "100/100 [==============================] - 4s 36ms/step - loss: 1.0318 - accuracy: 0.5180 - val_loss: 1.2169 - val_accuracy: 0.2400\n",
            "Epoch 4/30\n",
            "100/100 [==============================] - 3s 34ms/step - loss: 0.9028 - accuracy: 0.5720 - val_loss: 1.1261 - val_accuracy: 0.2400\n",
            "Epoch 5/30\n",
            "100/100 [==============================] - 3s 33ms/step - loss: 0.5550 - accuracy: 0.7800 - val_loss: 1.0717 - val_accuracy: 0.4400\n",
            "Epoch 6/30\n",
            "100/100 [==============================] - 3s 33ms/step - loss: 0.3359 - accuracy: 0.8820 - val_loss: 0.8424 - val_accuracy: 0.6400\n",
            "Epoch 7/30\n",
            "100/100 [==============================] - 3s 34ms/step - loss: 0.3248 - accuracy: 0.8820 - val_loss: 0.9189 - val_accuracy: 0.6000\n",
            "Epoch 8/30\n",
            "100/100 [==============================] - 3s 34ms/step - loss: 0.2473 - accuracy: 0.9120 - val_loss: 1.0713 - val_accuracy: 0.4800\n",
            "Epoch 9/30\n",
            "100/100 [==============================] - 3s 33ms/step - loss: 0.1937 - accuracy: 0.9400 - val_loss: 0.9233 - val_accuracy: 0.4800\n",
            "Epoch 10/30\n",
            "100/100 [==============================] - 3s 33ms/step - loss: 0.2082 - accuracy: 0.9200 - val_loss: 0.9839 - val_accuracy: 0.5000\n",
            "Epoch 11/30\n",
            "100/100 [==============================] - 4s 36ms/step - loss: 0.2101 - accuracy: 0.9260 - val_loss: 1.0340 - val_accuracy: 0.4000\n"
          ]
        }
      ]
    },
    {
      "cell_type": "markdown",
      "source": [
        "🖐 이번에는 시각화와 평가까지 동시에 진행하겠습니다."
      ],
      "metadata": {
        "id": "xzWgBDSRcLIa"
      }
    },
    {
      "cell_type": "code",
      "source": [
        "# 시각화\n",
        "plt.plot(history.history['loss'], '--o', color = 'red', label = 'train_loss')\n",
        "plt.plot(history.history['val_loss'], '--o', color = 'blue', label = 'val_loss')\n",
        "\n",
        "plt.xlabel('Epochs')\n",
        "plt.ylabel('Loss')\n",
        "plt.legend()\n",
        "plt.grid()\n",
        "\n",
        "# 평가\n",
        "test_loss, test_accuracy = model.evaluate(x_test_reshaped, y_test, verbose=2)\n",
        "print(\"test_loss: {} \".format(test_loss))\n",
        "print(\"test_accuracy: {}\".format(test_accuracy))"
      ],
      "metadata": {
        "colab": {
          "base_uri": "https://localhost:8080/",
          "height": 332
        },
        "id": "oMom2SfdcOEC",
        "outputId": "6a233ea3-37d2-42f4-df32-0c1f2e472387"
      },
      "execution_count": null,
      "outputs": [
        {
          "output_type": "stream",
          "name": "stdout",
          "text": [
            "29/29 - 1s - loss: 0.9083 - accuracy: 0.6178 - 784ms/epoch - 27ms/step\n",
            "test_loss: 0.9082571864128113 \n",
            "test_accuracy: 0.6177777647972107\n"
          ]
        },
        {
          "output_type": "display_data",
          "data": {
            "text/plain": [
              "<Figure size 432x288 with 1 Axes>"
            ],
            "image/png": "[encoded data removed]"
          },
          "metadata": {
            "needs_background": "light"
          }
        }
      ]
    },
    {
      "cell_type": "markdown",
      "source": [
        "✌️ 음, random seed에 따른 변화까지 고려하면 큰 차이는 안 나는 것 같습니다."
      ],
      "metadata": {
        "id": "DXbc88cKcYve"
      }
    },
    {
      "cell_type": "markdown",
      "source": [
        "---"
      ],
      "metadata": {
        "id": "2dDxJKjyczHc"
      }
    },
    {
      "cell_type": "markdown",
      "source": [
        "### **07-3. L1 Regulation 사용해보기**\n",
        "\n",
        "- 기존 목표였던 60%는 달성했지만, 66% 정확도를 봤으니 70%도 넘겨보고 싶습니다.\n",
        "\n",
        "- L1 규제는 과적합을 방지하는 동시에 필요한 피쳐만 추출하는 효과가 있다고 하네요. 한 번 어느 정도 효과가 있는지 살펴보겠습니다.\n",
        "\n",
        "> **Ref.**\n",
        ">\n",
        "> L1, L2 규제에 관해 | https://blog.naver.com/sjy5448/222616963236"
      ],
      "metadata": {
        "id": "DkfmMhhxc0Fe"
      }
    },
    {
      "cell_type": "code",
      "source": [
        "# 모델 생성\n",
        "\n",
        "d_channel_1 = 64\n",
        "d_channel_2 = 128\n",
        "d_dense = 32\n",
        "kernel_size = 5\n",
        "\n",
        "model=Sequential()\n",
        "model.add(Conv2D(d_channel_1, (kernel_size, kernel_size), activation='relu', input_shape=(28,28,3)))\n",
        "model.add(Dropout(0.2)) # 20% 드롭아웃 추가 \n",
        "model.add(MaxPooling2D(2,2))\n",
        "model.add(Conv2D(d_channel_2, (kernel_size, kernel_size), activation='relu'))\n",
        "model.add(Dropout(0.2)) # 20% 드롭아웃 추가\n",
        "model.add(MaxPooling2D((2,2)))\n",
        "model.add(Flatten())\n",
        "model.add(Dense(d_dense, activation='relu', kernel_regularizer='l1')) # L1 regulation 추가\n",
        "model.add(Dense(3, activation='softmax'))\n",
        "\n",
        "\n",
        "model.compile(optimizer='adam',\n",
        "             loss='sparse_categorical_crossentropy',\n",
        "             metrics=['accuracy'])\n",
        "\n",
        "\n",
        "# 학습\n",
        "history = model.fit_generator(train_generator,\n",
        "                              steps_per_epoch=100,\n",
        "                              epochs=30,\n",
        "                              validation_data=test_generator,\n",
        "                              validation_steps=10,\n",
        "                              callbacks = [es(patience=5, monitor='val_loss')])"
      ],
      "metadata": {
        "colab": {
          "base_uri": "https://localhost:8080/"
        },
        "id": "lA3piwqpc6o_",
        "outputId": "d3ee458b-ca10-4202-fcd4-fa5d3c62d562"
      },
      "execution_count": null,
      "outputs": [
        {
          "output_type": "stream",
          "name": "stdout",
          "text": [
            "Epoch 1/30\n"
          ]
        },
        {
          "output_type": "stream",
          "name": "stderr",
          "text": [
            "/usr/local/lib/python3.7/dist-packages/ipykernel_launcher.py:31: UserWarning: `Model.fit_generator` is deprecated and will be removed in a future version. Please use `Model.fit`, which supports generators.\n"
          ]
        },
        {
          "output_type": "stream",
          "name": "stdout",
          "text": [
            "100/100 [==============================] - 4s 35ms/step - loss: 5.0488 - accuracy: 0.3480 - val_loss: 1.2165 - val_accuracy: 0.3200\n",
            "Epoch 2/30\n",
            "100/100 [==============================] - 3s 34ms/step - loss: 1.1834 - accuracy: 0.3160 - val_loss: 1.1766 - val_accuracy: 0.3400\n",
            "Epoch 3/30\n",
            "100/100 [==============================] - 3s 33ms/step - loss: 1.1776 - accuracy: 0.3040 - val_loss: 1.1772 - val_accuracy: 0.3200\n",
            "Epoch 4/30\n",
            "100/100 [==============================] - 3s 34ms/step - loss: 1.1777 - accuracy: 0.3040 - val_loss: 1.1776 - val_accuracy: 0.3200\n",
            "Epoch 5/30\n",
            "100/100 [==============================] - 3s 34ms/step - loss: 1.1778 - accuracy: 0.3100 - val_loss: 1.1777 - val_accuracy: 0.2800\n",
            "Epoch 6/30\n",
            "100/100 [==============================] - 4s 35ms/step - loss: 1.1777 - accuracy: 0.3380 - val_loss: 1.1766 - val_accuracy: 0.3800\n",
            "Epoch 7/30\n",
            "100/100 [==============================] - 3s 34ms/step - loss: 1.1773 - accuracy: 0.3600 - val_loss: 1.1775 - val_accuracy: 0.3200\n"
          ]
        }
      ]
    },
    {
      "cell_type": "code",
      "source": [
        "# 시각화\n",
        "plt.plot(history.history['loss'], '--o', color = 'red', label = 'train_loss')\n",
        "plt.plot(history.history['val_loss'], '--o', color = 'blue', label = 'val_loss')\n",
        "\n",
        "plt.xlabel('Epochs')\n",
        "plt.ylabel('Loss')\n",
        "plt.legend()\n",
        "plt.grid()"
      ],
      "metadata": {
        "colab": {
          "base_uri": "https://localhost:8080/",
          "height": 279
        },
        "id": "jM5IbCobeX7H",
        "outputId": "1f2bdb77-2ef3-4428-c87d-b2dc84346eb0"
      },
      "execution_count": null,
      "outputs": [
        {
          "output_type": "display_data",
          "data": {
            "text/plain": [
              "<Figure size 432x288 with 1 Axes>"
            ],
            "image/png": "[encoded data removed]"
          },
          "metadata": {
            "needs_background": "light"
          }
        }
      ]
    },
    {
      "cell_type": "code",
      "source": [
        "# 평가\n",
        "test_loss, test_accuracy = model.evaluate(x_test_reshaped, y_test, verbose=2)\n",
        "print(\"test_loss: {} \".format(test_loss))\n",
        "print(\"test_accuracy: {}\".format(test_accuracy))"
      ],
      "metadata": {
        "colab": {
          "base_uri": "https://localhost:8080/"
        },
        "id": "9uuiU6Keen8g",
        "outputId": "0a6dca05-b38d-49bf-f4fa-5258faf1f34f"
      },
      "execution_count": null,
      "outputs": [
        {
          "output_type": "stream",
          "name": "stdout",
          "text": [
            "29/29 - 1s - loss: 1.1773 - accuracy: 0.3333 - 823ms/epoch - 28ms/step\n",
            "test_loss: 1.1773000955581665 \n",
            "test_accuracy: 0.3333333432674408\n"
          ]
        }
      ]
    },
    {
      "cell_type": "markdown",
      "source": [
        "✊ 예상과 달리 정확도가 반절 가까이 폭삭 주저앉아 버렸습니다.\n",
        "\n",
        "L2 규제는 어떨까요?"
      ],
      "metadata": {
        "id": "9peFmbRnet4W"
      }
    },
    {
      "cell_type": "markdown",
      "source": [
        "---"
      ],
      "metadata": {
        "id": "_019wNTZhloy"
      }
    },
    {
      "cell_type": "markdown",
      "source": [
        "### **07-4. L2 Regulation**"
      ],
      "metadata": {
        "id": "9qM60wQfhmnv"
      }
    },
    {
      "cell_type": "code",
      "source": [
        "# 모델 생성\n",
        "\n",
        "d_channel_1 = 64\n",
        "d_channel_2 = 128\n",
        "d_dense = 32\n",
        "kernel_size = 5\n",
        "\n",
        "model=Sequential()\n",
        "model.add(Conv2D(d_channel_1, (kernel_size, kernel_size), activation='relu', input_shape=(28,28,3)))\n",
        "model.add(Dropout(0.2)) # 20% 드롭아웃 추가 \n",
        "model.add(MaxPooling2D(2,2))\n",
        "model.add(Conv2D(d_channel_2, (kernel_size, kernel_size), activation='relu'))\n",
        "model.add(Dropout(0.2)) # 20% 드롭아웃 추가\n",
        "model.add(MaxPooling2D((2,2)))\n",
        "model.add(Flatten())\n",
        "model.add(Dense(d_dense, activation='relu', kernel_regularizer='l2')) # L2 regulation 추가\n",
        "model.add(Dense(3, activation='softmax'))\n",
        "\n",
        "\n",
        "model.compile(optimizer='adam',\n",
        "             loss='sparse_categorical_crossentropy',\n",
        "             metrics=['accuracy'])\n",
        "\n",
        "\n",
        "# 학습\n",
        "history = model.fit_generator(train_generator,\n",
        "                              steps_per_epoch=100,\n",
        "                              epochs=30,\n",
        "                              validation_data=test_generator,\n",
        "                              validation_steps=10,\n",
        "                              callbacks = [es(patience=5, monitor='val_loss')])\n",
        "\n"
      ],
      "metadata": {
        "colab": {
          "base_uri": "https://localhost:8080/"
        },
        "id": "Yu97W-EYhhrc",
        "outputId": "22f496ec-a059-47da-b267-f9d2ca868351"
      },
      "execution_count": null,
      "outputs": [
        {
          "output_type": "stream",
          "name": "stdout",
          "text": [
            "Epoch 1/30\n"
          ]
        },
        {
          "output_type": "stream",
          "name": "stderr",
          "text": [
            "/usr/local/lib/python3.7/dist-packages/ipykernel_launcher.py:31: UserWarning: `Model.fit_generator` is deprecated and will be removed in a future version. Please use `Model.fit`, which supports generators.\n"
          ]
        },
        {
          "output_type": "stream",
          "name": "stdout",
          "text": [
            "100/100 [==============================] - 6s 46ms/step - loss: 1.3350 - accuracy: 0.3580 - val_loss: 1.2015 - val_accuracy: 0.4000\n",
            "Epoch 2/30\n",
            "100/100 [==============================] - 4s 36ms/step - loss: 0.9102 - accuracy: 0.6260 - val_loss: 1.2418 - val_accuracy: 0.3400\n",
            "Epoch 3/30\n",
            "100/100 [==============================] - 4s 36ms/step - loss: 0.6219 - accuracy: 0.7660 - val_loss: 1.0574 - val_accuracy: 0.4800\n",
            "Epoch 4/30\n",
            "100/100 [==============================] - 4s 35ms/step - loss: 0.4236 - accuracy: 0.8600 - val_loss: 1.0650 - val_accuracy: 0.4200\n",
            "Epoch 5/30\n",
            "100/100 [==============================] - 3s 35ms/step - loss: 0.2670 - accuracy: 0.9360 - val_loss: 1.0873 - val_accuracy: 0.4400\n",
            "Epoch 6/30\n",
            "100/100 [==============================] - 3s 34ms/step - loss: 0.2345 - accuracy: 0.9320 - val_loss: 0.9745 - val_accuracy: 0.4600\n",
            "Epoch 7/30\n",
            "100/100 [==============================] - 3s 34ms/step - loss: 0.3144 - accuracy: 0.9220 - val_loss: 0.9156 - val_accuracy: 0.7000\n",
            "Epoch 8/30\n",
            "100/100 [==============================] - 3s 34ms/step - loss: 0.2044 - accuracy: 0.9540 - val_loss: 1.0830 - val_accuracy: 0.6000\n",
            "Epoch 9/30\n",
            "100/100 [==============================] - 3s 34ms/step - loss: 0.2182 - accuracy: 0.9540 - val_loss: 0.8849 - val_accuracy: 0.6000\n",
            "Epoch 10/30\n",
            "100/100 [==============================] - 3s 33ms/step - loss: 0.1405 - accuracy: 0.9720 - val_loss: 0.8399 - val_accuracy: 0.7000\n",
            "Epoch 11/30\n",
            "100/100 [==============================] - 3s 33ms/step - loss: 0.2145 - accuracy: 0.9500 - val_loss: 0.9921 - val_accuracy: 0.5200\n",
            "Epoch 12/30\n",
            "100/100 [==============================] - 3s 34ms/step - loss: 0.2270 - accuracy: 0.9500 - val_loss: 1.0077 - val_accuracy: 0.5200\n",
            "Epoch 13/30\n",
            "100/100 [==============================] - 3s 34ms/step - loss: 0.2022 - accuracy: 0.9520 - val_loss: 1.0579 - val_accuracy: 0.3800\n",
            "Epoch 14/30\n",
            "100/100 [==============================] - 3s 34ms/step - loss: 0.1708 - accuracy: 0.9560 - val_loss: 1.0169 - val_accuracy: 0.4600\n",
            "Epoch 15/30\n",
            "100/100 [==============================] - 3s 33ms/step - loss: 0.1423 - accuracy: 0.9780 - val_loss: 0.7915 - val_accuracy: 0.6600\n",
            "Epoch 16/30\n",
            "100/100 [==============================] - 3s 34ms/step - loss: 0.1287 - accuracy: 0.9820 - val_loss: 1.2481 - val_accuracy: 0.5400\n",
            "Epoch 17/30\n",
            "100/100 [==============================] - 3s 34ms/step - loss: 0.1526 - accuracy: 0.9640 - val_loss: 0.8987 - val_accuracy: 0.5400\n",
            "Epoch 18/30\n",
            "100/100 [==============================] - 4s 36ms/step - loss: 0.1911 - accuracy: 0.9600 - val_loss: 0.9891 - val_accuracy: 0.4400\n",
            "Epoch 19/30\n",
            "100/100 [==============================] - 4s 35ms/step - loss: 0.1654 - accuracy: 0.9680 - val_loss: 0.9447 - val_accuracy: 0.5000\n",
            "Epoch 20/30\n",
            "100/100 [==============================] - 3s 34ms/step - loss: 0.1847 - accuracy: 0.9620 - val_loss: 0.9242 - val_accuracy: 0.5600\n"
          ]
        }
      ]
    },
    {
      "cell_type": "code",
      "source": [
        "# 시각화\n",
        "plt.plot(history.history['loss'], '--o', color = 'red', label = 'train_loss')\n",
        "plt.plot(history.history['val_loss'], '--o', color = 'blue', label = 'val_loss')\n",
        "\n",
        "plt.xlabel('Epochs')\n",
        "plt.ylabel('Loss')\n",
        "plt.legend()\n",
        "plt.grid()"
      ],
      "metadata": {
        "colab": {
          "base_uri": "https://localhost:8080/",
          "height": 279
        },
        "id": "24hUvwF-huNt",
        "outputId": "672c1820-e27a-4f50-b024-e3c5b8e91670"
      },
      "execution_count": null,
      "outputs": [
        {
          "output_type": "display_data",
          "data": {
            "text/plain": [
              "<Figure size 432x288 with 1 Axes>"
            ],
            "image/png": "[encoded data removed]"
          },
          "metadata": {
            "needs_background": "light"
          }
        }
      ]
    },
    {
      "cell_type": "code",
      "source": [
        "# 평가\n",
        "test_loss, test_accuracy = model.evaluate(x_test_reshaped, y_test, verbose=2)\n",
        "print(\"test_loss: {} \".format(test_loss))\n",
        "print(\"test_accuracy: {}\".format(test_accuracy))"
      ],
      "metadata": {
        "colab": {
          "base_uri": "https://localhost:8080/"
        },
        "id": "KmMIrbwGhvOH",
        "outputId": "7069b44a-46f4-4a53-ed3e-504adbfe2561"
      },
      "execution_count": null,
      "outputs": [
        {
          "output_type": "stream",
          "name": "stdout",
          "text": [
            "29/29 - 1s - loss: 0.7364 - accuracy: 0.7178 - 1s/epoch - 42ms/step\n",
            "test_loss: 0.736352264881134 \n",
            "test_accuracy: 0.7177777886390686\n"
          ]
        }
      ]
    },
    {
      "cell_type": "markdown",
      "source": [
        "🖐 드디어 70%가 넘는 정확도가 나왔습니다. **목표 달성!**"
      ],
      "metadata": {
        "id": "1XqDp-ZzpD4Y"
      }
    },
    {
      "cell_type": "markdown",
      "source": [
        "---"
      ],
      "metadata": {
        "id": "LgSyGuxKpR0N"
      }
    },
    {
      "cell_type": "markdown",
      "source": [
        "# **회고**\n",
        "\n",
        "> 아직 L1, L2 Regulation의 작동 원리를 잘 이해하지 못했습니다. 😢\n",
        ">\n",
        "> 그래서 원래 L2 규제는 sparse problem에 쓰는 게 아니라거나, L1 규제를 통해서 핵심 피쳐만 추출할 수 있다는 내용이 왜 이번에는 적용되지 않았는지 이유를 모르겠습니다.\n",
        ">\n",
        "> 또, 최종적으로 추출된 71%의 정확도는 random seed 값을 고정해놓지 않아서 재현성이 매우 떨어진다는 단점이 있습니다.\n",
        ">\n",
        "> 코딩 실력의 한계로(....) Stratified K-Fold를 통해 신뢰할 만한 정확도를 구하지 못했는데 이 부분은 나중에 여유가 있을 때 다시 도전해 보겠습니다."
      ],
      "metadata": {
        "id": "mv5zPqQ86o4P"
      }
    }
  ],
  "metadata": {
    "colab": {
      "collapsed_sections": [],
      "name": "E05_RSP.ipynb",
      "provenance": [],
      "authorship_tag": "ABX9TyOxpSqSQSTOy8GnsykZy9oA",
      "include_colab_link": true
    },
    "kernelspec": {
      "display_name": "Python 3",
      "name": "python3"
    },
    "language_info": {
      "name": "python"
    }
  },
  "nbformat": 4,
  "nbformat_minor": 0
}

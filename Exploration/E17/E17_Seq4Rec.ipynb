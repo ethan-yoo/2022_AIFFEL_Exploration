{
  "nbformat": 4,
  "nbformat_minor": 0,
  "metadata": {
    "colab": {
      "name": "E17_Seq4Rec.ipynb",
      "provenance": [],
      "collapsed_sections": [],
      "toc_visible": true
    },
    "kernelspec": {
      "name": "python3",
      "display_name": "Python 3"
    },
    "language_info": {
      "name": "python"
    },
    "accelerator": "GPU",
    "gpuClass": "standard"
  },
  "cells": [
    {
      "cell_type": "markdown",
      "source": [
        "# **E17. Session based Context-Aware RecSys**"
      ],
      "metadata": {
        "id": "_JoSVzhZ2lK1"
      }
    },
    {
      "cell_type": "markdown",
      "source": [
        "## **INDEX**\n",
        "\n",
        "00. 필요한 함수 가져오기\n",
        "\n",
        "01. 데이터 읽어오기\n",
        "\n",
        "02. EDA\n",
        "\n",
        "03. Train, Test, Val set 생성\n",
        "\n",
        "04. Modeling\n",
        "\n",
        "05. Train & Test\n",
        "\n",
        "06. 회고"
      ],
      "metadata": {
        "id": "rIoFDOWTE9XC"
      }
    },
    {
      "cell_type": "markdown",
      "source": [
        "> **REF** : [hjkornn-phys github](https://github.com/hjkornn-phys/Aiffel-Exploration-projects/blob/master/Exploration_12/EX12_Session_based_Recommendation.ipynb)"
      ],
      "metadata": {
        "id": "u7mWuAvNFK9x"
      }
    },
    {
      "cell_type": "markdown",
      "source": [
        "---"
      ],
      "metadata": {
        "id": "Jde-4dgIJ0nd"
      }
    },
    {
      "cell_type": "markdown",
      "source": [
        "## **00. 필요한 함수 가져오기**"
      ],
      "metadata": {
        "id": "P94JG2CNJ1fO"
      }
    },
    {
      "cell_type": "code",
      "source": [
        "from google.colab import drive\n",
        "drive.mount('/content/mydrive')"
      ],
      "metadata": {
        "colab": {
          "base_uri": "https://localhost:8080/"
        },
        "id": "QrCUpQ22J_gd",
        "outputId": "cdf64fb2-63c7-4bcc-b601-7ec8eae1c82d"
      },
      "execution_count": 2,
      "outputs": [
        {
          "output_type": "stream",
          "name": "stdout",
          "text": [
            "Mounted at /content/mydrive\n"
          ]
        }
      ]
    },
    {
      "cell_type": "code",
      "source": [
        "import os\n",
        "import numpy as np\n",
        "import pandas as pd\n",
        "import matplotlib.pyplot as plt\n",
        "\n",
        "import tensorflow as tf\n",
        "import datetime as dt\n",
        "from pathlib import Path\n",
        "\n",
        "from tensorflow.keras.layers import Input, Dense, Dropout, GRU\n",
        "from tensorflow.keras.losses import categorical_crossentropy\n",
        "from tensorflow.keras.models import Model\n",
        "from tensorflow.keras.optimizers import Adam\n",
        "from tensorflow.keras.utils import to_categorical\n",
        "from tqdm import tqdm\n",
        "\n",
        "\n",
        "print(\"Done!\")"
      ],
      "metadata": {
        "colab": {
          "base_uri": "https://localhost:8080/"
        },
        "id": "o1jpRx4GKIlc",
        "outputId": "ea0f66b2-7b7e-4fce-82e2-1b7d1cfb8ef0"
      },
      "execution_count": 88,
      "outputs": [
        {
          "output_type": "stream",
          "name": "stdout",
          "text": [
            "Done!\n"
          ]
        }
      ]
    },
    {
      "cell_type": "markdown",
      "source": [
        "---"
      ],
      "metadata": {
        "id": "cKRFIi3AKgHE"
      }
    },
    {
      "cell_type": "markdown",
      "source": [
        "## **01. 데이터 읽어오기**"
      ],
      "metadata": {
        "id": "dz3JxPD3Kk2z"
      }
    },
    {
      "cell_type": "code",
      "source": [
        "data_path = Path('/content/mydrive/MyDrive/AIFFEL/E17/data')\n",
        "train_path = data_path / 'ratings.dat'\n",
        "\n",
        "def load_data(data_path: Path, nrows=None):\n",
        "    data = pd.read_csv(data_path, sep='::', header=None, usecols=[0,1,2,3],\n",
        "                       dtype={0:np.int32, 1:np.int32, 2:np.int32}, nrows=nrows)\n",
        "    data.columns = ['UserId', 'ItemId', 'Rating', 'Time']\n",
        "    return data\n",
        "\n",
        "data = load_data(train_path, None)\n",
        "\n",
        "# data를 id와 시간 순서로 정렬\n",
        "data.sort_values(['UserId', 'Time'], inplace=True)\n",
        "\n",
        "data"
      ],
      "metadata": {
        "colab": {
          "base_uri": "https://localhost:8080/",
          "height": 478
        },
        "id": "VEkjn4VRKnXT",
        "outputId": "c0db5962-8aca-4aaa-c855-781a7ea5d09d"
      },
      "execution_count": 4,
      "outputs": [
        {
          "output_type": "stream",
          "name": "stderr",
          "text": [
            "/usr/local/lib/python3.7/dist-packages/pandas/util/_decorators.py:311: ParserWarning: Falling back to the 'python' engine because the 'c' engine does not support regex separators (separators > 1 char and different from '\\s+' are interpreted as regex); you can avoid this warning by specifying engine='python'.\n",
            "  return func(*args, **kwargs)\n"
          ]
        },
        {
          "output_type": "execute_result",
          "data": {
            "text/plain": [
              "         UserId  ItemId  Rating       Time\n",
              "31            1    3186       4  978300019\n",
              "22            1    1270       5  978300055\n",
              "27            1    1721       4  978300055\n",
              "37            1    1022       5  978300055\n",
              "24            1    2340       3  978300103\n",
              "...         ...     ...     ...        ...\n",
              "1000019    6040    2917       4  997454429\n",
              "999988     6040    1921       4  997454464\n",
              "1000172    6040    1784       3  997454464\n",
              "1000167    6040     161       3  997454486\n",
              "1000042    6040    1221       4  998315055\n",
              "\n",
              "[1000209 rows x 4 columns]"
            ],
            "text/html": [
              "\n",
              "  <div id=\"df-6cb35b2c-6168-41db-a9b9-6e2303cfcada\">\n",
              "    <div class=\"colab-df-container\">\n",
              "      <div>\n",
              "<style scoped>\n",
              "    .dataframe tbody tr th:only-of-type {\n",
              "        vertical-align: middle;\n",
              "    }\n",
              "\n",
              "    .dataframe tbody tr th {\n",
              "        vertical-align: top;\n",
              "    }\n",
              "\n",
              "    .dataframe thead th {\n",
              "        text-align: right;\n",
              "    }\n",
              "</style>\n",
              "<table border=\"1\" class=\"dataframe\">\n",
              "  <thead>\n",
              "    <tr style=\"text-align: right;\">\n",
              "      <th></th>\n",
              "      <th>UserId</th>\n",
              "      <th>ItemId</th>\n",
              "      <th>Rating</th>\n",
              "      <th>Time</th>\n",
              "    </tr>\n",
              "  </thead>\n",
              "  <tbody>\n",
              "    <tr>\n",
              "      <th>31</th>\n",
              "      <td>1</td>\n",
              "      <td>3186</td>\n",
              "      <td>4</td>\n",
              "      <td>978300019</td>\n",
              "    </tr>\n",
              "    <tr>\n",
              "      <th>22</th>\n",
              "      <td>1</td>\n",
              "      <td>1270</td>\n",
              "      <td>5</td>\n",
              "      <td>978300055</td>\n",
              "    </tr>\n",
              "    <tr>\n",
              "      <th>27</th>\n",
              "      <td>1</td>\n",
              "      <td>1721</td>\n",
              "      <td>4</td>\n",
              "      <td>978300055</td>\n",
              "    </tr>\n",
              "    <tr>\n",
              "      <th>37</th>\n",
              "      <td>1</td>\n",
              "      <td>1022</td>\n",
              "      <td>5</td>\n",
              "      <td>978300055</td>\n",
              "    </tr>\n",
              "    <tr>\n",
              "      <th>24</th>\n",
              "      <td>1</td>\n",
              "      <td>2340</td>\n",
              "      <td>3</td>\n",
              "      <td>978300103</td>\n",
              "    </tr>\n",
              "    <tr>\n",
              "      <th>...</th>\n",
              "      <td>...</td>\n",
              "      <td>...</td>\n",
              "      <td>...</td>\n",
              "      <td>...</td>\n",
              "    </tr>\n",
              "    <tr>\n",
              "      <th>1000019</th>\n",
              "      <td>6040</td>\n",
              "      <td>2917</td>\n",
              "      <td>4</td>\n",
              "      <td>997454429</td>\n",
              "    </tr>\n",
              "    <tr>\n",
              "      <th>999988</th>\n",
              "      <td>6040</td>\n",
              "      <td>1921</td>\n",
              "      <td>4</td>\n",
              "      <td>997454464</td>\n",
              "    </tr>\n",
              "    <tr>\n",
              "      <th>1000172</th>\n",
              "      <td>6040</td>\n",
              "      <td>1784</td>\n",
              "      <td>3</td>\n",
              "      <td>997454464</td>\n",
              "    </tr>\n",
              "    <tr>\n",
              "      <th>1000167</th>\n",
              "      <td>6040</td>\n",
              "      <td>161</td>\n",
              "      <td>3</td>\n",
              "      <td>997454486</td>\n",
              "    </tr>\n",
              "    <tr>\n",
              "      <th>1000042</th>\n",
              "      <td>6040</td>\n",
              "      <td>1221</td>\n",
              "      <td>4</td>\n",
              "      <td>998315055</td>\n",
              "    </tr>\n",
              "  </tbody>\n",
              "</table>\n",
              "<p>1000209 rows × 4 columns</p>\n",
              "</div>\n",
              "      <button class=\"colab-df-convert\" onclick=\"convertToInteractive('df-6cb35b2c-6168-41db-a9b9-6e2303cfcada')\"\n",
              "              title=\"Convert this dataframe to an interactive table.\"\n",
              "              style=\"display:none;\">\n",
              "        \n",
              "  <svg xmlns=\"http://www.w3.org/2000/svg\" height=\"24px\"viewBox=\"0 0 24 24\"\n",
              "       width=\"24px\">\n",
              "    <path d=\"M0 0h24v24H0V0z\" fill=\"none\"/>\n",
              "    <path d=\"M18.56 5.44l.94 2.06.94-2.06 2.06-.94-2.06-.94-.94-2.06-.94 2.06-2.06.94zm-11 1L8.5 8.5l.94-2.06 2.06-.94-2.06-.94L8.5 2.5l-.94 2.06-2.06.94zm10 10l.94 2.06.94-2.06 2.06-.94-2.06-.94-.94-2.06-.94 2.06-2.06.94z\"/><path d=\"M17.41 7.96l-1.37-1.37c-.4-.4-.92-.59-1.43-.59-.52 0-1.04.2-1.43.59L10.3 9.45l-7.72 7.72c-.78.78-.78 2.05 0 2.83L4 21.41c.39.39.9.59 1.41.59.51 0 1.02-.2 1.41-.59l7.78-7.78 2.81-2.81c.8-.78.8-2.07 0-2.86zM5.41 20L4 18.59l7.72-7.72 1.47 1.35L5.41 20z\"/>\n",
              "  </svg>\n",
              "      </button>\n",
              "      \n",
              "  <style>\n",
              "    .colab-df-container {\n",
              "      display:flex;\n",
              "      flex-wrap:wrap;\n",
              "      gap: 12px;\n",
              "    }\n",
              "\n",
              "    .colab-df-convert {\n",
              "      background-color: #E8F0FE;\n",
              "      border: none;\n",
              "      border-radius: 50%;\n",
              "      cursor: pointer;\n",
              "      display: none;\n",
              "      fill: #1967D2;\n",
              "      height: 32px;\n",
              "      padding: 0 0 0 0;\n",
              "      width: 32px;\n",
              "    }\n",
              "\n",
              "    .colab-df-convert:hover {\n",
              "      background-color: #E2EBFA;\n",
              "      box-shadow: 0px 1px 2px rgba(60, 64, 67, 0.3), 0px 1px 3px 1px rgba(60, 64, 67, 0.15);\n",
              "      fill: #174EA6;\n",
              "    }\n",
              "\n",
              "    [theme=dark] .colab-df-convert {\n",
              "      background-color: #3B4455;\n",
              "      fill: #D2E3FC;\n",
              "    }\n",
              "\n",
              "    [theme=dark] .colab-df-convert:hover {\n",
              "      background-color: #434B5C;\n",
              "      box-shadow: 0px 1px 3px 1px rgba(0, 0, 0, 0.15);\n",
              "      filter: drop-shadow(0px 1px 2px rgba(0, 0, 0, 0.3));\n",
              "      fill: #FFFFFF;\n",
              "    }\n",
              "  </style>\n",
              "\n",
              "      <script>\n",
              "        const buttonEl =\n",
              "          document.querySelector('#df-6cb35b2c-6168-41db-a9b9-6e2303cfcada button.colab-df-convert');\n",
              "        buttonEl.style.display =\n",
              "          google.colab.kernel.accessAllowed ? 'block' : 'none';\n",
              "\n",
              "        async function convertToInteractive(key) {\n",
              "          const element = document.querySelector('#df-6cb35b2c-6168-41db-a9b9-6e2303cfcada');\n",
              "          const dataTable =\n",
              "            await google.colab.kernel.invokeFunction('convertToInteractive',\n",
              "                                                     [key], {});\n",
              "          if (!dataTable) return;\n",
              "\n",
              "          const docLinkHtml = 'Like what you see? Visit the ' +\n",
              "            '<a target=\"_blank\" href=https://colab.research.google.com/notebooks/data_table.ipynb>data table notebook</a>'\n",
              "            + ' to learn more about interactive tables.';\n",
              "          element.innerHTML = '';\n",
              "          dataTable['output_type'] = 'display_data';\n",
              "          await google.colab.output.renderOutput(dataTable, element);\n",
              "          const docLink = document.createElement('div');\n",
              "          docLink.innerHTML = docLinkHtml;\n",
              "          element.appendChild(docLink);\n",
              "        }\n",
              "      </script>\n",
              "    </div>\n",
              "  </div>\n",
              "  "
            ]
          },
          "metadata": {},
          "execution_count": 4
        }
      ]
    },
    {
      "cell_type": "markdown",
      "source": [
        "---"
      ],
      "metadata": {
        "id": "lJRB7T2Tbi3M"
      }
    },
    {
      "cell_type": "markdown",
      "source": [
        "## **02. EDA**"
      ],
      "metadata": {
        "id": "EzZiKin-bjbk"
      }
    },
    {
      "cell_type": "code",
      "source": [
        "data['UserId'].nunique(), data['ItemId'].nunique()"
      ],
      "metadata": {
        "colab": {
          "base_uri": "https://localhost:8080/"
        },
        "id": "WlkWxnDjaSfr",
        "outputId": "52c58df0-fae4-4f50-dca3-4b29c62ccd4b"
      },
      "execution_count": 5,
      "outputs": [
        {
          "output_type": "execute_result",
          "data": {
            "text/plain": [
              "(6040, 3706)"
            ]
          },
          "metadata": {},
          "execution_count": 5
        }
      ]
    },
    {
      "cell_type": "code",
      "source": [
        "action_num = data.groupby('UserId').size()\n",
        "action_num"
      ],
      "metadata": {
        "colab": {
          "base_uri": "https://localhost:8080/"
        },
        "id": "JJK2za9qbfEY",
        "outputId": "8366aaed-79be-4048-fa61-489a9c0aed54"
      },
      "execution_count": 6,
      "outputs": [
        {
          "output_type": "execute_result",
          "data": {
            "text/plain": [
              "UserId\n",
              "1        53\n",
              "2       129\n",
              "3        51\n",
              "4        21\n",
              "5       198\n",
              "       ... \n",
              "6036    888\n",
              "6037    202\n",
              "6038     20\n",
              "6039    123\n",
              "6040    341\n",
              "Length: 6040, dtype: int64"
            ]
          },
          "metadata": {},
          "execution_count": 6
        }
      ]
    },
    {
      "cell_type": "code",
      "source": [
        "action_num.max()"
      ],
      "metadata": {
        "colab": {
          "base_uri": "https://localhost:8080/"
        },
        "id": "nQ8U2katcKRf",
        "outputId": "36e919f7-1642-480b-911e-f89dab570a31"
      },
      "execution_count": 7,
      "outputs": [
        {
          "output_type": "execute_result",
          "data": {
            "text/plain": [
              "2314"
            ]
          },
          "metadata": {},
          "execution_count": 7
        }
      ]
    },
    {
      "cell_type": "code",
      "source": [
        "action_num.min()"
      ],
      "metadata": {
        "colab": {
          "base_uri": "https://localhost:8080/"
        },
        "id": "8gQ2sTfWcLzP",
        "outputId": "2145f3eb-ab83-4104-dec9-da8cbae243dd"
      },
      "execution_count": 8,
      "outputs": [
        {
          "output_type": "execute_result",
          "data": {
            "text/plain": [
              "20"
            ]
          },
          "metadata": {},
          "execution_count": 8
        }
      ]
    },
    {
      "cell_type": "code",
      "source": [
        "action_num.median()"
      ],
      "metadata": {
        "colab": {
          "base_uri": "https://localhost:8080/"
        },
        "id": "CSy8QLgccbaq",
        "outputId": "3504a6e6-1abc-49d9-b402-ac40f9005bc0"
      },
      "execution_count": 9,
      "outputs": [
        {
          "output_type": "execute_result",
          "data": {
            "text/plain": [
              "96.0"
            ]
          },
          "metadata": {},
          "execution_count": 9
        }
      ]
    },
    {
      "cell_type": "code",
      "source": [
        "action_num.mean()"
      ],
      "metadata": {
        "colab": {
          "base_uri": "https://localhost:8080/"
        },
        "id": "sGvP_-LFcdQ5",
        "outputId": "cc5aad2a-080a-4f75-c0b1-110489322e5a"
      },
      "execution_count": 10,
      "outputs": [
        {
          "output_type": "execute_result",
          "data": {
            "text/plain": [
              "165.5975165562914"
            ]
          },
          "metadata": {},
          "execution_count": 10
        }
      ]
    },
    {
      "cell_type": "code",
      "source": [
        "action_num.quantile(0.999)"
      ],
      "metadata": {
        "colab": {
          "base_uri": "https://localhost:8080/"
        },
        "id": "QZpebkNYcmh3",
        "outputId": "4d1a09fd-cc46-4ca1-b152-dfff60a0d361"
      },
      "execution_count": 11,
      "outputs": [
        {
          "output_type": "execute_result",
          "data": {
            "text/plain": [
              "1343.181000000005"
            ]
          },
          "metadata": {},
          "execution_count": 11
        }
      ]
    },
    {
      "cell_type": "markdown",
      "source": [
        "유저별로 생성한 타임스탬프 수의 차이가 큽니다.\n",
        "\n",
        "하지만 대부분은 1343.18개 이하의 액션을 취했습니다.\n",
        "\n",
        "1액션 != 1세션인 점을 주의합니다."
      ],
      "metadata": {
        "id": "_4zUaVnUcn9P"
      }
    },
    {
      "cell_type": "code",
      "source": [
        "strange = action_num[action_num >= 1344]\n",
        "strange"
      ],
      "metadata": {
        "colab": {
          "base_uri": "https://localhost:8080/"
        },
        "id": "qYV5UHjfc04l",
        "outputId": "6f09f645-9ab4-4196-fa88-1f4dd8a660fd"
      },
      "execution_count": 12,
      "outputs": [
        {
          "output_type": "execute_result",
          "data": {
            "text/plain": [
              "UserId\n",
              "889     1518\n",
              "1181    1521\n",
              "1680    1850\n",
              "1941    1595\n",
              "3618    1344\n",
              "4169    2314\n",
              "4277    1743\n",
              "dtype: int64"
            ]
          },
          "metadata": {},
          "execution_count": 12
        }
      ]
    },
    {
      "cell_type": "markdown",
      "source": [
        "하위 0.01%의 이상치를 살펴보겠습니다."
      ],
      "metadata": {
        "id": "zFaixKpAdjaN"
      }
    },
    {
      "cell_type": "code",
      "source": [
        "data[data['UserId'] == strange.index[0]]"
      ],
      "metadata": {
        "colab": {
          "base_uri": "https://localhost:8080/",
          "height": 424
        },
        "id": "bSVfGAiEdpNV",
        "outputId": "90d84b78-3cd9-461a-c64e-6f49b52be841"
      },
      "execution_count": 13,
      "outputs": [
        {
          "output_type": "execute_result",
          "data": {
            "text/plain": [
              "        UserId  ItemId  Rating       Time\n",
              "137631     889    1266       3  975247862\n",
              "137864     889    2430       3  975247862\n",
              "137889     889    1643       3  975247862\n",
              "138039     889    3461       3  975247862\n",
              "138316     889    1193       1  975247862\n",
              "...        ...     ...     ...        ...\n",
              "138285     889    1322       1  975364486\n",
              "138292     889    1328       1  975364486\n",
              "139033     889    2974       2  975364486\n",
              "137720     889    3047       5  975364518\n",
              "138794     889    3713       4  975364518\n",
              "\n",
              "[1518 rows x 4 columns]"
            ],
            "text/html": [
              "\n",
              "  <div id=\"df-79327934-413b-496b-9371-b871721bc8f3\">\n",
              "    <div class=\"colab-df-container\">\n",
              "      <div>\n",
              "<style scoped>\n",
              "    .dataframe tbody tr th:only-of-type {\n",
              "        vertical-align: middle;\n",
              "    }\n",
              "\n",
              "    .dataframe tbody tr th {\n",
              "        vertical-align: top;\n",
              "    }\n",
              "\n",
              "    .dataframe thead th {\n",
              "        text-align: right;\n",
              "    }\n",
              "</style>\n",
              "<table border=\"1\" class=\"dataframe\">\n",
              "  <thead>\n",
              "    <tr style=\"text-align: right;\">\n",
              "      <th></th>\n",
              "      <th>UserId</th>\n",
              "      <th>ItemId</th>\n",
              "      <th>Rating</th>\n",
              "      <th>Time</th>\n",
              "    </tr>\n",
              "  </thead>\n",
              "  <tbody>\n",
              "    <tr>\n",
              "      <th>137631</th>\n",
              "      <td>889</td>\n",
              "      <td>1266</td>\n",
              "      <td>3</td>\n",
              "      <td>975247862</td>\n",
              "    </tr>\n",
              "    <tr>\n",
              "      <th>137864</th>\n",
              "      <td>889</td>\n",
              "      <td>2430</td>\n",
              "      <td>3</td>\n",
              "      <td>975247862</td>\n",
              "    </tr>\n",
              "    <tr>\n",
              "      <th>137889</th>\n",
              "      <td>889</td>\n",
              "      <td>1643</td>\n",
              "      <td>3</td>\n",
              "      <td>975247862</td>\n",
              "    </tr>\n",
              "    <tr>\n",
              "      <th>138039</th>\n",
              "      <td>889</td>\n",
              "      <td>3461</td>\n",
              "      <td>3</td>\n",
              "      <td>975247862</td>\n",
              "    </tr>\n",
              "    <tr>\n",
              "      <th>138316</th>\n",
              "      <td>889</td>\n",
              "      <td>1193</td>\n",
              "      <td>1</td>\n",
              "      <td>975247862</td>\n",
              "    </tr>\n",
              "    <tr>\n",
              "      <th>...</th>\n",
              "      <td>...</td>\n",
              "      <td>...</td>\n",
              "      <td>...</td>\n",
              "      <td>...</td>\n",
              "    </tr>\n",
              "    <tr>\n",
              "      <th>138285</th>\n",
              "      <td>889</td>\n",
              "      <td>1322</td>\n",
              "      <td>1</td>\n",
              "      <td>975364486</td>\n",
              "    </tr>\n",
              "    <tr>\n",
              "      <th>138292</th>\n",
              "      <td>889</td>\n",
              "      <td>1328</td>\n",
              "      <td>1</td>\n",
              "      <td>975364486</td>\n",
              "    </tr>\n",
              "    <tr>\n",
              "      <th>139033</th>\n",
              "      <td>889</td>\n",
              "      <td>2974</td>\n",
              "      <td>2</td>\n",
              "      <td>975364486</td>\n",
              "    </tr>\n",
              "    <tr>\n",
              "      <th>137720</th>\n",
              "      <td>889</td>\n",
              "      <td>3047</td>\n",
              "      <td>5</td>\n",
              "      <td>975364518</td>\n",
              "    </tr>\n",
              "    <tr>\n",
              "      <th>138794</th>\n",
              "      <td>889</td>\n",
              "      <td>3713</td>\n",
              "      <td>4</td>\n",
              "      <td>975364518</td>\n",
              "    </tr>\n",
              "  </tbody>\n",
              "</table>\n",
              "<p>1518 rows × 4 columns</p>\n",
              "</div>\n",
              "      <button class=\"colab-df-convert\" onclick=\"convertToInteractive('df-79327934-413b-496b-9371-b871721bc8f3')\"\n",
              "              title=\"Convert this dataframe to an interactive table.\"\n",
              "              style=\"display:none;\">\n",
              "        \n",
              "  <svg xmlns=\"http://www.w3.org/2000/svg\" height=\"24px\"viewBox=\"0 0 24 24\"\n",
              "       width=\"24px\">\n",
              "    <path d=\"M0 0h24v24H0V0z\" fill=\"none\"/>\n",
              "    <path d=\"M18.56 5.44l.94 2.06.94-2.06 2.06-.94-2.06-.94-.94-2.06-.94 2.06-2.06.94zm-11 1L8.5 8.5l.94-2.06 2.06-.94-2.06-.94L8.5 2.5l-.94 2.06-2.06.94zm10 10l.94 2.06.94-2.06 2.06-.94-2.06-.94-.94-2.06-.94 2.06-2.06.94z\"/><path d=\"M17.41 7.96l-1.37-1.37c-.4-.4-.92-.59-1.43-.59-.52 0-1.04.2-1.43.59L10.3 9.45l-7.72 7.72c-.78.78-.78 2.05 0 2.83L4 21.41c.39.39.9.59 1.41.59.51 0 1.02-.2 1.41-.59l7.78-7.78 2.81-2.81c.8-.78.8-2.07 0-2.86zM5.41 20L4 18.59l7.72-7.72 1.47 1.35L5.41 20z\"/>\n",
              "  </svg>\n",
              "      </button>\n",
              "      \n",
              "  <style>\n",
              "    .colab-df-container {\n",
              "      display:flex;\n",
              "      flex-wrap:wrap;\n",
              "      gap: 12px;\n",
              "    }\n",
              "\n",
              "    .colab-df-convert {\n",
              "      background-color: #E8F0FE;\n",
              "      border: none;\n",
              "      border-radius: 50%;\n",
              "      cursor: pointer;\n",
              "      display: none;\n",
              "      fill: #1967D2;\n",
              "      height: 32px;\n",
              "      padding: 0 0 0 0;\n",
              "      width: 32px;\n",
              "    }\n",
              "\n",
              "    .colab-df-convert:hover {\n",
              "      background-color: #E2EBFA;\n",
              "      box-shadow: 0px 1px 2px rgba(60, 64, 67, 0.3), 0px 1px 3px 1px rgba(60, 64, 67, 0.15);\n",
              "      fill: #174EA6;\n",
              "    }\n",
              "\n",
              "    [theme=dark] .colab-df-convert {\n",
              "      background-color: #3B4455;\n",
              "      fill: #D2E3FC;\n",
              "    }\n",
              "\n",
              "    [theme=dark] .colab-df-convert:hover {\n",
              "      background-color: #434B5C;\n",
              "      box-shadow: 0px 1px 3px 1px rgba(0, 0, 0, 0.15);\n",
              "      filter: drop-shadow(0px 1px 2px rgba(0, 0, 0, 0.3));\n",
              "      fill: #FFFFFF;\n",
              "    }\n",
              "  </style>\n",
              "\n",
              "      <script>\n",
              "        const buttonEl =\n",
              "          document.querySelector('#df-79327934-413b-496b-9371-b871721bc8f3 button.colab-df-convert');\n",
              "        buttonEl.style.display =\n",
              "          google.colab.kernel.accessAllowed ? 'block' : 'none';\n",
              "\n",
              "        async function convertToInteractive(key) {\n",
              "          const element = document.querySelector('#df-79327934-413b-496b-9371-b871721bc8f3');\n",
              "          const dataTable =\n",
              "            await google.colab.kernel.invokeFunction('convertToInteractive',\n",
              "                                                     [key], {});\n",
              "          if (!dataTable) return;\n",
              "\n",
              "          const docLinkHtml = 'Like what you see? Visit the ' +\n",
              "            '<a target=\"_blank\" href=https://colab.research.google.com/notebooks/data_table.ipynb>data table notebook</a>'\n",
              "            + ' to learn more about interactive tables.';\n",
              "          element.innerHTML = '';\n",
              "          dataTable['output_type'] = 'display_data';\n",
              "          await google.colab.output.renderOutput(dataTable, element);\n",
              "          const docLink = document.createElement('div');\n",
              "          docLink.innerHTML = docLinkHtml;\n",
              "          element.appendChild(docLink);\n",
              "        }\n",
              "      </script>\n",
              "    </div>\n",
              "  </div>\n",
              "  "
            ]
          },
          "metadata": {},
          "execution_count": 13
        }
      ]
    },
    {
      "cell_type": "markdown",
      "source": [
        "여러 데이터를 한번에 입력하는 것처럼 보입니다.\n",
        "\n",
        "데이터 비중이 낮으니 일단 제거하지 않고 사용합니다.\n",
        "\n",
        "이제 유저별 데이터를 세션으로 나눠야 합니다.\n",
        "\n",
        "일정 시간 이상 클릭하지 않으면 다음 세션으로 넘어가는 것으로 생각하겠습니다."
      ],
      "metadata": {
        "id": "Yq1aqGTid4bd"
      }
    },
    {
      "cell_type": "markdown",
      "source": [
        "---"
      ],
      "metadata": {
        "id": "_3jQew6X6zrb"
      }
    },
    {
      "cell_type": "markdown",
      "source": [
        "### **02-1. SessionId 생성**"
      ],
      "metadata": {
        "id": "RjZZQYbF60dy"
      }
    },
    {
      "cell_type": "code",
      "source": [
        "sessiondata = data.copy()\n",
        "\n",
        "sessiondata['timegap'] = sessiondata['Time'].diff().fillna(0)\n",
        "sessiondata['user_diff'] = sessiondata['UserId'].diff().fillna(0)\n",
        "\n",
        "session_id = 1\n",
        "def make_sessions(x, max_diff):\n",
        "    global session_id\n",
        "    if x['timegap'] > max_diff or x['user_diff'] == 1:\n",
        "        session_id += 1\n",
        "    return session_id\n",
        "\n",
        "print(\"Done!\")"
      ],
      "metadata": {
        "colab": {
          "base_uri": "https://localhost:8080/"
        },
        "id": "UOQ8LyCc2TH6",
        "outputId": "5fc27f61-fe01-424c-af9a-10f8546fe4eb"
      },
      "execution_count": 29,
      "outputs": [
        {
          "output_type": "stream",
          "name": "stdout",
          "text": [
            "Done!\n"
          ]
        }
      ]
    },
    {
      "cell_type": "code",
      "source": [
        "sessiondata"
      ],
      "metadata": {
        "colab": {
          "base_uri": "https://localhost:8080/",
          "height": 424
        },
        "id": "_ZZBF7V44J0d",
        "outputId": "7a326447-6597-4d5b-d2f4-2c236bf9f4b9"
      },
      "execution_count": 30,
      "outputs": [
        {
          "output_type": "execute_result",
          "data": {
            "text/plain": [
              "         UserId  ItemId  Rating       Time   timegap  user_diff\n",
              "31            1    3186       4  978300019       0.0        0.0\n",
              "22            1    1270       5  978300055      36.0        0.0\n",
              "27            1    1721       4  978300055       0.0        0.0\n",
              "37            1    1022       5  978300055       0.0        0.0\n",
              "24            1    2340       3  978300103      48.0        0.0\n",
              "...         ...     ...     ...        ...       ...        ...\n",
              "1000019    6040    2917       4  997454429      31.0        0.0\n",
              "999988     6040    1921       4  997454464      35.0        0.0\n",
              "1000172    6040    1784       3  997454464       0.0        0.0\n",
              "1000167    6040     161       3  997454486      22.0        0.0\n",
              "1000042    6040    1221       4  998315055  860569.0        0.0\n",
              "\n",
              "[1000209 rows x 6 columns]"
            ],
            "text/html": [
              "\n",
              "  <div id=\"df-995496a0-5ada-4367-9705-15d34f71e2b8\">\n",
              "    <div class=\"colab-df-container\">\n",
              "      <div>\n",
              "<style scoped>\n",
              "    .dataframe tbody tr th:only-of-type {\n",
              "        vertical-align: middle;\n",
              "    }\n",
              "\n",
              "    .dataframe tbody tr th {\n",
              "        vertical-align: top;\n",
              "    }\n",
              "\n",
              "    .dataframe thead th {\n",
              "        text-align: right;\n",
              "    }\n",
              "</style>\n",
              "<table border=\"1\" class=\"dataframe\">\n",
              "  <thead>\n",
              "    <tr style=\"text-align: right;\">\n",
              "      <th></th>\n",
              "      <th>UserId</th>\n",
              "      <th>ItemId</th>\n",
              "      <th>Rating</th>\n",
              "      <th>Time</th>\n",
              "      <th>timegap</th>\n",
              "      <th>user_diff</th>\n",
              "    </tr>\n",
              "  </thead>\n",
              "  <tbody>\n",
              "    <tr>\n",
              "      <th>31</th>\n",
              "      <td>1</td>\n",
              "      <td>3186</td>\n",
              "      <td>4</td>\n",
              "      <td>978300019</td>\n",
              "      <td>0.0</td>\n",
              "      <td>0.0</td>\n",
              "    </tr>\n",
              "    <tr>\n",
              "      <th>22</th>\n",
              "      <td>1</td>\n",
              "      <td>1270</td>\n",
              "      <td>5</td>\n",
              "      <td>978300055</td>\n",
              "      <td>36.0</td>\n",
              "      <td>0.0</td>\n",
              "    </tr>\n",
              "    <tr>\n",
              "      <th>27</th>\n",
              "      <td>1</td>\n",
              "      <td>1721</td>\n",
              "      <td>4</td>\n",
              "      <td>978300055</td>\n",
              "      <td>0.0</td>\n",
              "      <td>0.0</td>\n",
              "    </tr>\n",
              "    <tr>\n",
              "      <th>37</th>\n",
              "      <td>1</td>\n",
              "      <td>1022</td>\n",
              "      <td>5</td>\n",
              "      <td>978300055</td>\n",
              "      <td>0.0</td>\n",
              "      <td>0.0</td>\n",
              "    </tr>\n",
              "    <tr>\n",
              "      <th>24</th>\n",
              "      <td>1</td>\n",
              "      <td>2340</td>\n",
              "      <td>3</td>\n",
              "      <td>978300103</td>\n",
              "      <td>48.0</td>\n",
              "      <td>0.0</td>\n",
              "    </tr>\n",
              "    <tr>\n",
              "      <th>...</th>\n",
              "      <td>...</td>\n",
              "      <td>...</td>\n",
              "      <td>...</td>\n",
              "      <td>...</td>\n",
              "      <td>...</td>\n",
              "      <td>...</td>\n",
              "    </tr>\n",
              "    <tr>\n",
              "      <th>1000019</th>\n",
              "      <td>6040</td>\n",
              "      <td>2917</td>\n",
              "      <td>4</td>\n",
              "      <td>997454429</td>\n",
              "      <td>31.0</td>\n",
              "      <td>0.0</td>\n",
              "    </tr>\n",
              "    <tr>\n",
              "      <th>999988</th>\n",
              "      <td>6040</td>\n",
              "      <td>1921</td>\n",
              "      <td>4</td>\n",
              "      <td>997454464</td>\n",
              "      <td>35.0</td>\n",
              "      <td>0.0</td>\n",
              "    </tr>\n",
              "    <tr>\n",
              "      <th>1000172</th>\n",
              "      <td>6040</td>\n",
              "      <td>1784</td>\n",
              "      <td>3</td>\n",
              "      <td>997454464</td>\n",
              "      <td>0.0</td>\n",
              "      <td>0.0</td>\n",
              "    </tr>\n",
              "    <tr>\n",
              "      <th>1000167</th>\n",
              "      <td>6040</td>\n",
              "      <td>161</td>\n",
              "      <td>3</td>\n",
              "      <td>997454486</td>\n",
              "      <td>22.0</td>\n",
              "      <td>0.0</td>\n",
              "    </tr>\n",
              "    <tr>\n",
              "      <th>1000042</th>\n",
              "      <td>6040</td>\n",
              "      <td>1221</td>\n",
              "      <td>4</td>\n",
              "      <td>998315055</td>\n",
              "      <td>860569.0</td>\n",
              "      <td>0.0</td>\n",
              "    </tr>\n",
              "  </tbody>\n",
              "</table>\n",
              "<p>1000209 rows × 6 columns</p>\n",
              "</div>\n",
              "      <button class=\"colab-df-convert\" onclick=\"convertToInteractive('df-995496a0-5ada-4367-9705-15d34f71e2b8')\"\n",
              "              title=\"Convert this dataframe to an interactive table.\"\n",
              "              style=\"display:none;\">\n",
              "        \n",
              "  <svg xmlns=\"http://www.w3.org/2000/svg\" height=\"24px\"viewBox=\"0 0 24 24\"\n",
              "       width=\"24px\">\n",
              "    <path d=\"M0 0h24v24H0V0z\" fill=\"none\"/>\n",
              "    <path d=\"M18.56 5.44l.94 2.06.94-2.06 2.06-.94-2.06-.94-.94-2.06-.94 2.06-2.06.94zm-11 1L8.5 8.5l.94-2.06 2.06-.94-2.06-.94L8.5 2.5l-.94 2.06-2.06.94zm10 10l.94 2.06.94-2.06 2.06-.94-2.06-.94-.94-2.06-.94 2.06-2.06.94z\"/><path d=\"M17.41 7.96l-1.37-1.37c-.4-.4-.92-.59-1.43-.59-.52 0-1.04.2-1.43.59L10.3 9.45l-7.72 7.72c-.78.78-.78 2.05 0 2.83L4 21.41c.39.39.9.59 1.41.59.51 0 1.02-.2 1.41-.59l7.78-7.78 2.81-2.81c.8-.78.8-2.07 0-2.86zM5.41 20L4 18.59l7.72-7.72 1.47 1.35L5.41 20z\"/>\n",
              "  </svg>\n",
              "      </button>\n",
              "      \n",
              "  <style>\n",
              "    .colab-df-container {\n",
              "      display:flex;\n",
              "      flex-wrap:wrap;\n",
              "      gap: 12px;\n",
              "    }\n",
              "\n",
              "    .colab-df-convert {\n",
              "      background-color: #E8F0FE;\n",
              "      border: none;\n",
              "      border-radius: 50%;\n",
              "      cursor: pointer;\n",
              "      display: none;\n",
              "      fill: #1967D2;\n",
              "      height: 32px;\n",
              "      padding: 0 0 0 0;\n",
              "      width: 32px;\n",
              "    }\n",
              "\n",
              "    .colab-df-convert:hover {\n",
              "      background-color: #E2EBFA;\n",
              "      box-shadow: 0px 1px 2px rgba(60, 64, 67, 0.3), 0px 1px 3px 1px rgba(60, 64, 67, 0.15);\n",
              "      fill: #174EA6;\n",
              "    }\n",
              "\n",
              "    [theme=dark] .colab-df-convert {\n",
              "      background-color: #3B4455;\n",
              "      fill: #D2E3FC;\n",
              "    }\n",
              "\n",
              "    [theme=dark] .colab-df-convert:hover {\n",
              "      background-color: #434B5C;\n",
              "      box-shadow: 0px 1px 3px 1px rgba(0, 0, 0, 0.15);\n",
              "      filter: drop-shadow(0px 1px 2px rgba(0, 0, 0, 0.3));\n",
              "      fill: #FFFFFF;\n",
              "    }\n",
              "  </style>\n",
              "\n",
              "      <script>\n",
              "        const buttonEl =\n",
              "          document.querySelector('#df-995496a0-5ada-4367-9705-15d34f71e2b8 button.colab-df-convert');\n",
              "        buttonEl.style.display =\n",
              "          google.colab.kernel.accessAllowed ? 'block' : 'none';\n",
              "\n",
              "        async function convertToInteractive(key) {\n",
              "          const element = document.querySelector('#df-995496a0-5ada-4367-9705-15d34f71e2b8');\n",
              "          const dataTable =\n",
              "            await google.colab.kernel.invokeFunction('convertToInteractive',\n",
              "                                                     [key], {});\n",
              "          if (!dataTable) return;\n",
              "\n",
              "          const docLinkHtml = 'Like what you see? Visit the ' +\n",
              "            '<a target=\"_blank\" href=https://colab.research.google.com/notebooks/data_table.ipynb>data table notebook</a>'\n",
              "            + ' to learn more about interactive tables.';\n",
              "          element.innerHTML = '';\n",
              "          dataTable['output_type'] = 'display_data';\n",
              "          await google.colab.output.renderOutput(dataTable, element);\n",
              "          const docLink = document.createElement('div');\n",
              "          docLink.innerHTML = docLinkHtml;\n",
              "          element.appendChild(docLink);\n",
              "        }\n",
              "      </script>\n",
              "    </div>\n",
              "  </div>\n",
              "  "
            ]
          },
          "metadata": {},
          "execution_count": 30
        }
      ]
    },
    {
      "cell_type": "markdown",
      "source": [
        "timegap의 전체 분포를 확인해봅니다."
      ],
      "metadata": {
        "id": "hrcRpSYB4M61"
      }
    },
    {
      "cell_type": "code",
      "source": [
        "plt.figure(figsize=(10, 10))\n",
        "user_sessions = sessiondata[sessiondata['user_diff']!=1]['timegap']\n",
        "user_sessions[user_sessions<2000].hist(bins=100)\n"
      ],
      "metadata": {
        "colab": {
          "base_uri": "https://localhost:8080/",
          "height": 609
        },
        "id": "mJNhDUUC4Qa1",
        "outputId": "424b1907-a64c-4997-b4a9-25b900c557d4"
      },
      "execution_count": 155,
      "outputs": [
        {
          "output_type": "execute_result",
          "data": {
            "text/plain": [
              "<matplotlib.axes._subplots.AxesSubplot at 0x7f008cab4810>"
            ]
          },
          "metadata": {},
          "execution_count": 155
        },
        {
          "output_type": "display_data",
          "data": {
            "text/plain": [
              "<Figure size 720x720 with 1 Axes>"
            ],
            "image/png": "[encoded data removed]"
          },
          "metadata": {
            "needs_background": "light"
          }
        }
      ]
    },
    {
      "cell_type": "markdown",
      "source": [
        "약 250초 정도 간격으로 세션id를 생성하겠습니다."
      ],
      "metadata": {
        "id": "IqTxL6M94jRt"
      }
    },
    {
      "cell_type": "code",
      "source": [
        "session_id = 1\n",
        "def make_session_id(x):\n",
        "    global session_id\n",
        "    if x['timegap'] > 250 or x['user_diff'] == 1:\n",
        "        session_id += 1\n",
        "    return session_id"
      ],
      "metadata": {
        "id": "ZbfTmTgE6mYj"
      },
      "execution_count": 42,
      "outputs": []
    },
    {
      "cell_type": "code",
      "source": [
        "sessiondata['SessionId'] = sessiondata.apply(make_session_id, axis=1)"
      ],
      "metadata": {
        "id": "iJMR0yHn53AD"
      },
      "execution_count": 43,
      "outputs": []
    },
    {
      "cell_type": "code",
      "source": [
        "sessiondata"
      ],
      "metadata": {
        "colab": {
          "base_uri": "https://localhost:8080/",
          "height": 424
        },
        "id": "baGOgBZk6ecC",
        "outputId": "060020e5-1a0f-4b55-efad-69fcee1694f8"
      },
      "execution_count": 44,
      "outputs": [
        {
          "output_type": "execute_result",
          "data": {
            "text/plain": [
              "         UserId  ItemId  Rating       Time   timegap  user_diff  SessionId\n",
              "31            1    3186       4  978300019       0.0        0.0          1\n",
              "22            1    1270       5  978300055      36.0        0.0          1\n",
              "27            1    1721       4  978300055       0.0        0.0          1\n",
              "37            1    1022       5  978300055       0.0        0.0          1\n",
              "24            1    2340       3  978300103      48.0        0.0          1\n",
              "...         ...     ...     ...        ...       ...        ...        ...\n",
              "1000019    6040    2917       4  997454429      31.0        0.0      37502\n",
              "999988     6040    1921       4  997454464      35.0        0.0      37502\n",
              "1000172    6040    1784       3  997454464       0.0        0.0      37502\n",
              "1000167    6040     161       3  997454486      22.0        0.0      37502\n",
              "1000042    6040    1221       4  998315055  860569.0        0.0      37503\n",
              "\n",
              "[1000209 rows x 7 columns]"
            ],
            "text/html": [
              "\n",
              "  <div id=\"df-a2cb4811-9851-48c2-bba3-8ad0b1f273c7\">\n",
              "    <div class=\"colab-df-container\">\n",
              "      <div>\n",
              "<style scoped>\n",
              "    .dataframe tbody tr th:only-of-type {\n",
              "        vertical-align: middle;\n",
              "    }\n",
              "\n",
              "    .dataframe tbody tr th {\n",
              "        vertical-align: top;\n",
              "    }\n",
              "\n",
              "    .dataframe thead th {\n",
              "        text-align: right;\n",
              "    }\n",
              "</style>\n",
              "<table border=\"1\" class=\"dataframe\">\n",
              "  <thead>\n",
              "    <tr style=\"text-align: right;\">\n",
              "      <th></th>\n",
              "      <th>UserId</th>\n",
              "      <th>ItemId</th>\n",
              "      <th>Rating</th>\n",
              "      <th>Time</th>\n",
              "      <th>timegap</th>\n",
              "      <th>user_diff</th>\n",
              "      <th>SessionId</th>\n",
              "    </tr>\n",
              "  </thead>\n",
              "  <tbody>\n",
              "    <tr>\n",
              "      <th>31</th>\n",
              "      <td>1</td>\n",
              "      <td>3186</td>\n",
              "      <td>4</td>\n",
              "      <td>978300019</td>\n",
              "      <td>0.0</td>\n",
              "      <td>0.0</td>\n",
              "      <td>1</td>\n",
              "    </tr>\n",
              "    <tr>\n",
              "      <th>22</th>\n",
              "      <td>1</td>\n",
              "      <td>1270</td>\n",
              "      <td>5</td>\n",
              "      <td>978300055</td>\n",
              "      <td>36.0</td>\n",
              "      <td>0.0</td>\n",
              "      <td>1</td>\n",
              "    </tr>\n",
              "    <tr>\n",
              "      <th>27</th>\n",
              "      <td>1</td>\n",
              "      <td>1721</td>\n",
              "      <td>4</td>\n",
              "      <td>978300055</td>\n",
              "      <td>0.0</td>\n",
              "      <td>0.0</td>\n",
              "      <td>1</td>\n",
              "    </tr>\n",
              "    <tr>\n",
              "      <th>37</th>\n",
              "      <td>1</td>\n",
              "      <td>1022</td>\n",
              "      <td>5</td>\n",
              "      <td>978300055</td>\n",
              "      <td>0.0</td>\n",
              "      <td>0.0</td>\n",
              "      <td>1</td>\n",
              "    </tr>\n",
              "    <tr>\n",
              "      <th>24</th>\n",
              "      <td>1</td>\n",
              "      <td>2340</td>\n",
              "      <td>3</td>\n",
              "      <td>978300103</td>\n",
              "      <td>48.0</td>\n",
              "      <td>0.0</td>\n",
              "      <td>1</td>\n",
              "    </tr>\n",
              "    <tr>\n",
              "      <th>...</th>\n",
              "      <td>...</td>\n",
              "      <td>...</td>\n",
              "      <td>...</td>\n",
              "      <td>...</td>\n",
              "      <td>...</td>\n",
              "      <td>...</td>\n",
              "      <td>...</td>\n",
              "    </tr>\n",
              "    <tr>\n",
              "      <th>1000019</th>\n",
              "      <td>6040</td>\n",
              "      <td>2917</td>\n",
              "      <td>4</td>\n",
              "      <td>997454429</td>\n",
              "      <td>31.0</td>\n",
              "      <td>0.0</td>\n",
              "      <td>37502</td>\n",
              "    </tr>\n",
              "    <tr>\n",
              "      <th>999988</th>\n",
              "      <td>6040</td>\n",
              "      <td>1921</td>\n",
              "      <td>4</td>\n",
              "      <td>997454464</td>\n",
              "      <td>35.0</td>\n",
              "      <td>0.0</td>\n",
              "      <td>37502</td>\n",
              "    </tr>\n",
              "    <tr>\n",
              "      <th>1000172</th>\n",
              "      <td>6040</td>\n",
              "      <td>1784</td>\n",
              "      <td>3</td>\n",
              "      <td>997454464</td>\n",
              "      <td>0.0</td>\n",
              "      <td>0.0</td>\n",
              "      <td>37502</td>\n",
              "    </tr>\n",
              "    <tr>\n",
              "      <th>1000167</th>\n",
              "      <td>6040</td>\n",
              "      <td>161</td>\n",
              "      <td>3</td>\n",
              "      <td>997454486</td>\n",
              "      <td>22.0</td>\n",
              "      <td>0.0</td>\n",
              "      <td>37502</td>\n",
              "    </tr>\n",
              "    <tr>\n",
              "      <th>1000042</th>\n",
              "      <td>6040</td>\n",
              "      <td>1221</td>\n",
              "      <td>4</td>\n",
              "      <td>998315055</td>\n",
              "      <td>860569.0</td>\n",
              "      <td>0.0</td>\n",
              "      <td>37503</td>\n",
              "    </tr>\n",
              "  </tbody>\n",
              "</table>\n",
              "<p>1000209 rows × 7 columns</p>\n",
              "</div>\n",
              "      <button class=\"colab-df-convert\" onclick=\"convertToInteractive('df-a2cb4811-9851-48c2-bba3-8ad0b1f273c7')\"\n",
              "              title=\"Convert this dataframe to an interactive table.\"\n",
              "              style=\"display:none;\">\n",
              "        \n",
              "  <svg xmlns=\"http://www.w3.org/2000/svg\" height=\"24px\"viewBox=\"0 0 24 24\"\n",
              "       width=\"24px\">\n",
              "    <path d=\"M0 0h24v24H0V0z\" fill=\"none\"/>\n",
              "    <path d=\"M18.56 5.44l.94 2.06.94-2.06 2.06-.94-2.06-.94-.94-2.06-.94 2.06-2.06.94zm-11 1L8.5 8.5l.94-2.06 2.06-.94-2.06-.94L8.5 2.5l-.94 2.06-2.06.94zm10 10l.94 2.06.94-2.06 2.06-.94-2.06-.94-.94-2.06-.94 2.06-2.06.94z\"/><path d=\"M17.41 7.96l-1.37-1.37c-.4-.4-.92-.59-1.43-.59-.52 0-1.04.2-1.43.59L10.3 9.45l-7.72 7.72c-.78.78-.78 2.05 0 2.83L4 21.41c.39.39.9.59 1.41.59.51 0 1.02-.2 1.41-.59l7.78-7.78 2.81-2.81c.8-.78.8-2.07 0-2.86zM5.41 20L4 18.59l7.72-7.72 1.47 1.35L5.41 20z\"/>\n",
              "  </svg>\n",
              "      </button>\n",
              "      \n",
              "  <style>\n",
              "    .colab-df-container {\n",
              "      display:flex;\n",
              "      flex-wrap:wrap;\n",
              "      gap: 12px;\n",
              "    }\n",
              "\n",
              "    .colab-df-convert {\n",
              "      background-color: #E8F0FE;\n",
              "      border: none;\n",
              "      border-radius: 50%;\n",
              "      cursor: pointer;\n",
              "      display: none;\n",
              "      fill: #1967D2;\n",
              "      height: 32px;\n",
              "      padding: 0 0 0 0;\n",
              "      width: 32px;\n",
              "    }\n",
              "\n",
              "    .colab-df-convert:hover {\n",
              "      background-color: #E2EBFA;\n",
              "      box-shadow: 0px 1px 2px rgba(60, 64, 67, 0.3), 0px 1px 3px 1px rgba(60, 64, 67, 0.15);\n",
              "      fill: #174EA6;\n",
              "    }\n",
              "\n",
              "    [theme=dark] .colab-df-convert {\n",
              "      background-color: #3B4455;\n",
              "      fill: #D2E3FC;\n",
              "    }\n",
              "\n",
              "    [theme=dark] .colab-df-convert:hover {\n",
              "      background-color: #434B5C;\n",
              "      box-shadow: 0px 1px 3px 1px rgba(0, 0, 0, 0.15);\n",
              "      filter: drop-shadow(0px 1px 2px rgba(0, 0, 0, 0.3));\n",
              "      fill: #FFFFFF;\n",
              "    }\n",
              "  </style>\n",
              "\n",
              "      <script>\n",
              "        const buttonEl =\n",
              "          document.querySelector('#df-a2cb4811-9851-48c2-bba3-8ad0b1f273c7 button.colab-df-convert');\n",
              "        buttonEl.style.display =\n",
              "          google.colab.kernel.accessAllowed ? 'block' : 'none';\n",
              "\n",
              "        async function convertToInteractive(key) {\n",
              "          const element = document.querySelector('#df-a2cb4811-9851-48c2-bba3-8ad0b1f273c7');\n",
              "          const dataTable =\n",
              "            await google.colab.kernel.invokeFunction('convertToInteractive',\n",
              "                                                     [key], {});\n",
              "          if (!dataTable) return;\n",
              "\n",
              "          const docLinkHtml = 'Like what you see? Visit the ' +\n",
              "            '<a target=\"_blank\" href=https://colab.research.google.com/notebooks/data_table.ipynb>data table notebook</a>'\n",
              "            + ' to learn more about interactive tables.';\n",
              "          element.innerHTML = '';\n",
              "          dataTable['output_type'] = 'display_data';\n",
              "          await google.colab.output.renderOutput(dataTable, element);\n",
              "          const docLink = document.createElement('div');\n",
              "          docLink.innerHTML = docLinkHtml;\n",
              "          element.appendChild(docLink);\n",
              "        }\n",
              "      </script>\n",
              "    </div>\n",
              "  </div>\n",
              "  "
            ]
          },
          "metadata": {},
          "execution_count": 44
        }
      ]
    },
    {
      "cell_type": "markdown",
      "source": [
        "세션별 길이를 확인하고 활동 내역이 너무 적은 세션은 제거합니다."
      ],
      "metadata": {
        "id": "5ufMRvF77Fy5"
      }
    },
    {
      "cell_type": "code",
      "source": [
        "# short_session을 제거한 다음 unpopular item을 제거하면 다시 길이가 1인 session이 생길 수 있습니다.\n",
        "# 이를 위해 반복문을 통해 지속적으로 제거 합니다.\n",
        "def cleanse_recursive(data: pd.DataFrame, shortest, least_click) -> pd.DataFrame:\n",
        "    while True:\n",
        "        before_len = len(data)\n",
        "        data = cleanse_short_session(data, shortest)\n",
        "        data = cleanse_unpopular_item(data, least_click)\n",
        "        after_len = len(data)\n",
        "        if before_len == after_len:\n",
        "            break\n",
        "    return data\n",
        "\n",
        "\n",
        "def cleanse_short_session(data: pd.DataFrame, shortest):\n",
        "    session_len = data.groupby('SessionId').size()\n",
        "    session_use = session_len[session_len >= shortest].index\n",
        "    data = data[data['SessionId'].isin(session_use)]\n",
        "    return data\n",
        "\n",
        "\n",
        "def cleanse_unpopular_item(data: pd.DataFrame, least_click):\n",
        "    item_popular = data.groupby('ItemId').size()\n",
        "    item_use = item_popular[item_popular >= least_click].index\n",
        "    data = data[data['ItemId'].isin(item_use)]\n",
        "    return data\n",
        "\n",
        "\n",
        "print(\"Done!\")"
      ],
      "metadata": {
        "colab": {
          "base_uri": "https://localhost:8080/"
        },
        "id": "BITamARN7Rg5",
        "outputId": "5154cbed-4a42-4871-a848-fde09c94e551"
      },
      "execution_count": 46,
      "outputs": [
        {
          "output_type": "stream",
          "name": "stdout",
          "text": [
            "Done!\n"
          ]
        }
      ]
    },
    {
      "cell_type": "code",
      "source": [
        "clean_data = cleanse_recursive(sessiondata, shortest=3, least_click=5)\n",
        "clean_data"
      ],
      "metadata": {
        "colab": {
          "base_uri": "https://localhost:8080/",
          "height": 424
        },
        "id": "n6BVtb0f7c2Z",
        "outputId": "fa146945-f5ad-44b9-c66f-0fa4cf27b883"
      },
      "execution_count": 47,
      "outputs": [
        {
          "output_type": "execute_result",
          "data": {
            "text/plain": [
              "         UserId  ItemId  Rating       Time  timegap  user_diff  SessionId\n",
              "31            1    3186       4  978300019      0.0        0.0          1\n",
              "22            1    1270       5  978300055     36.0        0.0          1\n",
              "27            1    1721       4  978300055      0.0        0.0          1\n",
              "37            1    1022       5  978300055      0.0        0.0          1\n",
              "24            1    2340       3  978300103     48.0        0.0          1\n",
              "...         ...     ...     ...        ...      ...        ...        ...\n",
              "999923     6040     232       5  997454398     31.0        0.0      37502\n",
              "1000019    6040    2917       4  997454429     31.0        0.0      37502\n",
              "999988     6040    1921       4  997454464     35.0        0.0      37502\n",
              "1000172    6040    1784       3  997454464      0.0        0.0      37502\n",
              "1000167    6040     161       3  997454486     22.0        0.0      37502\n",
              "\n",
              "[980781 rows x 7 columns]"
            ],
            "text/html": [
              "\n",
              "  <div id=\"df-ed47bf87-ae2f-464c-84a3-82a0d9704241\">\n",
              "    <div class=\"colab-df-container\">\n",
              "      <div>\n",
              "<style scoped>\n",
              "    .dataframe tbody tr th:only-of-type {\n",
              "        vertical-align: middle;\n",
              "    }\n",
              "\n",
              "    .dataframe tbody tr th {\n",
              "        vertical-align: top;\n",
              "    }\n",
              "\n",
              "    .dataframe thead th {\n",
              "        text-align: right;\n",
              "    }\n",
              "</style>\n",
              "<table border=\"1\" class=\"dataframe\">\n",
              "  <thead>\n",
              "    <tr style=\"text-align: right;\">\n",
              "      <th></th>\n",
              "      <th>UserId</th>\n",
              "      <th>ItemId</th>\n",
              "      <th>Rating</th>\n",
              "      <th>Time</th>\n",
              "      <th>timegap</th>\n",
              "      <th>user_diff</th>\n",
              "      <th>SessionId</th>\n",
              "    </tr>\n",
              "  </thead>\n",
              "  <tbody>\n",
              "    <tr>\n",
              "      <th>31</th>\n",
              "      <td>1</td>\n",
              "      <td>3186</td>\n",
              "      <td>4</td>\n",
              "      <td>978300019</td>\n",
              "      <td>0.0</td>\n",
              "      <td>0.0</td>\n",
              "      <td>1</td>\n",
              "    </tr>\n",
              "    <tr>\n",
              "      <th>22</th>\n",
              "      <td>1</td>\n",
              "      <td>1270</td>\n",
              "      <td>5</td>\n",
              "      <td>978300055</td>\n",
              "      <td>36.0</td>\n",
              "      <td>0.0</td>\n",
              "      <td>1</td>\n",
              "    </tr>\n",
              "    <tr>\n",
              "      <th>27</th>\n",
              "      <td>1</td>\n",
              "      <td>1721</td>\n",
              "      <td>4</td>\n",
              "      <td>978300055</td>\n",
              "      <td>0.0</td>\n",
              "      <td>0.0</td>\n",
              "      <td>1</td>\n",
              "    </tr>\n",
              "    <tr>\n",
              "      <th>37</th>\n",
              "      <td>1</td>\n",
              "      <td>1022</td>\n",
              "      <td>5</td>\n",
              "      <td>978300055</td>\n",
              "      <td>0.0</td>\n",
              "      <td>0.0</td>\n",
              "      <td>1</td>\n",
              "    </tr>\n",
              "    <tr>\n",
              "      <th>24</th>\n",
              "      <td>1</td>\n",
              "      <td>2340</td>\n",
              "      <td>3</td>\n",
              "      <td>978300103</td>\n",
              "      <td>48.0</td>\n",
              "      <td>0.0</td>\n",
              "      <td>1</td>\n",
              "    </tr>\n",
              "    <tr>\n",
              "      <th>...</th>\n",
              "      <td>...</td>\n",
              "      <td>...</td>\n",
              "      <td>...</td>\n",
              "      <td>...</td>\n",
              "      <td>...</td>\n",
              "      <td>...</td>\n",
              "      <td>...</td>\n",
              "    </tr>\n",
              "    <tr>\n",
              "      <th>999923</th>\n",
              "      <td>6040</td>\n",
              "      <td>232</td>\n",
              "      <td>5</td>\n",
              "      <td>997454398</td>\n",
              "      <td>31.0</td>\n",
              "      <td>0.0</td>\n",
              "      <td>37502</td>\n",
              "    </tr>\n",
              "    <tr>\n",
              "      <th>1000019</th>\n",
              "      <td>6040</td>\n",
              "      <td>2917</td>\n",
              "      <td>4</td>\n",
              "      <td>997454429</td>\n",
              "      <td>31.0</td>\n",
              "      <td>0.0</td>\n",
              "      <td>37502</td>\n",
              "    </tr>\n",
              "    <tr>\n",
              "      <th>999988</th>\n",
              "      <td>6040</td>\n",
              "      <td>1921</td>\n",
              "      <td>4</td>\n",
              "      <td>997454464</td>\n",
              "      <td>35.0</td>\n",
              "      <td>0.0</td>\n",
              "      <td>37502</td>\n",
              "    </tr>\n",
              "    <tr>\n",
              "      <th>1000172</th>\n",
              "      <td>6040</td>\n",
              "      <td>1784</td>\n",
              "      <td>3</td>\n",
              "      <td>997454464</td>\n",
              "      <td>0.0</td>\n",
              "      <td>0.0</td>\n",
              "      <td>37502</td>\n",
              "    </tr>\n",
              "    <tr>\n",
              "      <th>1000167</th>\n",
              "      <td>6040</td>\n",
              "      <td>161</td>\n",
              "      <td>3</td>\n",
              "      <td>997454486</td>\n",
              "      <td>22.0</td>\n",
              "      <td>0.0</td>\n",
              "      <td>37502</td>\n",
              "    </tr>\n",
              "  </tbody>\n",
              "</table>\n",
              "<p>980781 rows × 7 columns</p>\n",
              "</div>\n",
              "      <button class=\"colab-df-convert\" onclick=\"convertToInteractive('df-ed47bf87-ae2f-464c-84a3-82a0d9704241')\"\n",
              "              title=\"Convert this dataframe to an interactive table.\"\n",
              "              style=\"display:none;\">\n",
              "        \n",
              "  <svg xmlns=\"http://www.w3.org/2000/svg\" height=\"24px\"viewBox=\"0 0 24 24\"\n",
              "       width=\"24px\">\n",
              "    <path d=\"M0 0h24v24H0V0z\" fill=\"none\"/>\n",
              "    <path d=\"M18.56 5.44l.94 2.06.94-2.06 2.06-.94-2.06-.94-.94-2.06-.94 2.06-2.06.94zm-11 1L8.5 8.5l.94-2.06 2.06-.94-2.06-.94L8.5 2.5l-.94 2.06-2.06.94zm10 10l.94 2.06.94-2.06 2.06-.94-2.06-.94-.94-2.06-.94 2.06-2.06.94z\"/><path d=\"M17.41 7.96l-1.37-1.37c-.4-.4-.92-.59-1.43-.59-.52 0-1.04.2-1.43.59L10.3 9.45l-7.72 7.72c-.78.78-.78 2.05 0 2.83L4 21.41c.39.39.9.59 1.41.59.51 0 1.02-.2 1.41-.59l7.78-7.78 2.81-2.81c.8-.78.8-2.07 0-2.86zM5.41 20L4 18.59l7.72-7.72 1.47 1.35L5.41 20z\"/>\n",
              "  </svg>\n",
              "      </button>\n",
              "      \n",
              "  <style>\n",
              "    .colab-df-container {\n",
              "      display:flex;\n",
              "      flex-wrap:wrap;\n",
              "      gap: 12px;\n",
              "    }\n",
              "\n",
              "    .colab-df-convert {\n",
              "      background-color: #E8F0FE;\n",
              "      border: none;\n",
              "      border-radius: 50%;\n",
              "      cursor: pointer;\n",
              "      display: none;\n",
              "      fill: #1967D2;\n",
              "      height: 32px;\n",
              "      padding: 0 0 0 0;\n",
              "      width: 32px;\n",
              "    }\n",
              "\n",
              "    .colab-df-convert:hover {\n",
              "      background-color: #E2EBFA;\n",
              "      box-shadow: 0px 1px 2px rgba(60, 64, 67, 0.3), 0px 1px 3px 1px rgba(60, 64, 67, 0.15);\n",
              "      fill: #174EA6;\n",
              "    }\n",
              "\n",
              "    [theme=dark] .colab-df-convert {\n",
              "      background-color: #3B4455;\n",
              "      fill: #D2E3FC;\n",
              "    }\n",
              "\n",
              "    [theme=dark] .colab-df-convert:hover {\n",
              "      background-color: #434B5C;\n",
              "      box-shadow: 0px 1px 3px 1px rgba(0, 0, 0, 0.15);\n",
              "      filter: drop-shadow(0px 1px 2px rgba(0, 0, 0, 0.3));\n",
              "      fill: #FFFFFF;\n",
              "    }\n",
              "  </style>\n",
              "\n",
              "      <script>\n",
              "        const buttonEl =\n",
              "          document.querySelector('#df-ed47bf87-ae2f-464c-84a3-82a0d9704241 button.colab-df-convert');\n",
              "        buttonEl.style.display =\n",
              "          google.colab.kernel.accessAllowed ? 'block' : 'none';\n",
              "\n",
              "        async function convertToInteractive(key) {\n",
              "          const element = document.querySelector('#df-ed47bf87-ae2f-464c-84a3-82a0d9704241');\n",
              "          const dataTable =\n",
              "            await google.colab.kernel.invokeFunction('convertToInteractive',\n",
              "                                                     [key], {});\n",
              "          if (!dataTable) return;\n",
              "\n",
              "          const docLinkHtml = 'Like what you see? Visit the ' +\n",
              "            '<a target=\"_blank\" href=https://colab.research.google.com/notebooks/data_table.ipynb>data table notebook</a>'\n",
              "            + ' to learn more about interactive tables.';\n",
              "          element.innerHTML = '';\n",
              "          dataTable['output_type'] = 'display_data';\n",
              "          await google.colab.output.renderOutput(dataTable, element);\n",
              "          const docLink = document.createElement('div');\n",
              "          docLink.innerHTML = docLinkHtml;\n",
              "          element.appendChild(docLink);\n",
              "        }\n",
              "      </script>\n",
              "    </div>\n",
              "  </div>\n",
              "  "
            ]
          },
          "metadata": {},
          "execution_count": 47
        }
      ]
    },
    {
      "cell_type": "markdown",
      "source": [
        "1,000,209개에서 980,781개의 데이터로 줄어들었습니다.\n",
        "\n",
        "이번에는 오래된 데이터를 제거합니다."
      ],
      "metadata": {
        "id": "Q2hNiC-97p9w"
      }
    },
    {
      "cell_type": "markdown",
      "source": [
        "Time 항목에는 UTC time 가 포함되어,\n",
        "\n",
        "1970년 1월 1일부터 경과된 초 단위 시간이 기재되어 있습니다.\n",
        "\n",
        "변환해줍니다."
      ],
      "metadata": {
        "id": "tv5Kb8Zt8GjB"
      }
    },
    {
      "cell_type": "code",
      "source": [
        "def convert_datetime(unixtime):\n",
        "    \"\"\"Convert unixtime to datetime\"\"\"\n",
        "    date = dt.datetime.fromtimestamp(unixtime).strftime('%Y-%m-%d %H:%M:%S')\n",
        "    date = dt.datetime.strptime(date, '%Y-%m-%d %H:%M:%S')\n",
        "    return date # format : timestamp\n",
        "\n",
        "print(\"Done!\")"
      ],
      "metadata": {
        "colab": {
          "base_uri": "https://localhost:8080/"
        },
        "id": "Arq1t6n_8Gfs",
        "outputId": "fb361968-6852-426a-a381-3b83523c2047"
      },
      "execution_count": 48,
      "outputs": [
        {
          "output_type": "stream",
          "name": "stdout",
          "text": [
            "Done!\n"
          ]
        }
      ]
    },
    {
      "cell_type": "code",
      "source": [
        "clean_data['Time'] = clean_data.Time.apply(convert_datetime)"
      ],
      "metadata": {
        "id": "rIqtNcwf8Gck"
      },
      "execution_count": 49,
      "outputs": []
    },
    {
      "cell_type": "code",
      "source": [
        "oldest, latest = clean_data['Time'].min(), clean_data['Time'].max()\n",
        "print(oldest)\n",
        "print(latest)"
      ],
      "metadata": {
        "colab": {
          "base_uri": "https://localhost:8080/"
        },
        "id": "Hw5qW-3G8GYq",
        "outputId": "9629e9b6-384e-457c-9c17-0ffff86adbca"
      },
      "execution_count": 50,
      "outputs": [
        {
          "output_type": "stream",
          "name": "stdout",
          "text": [
            "2000-04-25 23:05:32\n",
            "2003-02-28 17:49:50\n"
          ]
        }
      ]
    },
    {
      "cell_type": "markdown",
      "source": [
        "약 3년간의 데이터입니다.\n",
        "\n",
        "세션 분포를 확인해보겠습니다."
      ],
      "metadata": {
        "id": "gvLgp3EU8GU0"
      }
    },
    {
      "cell_type": "code",
      "source": [
        "session_length = clean_data.groupby('SessionId').size()"
      ],
      "metadata": {
        "id": "d2BIFx9x9IBG"
      },
      "execution_count": 51,
      "outputs": []
    },
    {
      "cell_type": "code",
      "source": [
        "session_length"
      ],
      "metadata": {
        "colab": {
          "base_uri": "https://localhost:8080/"
        },
        "id": "Y7kPSK7_9H-p",
        "outputId": "7d746d27-08e2-433b-ccc1-122e0d6cdc97"
      },
      "execution_count": 52,
      "outputs": [
        {
          "output_type": "execute_result",
          "data": {
            "text/plain": [
              "SessionId\n",
              "1          7\n",
              "2          5\n",
              "3         28\n",
              "4         13\n",
              "5        129\n",
              "        ... \n",
              "37496     19\n",
              "37497     15\n",
              "37499      6\n",
              "37500     14\n",
              "37502     21\n",
              "Length: 22687, dtype: int64"
            ]
          },
          "metadata": {},
          "execution_count": 52
        }
      ]
    },
    {
      "cell_type": "code",
      "source": [
        "session_length.min()"
      ],
      "metadata": {
        "colab": {
          "base_uri": "https://localhost:8080/"
        },
        "id": "skFk_nak9H8P",
        "outputId": "a06519f9-b59f-4d44-d576-843b8b3012cd"
      },
      "execution_count": 53,
      "outputs": [
        {
          "output_type": "execute_result",
          "data": {
            "text/plain": [
              "3"
            ]
          },
          "metadata": {},
          "execution_count": 53
        }
      ]
    },
    {
      "cell_type": "code",
      "source": [
        "session_length.max()"
      ],
      "metadata": {
        "colab": {
          "base_uri": "https://localhost:8080/"
        },
        "id": "jNHbl0cK9H6A",
        "outputId": "0b2312c8-a171-4976-fe38-0c398b50577f"
      },
      "execution_count": 54,
      "outputs": [
        {
          "output_type": "execute_result",
          "data": {
            "text/plain": [
              "1192"
            ]
          },
          "metadata": {},
          "execution_count": 54
        }
      ]
    },
    {
      "cell_type": "code",
      "source": [
        "session_length.median()"
      ],
      "metadata": {
        "colab": {
          "base_uri": "https://localhost:8080/"
        },
        "id": "wJWcRAHU9H23",
        "outputId": "242fa991-7407-498d-de7a-27467aa61010"
      },
      "execution_count": 55,
      "outputs": [
        {
          "output_type": "execute_result",
          "data": {
            "text/plain": [
              "17.0"
            ]
          },
          "metadata": {},
          "execution_count": 55
        }
      ]
    },
    {
      "cell_type": "code",
      "source": [
        "session_length.mean()"
      ],
      "metadata": {
        "colab": {
          "base_uri": "https://localhost:8080/"
        },
        "id": "5pM7zd509H0Q",
        "outputId": "0fb22ce1-cbb3-4381-edf2-7603ddffbe5b"
      },
      "execution_count": 56,
      "outputs": [
        {
          "output_type": "execute_result",
          "data": {
            "text/plain": [
              "43.230969277559836"
            ]
          },
          "metadata": {},
          "execution_count": 56
        }
      ]
    },
    {
      "cell_type": "code",
      "source": [
        "session_length.quantile(0.999)"
      ],
      "metadata": {
        "colab": {
          "base_uri": "https://localhost:8080/"
        },
        "id": "03vTJskT9Hxn",
        "outputId": "8cae7d5d-7b53-43ba-99f1-92a002b2f434"
      },
      "execution_count": 57,
      "outputs": [
        {
          "output_type": "execute_result",
          "data": {
            "text/plain": [
              "667.6280000000042"
            ]
          },
          "metadata": {},
          "execution_count": 57
        }
      ]
    },
    {
      "cell_type": "markdown",
      "source": [
        "길이가 긴 세션을 살펴보겠습니다."
      ],
      "metadata": {
        "id": "xYZeqm439HuY"
      }
    },
    {
      "cell_type": "code",
      "source": [
        "long_session = session_length[session_length>668].index[0]\n",
        "clean_data[clean_data['SessionId']==long_session]"
      ],
      "metadata": {
        "colab": {
          "base_uri": "https://localhost:8080/",
          "height": 424
        },
        "id": "FWfJGbHM8GQQ",
        "outputId": "d88d9567-158b-4781-ea27-982316976918"
      },
      "execution_count": 64,
      "outputs": [
        {
          "output_type": "execute_result",
          "data": {
            "text/plain": [
              "       UserId  ItemId  Rating                Time     timegap  user_diff  \\\n",
              "30065     202      64       3 2000-12-16 02:38:26 -33956279.0        1.0   \n",
              "29542     202    1196       5 2000-12-16 02:38:27         1.0        0.0   \n",
              "29800     202     209       3 2000-12-16 02:38:27         0.0        0.0   \n",
              "29580     202    1359       2 2000-12-16 02:38:57        30.0        0.0   \n",
              "29739     202    3255       4 2000-12-16 02:38:57         0.0        0.0   \n",
              "...       ...     ...     ...                 ...         ...        ...   \n",
              "29971     202    1022       3 2000-12-16 04:40:18         0.0        0.0   \n",
              "29978     202    1029       3 2000-12-16 04:40:18         0.0        0.0   \n",
              "29553     202    2141       3 2000-12-16 04:40:35        17.0        0.0   \n",
              "29591     202    2092       2 2000-12-16 04:41:12        37.0        0.0   \n",
              "29572     202    2083       3 2000-12-16 04:43:06       114.0        0.0   \n",
              "\n",
              "       SessionId  \n",
              "30065       1559  \n",
              "29542       1559  \n",
              "29800       1559  \n",
              "29580       1559  \n",
              "29739       1559  \n",
              "...          ...  \n",
              "29971       1559  \n",
              "29978       1559  \n",
              "29553       1559  \n",
              "29591       1559  \n",
              "29572       1559  \n",
              "\n",
              "[670 rows x 7 columns]"
            ],
            "text/html": [
              "\n",
              "  <div id=\"df-2547b614-f0f3-48fb-bc5b-2e58793b0108\">\n",
              "    <div class=\"colab-df-container\">\n",
              "      <div>\n",
              "<style scoped>\n",
              "    .dataframe tbody tr th:only-of-type {\n",
              "        vertical-align: middle;\n",
              "    }\n",
              "\n",
              "    .dataframe tbody tr th {\n",
              "        vertical-align: top;\n",
              "    }\n",
              "\n",
              "    .dataframe thead th {\n",
              "        text-align: right;\n",
              "    }\n",
              "</style>\n",
              "<table border=\"1\" class=\"dataframe\">\n",
              "  <thead>\n",
              "    <tr style=\"text-align: right;\">\n",
              "      <th></th>\n",
              "      <th>UserId</th>\n",
              "      <th>ItemId</th>\n",
              "      <th>Rating</th>\n",
              "      <th>Time</th>\n",
              "      <th>timegap</th>\n",
              "      <th>user_diff</th>\n",
              "      <th>SessionId</th>\n",
              "    </tr>\n",
              "  </thead>\n",
              "  <tbody>\n",
              "    <tr>\n",
              "      <th>30065</th>\n",
              "      <td>202</td>\n",
              "      <td>64</td>\n",
              "      <td>3</td>\n",
              "      <td>2000-12-16 02:38:26</td>\n",
              "      <td>-33956279.0</td>\n",
              "      <td>1.0</td>\n",
              "      <td>1559</td>\n",
              "    </tr>\n",
              "    <tr>\n",
              "      <th>29542</th>\n",
              "      <td>202</td>\n",
              "      <td>1196</td>\n",
              "      <td>5</td>\n",
              "      <td>2000-12-16 02:38:27</td>\n",
              "      <td>1.0</td>\n",
              "      <td>0.0</td>\n",
              "      <td>1559</td>\n",
              "    </tr>\n",
              "    <tr>\n",
              "      <th>29800</th>\n",
              "      <td>202</td>\n",
              "      <td>209</td>\n",
              "      <td>3</td>\n",
              "      <td>2000-12-16 02:38:27</td>\n",
              "      <td>0.0</td>\n",
              "      <td>0.0</td>\n",
              "      <td>1559</td>\n",
              "    </tr>\n",
              "    <tr>\n",
              "      <th>29580</th>\n",
              "      <td>202</td>\n",
              "      <td>1359</td>\n",
              "      <td>2</td>\n",
              "      <td>2000-12-16 02:38:57</td>\n",
              "      <td>30.0</td>\n",
              "      <td>0.0</td>\n",
              "      <td>1559</td>\n",
              "    </tr>\n",
              "    <tr>\n",
              "      <th>29739</th>\n",
              "      <td>202</td>\n",
              "      <td>3255</td>\n",
              "      <td>4</td>\n",
              "      <td>2000-12-16 02:38:57</td>\n",
              "      <td>0.0</td>\n",
              "      <td>0.0</td>\n",
              "      <td>1559</td>\n",
              "    </tr>\n",
              "    <tr>\n",
              "      <th>...</th>\n",
              "      <td>...</td>\n",
              "      <td>...</td>\n",
              "      <td>...</td>\n",
              "      <td>...</td>\n",
              "      <td>...</td>\n",
              "      <td>...</td>\n",
              "      <td>...</td>\n",
              "    </tr>\n",
              "    <tr>\n",
              "      <th>29971</th>\n",
              "      <td>202</td>\n",
              "      <td>1022</td>\n",
              "      <td>3</td>\n",
              "      <td>2000-12-16 04:40:18</td>\n",
              "      <td>0.0</td>\n",
              "      <td>0.0</td>\n",
              "      <td>1559</td>\n",
              "    </tr>\n",
              "    <tr>\n",
              "      <th>29978</th>\n",
              "      <td>202</td>\n",
              "      <td>1029</td>\n",
              "      <td>3</td>\n",
              "      <td>2000-12-16 04:40:18</td>\n",
              "      <td>0.0</td>\n",
              "      <td>0.0</td>\n",
              "      <td>1559</td>\n",
              "    </tr>\n",
              "    <tr>\n",
              "      <th>29553</th>\n",
              "      <td>202</td>\n",
              "      <td>2141</td>\n",
              "      <td>3</td>\n",
              "      <td>2000-12-16 04:40:35</td>\n",
              "      <td>17.0</td>\n",
              "      <td>0.0</td>\n",
              "      <td>1559</td>\n",
              "    </tr>\n",
              "    <tr>\n",
              "      <th>29591</th>\n",
              "      <td>202</td>\n",
              "      <td>2092</td>\n",
              "      <td>2</td>\n",
              "      <td>2000-12-16 04:41:12</td>\n",
              "      <td>37.0</td>\n",
              "      <td>0.0</td>\n",
              "      <td>1559</td>\n",
              "    </tr>\n",
              "    <tr>\n",
              "      <th>29572</th>\n",
              "      <td>202</td>\n",
              "      <td>2083</td>\n",
              "      <td>3</td>\n",
              "      <td>2000-12-16 04:43:06</td>\n",
              "      <td>114.0</td>\n",
              "      <td>0.0</td>\n",
              "      <td>1559</td>\n",
              "    </tr>\n",
              "  </tbody>\n",
              "</table>\n",
              "<p>670 rows × 7 columns</p>\n",
              "</div>\n",
              "      <button class=\"colab-df-convert\" onclick=\"convertToInteractive('df-2547b614-f0f3-48fb-bc5b-2e58793b0108')\"\n",
              "              title=\"Convert this dataframe to an interactive table.\"\n",
              "              style=\"display:none;\">\n",
              "        \n",
              "  <svg xmlns=\"http://www.w3.org/2000/svg\" height=\"24px\"viewBox=\"0 0 24 24\"\n",
              "       width=\"24px\">\n",
              "    <path d=\"M0 0h24v24H0V0z\" fill=\"none\"/>\n",
              "    <path d=\"M18.56 5.44l.94 2.06.94-2.06 2.06-.94-2.06-.94-.94-2.06-.94 2.06-2.06.94zm-11 1L8.5 8.5l.94-2.06 2.06-.94-2.06-.94L8.5 2.5l-.94 2.06-2.06.94zm10 10l.94 2.06.94-2.06 2.06-.94-2.06-.94-.94-2.06-.94 2.06-2.06.94z\"/><path d=\"M17.41 7.96l-1.37-1.37c-.4-.4-.92-.59-1.43-.59-.52 0-1.04.2-1.43.59L10.3 9.45l-7.72 7.72c-.78.78-.78 2.05 0 2.83L4 21.41c.39.39.9.59 1.41.59.51 0 1.02-.2 1.41-.59l7.78-7.78 2.81-2.81c.8-.78.8-2.07 0-2.86zM5.41 20L4 18.59l7.72-7.72 1.47 1.35L5.41 20z\"/>\n",
              "  </svg>\n",
              "      </button>\n",
              "      \n",
              "  <style>\n",
              "    .colab-df-container {\n",
              "      display:flex;\n",
              "      flex-wrap:wrap;\n",
              "      gap: 12px;\n",
              "    }\n",
              "\n",
              "    .colab-df-convert {\n",
              "      background-color: #E8F0FE;\n",
              "      border: none;\n",
              "      border-radius: 50%;\n",
              "      cursor: pointer;\n",
              "      display: none;\n",
              "      fill: #1967D2;\n",
              "      height: 32px;\n",
              "      padding: 0 0 0 0;\n",
              "      width: 32px;\n",
              "    }\n",
              "\n",
              "    .colab-df-convert:hover {\n",
              "      background-color: #E2EBFA;\n",
              "      box-shadow: 0px 1px 2px rgba(60, 64, 67, 0.3), 0px 1px 3px 1px rgba(60, 64, 67, 0.15);\n",
              "      fill: #174EA6;\n",
              "    }\n",
              "\n",
              "    [theme=dark] .colab-df-convert {\n",
              "      background-color: #3B4455;\n",
              "      fill: #D2E3FC;\n",
              "    }\n",
              "\n",
              "    [theme=dark] .colab-df-convert:hover {\n",
              "      background-color: #434B5C;\n",
              "      box-shadow: 0px 1px 3px 1px rgba(0, 0, 0, 0.15);\n",
              "      filter: drop-shadow(0px 1px 2px rgba(0, 0, 0, 0.3));\n",
              "      fill: #FFFFFF;\n",
              "    }\n",
              "  </style>\n",
              "\n",
              "      <script>\n",
              "        const buttonEl =\n",
              "          document.querySelector('#df-2547b614-f0f3-48fb-bc5b-2e58793b0108 button.colab-df-convert');\n",
              "        buttonEl.style.display =\n",
              "          google.colab.kernel.accessAllowed ? 'block' : 'none';\n",
              "\n",
              "        async function convertToInteractive(key) {\n",
              "          const element = document.querySelector('#df-2547b614-f0f3-48fb-bc5b-2e58793b0108');\n",
              "          const dataTable =\n",
              "            await google.colab.kernel.invokeFunction('convertToInteractive',\n",
              "                                                     [key], {});\n",
              "          if (!dataTable) return;\n",
              "\n",
              "          const docLinkHtml = 'Like what you see? Visit the ' +\n",
              "            '<a target=\"_blank\" href=https://colab.research.google.com/notebooks/data_table.ipynb>data table notebook</a>'\n",
              "            + ' to learn more about interactive tables.';\n",
              "          element.innerHTML = '';\n",
              "          dataTable['output_type'] = 'display_data';\n",
              "          await google.colab.output.renderOutput(dataTable, element);\n",
              "          const docLink = document.createElement('div');\n",
              "          docLink.innerHTML = docLinkHtml;\n",
              "          element.appendChild(docLink);\n",
              "        }\n",
              "      </script>\n",
              "    </div>\n",
              "  </div>\n",
              "  "
            ]
          },
          "metadata": {},
          "execution_count": 64
        }
      ]
    },
    {
      "cell_type": "code",
      "source": [
        "length_count = session_length.groupby(session_length).size()\n",
        "length_percent_cumsum = length_count.cumsum() / length_count.sum()\n",
        "length_percent_cumsum_999 = length_percent_cumsum[length_percent_cumsum < 0.999]\n",
        "\n",
        "length_percent_cumsum_999"
      ],
      "metadata": {
        "colab": {
          "base_uri": "https://localhost:8080/"
        },
        "id": "rjpHCRAV-YHp",
        "outputId": "2dc01192-fb2e-42b4-8dd6-c1d4a8d07c40"
      },
      "execution_count": 65,
      "outputs": [
        {
          "output_type": "execute_result",
          "data": {
            "text/plain": [
              "3      0.096223\n",
              "4      0.160444\n",
              "5      0.227663\n",
              "6      0.278353\n",
              "7      0.318332\n",
              "         ...   \n",
              "646    0.998766\n",
              "651    0.998854\n",
              "656    0.998898\n",
              "662    0.998942\n",
              "667    0.998986\n",
              "Length: 469, dtype: float64"
            ]
          },
          "metadata": {},
          "execution_count": 65
        }
      ]
    },
    {
      "cell_type": "code",
      "source": [
        "plt.figure(figsize=(12, 10))\n",
        "plt.bar(x=length_percent_cumsum_999.index,\n",
        "        height=length_percent_cumsum_999, color='red')\n",
        "plt.xticks(length_percent_cumsum_999.index)\n",
        "plt.yticks(np.arange(0, 1.01, 0.05))\n",
        "plt.title('Cumsum Percentage Until 0.999', size=20)\n",
        "plt.show()"
      ],
      "metadata": {
        "colab": {
          "base_uri": "https://localhost:8080/",
          "height": 612
        },
        "id": "1WC2Jb1G-YQ1",
        "outputId": "5d80b275-3f88-4f27-bb3b-4be3dbe56f0b"
      },
      "execution_count": 66,
      "outputs": [
        {
          "output_type": "display_data",
          "data": {
            "text/plain": [
              "<Figure size 864x720 with 1 Axes>"
            ],
            "image/png": "[encoded data removed]"
          },
          "metadata": {
            "needs_background": "light"
          }
        }
      ]
    },
    {
      "cell_type": "markdown",
      "source": [
        "누적합 95%까지만 사용합니다."
      ],
      "metadata": {
        "id": "C9CQ4LM7-YVV"
      }
    },
    {
      "cell_type": "code",
      "source": [
        "cumsum_95 = length_percent_cumsum_999[length_percent_cumsum_999<0.95]\n",
        "cumsum_95"
      ],
      "metadata": {
        "colab": {
          "base_uri": "https://localhost:8080/"
        },
        "id": "5L8EbfJI-YaA",
        "outputId": "101378c9-e076-4dff-a21e-f931ee7bd7da"
      },
      "execution_count": 67,
      "outputs": [
        {
          "output_type": "execute_result",
          "data": {
            "text/plain": [
              "3      0.096223\n",
              "4      0.160444\n",
              "5      0.227663\n",
              "6      0.278353\n",
              "7      0.318332\n",
              "         ...   \n",
              "164    0.947547\n",
              "165    0.948208\n",
              "166    0.948649\n",
              "167    0.949398\n",
              "168    0.949839\n",
              "Length: 166, dtype: float64"
            ]
          },
          "metadata": {},
          "execution_count": 67
        }
      ]
    },
    {
      "cell_type": "markdown",
      "source": [
        "액션 횟수 최대 168까지의 데이터를 잘라냅니다."
      ],
      "metadata": {
        "id": "8EJKqy5B-YfW"
      }
    },
    {
      "cell_type": "code",
      "source": [
        "effective_sessionid = session_length.apply(lambda g: 3<=g<=168)\n",
        "print(effective_sessionid)\n",
        "print(effective_sessionid.mean())"
      ],
      "metadata": {
        "colab": {
          "base_uri": "https://localhost:8080/"
        },
        "id": "51kLS6F7-Xcq",
        "outputId": "152f0bbe-fd3f-4d34-b647-201b41d68a2a"
      },
      "execution_count": 68,
      "outputs": [
        {
          "output_type": "stream",
          "name": "stdout",
          "text": [
            "SessionId\n",
            "1        True\n",
            "2        True\n",
            "3        True\n",
            "4        True\n",
            "5        True\n",
            "         ... \n",
            "37496    True\n",
            "37497    True\n",
            "37499    True\n",
            "37500    True\n",
            "37502    True\n",
            "Length: 22687, dtype: bool\n",
            "0.9498391149116234\n"
          ]
        }
      ]
    },
    {
      "cell_type": "code",
      "source": [
        "sessionids = effective_sessionid[effective_sessionid==True]\n",
        "session_list = sessionids.index.to_list()\n",
        "len(session_list)"
      ],
      "metadata": {
        "colab": {
          "base_uri": "https://localhost:8080/"
        },
        "id": "ssA8wc7R-Xhf",
        "outputId": "e89f73a7-2b00-438a-b376-7c3c0d6340a2"
      },
      "execution_count": 69,
      "outputs": [
        {
          "output_type": "execute_result",
          "data": {
            "text/plain": [
              "21549"
            ]
          },
          "metadata": {},
          "execution_count": 69
        }
      ]
    },
    {
      "cell_type": "code",
      "source": [
        "clean_data = clean_data[['UserId', 'ItemId', 'Rating', 'Time', 'SessionId']]\n",
        "clean_data = clean_data[clean_data['SessionId'].isin(session_list)]\n",
        "clean_data.reset_index(drop=True, inplace=True)\n",
        "clean_data"
      ],
      "metadata": {
        "colab": {
          "base_uri": "https://localhost:8080/",
          "height": 424
        },
        "id": "3CFJV1rm_FW3",
        "outputId": "f7ac1e69-e9b4-40d9-e2cb-e65c33e0fdda"
      },
      "execution_count": 74,
      "outputs": [
        {
          "output_type": "execute_result",
          "data": {
            "text/plain": [
              "        UserId  ItemId  Rating                Time  SessionId\n",
              "0            1    3186       4 2000-12-31 22:00:19          1\n",
              "1            1    1270       5 2000-12-31 22:00:55          1\n",
              "2            1    1721       4 2000-12-31 22:00:55          1\n",
              "3            1    1022       5 2000-12-31 22:00:55          1\n",
              "4            1    2340       3 2000-12-31 22:01:43          1\n",
              "...        ...     ...     ...                 ...        ...\n",
              "658952    6040     232       5 2001-08-10 14:39:58      37502\n",
              "658953    6040    2917       4 2001-08-10 14:40:29      37502\n",
              "658954    6040    1921       4 2001-08-10 14:41:04      37502\n",
              "658955    6040    1784       3 2001-08-10 14:41:04      37502\n",
              "658956    6040     161       3 2001-08-10 14:41:26      37502\n",
              "\n",
              "[658957 rows x 5 columns]"
            ],
            "text/html": [
              "\n",
              "  <div id=\"df-cfc6536b-10fc-4ec1-94ab-5d545aa2d6f6\">\n",
              "    <div class=\"colab-df-container\">\n",
              "      <div>\n",
              "<style scoped>\n",
              "    .dataframe tbody tr th:only-of-type {\n",
              "        vertical-align: middle;\n",
              "    }\n",
              "\n",
              "    .dataframe tbody tr th {\n",
              "        vertical-align: top;\n",
              "    }\n",
              "\n",
              "    .dataframe thead th {\n",
              "        text-align: right;\n",
              "    }\n",
              "</style>\n",
              "<table border=\"1\" class=\"dataframe\">\n",
              "  <thead>\n",
              "    <tr style=\"text-align: right;\">\n",
              "      <th></th>\n",
              "      <th>UserId</th>\n",
              "      <th>ItemId</th>\n",
              "      <th>Rating</th>\n",
              "      <th>Time</th>\n",
              "      <th>SessionId</th>\n",
              "    </tr>\n",
              "  </thead>\n",
              "  <tbody>\n",
              "    <tr>\n",
              "      <th>0</th>\n",
              "      <td>1</td>\n",
              "      <td>3186</td>\n",
              "      <td>4</td>\n",
              "      <td>2000-12-31 22:00:19</td>\n",
              "      <td>1</td>\n",
              "    </tr>\n",
              "    <tr>\n",
              "      <th>1</th>\n",
              "      <td>1</td>\n",
              "      <td>1270</td>\n",
              "      <td>5</td>\n",
              "      <td>2000-12-31 22:00:55</td>\n",
              "      <td>1</td>\n",
              "    </tr>\n",
              "    <tr>\n",
              "      <th>2</th>\n",
              "      <td>1</td>\n",
              "      <td>1721</td>\n",
              "      <td>4</td>\n",
              "      <td>2000-12-31 22:00:55</td>\n",
              "      <td>1</td>\n",
              "    </tr>\n",
              "    <tr>\n",
              "      <th>3</th>\n",
              "      <td>1</td>\n",
              "      <td>1022</td>\n",
              "      <td>5</td>\n",
              "      <td>2000-12-31 22:00:55</td>\n",
              "      <td>1</td>\n",
              "    </tr>\n",
              "    <tr>\n",
              "      <th>4</th>\n",
              "      <td>1</td>\n",
              "      <td>2340</td>\n",
              "      <td>3</td>\n",
              "      <td>2000-12-31 22:01:43</td>\n",
              "      <td>1</td>\n",
              "    </tr>\n",
              "    <tr>\n",
              "      <th>...</th>\n",
              "      <td>...</td>\n",
              "      <td>...</td>\n",
              "      <td>...</td>\n",
              "      <td>...</td>\n",
              "      <td>...</td>\n",
              "    </tr>\n",
              "    <tr>\n",
              "      <th>658952</th>\n",
              "      <td>6040</td>\n",
              "      <td>232</td>\n",
              "      <td>5</td>\n",
              "      <td>2001-08-10 14:39:58</td>\n",
              "      <td>37502</td>\n",
              "    </tr>\n",
              "    <tr>\n",
              "      <th>658953</th>\n",
              "      <td>6040</td>\n",
              "      <td>2917</td>\n",
              "      <td>4</td>\n",
              "      <td>2001-08-10 14:40:29</td>\n",
              "      <td>37502</td>\n",
              "    </tr>\n",
              "    <tr>\n",
              "      <th>658954</th>\n",
              "      <td>6040</td>\n",
              "      <td>1921</td>\n",
              "      <td>4</td>\n",
              "      <td>2001-08-10 14:41:04</td>\n",
              "      <td>37502</td>\n",
              "    </tr>\n",
              "    <tr>\n",
              "      <th>658955</th>\n",
              "      <td>6040</td>\n",
              "      <td>1784</td>\n",
              "      <td>3</td>\n",
              "      <td>2001-08-10 14:41:04</td>\n",
              "      <td>37502</td>\n",
              "    </tr>\n",
              "    <tr>\n",
              "      <th>658956</th>\n",
              "      <td>6040</td>\n",
              "      <td>161</td>\n",
              "      <td>3</td>\n",
              "      <td>2001-08-10 14:41:26</td>\n",
              "      <td>37502</td>\n",
              "    </tr>\n",
              "  </tbody>\n",
              "</table>\n",
              "<p>658957 rows × 5 columns</p>\n",
              "</div>\n",
              "      <button class=\"colab-df-convert\" onclick=\"convertToInteractive('df-cfc6536b-10fc-4ec1-94ab-5d545aa2d6f6')\"\n",
              "              title=\"Convert this dataframe to an interactive table.\"\n",
              "              style=\"display:none;\">\n",
              "        \n",
              "  <svg xmlns=\"http://www.w3.org/2000/svg\" height=\"24px\"viewBox=\"0 0 24 24\"\n",
              "       width=\"24px\">\n",
              "    <path d=\"M0 0h24v24H0V0z\" fill=\"none\"/>\n",
              "    <path d=\"M18.56 5.44l.94 2.06.94-2.06 2.06-.94-2.06-.94-.94-2.06-.94 2.06-2.06.94zm-11 1L8.5 8.5l.94-2.06 2.06-.94-2.06-.94L8.5 2.5l-.94 2.06-2.06.94zm10 10l.94 2.06.94-2.06 2.06-.94-2.06-.94-.94-2.06-.94 2.06-2.06.94z\"/><path d=\"M17.41 7.96l-1.37-1.37c-.4-.4-.92-.59-1.43-.59-.52 0-1.04.2-1.43.59L10.3 9.45l-7.72 7.72c-.78.78-.78 2.05 0 2.83L4 21.41c.39.39.9.59 1.41.59.51 0 1.02-.2 1.41-.59l7.78-7.78 2.81-2.81c.8-.78.8-2.07 0-2.86zM5.41 20L4 18.59l7.72-7.72 1.47 1.35L5.41 20z\"/>\n",
              "  </svg>\n",
              "      </button>\n",
              "      \n",
              "  <style>\n",
              "    .colab-df-container {\n",
              "      display:flex;\n",
              "      flex-wrap:wrap;\n",
              "      gap: 12px;\n",
              "    }\n",
              "\n",
              "    .colab-df-convert {\n",
              "      background-color: #E8F0FE;\n",
              "      border: none;\n",
              "      border-radius: 50%;\n",
              "      cursor: pointer;\n",
              "      display: none;\n",
              "      fill: #1967D2;\n",
              "      height: 32px;\n",
              "      padding: 0 0 0 0;\n",
              "      width: 32px;\n",
              "    }\n",
              "\n",
              "    .colab-df-convert:hover {\n",
              "      background-color: #E2EBFA;\n",
              "      box-shadow: 0px 1px 2px rgba(60, 64, 67, 0.3), 0px 1px 3px 1px rgba(60, 64, 67, 0.15);\n",
              "      fill: #174EA6;\n",
              "    }\n",
              "\n",
              "    [theme=dark] .colab-df-convert {\n",
              "      background-color: #3B4455;\n",
              "      fill: #D2E3FC;\n",
              "    }\n",
              "\n",
              "    [theme=dark] .colab-df-convert:hover {\n",
              "      background-color: #434B5C;\n",
              "      box-shadow: 0px 1px 3px 1px rgba(0, 0, 0, 0.15);\n",
              "      filter: drop-shadow(0px 1px 2px rgba(0, 0, 0, 0.3));\n",
              "      fill: #FFFFFF;\n",
              "    }\n",
              "  </style>\n",
              "\n",
              "      <script>\n",
              "        const buttonEl =\n",
              "          document.querySelector('#df-cfc6536b-10fc-4ec1-94ab-5d545aa2d6f6 button.colab-df-convert');\n",
              "        buttonEl.style.display =\n",
              "          google.colab.kernel.accessAllowed ? 'block' : 'none';\n",
              "\n",
              "        async function convertToInteractive(key) {\n",
              "          const element = document.querySelector('#df-cfc6536b-10fc-4ec1-94ab-5d545aa2d6f6');\n",
              "          const dataTable =\n",
              "            await google.colab.kernel.invokeFunction('convertToInteractive',\n",
              "                                                     [key], {});\n",
              "          if (!dataTable) return;\n",
              "\n",
              "          const docLinkHtml = 'Like what you see? Visit the ' +\n",
              "            '<a target=\"_blank\" href=https://colab.research.google.com/notebooks/data_table.ipynb>data table notebook</a>'\n",
              "            + ' to learn more about interactive tables.';\n",
              "          element.innerHTML = '';\n",
              "          dataTable['output_type'] = 'display_data';\n",
              "          await google.colab.output.renderOutput(dataTable, element);\n",
              "          const docLink = document.createElement('div');\n",
              "          docLink.innerHTML = docLinkHtml;\n",
              "          element.appendChild(docLink);\n",
              "        }\n",
              "      </script>\n",
              "    </div>\n",
              "  </div>\n",
              "  "
            ]
          },
          "metadata": {},
          "execution_count": 74
        }
      ]
    },
    {
      "cell_type": "markdown",
      "source": [
        "clean_data는 3개 이상, 168개 이하의 액션을 가진 세션들로 이루어진 데이터가 되었습니다.\n"
      ],
      "metadata": {
        "id": "2XH4kTpV_FbH"
      }
    },
    {
      "cell_type": "markdown",
      "source": [
        "---"
      ],
      "metadata": {
        "id": "uvF1NuVQ7xaA"
      }
    },
    {
      "cell_type": "markdown",
      "source": [
        "## **03. Train, Val, Test Set 생성**"
      ],
      "metadata": {
        "id": "OuL3xTqq70T4"
      }
    },
    {
      "cell_type": "code",
      "source": [
        "start_timestamp = latest - dt.timedelta(30*20)     # 최종 날짜로부터 17개월 이전 날짜를 구한다.  \n",
        "datasets = clean_data[clean_data['Time'] > start_timestamp]   # 방금 구한 날짜 이후의 데이터만 모은다. \n",
        "\n",
        "print(\"Done!\")"
      ],
      "metadata": {
        "colab": {
          "base_uri": "https://localhost:8080/"
        },
        "id": "Xx2GBkHv74C4",
        "outputId": "d9ea3d47-6d36-4f53-a3ef-703342446768"
      },
      "execution_count": 96,
      "outputs": [
        {
          "output_type": "stream",
          "name": "stdout",
          "text": [
            "Done!\n"
          ]
        }
      ]
    },
    {
      "cell_type": "code",
      "source": [
        "datasets"
      ],
      "metadata": {
        "colab": {
          "base_uri": "https://localhost:8080/",
          "height": 424
        },
        "id": "gwwV4gBoAiNZ",
        "outputId": "b7b721e2-3492-45c2-e2c3-d853477c7e53"
      },
      "execution_count": 97,
      "outputs": [
        {
          "output_type": "execute_result",
          "data": {
            "text/plain": [
              "        UserId  ItemId  Rating                Time  SessionId\n",
              "1732        20    1694       3 2001-12-29 23:37:51         71\n",
              "1733        20    1468       3 2001-12-29 23:37:51         71\n",
              "1734        20    3717       2 2001-12-29 23:37:51         71\n",
              "1735        20    2858       4 2001-12-29 23:37:51         71\n",
              "1736        20    2641       4 2001-12-29 23:38:35         71\n",
              "...        ...     ...     ...                 ...        ...\n",
              "658952    6040     232       5 2001-08-10 14:39:58      37502\n",
              "658953    6040    2917       4 2001-08-10 14:40:29      37502\n",
              "658954    6040    1921       4 2001-08-10 14:41:04      37502\n",
              "658955    6040    1784       3 2001-08-10 14:41:04      37502\n",
              "658956    6040     161       3 2001-08-10 14:41:26      37502\n",
              "\n",
              "[35841 rows x 5 columns]"
            ],
            "text/html": [
              "\n",
              "  <div id=\"df-730f6087-a842-43b9-853d-3821d8216ef8\">\n",
              "    <div class=\"colab-df-container\">\n",
              "      <div>\n",
              "<style scoped>\n",
              "    .dataframe tbody tr th:only-of-type {\n",
              "        vertical-align: middle;\n",
              "    }\n",
              "\n",
              "    .dataframe tbody tr th {\n",
              "        vertical-align: top;\n",
              "    }\n",
              "\n",
              "    .dataframe thead th {\n",
              "        text-align: right;\n",
              "    }\n",
              "</style>\n",
              "<table border=\"1\" class=\"dataframe\">\n",
              "  <thead>\n",
              "    <tr style=\"text-align: right;\">\n",
              "      <th></th>\n",
              "      <th>UserId</th>\n",
              "      <th>ItemId</th>\n",
              "      <th>Rating</th>\n",
              "      <th>Time</th>\n",
              "      <th>SessionId</th>\n",
              "    </tr>\n",
              "  </thead>\n",
              "  <tbody>\n",
              "    <tr>\n",
              "      <th>1732</th>\n",
              "      <td>20</td>\n",
              "      <td>1694</td>\n",
              "      <td>3</td>\n",
              "      <td>2001-12-29 23:37:51</td>\n",
              "      <td>71</td>\n",
              "    </tr>\n",
              "    <tr>\n",
              "      <th>1733</th>\n",
              "      <td>20</td>\n",
              "      <td>1468</td>\n",
              "      <td>3</td>\n",
              "      <td>2001-12-29 23:37:51</td>\n",
              "      <td>71</td>\n",
              "    </tr>\n",
              "    <tr>\n",
              "      <th>1734</th>\n",
              "      <td>20</td>\n",
              "      <td>3717</td>\n",
              "      <td>2</td>\n",
              "      <td>2001-12-29 23:37:51</td>\n",
              "      <td>71</td>\n",
              "    </tr>\n",
              "    <tr>\n",
              "      <th>1735</th>\n",
              "      <td>20</td>\n",
              "      <td>2858</td>\n",
              "      <td>4</td>\n",
              "      <td>2001-12-29 23:37:51</td>\n",
              "      <td>71</td>\n",
              "    </tr>\n",
              "    <tr>\n",
              "      <th>1736</th>\n",
              "      <td>20</td>\n",
              "      <td>2641</td>\n",
              "      <td>4</td>\n",
              "      <td>2001-12-29 23:38:35</td>\n",
              "      <td>71</td>\n",
              "    </tr>\n",
              "    <tr>\n",
              "      <th>...</th>\n",
              "      <td>...</td>\n",
              "      <td>...</td>\n",
              "      <td>...</td>\n",
              "      <td>...</td>\n",
              "      <td>...</td>\n",
              "    </tr>\n",
              "    <tr>\n",
              "      <th>658952</th>\n",
              "      <td>6040</td>\n",
              "      <td>232</td>\n",
              "      <td>5</td>\n",
              "      <td>2001-08-10 14:39:58</td>\n",
              "      <td>37502</td>\n",
              "    </tr>\n",
              "    <tr>\n",
              "      <th>658953</th>\n",
              "      <td>6040</td>\n",
              "      <td>2917</td>\n",
              "      <td>4</td>\n",
              "      <td>2001-08-10 14:40:29</td>\n",
              "      <td>37502</td>\n",
              "    </tr>\n",
              "    <tr>\n",
              "      <th>658954</th>\n",
              "      <td>6040</td>\n",
              "      <td>1921</td>\n",
              "      <td>4</td>\n",
              "      <td>2001-08-10 14:41:04</td>\n",
              "      <td>37502</td>\n",
              "    </tr>\n",
              "    <tr>\n",
              "      <th>658955</th>\n",
              "      <td>6040</td>\n",
              "      <td>1784</td>\n",
              "      <td>3</td>\n",
              "      <td>2001-08-10 14:41:04</td>\n",
              "      <td>37502</td>\n",
              "    </tr>\n",
              "    <tr>\n",
              "      <th>658956</th>\n",
              "      <td>6040</td>\n",
              "      <td>161</td>\n",
              "      <td>3</td>\n",
              "      <td>2001-08-10 14:41:26</td>\n",
              "      <td>37502</td>\n",
              "    </tr>\n",
              "  </tbody>\n",
              "</table>\n",
              "<p>35841 rows × 5 columns</p>\n",
              "</div>\n",
              "      <button class=\"colab-df-convert\" onclick=\"convertToInteractive('df-730f6087-a842-43b9-853d-3821d8216ef8')\"\n",
              "              title=\"Convert this dataframe to an interactive table.\"\n",
              "              style=\"display:none;\">\n",
              "        \n",
              "  <svg xmlns=\"http://www.w3.org/2000/svg\" height=\"24px\"viewBox=\"0 0 24 24\"\n",
              "       width=\"24px\">\n",
              "    <path d=\"M0 0h24v24H0V0z\" fill=\"none\"/>\n",
              "    <path d=\"M18.56 5.44l.94 2.06.94-2.06 2.06-.94-2.06-.94-.94-2.06-.94 2.06-2.06.94zm-11 1L8.5 8.5l.94-2.06 2.06-.94-2.06-.94L8.5 2.5l-.94 2.06-2.06.94zm10 10l.94 2.06.94-2.06 2.06-.94-2.06-.94-.94-2.06-.94 2.06-2.06.94z\"/><path d=\"M17.41 7.96l-1.37-1.37c-.4-.4-.92-.59-1.43-.59-.52 0-1.04.2-1.43.59L10.3 9.45l-7.72 7.72c-.78.78-.78 2.05 0 2.83L4 21.41c.39.39.9.59 1.41.59.51 0 1.02-.2 1.41-.59l7.78-7.78 2.81-2.81c.8-.78.8-2.07 0-2.86zM5.41 20L4 18.59l7.72-7.72 1.47 1.35L5.41 20z\"/>\n",
              "  </svg>\n",
              "      </button>\n",
              "      \n",
              "  <style>\n",
              "    .colab-df-container {\n",
              "      display:flex;\n",
              "      flex-wrap:wrap;\n",
              "      gap: 12px;\n",
              "    }\n",
              "\n",
              "    .colab-df-convert {\n",
              "      background-color: #E8F0FE;\n",
              "      border: none;\n",
              "      border-radius: 50%;\n",
              "      cursor: pointer;\n",
              "      display: none;\n",
              "      fill: #1967D2;\n",
              "      height: 32px;\n",
              "      padding: 0 0 0 0;\n",
              "      width: 32px;\n",
              "    }\n",
              "\n",
              "    .colab-df-convert:hover {\n",
              "      background-color: #E2EBFA;\n",
              "      box-shadow: 0px 1px 2px rgba(60, 64, 67, 0.3), 0px 1px 3px 1px rgba(60, 64, 67, 0.15);\n",
              "      fill: #174EA6;\n",
              "    }\n",
              "\n",
              "    [theme=dark] .colab-df-convert {\n",
              "      background-color: #3B4455;\n",
              "      fill: #D2E3FC;\n",
              "    }\n",
              "\n",
              "    [theme=dark] .colab-df-convert:hover {\n",
              "      background-color: #434B5C;\n",
              "      box-shadow: 0px 1px 3px 1px rgba(0, 0, 0, 0.15);\n",
              "      filter: drop-shadow(0px 1px 2px rgba(0, 0, 0, 0.3));\n",
              "      fill: #FFFFFF;\n",
              "    }\n",
              "  </style>\n",
              "\n",
              "      <script>\n",
              "        const buttonEl =\n",
              "          document.querySelector('#df-730f6087-a842-43b9-853d-3821d8216ef8 button.colab-df-convert');\n",
              "        buttonEl.style.display =\n",
              "          google.colab.kernel.accessAllowed ? 'block' : 'none';\n",
              "\n",
              "        async function convertToInteractive(key) {\n",
              "          const element = document.querySelector('#df-730f6087-a842-43b9-853d-3821d8216ef8');\n",
              "          const dataTable =\n",
              "            await google.colab.kernel.invokeFunction('convertToInteractive',\n",
              "                                                     [key], {});\n",
              "          if (!dataTable) return;\n",
              "\n",
              "          const docLinkHtml = 'Like what you see? Visit the ' +\n",
              "            '<a target=\"_blank\" href=https://colab.research.google.com/notebooks/data_table.ipynb>data table notebook</a>'\n",
              "            + ' to learn more about interactive tables.';\n",
              "          element.innerHTML = '';\n",
              "          dataTable['output_type'] = 'display_data';\n",
              "          await google.colab.output.renderOutput(dataTable, element);\n",
              "          const docLink = document.createElement('div');\n",
              "          docLink.innerHTML = docLinkHtml;\n",
              "          element.appendChild(docLink);\n",
              "        }\n",
              "      </script>\n",
              "    </div>\n",
              "  </div>\n",
              "  "
            ]
          },
          "metadata": {},
          "execution_count": 97
        }
      ]
    },
    {
      "cell_type": "markdown",
      "source": [
        "train set에 15개월, val set에서 3개월, test set에 2개월씩 배분합니다."
      ],
      "metadata": {
        "id": "_HTmUF7wAjpQ"
      }
    },
    {
      "cell_type": "code",
      "source": [
        "# 평점 3 이상만 남김\n",
        "datasets = datasets[datasets['Rating']>=3]\n",
        "\n",
        "print(\"Done!\")"
      ],
      "metadata": {
        "colab": {
          "base_uri": "https://localhost:8080/"
        },
        "id": "GmfBa75QAtgs",
        "outputId": "24a23ffd-63c0-4392-a930-7299d80f7243"
      },
      "execution_count": 98,
      "outputs": [
        {
          "output_type": "stream",
          "name": "stdout",
          "text": [
            "Done!\n"
          ]
        }
      ]
    },
    {
      "cell_type": "code",
      "source": [
        "# least_click의 경우 rating의 최소 개수를 의미합니다.\n",
        "cleansed_datasets = cleanse_recursive(datasets, shortest=3, least_click=20)\n",
        "cleansed_datasets"
      ],
      "metadata": {
        "colab": {
          "base_uri": "https://localhost:8080/",
          "height": 424
        },
        "id": "Cf1rJXwUA0K3",
        "outputId": "254015d0-462c-4047-9be2-3888b70ab8e6"
      },
      "execution_count": 99,
      "outputs": [
        {
          "output_type": "execute_result",
          "data": {
            "text/plain": [
              "        UserId  ItemId  Rating                Time  SessionId\n",
              "1735        20    2858       4 2001-12-29 23:37:51         71\n",
              "1737        20    1375       3 2001-12-29 23:38:35         71\n",
              "1738        20    3753       5 2001-12-29 23:38:36         71\n",
              "1739        20    3527       4 2001-12-29 23:39:41         71\n",
              "1740        20    1527       5 2001-12-29 23:39:41         71\n",
              "...        ...     ...     ...                 ...        ...\n",
              "658950    6040     457       4 2001-08-10 14:39:09      37502\n",
              "658951    6040    3671       4 2001-08-10 14:39:27      37502\n",
              "658954    6040    1921       4 2001-08-10 14:41:04      37502\n",
              "658955    6040    1784       3 2001-08-10 14:41:04      37502\n",
              "658956    6040     161       3 2001-08-10 14:41:26      37502\n",
              "\n",
              "[11994 rows x 5 columns]"
            ],
            "text/html": [
              "\n",
              "  <div id=\"df-c4b3cda8-21ba-4086-9980-d6984efae0c1\">\n",
              "    <div class=\"colab-df-container\">\n",
              "      <div>\n",
              "<style scoped>\n",
              "    .dataframe tbody tr th:only-of-type {\n",
              "        vertical-align: middle;\n",
              "    }\n",
              "\n",
              "    .dataframe tbody tr th {\n",
              "        vertical-align: top;\n",
              "    }\n",
              "\n",
              "    .dataframe thead th {\n",
              "        text-align: right;\n",
              "    }\n",
              "</style>\n",
              "<table border=\"1\" class=\"dataframe\">\n",
              "  <thead>\n",
              "    <tr style=\"text-align: right;\">\n",
              "      <th></th>\n",
              "      <th>UserId</th>\n",
              "      <th>ItemId</th>\n",
              "      <th>Rating</th>\n",
              "      <th>Time</th>\n",
              "      <th>SessionId</th>\n",
              "    </tr>\n",
              "  </thead>\n",
              "  <tbody>\n",
              "    <tr>\n",
              "      <th>1735</th>\n",
              "      <td>20</td>\n",
              "      <td>2858</td>\n",
              "      <td>4</td>\n",
              "      <td>2001-12-29 23:37:51</td>\n",
              "      <td>71</td>\n",
              "    </tr>\n",
              "    <tr>\n",
              "      <th>1737</th>\n",
              "      <td>20</td>\n",
              "      <td>1375</td>\n",
              "      <td>3</td>\n",
              "      <td>2001-12-29 23:38:35</td>\n",
              "      <td>71</td>\n",
              "    </tr>\n",
              "    <tr>\n",
              "      <th>1738</th>\n",
              "      <td>20</td>\n",
              "      <td>3753</td>\n",
              "      <td>5</td>\n",
              "      <td>2001-12-29 23:38:36</td>\n",
              "      <td>71</td>\n",
              "    </tr>\n",
              "    <tr>\n",
              "      <th>1739</th>\n",
              "      <td>20</td>\n",
              "      <td>3527</td>\n",
              "      <td>4</td>\n",
              "      <td>2001-12-29 23:39:41</td>\n",
              "      <td>71</td>\n",
              "    </tr>\n",
              "    <tr>\n",
              "      <th>1740</th>\n",
              "      <td>20</td>\n",
              "      <td>1527</td>\n",
              "      <td>5</td>\n",
              "      <td>2001-12-29 23:39:41</td>\n",
              "      <td>71</td>\n",
              "    </tr>\n",
              "    <tr>\n",
              "      <th>...</th>\n",
              "      <td>...</td>\n",
              "      <td>...</td>\n",
              "      <td>...</td>\n",
              "      <td>...</td>\n",
              "      <td>...</td>\n",
              "    </tr>\n",
              "    <tr>\n",
              "      <th>658950</th>\n",
              "      <td>6040</td>\n",
              "      <td>457</td>\n",
              "      <td>4</td>\n",
              "      <td>2001-08-10 14:39:09</td>\n",
              "      <td>37502</td>\n",
              "    </tr>\n",
              "    <tr>\n",
              "      <th>658951</th>\n",
              "      <td>6040</td>\n",
              "      <td>3671</td>\n",
              "      <td>4</td>\n",
              "      <td>2001-08-10 14:39:27</td>\n",
              "      <td>37502</td>\n",
              "    </tr>\n",
              "    <tr>\n",
              "      <th>658954</th>\n",
              "      <td>6040</td>\n",
              "      <td>1921</td>\n",
              "      <td>4</td>\n",
              "      <td>2001-08-10 14:41:04</td>\n",
              "      <td>37502</td>\n",
              "    </tr>\n",
              "    <tr>\n",
              "      <th>658955</th>\n",
              "      <td>6040</td>\n",
              "      <td>1784</td>\n",
              "      <td>3</td>\n",
              "      <td>2001-08-10 14:41:04</td>\n",
              "      <td>37502</td>\n",
              "    </tr>\n",
              "    <tr>\n",
              "      <th>658956</th>\n",
              "      <td>6040</td>\n",
              "      <td>161</td>\n",
              "      <td>3</td>\n",
              "      <td>2001-08-10 14:41:26</td>\n",
              "      <td>37502</td>\n",
              "    </tr>\n",
              "  </tbody>\n",
              "</table>\n",
              "<p>11994 rows × 5 columns</p>\n",
              "</div>\n",
              "      <button class=\"colab-df-convert\" onclick=\"convertToInteractive('df-c4b3cda8-21ba-4086-9980-d6984efae0c1')\"\n",
              "              title=\"Convert this dataframe to an interactive table.\"\n",
              "              style=\"display:none;\">\n",
              "        \n",
              "  <svg xmlns=\"http://www.w3.org/2000/svg\" height=\"24px\"viewBox=\"0 0 24 24\"\n",
              "       width=\"24px\">\n",
              "    <path d=\"M0 0h24v24H0V0z\" fill=\"none\"/>\n",
              "    <path d=\"M18.56 5.44l.94 2.06.94-2.06 2.06-.94-2.06-.94-.94-2.06-.94 2.06-2.06.94zm-11 1L8.5 8.5l.94-2.06 2.06-.94-2.06-.94L8.5 2.5l-.94 2.06-2.06.94zm10 10l.94 2.06.94-2.06 2.06-.94-2.06-.94-.94-2.06-.94 2.06-2.06.94z\"/><path d=\"M17.41 7.96l-1.37-1.37c-.4-.4-.92-.59-1.43-.59-.52 0-1.04.2-1.43.59L10.3 9.45l-7.72 7.72c-.78.78-.78 2.05 0 2.83L4 21.41c.39.39.9.59 1.41.59.51 0 1.02-.2 1.41-.59l7.78-7.78 2.81-2.81c.8-.78.8-2.07 0-2.86zM5.41 20L4 18.59l7.72-7.72 1.47 1.35L5.41 20z\"/>\n",
              "  </svg>\n",
              "      </button>\n",
              "      \n",
              "  <style>\n",
              "    .colab-df-container {\n",
              "      display:flex;\n",
              "      flex-wrap:wrap;\n",
              "      gap: 12px;\n",
              "    }\n",
              "\n",
              "    .colab-df-convert {\n",
              "      background-color: #E8F0FE;\n",
              "      border: none;\n",
              "      border-radius: 50%;\n",
              "      cursor: pointer;\n",
              "      display: none;\n",
              "      fill: #1967D2;\n",
              "      height: 32px;\n",
              "      padding: 0 0 0 0;\n",
              "      width: 32px;\n",
              "    }\n",
              "\n",
              "    .colab-df-convert:hover {\n",
              "      background-color: #E2EBFA;\n",
              "      box-shadow: 0px 1px 2px rgba(60, 64, 67, 0.3), 0px 1px 3px 1px rgba(60, 64, 67, 0.15);\n",
              "      fill: #174EA6;\n",
              "    }\n",
              "\n",
              "    [theme=dark] .colab-df-convert {\n",
              "      background-color: #3B4455;\n",
              "      fill: #D2E3FC;\n",
              "    }\n",
              "\n",
              "    [theme=dark] .colab-df-convert:hover {\n",
              "      background-color: #434B5C;\n",
              "      box-shadow: 0px 1px 3px 1px rgba(0, 0, 0, 0.15);\n",
              "      filter: drop-shadow(0px 1px 2px rgba(0, 0, 0, 0.3));\n",
              "      fill: #FFFFFF;\n",
              "    }\n",
              "  </style>\n",
              "\n",
              "      <script>\n",
              "        const buttonEl =\n",
              "          document.querySelector('#df-c4b3cda8-21ba-4086-9980-d6984efae0c1 button.colab-df-convert');\n",
              "        buttonEl.style.display =\n",
              "          google.colab.kernel.accessAllowed ? 'block' : 'none';\n",
              "\n",
              "        async function convertToInteractive(key) {\n",
              "          const element = document.querySelector('#df-c4b3cda8-21ba-4086-9980-d6984efae0c1');\n",
              "          const dataTable =\n",
              "            await google.colab.kernel.invokeFunction('convertToInteractive',\n",
              "                                                     [key], {});\n",
              "          if (!dataTable) return;\n",
              "\n",
              "          const docLinkHtml = 'Like what you see? Visit the ' +\n",
              "            '<a target=\"_blank\" href=https://colab.research.google.com/notebooks/data_table.ipynb>data table notebook</a>'\n",
              "            + ' to learn more about interactive tables.';\n",
              "          element.innerHTML = '';\n",
              "          dataTable['output_type'] = 'display_data';\n",
              "          await google.colab.output.renderOutput(dataTable, element);\n",
              "          const docLink = document.createElement('div');\n",
              "          docLink.innerHTML = docLinkHtml;\n",
              "          element.appendChild(docLink);\n",
              "        }\n",
              "      </script>\n",
              "    </div>\n",
              "  </div>\n",
              "  "
            ]
          },
          "metadata": {},
          "execution_count": 99
        }
      ]
    },
    {
      "cell_type": "code",
      "source": [
        "cleansed_datasets.reset_index(drop=True, inplace=True)\n",
        "cleansed_datasets['Session_change'] = cleansed_datasets['SessionId'].diff().fillna(0)\n",
        "\n",
        "new_session_id = 0\n",
        "def reset_sessions(x):\n",
        "    global new_session_id\n",
        "    if x['Session_change']:\n",
        "        new_session_id += 1\n",
        "    return new_session_id\n",
        "         \n",
        "cleansed_datasets['SessionId'] = cleansed_datasets.apply(reset_sessions, axis=1)\n",
        "cleansed_datasets = cleansed_datasets[['ItemId', 'Time', 'SessionId']]\n",
        "cleansed_datasets"
      ],
      "metadata": {
        "colab": {
          "base_uri": "https://localhost:8080/",
          "height": 424
        },
        "id": "GRXIWwtRA3xQ",
        "outputId": "de9e6fd8-f76f-4925-e767-5bdeb57eee7e"
      },
      "execution_count": 100,
      "outputs": [
        {
          "output_type": "execute_result",
          "data": {
            "text/plain": [
              "       ItemId                Time  SessionId\n",
              "0        2858 2001-12-29 23:37:51          0\n",
              "1        1375 2001-12-29 23:38:35          0\n",
              "2        3753 2001-12-29 23:38:36          0\n",
              "3        3527 2001-12-29 23:39:41          0\n",
              "4        1527 2001-12-29 23:39:41          0\n",
              "...       ...                 ...        ...\n",
              "11989     457 2001-08-10 14:39:09       1239\n",
              "11990    3671 2001-08-10 14:39:27       1239\n",
              "11991    1921 2001-08-10 14:41:04       1239\n",
              "11992    1784 2001-08-10 14:41:04       1239\n",
              "11993     161 2001-08-10 14:41:26       1239\n",
              "\n",
              "[11994 rows x 3 columns]"
            ],
            "text/html": [
              "\n",
              "  <div id=\"df-4d0847f0-f86f-48da-b592-96faf1899e73\">\n",
              "    <div class=\"colab-df-container\">\n",
              "      <div>\n",
              "<style scoped>\n",
              "    .dataframe tbody tr th:only-of-type {\n",
              "        vertical-align: middle;\n",
              "    }\n",
              "\n",
              "    .dataframe tbody tr th {\n",
              "        vertical-align: top;\n",
              "    }\n",
              "\n",
              "    .dataframe thead th {\n",
              "        text-align: right;\n",
              "    }\n",
              "</style>\n",
              "<table border=\"1\" class=\"dataframe\">\n",
              "  <thead>\n",
              "    <tr style=\"text-align: right;\">\n",
              "      <th></th>\n",
              "      <th>ItemId</th>\n",
              "      <th>Time</th>\n",
              "      <th>SessionId</th>\n",
              "    </tr>\n",
              "  </thead>\n",
              "  <tbody>\n",
              "    <tr>\n",
              "      <th>0</th>\n",
              "      <td>2858</td>\n",
              "      <td>2001-12-29 23:37:51</td>\n",
              "      <td>0</td>\n",
              "    </tr>\n",
              "    <tr>\n",
              "      <th>1</th>\n",
              "      <td>1375</td>\n",
              "      <td>2001-12-29 23:38:35</td>\n",
              "      <td>0</td>\n",
              "    </tr>\n",
              "    <tr>\n",
              "      <th>2</th>\n",
              "      <td>3753</td>\n",
              "      <td>2001-12-29 23:38:36</td>\n",
              "      <td>0</td>\n",
              "    </tr>\n",
              "    <tr>\n",
              "      <th>3</th>\n",
              "      <td>3527</td>\n",
              "      <td>2001-12-29 23:39:41</td>\n",
              "      <td>0</td>\n",
              "    </tr>\n",
              "    <tr>\n",
              "      <th>4</th>\n",
              "      <td>1527</td>\n",
              "      <td>2001-12-29 23:39:41</td>\n",
              "      <td>0</td>\n",
              "    </tr>\n",
              "    <tr>\n",
              "      <th>...</th>\n",
              "      <td>...</td>\n",
              "      <td>...</td>\n",
              "      <td>...</td>\n",
              "    </tr>\n",
              "    <tr>\n",
              "      <th>11989</th>\n",
              "      <td>457</td>\n",
              "      <td>2001-08-10 14:39:09</td>\n",
              "      <td>1239</td>\n",
              "    </tr>\n",
              "    <tr>\n",
              "      <th>11990</th>\n",
              "      <td>3671</td>\n",
              "      <td>2001-08-10 14:39:27</td>\n",
              "      <td>1239</td>\n",
              "    </tr>\n",
              "    <tr>\n",
              "      <th>11991</th>\n",
              "      <td>1921</td>\n",
              "      <td>2001-08-10 14:41:04</td>\n",
              "      <td>1239</td>\n",
              "    </tr>\n",
              "    <tr>\n",
              "      <th>11992</th>\n",
              "      <td>1784</td>\n",
              "      <td>2001-08-10 14:41:04</td>\n",
              "      <td>1239</td>\n",
              "    </tr>\n",
              "    <tr>\n",
              "      <th>11993</th>\n",
              "      <td>161</td>\n",
              "      <td>2001-08-10 14:41:26</td>\n",
              "      <td>1239</td>\n",
              "    </tr>\n",
              "  </tbody>\n",
              "</table>\n",
              "<p>11994 rows × 3 columns</p>\n",
              "</div>\n",
              "      <button class=\"colab-df-convert\" onclick=\"convertToInteractive('df-4d0847f0-f86f-48da-b592-96faf1899e73')\"\n",
              "              title=\"Convert this dataframe to an interactive table.\"\n",
              "              style=\"display:none;\">\n",
              "        \n",
              "  <svg xmlns=\"http://www.w3.org/2000/svg\" height=\"24px\"viewBox=\"0 0 24 24\"\n",
              "       width=\"24px\">\n",
              "    <path d=\"M0 0h24v24H0V0z\" fill=\"none\"/>\n",
              "    <path d=\"M18.56 5.44l.94 2.06.94-2.06 2.06-.94-2.06-.94-.94-2.06-.94 2.06-2.06.94zm-11 1L8.5 8.5l.94-2.06 2.06-.94-2.06-.94L8.5 2.5l-.94 2.06-2.06.94zm10 10l.94 2.06.94-2.06 2.06-.94-2.06-.94-.94-2.06-.94 2.06-2.06.94z\"/><path d=\"M17.41 7.96l-1.37-1.37c-.4-.4-.92-.59-1.43-.59-.52 0-1.04.2-1.43.59L10.3 9.45l-7.72 7.72c-.78.78-.78 2.05 0 2.83L4 21.41c.39.39.9.59 1.41.59.51 0 1.02-.2 1.41-.59l7.78-7.78 2.81-2.81c.8-.78.8-2.07 0-2.86zM5.41 20L4 18.59l7.72-7.72 1.47 1.35L5.41 20z\"/>\n",
              "  </svg>\n",
              "      </button>\n",
              "      \n",
              "  <style>\n",
              "    .colab-df-container {\n",
              "      display:flex;\n",
              "      flex-wrap:wrap;\n",
              "      gap: 12px;\n",
              "    }\n",
              "\n",
              "    .colab-df-convert {\n",
              "      background-color: #E8F0FE;\n",
              "      border: none;\n",
              "      border-radius: 50%;\n",
              "      cursor: pointer;\n",
              "      display: none;\n",
              "      fill: #1967D2;\n",
              "      height: 32px;\n",
              "      padding: 0 0 0 0;\n",
              "      width: 32px;\n",
              "    }\n",
              "\n",
              "    .colab-df-convert:hover {\n",
              "      background-color: #E2EBFA;\n",
              "      box-shadow: 0px 1px 2px rgba(60, 64, 67, 0.3), 0px 1px 3px 1px rgba(60, 64, 67, 0.15);\n",
              "      fill: #174EA6;\n",
              "    }\n",
              "\n",
              "    [theme=dark] .colab-df-convert {\n",
              "      background-color: #3B4455;\n",
              "      fill: #D2E3FC;\n",
              "    }\n",
              "\n",
              "    [theme=dark] .colab-df-convert:hover {\n",
              "      background-color: #434B5C;\n",
              "      box-shadow: 0px 1px 3px 1px rgba(0, 0, 0, 0.15);\n",
              "      filter: drop-shadow(0px 1px 2px rgba(0, 0, 0, 0.3));\n",
              "      fill: #FFFFFF;\n",
              "    }\n",
              "  </style>\n",
              "\n",
              "      <script>\n",
              "        const buttonEl =\n",
              "          document.querySelector('#df-4d0847f0-f86f-48da-b592-96faf1899e73 button.colab-df-convert');\n",
              "        buttonEl.style.display =\n",
              "          google.colab.kernel.accessAllowed ? 'block' : 'none';\n",
              "\n",
              "        async function convertToInteractive(key) {\n",
              "          const element = document.querySelector('#df-4d0847f0-f86f-48da-b592-96faf1899e73');\n",
              "          const dataTable =\n",
              "            await google.colab.kernel.invokeFunction('convertToInteractive',\n",
              "                                                     [key], {});\n",
              "          if (!dataTable) return;\n",
              "\n",
              "          const docLinkHtml = 'Like what you see? Visit the ' +\n",
              "            '<a target=\"_blank\" href=https://colab.research.google.com/notebooks/data_table.ipynb>data table notebook</a>'\n",
              "            + ' to learn more about interactive tables.';\n",
              "          element.innerHTML = '';\n",
              "          dataTable['output_type'] = 'display_data';\n",
              "          await google.colab.output.renderOutput(dataTable, element);\n",
              "          const docLink = document.createElement('div');\n",
              "          docLink.innerHTML = docLinkHtml;\n",
              "          element.appendChild(docLink);\n",
              "        }\n",
              "      </script>\n",
              "    </div>\n",
              "  </div>\n",
              "  "
            ]
          },
          "metadata": {},
          "execution_count": 100
        }
      ]
    },
    {
      "cell_type": "code",
      "source": [
        "def split_by_date(data: pd.DataFrame, n_days: int):\n",
        "    final_time = data['Time'].max()\n",
        "    session_last_time = data.groupby('SessionId')['Time'].max()\n",
        "    session_in_train = session_last_time[session_last_time < final_time - dt.timedelta(n_days)].index\n",
        "    session_in_test = session_last_time[session_last_time >= final_time - dt.timedelta(n_days)].index\n",
        "\n",
        "    before_date = data[data['SessionId'].isin(session_in_train)]\n",
        "    after_date = data[data['SessionId'].isin(session_in_test)]\n",
        "    after_date = after_date[after_date['ItemId'].isin(before_date['ItemId'])]\n",
        "    return before_date, after_date\n",
        "\n",
        "print(\"Done!\")"
      ],
      "metadata": {
        "colab": {
          "base_uri": "https://localhost:8080/"
        },
        "id": "SMI6QCSjA9DP",
        "outputId": "e2abfb9a-6845-4937-dfc6-dd18744a74ad"
      },
      "execution_count": 101,
      "outputs": [
        {
          "output_type": "stream",
          "name": "stdout",
          "text": [
            "Done!\n"
          ]
        }
      ]
    },
    {
      "cell_type": "code",
      "source": [
        "tr, test = split_by_date(cleansed_datasets, n_days=60)\n",
        "tr, val = split_by_date(tr, n_days=90)\n",
        "\n",
        "print(\"Done!\")"
      ],
      "metadata": {
        "colab": {
          "base_uri": "https://localhost:8080/"
        },
        "id": "cAeGuKJbBBJ_",
        "outputId": "7f684f72-b5b6-4613-d65f-5b2736fb7140"
      },
      "execution_count": 102,
      "outputs": [
        {
          "output_type": "stream",
          "name": "stdout",
          "text": [
            "Done!\n"
          ]
        }
      ]
    },
    {
      "cell_type": "code",
      "source": [
        "# data에 대한 정보를 살펴봅니다.\n",
        "def stats_info(data: pd.DataFrame, status: str):\n",
        "    print(f'* {status} Set Stats Info\\n'\n",
        "          f'\\t Events: {len(data)}\\n'\n",
        "          f'\\t Sessions: {data[\"SessionId\"].nunique()}\\n'\n",
        "          f'\\t Items: {data[\"ItemId\"].nunique()}\\n'\n",
        "          f'\\t First Time : {data[\"Time\"].min()}\\n'\n",
        "          f'\\t Last Time : {data[\"Time\"].max()}\\n')\n",
        "\n",
        "\n",
        "print(\"Done!\")"
      ],
      "metadata": {
        "colab": {
          "base_uri": "https://localhost:8080/"
        },
        "id": "cS_FydUjBCP_",
        "outputId": "46bf21ad-b29b-4475-f2fb-528096f01165"
      },
      "execution_count": 103,
      "outputs": [
        {
          "output_type": "stream",
          "name": "stdout",
          "text": [
            "Done!\n"
          ]
        }
      ]
    },
    {
      "cell_type": "code",
      "source": [
        "stats_info(tr, 'train')\n",
        "stats_info(val, 'valid')\n",
        "stats_info(test, 'test')"
      ],
      "metadata": {
        "colab": {
          "base_uri": "https://localhost:8080/"
        },
        "id": "h0u6jazFBEUO",
        "outputId": "ade5d92b-483b-4475-a32c-bb0734a41239"
      },
      "execution_count": 104,
      "outputs": [
        {
          "output_type": "stream",
          "name": "stdout",
          "text": [
            "* train Set Stats Info\n",
            "\t Events: 10078\n",
            "\t Sessions: 1046\n",
            "\t Items: 368\n",
            "\t First Time : 2001-07-08 19:44:06\n",
            "\t Last Time : 2002-09-29 23:16:00\n",
            "\n",
            "* valid Set Stats Info\n",
            "\t Events: 955\n",
            "\t Sessions: 105\n",
            "\t Items: 333\n",
            "\t First Time : 2002-10-05 02:21:48\n",
            "\t Last Time : 2002-12-29 04:39:37\n",
            "\n",
            "* test Set Stats Info\n",
            "\t Events: 961\n",
            "\t Sessions: 89\n",
            "\t Items: 340\n",
            "\t First Time : 2002-12-29 20:57:38\n",
            "\t Last Time : 2003-02-27 18:17:38\n",
            "\n"
          ]
        }
      ]
    },
    {
      "cell_type": "code",
      "source": [
        "# train set에 없는 아이템이 val, test기간에 생길 수 있으므로 train data를 기준으로 인덱싱합니다.\n",
        "id2idx = {item_id : index for index, item_id in enumerate(tr['ItemId'].unique())}\n",
        "\n",
        "def indexing(df, id2idx):\n",
        "    df['item_idx'] = df['ItemId'].map(lambda x: id2idx.get(x, -1))  # id2idx에 없는 아이템은 모르는 값(-1) 처리 해줍니다.\n",
        "    return df\n",
        "\n",
        "tr = indexing(tr, id2idx)\n",
        "val = indexing(val, id2idx)\n",
        "test = indexing(test, id2idx)\n",
        "\n",
        "print(\"Done!\")"
      ],
      "metadata": {
        "colab": {
          "base_uri": "https://localhost:8080/"
        },
        "id": "3fDD1axiBFRn",
        "outputId": "7aa693e4-07b3-479c-9213-66d2620569fa"
      },
      "execution_count": 125,
      "outputs": [
        {
          "output_type": "stream",
          "name": "stdout",
          "text": [
            "Done!\n"
          ]
        }
      ]
    },
    {
      "cell_type": "code",
      "source": [
        "save_path = data_path / 'processed'\n",
        "save_path.mkdir(parents=True, exist_ok=True)\n",
        "\n",
        "tr.to_pickle(save_path / 'train.pkl')\n",
        "val.to_pickle(save_path / 'valid.pkl')\n",
        "test.to_pickle(save_path / 'test.pkl')\n",
        "\n",
        "print(\"Done!\")"
      ],
      "metadata": {
        "colab": {
          "base_uri": "https://localhost:8080/"
        },
        "id": "Pq3i5QGcDIgt",
        "outputId": "f160c47d-1c36-49e0-de31-ec2f3166086b"
      },
      "execution_count": 126,
      "outputs": [
        {
          "output_type": "stream",
          "name": "stdout",
          "text": [
            "Done!\n"
          ]
        }
      ]
    },
    {
      "cell_type": "code",
      "source": [
        "class SessionDataset:\n",
        "    \"\"\"Credit to yhs-968/pyGRU4REC.\"\"\"\n",
        "\n",
        "    def __init__(self, data):\n",
        "        self.df = data\n",
        "        self.click_offsets = self.get_click_offsets()\n",
        "        self.session_idx = np.arange(self.df['SessionId'].nunique())  # indexing to SessionId\n",
        "\n",
        "    def get_click_offsets(self):\n",
        "        \"\"\"\n",
        "        Return the indexes of the first click of each session IDs,\n",
        "        \"\"\"\n",
        "        offsets = np.zeros(self.df['SessionId'].nunique() + 1, dtype=np.int32)\n",
        "        offsets[1:] = self.df.groupby('SessionId').size().cumsum()\n",
        "        return offsets\n",
        "\n",
        "print(\"Done!\")"
      ],
      "metadata": {
        "colab": {
          "base_uri": "https://localhost:8080/"
        },
        "id": "PQoejtJKDLi4",
        "outputId": "a09f0230-d6e2-4e06-9289-8c4680e1ca21"
      },
      "execution_count": 127,
      "outputs": [
        {
          "output_type": "stream",
          "name": "stdout",
          "text": [
            "Done!\n"
          ]
        }
      ]
    },
    {
      "cell_type": "code",
      "source": [
        "tr_dataset = SessionDataset(tr)\n",
        "tr_dataset.df.head(10)"
      ],
      "metadata": {
        "colab": {
          "base_uri": "https://localhost:8080/",
          "height": 363
        },
        "id": "BuQSGNqYBO1f",
        "outputId": "0173df61-890c-45b1-856e-3297b6839c58"
      },
      "execution_count": 128,
      "outputs": [
        {
          "output_type": "execute_result",
          "data": {
            "text/plain": [
              "   ItemId                Time  SessionId  item_idx\n",
              "0    2858 2001-12-29 23:37:51          0         0\n",
              "1    1375 2001-12-29 23:38:35          0         1\n",
              "2    3753 2001-12-29 23:38:36          0         2\n",
              "3    3527 2001-12-29 23:39:41          0         3\n",
              "4    1527 2001-12-29 23:39:41          0         4\n",
              "5    1240 2001-12-29 23:39:41          0         5\n",
              "6    1371 2001-12-29 23:40:27          0         6\n",
              "7    1387 2002-03-12 03:46:59          1         7\n",
              "8    1201 2002-03-12 03:46:59          1         8\n",
              "9    1291 2002-03-12 03:47:16          1         9"
            ],
            "text/html": [
              "\n",
              "  <div id=\"df-1424cb1d-d307-4852-b062-33e74e80963d\">\n",
              "    <div class=\"colab-df-container\">\n",
              "      <div>\n",
              "<style scoped>\n",
              "    .dataframe tbody tr th:only-of-type {\n",
              "        vertical-align: middle;\n",
              "    }\n",
              "\n",
              "    .dataframe tbody tr th {\n",
              "        vertical-align: top;\n",
              "    }\n",
              "\n",
              "    .dataframe thead th {\n",
              "        text-align: right;\n",
              "    }\n",
              "</style>\n",
              "<table border=\"1\" class=\"dataframe\">\n",
              "  <thead>\n",
              "    <tr style=\"text-align: right;\">\n",
              "      <th></th>\n",
              "      <th>ItemId</th>\n",
              "      <th>Time</th>\n",
              "      <th>SessionId</th>\n",
              "      <th>item_idx</th>\n",
              "    </tr>\n",
              "  </thead>\n",
              "  <tbody>\n",
              "    <tr>\n",
              "      <th>0</th>\n",
              "      <td>2858</td>\n",
              "      <td>2001-12-29 23:37:51</td>\n",
              "      <td>0</td>\n",
              "      <td>0</td>\n",
              "    </tr>\n",
              "    <tr>\n",
              "      <th>1</th>\n",
              "      <td>1375</td>\n",
              "      <td>2001-12-29 23:38:35</td>\n",
              "      <td>0</td>\n",
              "      <td>1</td>\n",
              "    </tr>\n",
              "    <tr>\n",
              "      <th>2</th>\n",
              "      <td>3753</td>\n",
              "      <td>2001-12-29 23:38:36</td>\n",
              "      <td>0</td>\n",
              "      <td>2</td>\n",
              "    </tr>\n",
              "    <tr>\n",
              "      <th>3</th>\n",
              "      <td>3527</td>\n",
              "      <td>2001-12-29 23:39:41</td>\n",
              "      <td>0</td>\n",
              "      <td>3</td>\n",
              "    </tr>\n",
              "    <tr>\n",
              "      <th>4</th>\n",
              "      <td>1527</td>\n",
              "      <td>2001-12-29 23:39:41</td>\n",
              "      <td>0</td>\n",
              "      <td>4</td>\n",
              "    </tr>\n",
              "    <tr>\n",
              "      <th>5</th>\n",
              "      <td>1240</td>\n",
              "      <td>2001-12-29 23:39:41</td>\n",
              "      <td>0</td>\n",
              "      <td>5</td>\n",
              "    </tr>\n",
              "    <tr>\n",
              "      <th>6</th>\n",
              "      <td>1371</td>\n",
              "      <td>2001-12-29 23:40:27</td>\n",
              "      <td>0</td>\n",
              "      <td>6</td>\n",
              "    </tr>\n",
              "    <tr>\n",
              "      <th>7</th>\n",
              "      <td>1387</td>\n",
              "      <td>2002-03-12 03:46:59</td>\n",
              "      <td>1</td>\n",
              "      <td>7</td>\n",
              "    </tr>\n",
              "    <tr>\n",
              "      <th>8</th>\n",
              "      <td>1201</td>\n",
              "      <td>2002-03-12 03:46:59</td>\n",
              "      <td>1</td>\n",
              "      <td>8</td>\n",
              "    </tr>\n",
              "    <tr>\n",
              "      <th>9</th>\n",
              "      <td>1291</td>\n",
              "      <td>2002-03-12 03:47:16</td>\n",
              "      <td>1</td>\n",
              "      <td>9</td>\n",
              "    </tr>\n",
              "  </tbody>\n",
              "</table>\n",
              "</div>\n",
              "      <button class=\"colab-df-convert\" onclick=\"convertToInteractive('df-1424cb1d-d307-4852-b062-33e74e80963d')\"\n",
              "              title=\"Convert this dataframe to an interactive table.\"\n",
              "              style=\"display:none;\">\n",
              "        \n",
              "  <svg xmlns=\"http://www.w3.org/2000/svg\" height=\"24px\"viewBox=\"0 0 24 24\"\n",
              "       width=\"24px\">\n",
              "    <path d=\"M0 0h24v24H0V0z\" fill=\"none\"/>\n",
              "    <path d=\"M18.56 5.44l.94 2.06.94-2.06 2.06-.94-2.06-.94-.94-2.06-.94 2.06-2.06.94zm-11 1L8.5 8.5l.94-2.06 2.06-.94-2.06-.94L8.5 2.5l-.94 2.06-2.06.94zm10 10l.94 2.06.94-2.06 2.06-.94-2.06-.94-.94-2.06-.94 2.06-2.06.94z\"/><path d=\"M17.41 7.96l-1.37-1.37c-.4-.4-.92-.59-1.43-.59-.52 0-1.04.2-1.43.59L10.3 9.45l-7.72 7.72c-.78.78-.78 2.05 0 2.83L4 21.41c.39.39.9.59 1.41.59.51 0 1.02-.2 1.41-.59l7.78-7.78 2.81-2.81c.8-.78.8-2.07 0-2.86zM5.41 20L4 18.59l7.72-7.72 1.47 1.35L5.41 20z\"/>\n",
              "  </svg>\n",
              "      </button>\n",
              "      \n",
              "  <style>\n",
              "    .colab-df-container {\n",
              "      display:flex;\n",
              "      flex-wrap:wrap;\n",
              "      gap: 12px;\n",
              "    }\n",
              "\n",
              "    .colab-df-convert {\n",
              "      background-color: #E8F0FE;\n",
              "      border: none;\n",
              "      border-radius: 50%;\n",
              "      cursor: pointer;\n",
              "      display: none;\n",
              "      fill: #1967D2;\n",
              "      height: 32px;\n",
              "      padding: 0 0 0 0;\n",
              "      width: 32px;\n",
              "    }\n",
              "\n",
              "    .colab-df-convert:hover {\n",
              "      background-color: #E2EBFA;\n",
              "      box-shadow: 0px 1px 2px rgba(60, 64, 67, 0.3), 0px 1px 3px 1px rgba(60, 64, 67, 0.15);\n",
              "      fill: #174EA6;\n",
              "    }\n",
              "\n",
              "    [theme=dark] .colab-df-convert {\n",
              "      background-color: #3B4455;\n",
              "      fill: #D2E3FC;\n",
              "    }\n",
              "\n",
              "    [theme=dark] .colab-df-convert:hover {\n",
              "      background-color: #434B5C;\n",
              "      box-shadow: 0px 1px 3px 1px rgba(0, 0, 0, 0.15);\n",
              "      filter: drop-shadow(0px 1px 2px rgba(0, 0, 0, 0.3));\n",
              "      fill: #FFFFFF;\n",
              "    }\n",
              "  </style>\n",
              "\n",
              "      <script>\n",
              "        const buttonEl =\n",
              "          document.querySelector('#df-1424cb1d-d307-4852-b062-33e74e80963d button.colab-df-convert');\n",
              "        buttonEl.style.display =\n",
              "          google.colab.kernel.accessAllowed ? 'block' : 'none';\n",
              "\n",
              "        async function convertToInteractive(key) {\n",
              "          const element = document.querySelector('#df-1424cb1d-d307-4852-b062-33e74e80963d');\n",
              "          const dataTable =\n",
              "            await google.colab.kernel.invokeFunction('convertToInteractive',\n",
              "                                                     [key], {});\n",
              "          if (!dataTable) return;\n",
              "\n",
              "          const docLinkHtml = 'Like what you see? Visit the ' +\n",
              "            '<a target=\"_blank\" href=https://colab.research.google.com/notebooks/data_table.ipynb>data table notebook</a>'\n",
              "            + ' to learn more about interactive tables.';\n",
              "          element.innerHTML = '';\n",
              "          dataTable['output_type'] = 'display_data';\n",
              "          await google.colab.output.renderOutput(dataTable, element);\n",
              "          const docLink = document.createElement('div');\n",
              "          docLink.innerHTML = docLinkHtml;\n",
              "          element.appendChild(docLink);\n",
              "        }\n",
              "      </script>\n",
              "    </div>\n",
              "  </div>\n",
              "  "
            ]
          },
          "metadata": {},
          "execution_count": 128
        }
      ]
    },
    {
      "cell_type": "code",
      "source": [
        "tr_dataset.click_offsets"
      ],
      "metadata": {
        "colab": {
          "base_uri": "https://localhost:8080/"
        },
        "id": "UQ_X0T5eCagj",
        "outputId": "bf9323d5-6a5e-4e4d-b41f-8ed6570743c3"
      },
      "execution_count": 129,
      "outputs": [
        {
          "output_type": "execute_result",
          "data": {
            "text/plain": [
              "array([    0,     7,    12, ..., 10053, 10065, 10078], dtype=int32)"
            ]
          },
          "metadata": {},
          "execution_count": 129
        }
      ]
    },
    {
      "cell_type": "code",
      "source": [
        "tr_dataset.session_idx"
      ],
      "metadata": {
        "colab": {
          "base_uri": "https://localhost:8080/"
        },
        "id": "YvLgdo14CZ2H",
        "outputId": "42ab2e33-c446-49c8-b460-ab0c73b50549"
      },
      "execution_count": 130,
      "outputs": [
        {
          "output_type": "execute_result",
          "data": {
            "text/plain": [
              "array([   0,    1,    2, ..., 1043, 1044, 1045])"
            ]
          },
          "metadata": {},
          "execution_count": 130
        }
      ]
    },
    {
      "cell_type": "code",
      "source": [
        "class SessionDataLoader:\n",
        "    \"\"\"Credit to yhs-968/pyGRU4REC.\"\"\"\n",
        "\n",
        "    def __init__(self, dataset: SessionDataset, batch_size=50):\n",
        "        self.dataset = dataset\n",
        "        self.batch_size = batch_size\n",
        "\n",
        "    def __iter__(self):\n",
        "        \"\"\" Returns the iterator for producing session-parallel training mini-batches.\n",
        "        Yields:\n",
        "            input (B,):  Item indices that will be encoded as one-hot vectors later.\n",
        "            target (B,): a Variable that stores the target item indices\n",
        "            masks: Numpy array indicating the positions of the sessions to be terminated\n",
        "        \"\"\"\n",
        "\n",
        "        start, end, mask, last_session, finished = self.initialize()  # initialize 메소드에서 확인해주세요.\n",
        "        \"\"\"\n",
        "        start : Index Where Session Start\n",
        "        end : Index Where Session End\n",
        "        mask : indicator for the sessions to be terminated\n",
        "        \"\"\"\n",
        "\n",
        "        while not finished:\n",
        "            min_len = (end - start).min() - 1  # Shortest Length Among Sessions\n",
        "            for i in range(min_len):\n",
        "                # Build inputs & targets\n",
        "                inp = self.dataset.df['item_idx'].values[start + i]\n",
        "                target = self.dataset.df['item_idx'].values[start + i + 1]\n",
        "                yield inp, target, mask\n",
        "\n",
        "            start, end, mask, last_session, finished = self.update_status(start, end, min_len, last_session, finished)\n",
        "\n",
        "    def initialize(self):\n",
        "        first_iters = np.arange(self.batch_size)    # 첫 배치에 사용할 세션 Index를 가져옵니다.\n",
        "        last_session = self.batch_size - 1    # 마지막으로 다루고 있는 세션 Index를 저장해둡니다.\n",
        "        start = self.dataset.click_offsets[self.dataset.session_idx[first_iters]]       # data 상에서 session이 시작된 위치를 가져옵니다.\n",
        "        end = self.dataset.click_offsets[self.dataset.session_idx[first_iters] + 1]  # session이 끝난 위치 바로 다음 위치를 가져옵니다.\n",
        "        mask = np.array([])   # session의 모든 아이템을 다 돌은 경우 mask에 추가해줄 것입니다.\n",
        "        finished = False         # data를 전부 돌았는지 기록하기 위한 변수입니다.\n",
        "        return start, end, mask, last_session, finished\n",
        "\n",
        "    def update_status(self, start: np.ndarray, end: np.ndarray, min_len: int, last_session: int, finished: bool):  \n",
        "        # 다음 배치 데이터를 생성하기 위해 상태를 update합니다.\n",
        "        \n",
        "        start += min_len   # __iter__에서 min_len 만큼 for문을 돌았으므로 start를 min_len 만큼 더해줍니다.\n",
        "        mask = np.arange(self.batch_size)[(end - start) == 1]  \n",
        "        # end는 다음 세션이 시작되는 위치인데 start와 한 칸 차이난다는 것은 session이 끝났다는 뜻입니다. mask에 기록해줍니다.\n",
        "\n",
        "        for i, idx in enumerate(mask, start=1):  # mask에 추가된 세션 개수만큼 새로운 세션을 돌것입니다.\n",
        "            new_session = last_session + i  \n",
        "            if new_session > self.dataset.session_idx[-1]:  # 만약 새로운 세션이 마지막 세션 index보다 크다면 모든 학습데이터를 돈 것입니다.\n",
        "                finished = True\n",
        "                break\n",
        "            # update the next starting/ending point\n",
        "            start[idx] = self.dataset.click_offsets[self.dataset.session_idx[new_session]]     # 종료된 세션 대신 새로운 세션의 시작점을 기록합니다.\n",
        "            end[idx] = self.dataset.click_offsets[self.dataset.session_idx[new_session] + 1]\n",
        "\n",
        "        last_session += len(mask)  # 마지막 세션의 위치를 기록해둡니다.\n",
        "        return start, end, mask, last_session, finished\n",
        "\n",
        "\n",
        "print(\"Done!\")"
      ],
      "metadata": {
        "colab": {
          "base_uri": "https://localhost:8080/"
        },
        "id": "iqwHeTQxBQPe",
        "outputId": "9c7932d0-b111-40f0-cd26-15bbaab81b82"
      },
      "execution_count": 131,
      "outputs": [
        {
          "output_type": "stream",
          "name": "stdout",
          "text": [
            "Done!\n"
          ]
        }
      ]
    },
    {
      "cell_type": "markdown",
      "source": [
        "---"
      ],
      "metadata": {
        "id": "wu9lefxQBagP"
      }
    },
    {
      "cell_type": "markdown",
      "source": [
        "## **04. Modeling**"
      ],
      "metadata": {
        "id": "_hkf5eiaBc1u"
      }
    },
    {
      "cell_type": "code",
      "source": [
        "def mrr_k(pred, truth: int, k: int):\n",
        "    indexing = np.where(pred[:k] == truth)[0]\n",
        "    if len(indexing) > 0:\n",
        "        return 1 / (indexing[0] + 1)\n",
        "    else:\n",
        "        return 0\n",
        "\n",
        "\n",
        "def recall_k(pred, truth: int, k: int) -> int:\n",
        "    answer = truth in pred[:k]\n",
        "    return int(answer)\n",
        "\n",
        "\n",
        "print(\"Done!\")"
      ],
      "metadata": {
        "colab": {
          "base_uri": "https://localhost:8080/"
        },
        "id": "fekW0gn-Bf6_",
        "outputId": "690905c0-1644-49bb-8cab-c72c5d01ce44"
      },
      "execution_count": 132,
      "outputs": [
        {
          "output_type": "stream",
          "name": "stdout",
          "text": [
            "Done!\n"
          ]
        }
      ]
    },
    {
      "cell_type": "code",
      "source": [
        "def create_model(args):\n",
        "    inputs = Input(batch_shape=(args.batch_size, 1, args.num_items))\n",
        "    gru, _ = GRU(args.hsz, stateful=True, return_state=True, name='GRU')(inputs)\n",
        "    dropout = Dropout(args.drop_rate)(gru)\n",
        "    predictions = Dense(args.num_items, activation='softmax')(dropout)\n",
        "    model = Model(inputs=inputs, outputs=[predictions])\n",
        "    model.compile(loss=categorical_crossentropy, optimizer=Adam(args.lr), metrics=['accuracy'])\n",
        "    model.summary()\n",
        "    return model\n",
        "\n",
        "\n",
        "print(\"Done!\")"
      ],
      "metadata": {
        "colab": {
          "base_uri": "https://localhost:8080/"
        },
        "id": "I6iR4Ls6BjEX",
        "outputId": "8f8a5700-ad5e-41dc-dc69-e7eb11fef903"
      },
      "execution_count": 133,
      "outputs": [
        {
          "output_type": "stream",
          "name": "stdout",
          "text": [
            "Done!\n"
          ]
        }
      ]
    },
    {
      "cell_type": "code",
      "source": [
        "class Args:\n",
        "    def __init__(self, tr, val, test, batch_size, hsz, drop_rate, lr, epochs, k):\n",
        "        self.tr = tr\n",
        "        self.val = val\n",
        "        self.test = test\n",
        "        self.num_items = tr['ItemId'].nunique()\n",
        "        self.num_sessions = tr['SessionId'].nunique()\n",
        "        self.batch_size = batch_size\n",
        "        self.hsz = hsz\n",
        "        self.drop_rate = drop_rate\n",
        "        self.lr = lr\n",
        "        self.epochs = epochs\n",
        "        self.k = k\n",
        "\n",
        "args = Args(tr, val, test, batch_size=32, hsz=50, drop_rate=0.1,\\\n",
        "            lr=0.001, epochs=100, k=20)\n",
        "\n",
        "print(\"Done!\")"
      ],
      "metadata": {
        "colab": {
          "base_uri": "https://localhost:8080/"
        },
        "id": "M1ZxCORDBoEP",
        "outputId": "096082de-e362-46e9-f9ac-87d0e81d4f9b"
      },
      "execution_count": 145,
      "outputs": [
        {
          "output_type": "stream",
          "name": "stdout",
          "text": [
            "Done!\n"
          ]
        }
      ]
    },
    {
      "cell_type": "markdown",
      "source": [
        "---"
      ],
      "metadata": {
        "id": "ccGX5sIYEIc-"
      }
    },
    {
      "cell_type": "markdown",
      "source": [
        "## **05. Train & Test**"
      ],
      "metadata": {
        "id": "ppKsltpzEJJX"
      }
    },
    {
      "cell_type": "code",
      "source": [
        "# train 셋으로 학습하면서 valid 셋으로 검증합니다.\n",
        "def train_model(model, args):\n",
        "    train_dataset = SessionDataset(args.tr)\n",
        "    train_loader = SessionDataLoader(train_dataset, batch_size=args.batch_size)\n",
        "\n",
        "    for epoch in range(1, args.epochs + 1):\n",
        "        total_step = len(args.tr) - args.tr['SessionId'].nunique()\n",
        "        tr_loader = tqdm(train_loader, total=total_step // args.batch_size, desc='Train', mininterval=1)\n",
        "        for feat, target, mask in tr_loader:\n",
        "            reset_hidden_states(model, mask)  # 종료된 session은 hidden_state를 초기화합니다. 아래 메서드에서 확인해주세요.\n",
        "\n",
        "            input_ohe = to_categorical(feat, num_classes=args.num_items)\n",
        "            input_ohe = np.expand_dims(input_ohe, axis=1)\n",
        "            target_ohe = to_categorical(target, num_classes=args.num_items)\n",
        "\n",
        "            result = model.train_on_batch(input_ohe, target_ohe)\n",
        "            tr_loader.set_postfix(train_loss=result[0], accuracy = result[1])\n",
        "\n",
        "        val_recall, val_mrr = get_metrics(args.val, model, args, args.k)  # valid set에 대해 검증합니다.\n",
        "        yield {\"val_recall\": val_recall}\n",
        "        print(f\"\\t - Recall@{args.k} epoch {epoch}: {val_recall:3f}\")\n",
        "        print(f\"\\t - MRR@{args.k}    epoch {epoch}: {val_mrr:3f}\\n\")\n",
        "\n",
        "\n",
        "def reset_hidden_states(model, mask):\n",
        "    gru_layer = model.get_layer(name='GRU')  # model에서 gru layer를 가져옵니다.\n",
        "    hidden_states = gru_layer.states[0].numpy()  # gru_layer의 parameter를 가져옵니다.\n",
        "    for elt in mask:  # mask된 인덱스 즉, 종료된 세션의 인덱스를 돌면서\n",
        "        hidden_states[elt, :] = 0  # parameter를 초기화 합니다.\n",
        "    gru_layer.reset_states(states=hidden_states)\n",
        "\n",
        "\n",
        "def get_metrics(data, model, args, k: int):  # valid셋과 test셋을 평가하는 코드입니다. \n",
        "                                             # train과 거의 같지만 mrr, recall을 구하는 라인이 있습니다.\n",
        "    dataset = SessionDataset(data)\n",
        "    loader = SessionDataLoader(dataset, batch_size=args.batch_size)\n",
        "    recall_list, mrr_list = [], []\n",
        "\n",
        "    total_step = len(data) - data['SessionId'].nunique()\n",
        "    for inputs, label, mask in tqdm(loader, total=total_step // args.batch_size, desc='Evaluation', mininterval=1):\n",
        "        reset_hidden_states(model, mask)\n",
        "        input_ohe = to_categorical(inputs, num_classes=args.num_items)\n",
        "        input_ohe = np.expand_dims(input_ohe, axis=1)\n",
        "\n",
        "        pred = model.predict(input_ohe, batch_size=args.batch_size)\n",
        "        pred_arg = tf.argsort(pred, direction='DESCENDING')  # softmax 값이 큰 순서대로 sorting 합니다.\n",
        "\n",
        "        length = len(inputs)\n",
        "        recall_list.extend([recall_k(pred_arg[i], label[i], k) for i in range(length)])\n",
        "        mrr_list.extend([mrr_k(pred_arg[i], label[i], k) for i in range(length)])\n",
        "\n",
        "    recall, mrr = np.mean(recall_list), np.mean(mrr_list)\n",
        "    return recall, mrr\n",
        "\n",
        "\n",
        "print(\"Done!\")"
      ],
      "metadata": {
        "colab": {
          "base_uri": "https://localhost:8080/"
        },
        "id": "P0CHH6MtBrC_",
        "outputId": "8d1be9d5-e091-46b8-f6f8-c606b8630d7e"
      },
      "execution_count": 146,
      "outputs": [
        {
          "output_type": "stream",
          "name": "stdout",
          "text": [
            "Done!\n"
          ]
        }
      ]
    },
    {
      "cell_type": "code",
      "source": [
        "def test_model(model, args, test):\n",
        "    test_recall, test_mrr = get_metrics(test, model, args, 20)\n",
        "    print(f\"\\t - Recall@{args.k}: {test_recall:3f}\")\n",
        "    print(f\"\\t - MRR@{args.k}: {test_mrr:3f}\\n\")\n",
        "\n",
        "print(\"Done!\")"
      ],
      "metadata": {
        "colab": {
          "base_uri": "https://localhost:8080/"
        },
        "id": "qb3_Ob6ADfw0",
        "outputId": "da897252-fbcc-45d0-f1d7-66bd6e8be263"
      },
      "execution_count": 149,
      "outputs": [
        {
          "output_type": "stream",
          "name": "stdout",
          "text": [
            "Done!\n"
          ]
        }
      ]
    },
    {
      "cell_type": "code",
      "source": [
        "model = create_model(args)"
      ],
      "metadata": {
        "colab": {
          "base_uri": "https://localhost:8080/"
        },
        "id": "RljWHrFXBp_G",
        "outputId": "09b54a18-4426-4f88-b17f-2148ced9500c"
      },
      "execution_count": 150,
      "outputs": [
        {
          "output_type": "stream",
          "name": "stdout",
          "text": [
            "Model: \"model_7\"\n",
            "_________________________________________________________________\n",
            " Layer (type)                Output Shape              Param #   \n",
            "=================================================================\n",
            " input_8 (InputLayer)        [(32, 1, 368)]            0         \n",
            "                                                                 \n",
            " GRU (GRU)                   [(32, 50),                63000     \n",
            "                              (32, 50)]                          \n",
            "                                                                 \n",
            " dropout_7 (Dropout)         (32, 50)                  0         \n",
            "                                                                 \n",
            " dense_7 (Dense)             (32, 368)                 18768     \n",
            "                                                                 \n",
            "=================================================================\n",
            "Total params: 81,768\n",
            "Trainable params: 81,768\n",
            "Non-trainable params: 0\n",
            "_________________________________________________________________\n"
          ]
        }
      ]
    },
    {
      "cell_type": "code",
      "source": [
        "train_model(model, args)"
      ],
      "metadata": {
        "colab": {
          "base_uri": "https://localhost:8080/"
        },
        "id": "DqmJyZCSBtSO",
        "outputId": "b99a686f-e2e8-4a92-8ba5-03b4c8fac85b"
      },
      "execution_count": 151,
      "outputs": [
        {
          "output_type": "execute_result",
          "data": {
            "text/plain": [
              "<generator object train_model at 0x7f008d50e350>"
            ]
          },
          "metadata": {},
          "execution_count": 151
        }
      ]
    },
    {
      "cell_type": "code",
      "source": [
        "test_model(model, args, test)"
      ],
      "metadata": {
        "colab": {
          "base_uri": "https://localhost:8080/"
        },
        "id": "8HEzH5fyD2PS",
        "outputId": "710d876a-1e6f-4299-80f8-e1336dbfa1b6"
      },
      "execution_count": 152,
      "outputs": [
        {
          "output_type": "stream",
          "name": "stderr",
          "text": [
            "Evaluation:  52%|█████▏    | 14/27 [00:04<00:04,  2.85it/s]"
          ]
        },
        {
          "output_type": "stream",
          "name": "stdout",
          "text": [
            "\t - Recall@20: 0.075893\n",
            "\t - MRR@20: 0.014194\n",
            "\n"
          ]
        },
        {
          "output_type": "stream",
          "name": "stderr",
          "text": [
            "\n"
          ]
        }
      ]
    },
    {
      "cell_type": "markdown",
      "source": [
        "### **05-1. 개선**"
      ],
      "metadata": {
        "id": "06LAD7fdEMY2"
      }
    },
    {
      "cell_type": "code",
      "source": [
        "args = Args(tr, val, test, batch_size=32, hsz=50, drop_rate=0.1,\\\n",
        "            lr=0.001, epochs=12, k=20)\n",
        "model = create_model(args)\n",
        "train_model(model, args)"
      ],
      "metadata": {
        "colab": {
          "base_uri": "https://localhost:8080/"
        },
        "id": "5uo671OnDjDc",
        "outputId": "e228b496-5a3b-4308-a58f-1f19736bae75"
      },
      "execution_count": 153,
      "outputs": [
        {
          "output_type": "stream",
          "name": "stdout",
          "text": [
            "Model: \"model_8\"\n",
            "_________________________________________________________________\n",
            " Layer (type)                Output Shape              Param #   \n",
            "=================================================================\n",
            " input_9 (InputLayer)        [(32, 1, 368)]            0         \n",
            "                                                                 \n",
            " GRU (GRU)                   [(32, 50),                63000     \n",
            "                              (32, 50)]                          \n",
            "                                                                 \n",
            " dropout_8 (Dropout)         (32, 50)                  0         \n",
            "                                                                 \n",
            " dense_8 (Dense)             (32, 368)                 18768     \n",
            "                                                                 \n",
            "=================================================================\n",
            "Total params: 81,768\n",
            "Trainable params: 81,768\n",
            "Non-trainable params: 0\n",
            "_________________________________________________________________\n"
          ]
        },
        {
          "output_type": "execute_result",
          "data": {
            "text/plain": [
              "<generator object train_model at 0x7f009e1326d0>"
            ]
          },
          "metadata": {},
          "execution_count": 153
        }
      ]
    },
    {
      "cell_type": "code",
      "source": [
        "test_model(model, args, test)"
      ],
      "metadata": {
        "colab": {
          "base_uri": "https://localhost:8080/"
        },
        "id": "FNujXswVD5fz",
        "outputId": "e7a217fc-543a-4a99-8296-f2a23ca2e716"
      },
      "execution_count": 154,
      "outputs": [
        {
          "output_type": "stream",
          "name": "stderr",
          "text": [
            "Evaluation:  52%|█████▏    | 14/27 [00:05<00:05,  2.44it/s]"
          ]
        },
        {
          "output_type": "stream",
          "name": "stdout",
          "text": [
            "\t - Recall@20: 0.042411\n",
            "\t - MRR@20: 0.007366\n",
            "\n"
          ]
        },
        {
          "output_type": "stream",
          "name": "stderr",
          "text": [
            "\n"
          ]
        }
      ]
    },
    {
      "cell_type": "markdown",
      "source": [
        "## **06. 회고**"
      ],
      "metadata": {
        "id": "09wQsYPyD8Ay"
      }
    },
    {
      "cell_type": "markdown",
      "source": [
        "Val | Score | Val | Score\n",
        ":--|:--|:--|:--\n",
        "1차 Recall | 0.075893 | 최종 Recall | 0.042411\n",
        "1차 MRR | 0.014194 | 최종 MRR | 0.007366\n"
      ],
      "metadata": {
        "id": "hbbG3gZ9EQ1p"
      }
    },
    {
      "cell_type": "markdown",
      "source": [
        "마지막 EX노드라 그런지 많이 어려웠습니다.\n",
        "\n",
        "추후 다른 방식으로 다시 시도해볼 생각입니다."
      ],
      "metadata": {
        "id": "DupoK0V1ETIJ"
      }
    }
  ]
}